{
 "cells": [
  {
   "cell_type": "code",
   "execution_count": 1,
   "metadata": {},
   "outputs": [],
   "source": [
    "from IPython.display import clear_output\n",
    "import SALib\n",
    "from SALib.sample import saltelli\n",
    "from SALib.analyze import sobol\n",
    "from mesa.batchrunner import BatchRunner\n",
    "import pandas as pd\n",
    "import numpy as np\n",
    "import matplotlib.pyplot as plt\n",
    "from itertools import combinations\n",
    "from model_TotC import *"
   ]
  },
  {
   "cell_type": "code",
   "execution_count": 2,
   "metadata": {},
   "outputs": [],
   "source": [
    "problem = {\n",
    "    'num_vars': 7,\n",
    "    'names': ['initial_edges', 'l_coop', 'l_fairself', 'l_fairother', 'l_negrecip', 'l_posrecip', 'l_conf'],\n",
    "    'bounds': [[0, 20], [0.01, 1], [0.01, 1], [0.01, 1], [0.01, 1],  [0.01, 1],  [0.01,1]]\n",
    "}\n",
    "\n",
    "replicates = 10\n",
    "max_steps = 50\n",
    "distinct_samples = 20\n",
    "\n",
    "model_reporters = {\"Sheep deaths\": lambda m: Sheep.sheepdeaths}\n",
    "\n",
    "data = {}"
   ]
  },
  {
   "cell_type": "code",
   "execution_count": 3,
   "metadata": {},
   "outputs": [
    {
     "name": "stderr",
     "output_type": "stream",
     "text": [
      "0it [00:00, ?it/s]/home/sietse/Uni/ABM/model_TotC.py:215: RuntimeWarning: invalid value encountered in double_scalars\n",
      "  sumC * self.p_basic(x) if sumC is not 0.0 else 0\n"
     ]
    },
    {
     "name": "stdout",
     "output_type": "stream",
     "text": [
      "0.016086575391792896\n",
      "0.16982853259543737\n",
      "0.05355946781051965\n",
      "0.013569938607737498\n",
      "0.02250288995408367\n"
     ]
    },
    {
     "name": "stderr",
     "output_type": "stream",
     "text": [
      "/home/sietse/Uni/ABM/model_TotC.py:215: RuntimeWarning: divide by zero encountered in double_scalars\n",
      "  sumC * self.p_basic(x) if sumC is not 0.0 else 0\n",
      "1it [00:01,  1.81s/it]"
     ]
    },
    {
     "name": "stdout",
     "output_type": "stream",
     "text": [
      "0.009275168992466989\n",
      "0.13500382637505334\n",
      "0.009711706575221248\n",
      "0.0549618251225896\n",
      "0.10379052134765435\n"
     ]
    },
    {
     "name": "stderr",
     "output_type": "stream",
     "text": [
      "\r",
      "2it [00:03,  1.81s/it]"
     ]
    },
    {
     "name": "stdout",
     "output_type": "stream",
     "text": [
      "0.10787533156947456\n",
      "0.032998935182646245\n",
      "0.16261010013553084\n",
      "0.0030578814179635628\n",
      "0.09445171586728283\n"
     ]
    },
    {
     "name": "stderr",
     "output_type": "stream",
     "text": [
      "\r",
      "3it [00:05,  1.80s/it]"
     ]
    },
    {
     "name": "stdout",
     "output_type": "stream",
     "text": [
      "0.007221316532103387\n",
      "0.04236553061526338\n",
      "0.039489918291989105\n",
      "0.03970213962486228\n",
      "0.028879035569802494\n"
     ]
    },
    {
     "name": "stderr",
     "output_type": "stream",
     "text": [
      "\r",
      "4it [00:07,  1.80s/it]"
     ]
    },
    {
     "name": "stdout",
     "output_type": "stream",
     "text": [
      "0.12120961454410217\n",
      "0.07343167462097118\n",
      "0.03944089887264812\n",
      "0.03974101995385093\n",
      "0.08611942101224386\n"
     ]
    },
    {
     "name": "stderr",
     "output_type": "stream",
     "text": [
      "\r",
      "5it [00:08,  1.79s/it]"
     ]
    },
    {
     "name": "stdout",
     "output_type": "stream",
     "text": [
      "0.10032938073725269\n",
      "0.13044949407748194\n",
      "0.17170141412847265\n",
      "0.20207830252850104\n",
      "0.038836580779415354\n"
     ]
    },
    {
     "name": "stderr",
     "output_type": "stream",
     "text": [
      "\r",
      "6it [00:10,  1.79s/it]"
     ]
    },
    {
     "name": "stdout",
     "output_type": "stream",
     "text": [
      "0.10831026934234855\n",
      "0.1004973545550882\n",
      "0.08403257146248742\n",
      "0.0067862974240885145\n",
      "0.09334095952734517\n"
     ]
    },
    {
     "name": "stderr",
     "output_type": "stream",
     "text": [
      "\r",
      "7it [00:12,  1.80s/it]"
     ]
    },
    {
     "name": "stdout",
     "output_type": "stream",
     "text": [
      "0.07179139478296774\n",
      "0.09085423992810646\n",
      "0.1499496124322681\n",
      "0.05508702853017253\n",
      "0.027458542660309483\n"
     ]
    },
    {
     "name": "stderr",
     "output_type": "stream",
     "text": [
      "\r",
      "8it [00:14,  1.80s/it]"
     ]
    },
    {
     "name": "stdout",
     "output_type": "stream",
     "text": [
      "0.06013944832326595\n",
      "0.06375108587737809\n",
      "0.08459974847894215\n",
      "0.0814447021195791\n",
      "0.1080080307337298\n"
     ]
    },
    {
     "name": "stderr",
     "output_type": "stream",
     "text": [
      "\r",
      "9it [00:16,  1.80s/it]"
     ]
    },
    {
     "name": "stdout",
     "output_type": "stream",
     "text": [
      "0.2183351376337157\n",
      "0.13676151074601095\n",
      "0.09317954845896188\n",
      "0.017720982615571333\n",
      "0.0500773871206989\n"
     ]
    },
    {
     "name": "stderr",
     "output_type": "stream",
     "text": [
      "\r",
      "10it [00:17,  1.80s/it]"
     ]
    },
    {
     "name": "stdout",
     "output_type": "stream",
     "text": [
      "0.09772696183110051\n",
      "0.09209647388352701\n",
      "0.19926446391116662\n",
      "0.06292419067471854\n",
      "0.06717008443020436\n"
     ]
    },
    {
     "name": "stderr",
     "output_type": "stream",
     "text": [
      "\r",
      "11it [00:19,  1.83s/it]"
     ]
    },
    {
     "name": "stdout",
     "output_type": "stream",
     "text": [
      "0.03420549163626801\n",
      "0.05875419331013168\n",
      "0.10425785912447927\n",
      "0.07465232882609898\n",
      "0.2695695914218221\n"
     ]
    },
    {
     "name": "stderr",
     "output_type": "stream",
     "text": [
      "\r",
      "12it [00:21,  1.82s/it]"
     ]
    },
    {
     "name": "stdout",
     "output_type": "stream",
     "text": [
      "0.09802041276496651\n",
      "0.05701844926289959\n",
      "0.13780195003087906\n",
      "0.028110168995216536\n",
      "0.07487727972258423\n"
     ]
    },
    {
     "name": "stderr",
     "output_type": "stream",
     "text": [
      "\r",
      "13it [00:23,  1.82s/it]"
     ]
    },
    {
     "name": "stdout",
     "output_type": "stream",
     "text": [
      "0.04442288254720294\n",
      "0.19436663937337365\n",
      "0.06155941430464247\n",
      "0.010022631112723274\n",
      "0.061097772791829666\n"
     ]
    },
    {
     "name": "stderr",
     "output_type": "stream",
     "text": [
      "\r",
      "14it [00:25,  1.81s/it]"
     ]
    },
    {
     "name": "stdout",
     "output_type": "stream",
     "text": [
      "0.020345718894337523\n",
      "0.15919515567333703\n",
      "0.053275545246478456\n",
      "0.07176302863265609\n",
      "0.07983215851106792\n"
     ]
    },
    {
     "name": "stderr",
     "output_type": "stream",
     "text": [
      "\r",
      "15it [00:27,  1.80s/it]"
     ]
    },
    {
     "name": "stdout",
     "output_type": "stream",
     "text": [
      "0.014194313582877722\n",
      "0.08995541077206104\n",
      "0.049458597418885517\n",
      "0.03487625177968998\n",
      "0.04813550312508484\n"
     ]
    },
    {
     "name": "stderr",
     "output_type": "stream",
     "text": [
      "\r",
      "16it [00:28,  1.80s/it]"
     ]
    },
    {
     "name": "stdout",
     "output_type": "stream",
     "text": [
      "0.15257659886161937\n",
      "0.025664635425411832\n",
      "0.12482560393384637\n",
      "0.034787376333483715\n",
      "0.12022900686071288\n"
     ]
    },
    {
     "name": "stderr",
     "output_type": "stream",
     "text": [
      "\r",
      "17it [00:30,  1.80s/it]"
     ]
    },
    {
     "name": "stdout",
     "output_type": "stream",
     "text": [
      "0.2522197209465062\n",
      "0.05487031250740372\n",
      "0.11792109140379137\n",
      "0.1653666606911174\n",
      "0.04204094497040962\n"
     ]
    },
    {
     "name": "stderr",
     "output_type": "stream",
     "text": [
      "\r",
      "18it [00:32,  1.82s/it]"
     ]
    },
    {
     "name": "stdout",
     "output_type": "stream",
     "text": [
      "0.08957760457299002\n",
      "0.05642913450391418\n",
      "0.03228875165531333\n",
      "0.07306617565246833\n",
      "0.14758203709522497\n"
     ]
    },
    {
     "name": "stderr",
     "output_type": "stream",
     "text": [
      "\r",
      "19it [00:34,  1.83s/it]"
     ]
    },
    {
     "name": "stdout",
     "output_type": "stream",
     "text": [
      "0.0058740306388304925\n",
      "0.044567732002808766\n",
      "0.01722531962076917\n",
      "0.03734441844795758\n",
      "0.06538685894728914\n"
     ]
    },
    {
     "name": "stderr",
     "output_type": "stream",
     "text": [
      "\r",
      "20it [00:36,  1.83s/it]"
     ]
    },
    {
     "name": "stdout",
     "output_type": "stream",
     "text": [
      "0.15478382191014495\n",
      "0.25926990650317866\n",
      "0.09616462633674105\n",
      "0.061123402882355286\n",
      "0.09093603901826322\n"
     ]
    },
    {
     "name": "stderr",
     "output_type": "stream",
     "text": [
      "\r",
      "21it [00:37,  1.82s/it]"
     ]
    },
    {
     "name": "stdout",
     "output_type": "stream",
     "text": [
      "0.11534593466073012\n",
      "0.1314115547348654\n",
      "0.1088934931080608\n",
      "0.05068974879937717\n",
      "0.07396242596534083\n"
     ]
    },
    {
     "name": "stderr",
     "output_type": "stream",
     "text": [
      "\r",
      "22it [00:39,  1.83s/it]"
     ]
    },
    {
     "name": "stdout",
     "output_type": "stream",
     "text": [
      "0.0184311902545773\n",
      "0.01239002682149893\n",
      "0.09276747234580622\n",
      "0.08093517686809178\n",
      "0.29221062978886464\n"
     ]
    },
    {
     "name": "stderr",
     "output_type": "stream",
     "text": [
      "\r",
      "23it [00:41,  1.83s/it]"
     ]
    },
    {
     "name": "stdout",
     "output_type": "stream",
     "text": [
      "0.21629430103446398\n",
      "0.19147247898570366\n",
      "0.011356958137346194\n",
      "0.1613542649242817\n",
      "0.08689020550152446\n"
     ]
    },
    {
     "name": "stderr",
     "output_type": "stream",
     "text": [
      "\r",
      "24it [00:43,  1.83s/it]"
     ]
    },
    {
     "name": "stdout",
     "output_type": "stream",
     "text": [
      "0.03301313377482489\n",
      "0.028497409756968073\n",
      "0.055677113530794\n",
      "0.06873954908378241\n",
      "0.058011491445333664\n"
     ]
    },
    {
     "name": "stderr",
     "output_type": "stream",
     "text": [
      "\r",
      "25it [00:45,  1.82s/it]"
     ]
    },
    {
     "name": "stdout",
     "output_type": "stream",
     "text": [
      "0.0731492036447472\n",
      "0.08569721288290556\n",
      "0.07299202058132419\n",
      "0.0918275909291057\n",
      "0.08962654384287644\n"
     ]
    },
    {
     "name": "stderr",
     "output_type": "stream",
     "text": [
      "\r",
      "26it [00:47,  1.83s/it]"
     ]
    },
    {
     "name": "stdout",
     "output_type": "stream",
     "text": [
      "0.04537823734243746\n",
      "0.15580270097386648\n",
      "0.068611247367561\n",
      "0.1027404050810282\n",
      "0.06207097204491792\n"
     ]
    },
    {
     "name": "stderr",
     "output_type": "stream",
     "text": [
      "\r",
      "27it [00:48,  1.83s/it]"
     ]
    },
    {
     "name": "stdout",
     "output_type": "stream",
     "text": [
      "0.08168091344556674\n",
      "0.0545716369476854\n",
      "0.15934489285591222\n",
      "0.13302277805382615\n",
      "0.1596862997780675\n"
     ]
    },
    {
     "name": "stderr",
     "output_type": "stream",
     "text": [
      "\r",
      "28it [00:50,  1.83s/it]"
     ]
    },
    {
     "name": "stdout",
     "output_type": "stream",
     "text": [
      "0.011281269516253474\n",
      "0.031010560549885092\n",
      "0.11230506005773332\n",
      "0.040189791678683515\n",
      "0.12995593629468374\n"
     ]
    },
    {
     "name": "stderr",
     "output_type": "stream",
     "text": [
      "\r",
      "29it [00:52,  1.84s/it]"
     ]
    },
    {
     "name": "stdout",
     "output_type": "stream",
     "text": [
      "0.1315759092440457\n",
      "0.0875905604063763\n",
      "0.018038644428081282\n",
      "0.12922819927566165\n",
      "0.1907019616961162\n"
     ]
    },
    {
     "name": "stderr",
     "output_type": "stream",
     "text": [
      "\r",
      "30it [00:54,  1.83s/it]"
     ]
    },
    {
     "name": "stdout",
     "output_type": "stream",
     "text": [
      "0.049331521305892856\n",
      "0.11337582302250895\n",
      "0.162603474255585\n",
      "0.1938247105445534\n",
      "0.08093474366948694\n"
     ]
    },
    {
     "name": "stderr",
     "output_type": "stream",
     "text": [
      "\r",
      "31it [00:56,  1.84s/it]"
     ]
    },
    {
     "name": "stdout",
     "output_type": "stream",
     "text": [
      "0.00476570438117301\n",
      "0.1804742334968191\n",
      "0.14386923831441242\n",
      "0.06712327681754701\n",
      "0.010101844540277521\n"
     ]
    },
    {
     "name": "stderr",
     "output_type": "stream",
     "text": [
      "\r",
      "32it [00:58,  1.83s/it]"
     ]
    },
    {
     "name": "stdout",
     "output_type": "stream",
     "text": [
      "0.06125460849118147\n",
      "0.12051219713484468\n",
      "0.015147253517625782\n",
      "0.08028732115176435\n",
      "0.0034541506920607104\n"
     ]
    },
    {
     "name": "stderr",
     "output_type": "stream",
     "text": [
      "\r",
      "33it [00:59,  1.83s/it]"
     ]
    },
    {
     "name": "stdout",
     "output_type": "stream",
     "text": [
      "0.09687426586551957\n",
      "0.050206013166228136\n",
      "0.10912875058502397\n",
      "0.039450658995639154\n",
      "0.07993789586114085\n"
     ]
    },
    {
     "name": "stderr",
     "output_type": "stream",
     "text": [
      "\r",
      "34it [01:01,  1.82s/it]"
     ]
    },
    {
     "name": "stdout",
     "output_type": "stream",
     "text": [
      "0.039050585322692906\n",
      "0.06008613041872082\n",
      "0.002619499700168907\n",
      "0.1224650329767433\n",
      "0.05429158170988625\n"
     ]
    },
    {
     "name": "stderr",
     "output_type": "stream",
     "text": [
      "\r",
      "35it [01:03,  1.81s/it]"
     ]
    },
    {
     "name": "stdout",
     "output_type": "stream",
     "text": [
      "0.024180872697933398\n",
      "0.10357682253142715\n",
      "0.040228710395922594\n",
      "0.007340573385236939\n",
      "0.11501217647697347\n"
     ]
    },
    {
     "name": "stderr",
     "output_type": "stream",
     "text": [
      "\r",
      "36it [01:05,  1.81s/it]"
     ]
    },
    {
     "name": "stdout",
     "output_type": "stream",
     "text": [
      "0.03514982160044889\n",
      "0.0011342074815445485\n",
      "0.14650720958080327\n",
      "0.12069662707124512\n",
      "0.142396650925666\n"
     ]
    },
    {
     "name": "stderr",
     "output_type": "stream",
     "text": [
      "\r",
      "37it [01:07,  1.80s/it]"
     ]
    },
    {
     "name": "stdout",
     "output_type": "stream",
     "text": [
      "0.01073551334689661\n",
      "0.08453468468089716\n",
      "0.14910032243830051\n",
      "0.145417112030376\n",
      "0.16907970137119\n"
     ]
    },
    {
     "name": "stderr",
     "output_type": "stream",
     "text": [
      "\r",
      "38it [01:08,  1.80s/it]"
     ]
    },
    {
     "name": "stdout",
     "output_type": "stream",
     "text": [
      "0.016564577703828985\n",
      "0.19245862583034073\n",
      "0.07824813404276547\n",
      "0.15003339223969403\n",
      "0.14224463003146942\n"
     ]
    },
    {
     "name": "stderr",
     "output_type": "stream",
     "text": [
      "\r",
      "39it [01:10,  1.82s/it]"
     ]
    },
    {
     "name": "stdout",
     "output_type": "stream",
     "text": [
      "0.011968146692281946\n",
      "0.09010719374288781\n",
      "0.03946310522908217\n",
      "0.040518655213328064\n",
      "0.08403235339168968\n"
     ]
    },
    {
     "name": "stderr",
     "output_type": "stream",
     "text": [
      "\r",
      "40it [01:12,  1.81s/it]"
     ]
    },
    {
     "name": "stdout",
     "output_type": "stream",
     "text": [
      "0.11108988219432757\n",
      "0.018997566166934564\n",
      "0.04992044757823516\n",
      "0.002875291173041843\n",
      "0.06255923108477048\n"
     ]
    },
    {
     "name": "stderr",
     "output_type": "stream",
     "text": [
      "\r",
      "41it [01:14,  1.80s/it]"
     ]
    },
    {
     "name": "stdout",
     "output_type": "stream",
     "text": [
      "0.15007678400018343\n",
      "0.23799621488864384\n",
      "0.018440571197966025\n",
      "0.038136969187099225\n",
      "0.048012445551656624\n"
     ]
    },
    {
     "name": "stderr",
     "output_type": "stream",
     "text": [
      "\r",
      "42it [01:16,  1.82s/it]"
     ]
    },
    {
     "name": "stdout",
     "output_type": "stream",
     "text": [
      "0.005820627983963117\n",
      "0.07538211050561477\n",
      "0.23079443279939996\n",
      "0.15024869892304726\n",
      "0.08536791245572793\n"
     ]
    },
    {
     "name": "stderr",
     "output_type": "stream",
     "text": [
      "\r",
      "43it [01:18,  1.82s/it]"
     ]
    },
    {
     "name": "stdout",
     "output_type": "stream",
     "text": [
      "0.002390840092378466\n",
      "0.10581365572675312\n",
      "0.024035640605384302\n",
      "0.07459604187653575\n",
      "0.09323527452569597\n"
     ]
    },
    {
     "name": "stderr",
     "output_type": "stream",
     "text": [
      "\r",
      "44it [01:19,  1.82s/it]"
     ]
    },
    {
     "name": "stdout",
     "output_type": "stream",
     "text": [
      "0.06505327996327545\n",
      "0.09246342822872927\n",
      "0.04520681160496154\n",
      "0.14930449962526277\n",
      "0.06138333333857752\n"
     ]
    },
    {
     "name": "stderr",
     "output_type": "stream",
     "text": [
      "\r",
      "45it [01:21,  1.82s/it]"
     ]
    },
    {
     "name": "stdout",
     "output_type": "stream",
     "text": [
      "0.21657925214536702\n",
      "0.08504994363017337\n",
      "0.01515132194921669\n",
      "0.09546183670131977\n",
      "0.08701877048821524\n"
     ]
    },
    {
     "name": "stderr",
     "output_type": "stream",
     "text": [
      "\r",
      "46it [01:23,  1.83s/it]"
     ]
    },
    {
     "name": "stdout",
     "output_type": "stream",
     "text": [
      "0.15951142260731263\n",
      "0.04831032936940942\n",
      "0.21609815917513142\n",
      "0.08337565595252801\n",
      "0.10980760121198668\n"
     ]
    },
    {
     "name": "stderr",
     "output_type": "stream",
     "text": [
      "\r",
      "47it [01:25,  1.84s/it]"
     ]
    },
    {
     "name": "stdout",
     "output_type": "stream",
     "text": [
      "0.19035534412785904\n",
      "0.06909508342887169\n",
      "0.03785155950021247\n",
      "0.02492872579802496\n",
      "0.016023928748380243\n"
     ]
    },
    {
     "name": "stderr",
     "output_type": "stream",
     "text": [
      "\r",
      "48it [01:27,  1.84s/it]"
     ]
    },
    {
     "name": "stdout",
     "output_type": "stream",
     "text": [
      "0.03464162037644781\n",
      "0.007402337509388801\n",
      "0.04373750334403961\n",
      "0.09609578570555916\n",
      "0.18278355365610438\n"
     ]
    },
    {
     "name": "stderr",
     "output_type": "stream",
     "text": [
      "\r",
      "49it [01:29,  1.83s/it]"
     ]
    },
    {
     "name": "stdout",
     "output_type": "stream",
     "text": [
      "0.026393838922170534\n",
      "0.005082599296591733\n",
      "0.10835576260333656\n",
      "0.09866575628326686\n",
      "0.043989726433821374\n"
     ]
    },
    {
     "name": "stderr",
     "output_type": "stream",
     "text": [
      "\r",
      "50it [01:30,  1.82s/it]"
     ]
    },
    {
     "name": "stdout",
     "output_type": "stream",
     "text": [
      "0.16083613455763443\n",
      "0.05754797690362276\n",
      "0.1625766017895987\n",
      "0.015097958571843418\n",
      "0.05983106073174728\n"
     ]
    },
    {
     "name": "stderr",
     "output_type": "stream",
     "text": [
      "\r",
      "51it [01:32,  1.87s/it]"
     ]
    },
    {
     "name": "stdout",
     "output_type": "stream",
     "text": [
      "0.019172208668259496\n",
      "0.10225237050261937\n",
      "0.07402171635752312\n",
      "0.07934755101721569\n",
      "0.015171374826938366\n"
     ]
    },
    {
     "name": "stderr",
     "output_type": "stream",
     "text": [
      "\r",
      "52it [01:34,  1.90s/it]"
     ]
    },
    {
     "name": "stdout",
     "output_type": "stream",
     "text": [
      "0.13053170025243957\n",
      "0.03175833184919271\n",
      "0.1638848724171363\n",
      "0.0046632079908474995\n",
      "0.0070351062259533794\n"
     ]
    },
    {
     "name": "stderr",
     "output_type": "stream",
     "text": [
      "\r",
      "53it [01:36,  1.89s/it]"
     ]
    },
    {
     "name": "stdout",
     "output_type": "stream",
     "text": [
      "0.051017447322461565\n",
      "0.06309364696312723\n",
      "0.0003338589572755836\n",
      "0.021027678606658023\n",
      "0.16413977486397244\n"
     ]
    },
    {
     "name": "stderr",
     "output_type": "stream",
     "text": [
      "\r",
      "54it [01:38,  1.88s/it]"
     ]
    },
    {
     "name": "stdout",
     "output_type": "stream",
     "text": [
      "0.19154825332409367\n",
      "0.08698930337746921\n",
      "0.02665108897625978\n",
      "0.055753890233907547\n",
      "0.014371661343804881\n"
     ]
    },
    {
     "name": "stderr",
     "output_type": "stream",
     "text": [
      "\r",
      "55it [01:40,  1.86s/it]"
     ]
    },
    {
     "name": "stdout",
     "output_type": "stream",
     "text": [
      "0.08169339131212362\n",
      "0.09107649329055777\n",
      "0.027442294443949036\n",
      "0.11913391118963222\n",
      "0.15876644846196253\n"
     ]
    },
    {
     "name": "stderr",
     "output_type": "stream",
     "text": [
      "\r",
      "56it [01:42,  1.84s/it]"
     ]
    },
    {
     "name": "stdout",
     "output_type": "stream",
     "text": [
      "0.012495498143948344\n",
      "0.04250934146009001\n",
      "0.03902459567832062\n",
      "0.017365557431031797\n",
      "0.03515343116921392\n"
     ]
    },
    {
     "name": "stderr",
     "output_type": "stream",
     "text": [
      "\r",
      "57it [01:43,  1.82s/it]"
     ]
    },
    {
     "name": "stdout",
     "output_type": "stream",
     "text": [
      "0.039594207065524606\n",
      "0.008605643318253997\n",
      "0.14738918929621053\n",
      "0.08909857540347414\n",
      "0.06496424531434596\n"
     ]
    },
    {
     "name": "stderr",
     "output_type": "stream",
     "text": [
      "\r",
      "58it [01:45,  1.82s/it]"
     ]
    },
    {
     "name": "stdout",
     "output_type": "stream",
     "text": [
      "0.006980096755419234\n",
      "0.2954219885505365\n",
      "0.020990123209664327\n",
      "0.05878787521946288\n",
      "0.04698356091079886\n"
     ]
    },
    {
     "name": "stderr",
     "output_type": "stream",
     "text": [
      "\r",
      "59it [01:47,  1.83s/it]"
     ]
    },
    {
     "name": "stdout",
     "output_type": "stream",
     "text": [
      "0.07243293703459235\n",
      "0.0262208876374391\n",
      "0.03839496222623466\n",
      "0.03976118609650938\n",
      "0.04534447595360499\n"
     ]
    },
    {
     "name": "stderr",
     "output_type": "stream",
     "text": [
      "\r",
      "60it [01:49,  1.85s/it]"
     ]
    },
    {
     "name": "stdout",
     "output_type": "stream",
     "text": [
      "0.022624819015779132\n",
      "0.0654951224839063\n",
      "0.07052529125658406\n",
      "0.06954002482176408\n",
      "0.015187520866771546\n"
     ]
    },
    {
     "name": "stderr",
     "output_type": "stream",
     "text": [
      "\r",
      "61it [01:51,  1.83s/it]"
     ]
    },
    {
     "name": "stdout",
     "output_type": "stream",
     "text": [
      "0.15803564173163037\n",
      "0.04158686564099288\n",
      "0.0004077810910216872\n",
      "0.007818485369336863\n",
      "0.063441720376649\n"
     ]
    },
    {
     "name": "stderr",
     "output_type": "stream",
     "text": [
      "\r",
      "62it [01:53,  1.83s/it]"
     ]
    },
    {
     "name": "stdout",
     "output_type": "stream",
     "text": [
      "0.03602301126856151\n",
      "0.05512370072799066\n",
      "0.0035716287077264723\n",
      "0.0007639029013146743\n",
      "0.09971359219678835\n"
     ]
    },
    {
     "name": "stderr",
     "output_type": "stream",
     "text": [
      "\r",
      "63it [01:54,  1.81s/it]"
     ]
    },
    {
     "name": "stdout",
     "output_type": "stream",
     "text": [
      "0.04666870775149373\n",
      "0.010579327125536763\n",
      "0.05778889732142977\n",
      "0.029487974233297562\n",
      "0.020932466797018795\n"
     ]
    },
    {
     "name": "stderr",
     "output_type": "stream",
     "text": [
      "\r",
      "64it [01:56,  1.81s/it]"
     ]
    },
    {
     "name": "stdout",
     "output_type": "stream",
     "text": [
      "0.10424136240531914\n",
      "0.11078735090586803\n",
      "0.022846685222385553\n",
      "0.017469302773304492\n",
      "0.19332461802798565\n"
     ]
    },
    {
     "name": "stderr",
     "output_type": "stream",
     "text": [
      "\r",
      "65it [01:58,  1.81s/it]"
     ]
    },
    {
     "name": "stdout",
     "output_type": "stream",
     "text": [
      "0.1109336507019644\n",
      "0.0047649448567055755\n",
      "0.04977017234338426\n",
      "0.0030835158245136277\n",
      "0.09411346897909462\n"
     ]
    },
    {
     "name": "stderr",
     "output_type": "stream",
     "text": [
      "\r",
      "66it [02:00,  1.84s/it]"
     ]
    },
    {
     "name": "stdout",
     "output_type": "stream",
     "text": [
      "0.12839126495911685\n",
      "0.03963306954354126\n",
      "0.07293146677454514\n",
      "0.19436339481833584\n",
      "0.053825308612258864\n"
     ]
    },
    {
     "name": "stderr",
     "output_type": "stream",
     "text": [
      "\r",
      "67it [02:02,  1.83s/it]"
     ]
    },
    {
     "name": "stdout",
     "output_type": "stream",
     "text": [
      "0.1826344073174154\n",
      "0.01024322504413527\n",
      "0.03755061412951379\n",
      "0.050659317937960024\n",
      "0.04257703906715427\n"
     ]
    },
    {
     "name": "stderr",
     "output_type": "stream",
     "text": [
      "\r",
      "68it [02:03,  1.81s/it]"
     ]
    },
    {
     "name": "stdout",
     "output_type": "stream",
     "text": [
      "0.11998943376552396\n",
      "0.058974911182109804\n",
      "0.11004035069997664\n",
      "0.06831300160996384\n",
      "0.08124073649109864\n"
     ]
    },
    {
     "name": "stderr",
     "output_type": "stream",
     "text": [
      "\r",
      "69it [02:05,  1.81s/it]"
     ]
    },
    {
     "name": "stdout",
     "output_type": "stream",
     "text": [
      "0.08808648190795593\n",
      "0.11316450307174138\n",
      "0.04627214435437895\n",
      "0.034682623159091146\n",
      "0.03607654088272528\n"
     ]
    },
    {
     "name": "stderr",
     "output_type": "stream",
     "text": [
      "\r",
      "70it [02:07,  1.80s/it]"
     ]
    },
    {
     "name": "stdout",
     "output_type": "stream",
     "text": [
      "0.07432897323337775\n",
      "0.047598001994415176\n",
      "0.04457548793873057\n",
      "0.07089105985170543\n",
      "0.09496977090267514\n"
     ]
    },
    {
     "name": "stderr",
     "output_type": "stream",
     "text": [
      "\r",
      "71it [02:09,  1.82s/it]"
     ]
    },
    {
     "name": "stdout",
     "output_type": "stream",
     "text": [
      "0.058561656739366176\n",
      "0.0387338760706911\n",
      "0.06400716693733755\n",
      "0.01839879465915269\n",
      "0.03498335645449363\n"
     ]
    },
    {
     "name": "stderr",
     "output_type": "stream",
     "text": [
      "\r",
      "72it [02:11,  1.82s/it]"
     ]
    },
    {
     "name": "stdout",
     "output_type": "stream",
     "text": [
      "0.10501610503399855\n",
      "0.12846594437885583\n",
      "0.016542364975695164\n",
      "0.23666688235076336\n",
      "0.09037766895586273\n"
     ]
    },
    {
     "name": "stderr",
     "output_type": "stream",
     "text": [
      "\r",
      "73it [02:13,  1.82s/it]"
     ]
    },
    {
     "name": "stdout",
     "output_type": "stream",
     "text": [
      "0.03979074880545263\n",
      "0.057335377534208365\n",
      "0.09362280125387967\n",
      "0.21791530921515428\n",
      "0.10015487625178399\n"
     ]
    },
    {
     "name": "stderr",
     "output_type": "stream",
     "text": [
      "\r",
      "74it [02:14,  1.82s/it]"
     ]
    },
    {
     "name": "stdout",
     "output_type": "stream",
     "text": [
      "0.02088802495866686\n",
      "0.00969575505220952\n",
      "0.12058612376952536\n",
      "0.0010916856296037112\n",
      "0.11058007625893305\n"
     ]
    },
    {
     "name": "stderr",
     "output_type": "stream",
     "text": [
      "\r",
      "75it [02:16,  1.85s/it]"
     ]
    },
    {
     "name": "stdout",
     "output_type": "stream",
     "text": [
      "0.013813637559933157\n",
      "0.17200552023430538\n",
      "0.10454016412847451\n",
      "0.16943881977761277\n",
      "0.026170500840640244\n"
     ]
    },
    {
     "name": "stderr",
     "output_type": "stream",
     "text": [
      "\r",
      "76it [02:18,  1.83s/it]"
     ]
    },
    {
     "name": "stdout",
     "output_type": "stream",
     "text": [
      "0.16870216178456776\n",
      "0.0038076312507477252\n",
      "0.06200631263425645\n",
      "0.09916526839648016\n",
      "0.15059411951936855\n"
     ]
    },
    {
     "name": "stderr",
     "output_type": "stream",
     "text": [
      "\r",
      "77it [02:20,  1.81s/it]"
     ]
    },
    {
     "name": "stdout",
     "output_type": "stream",
     "text": [
      "0.00877413490375973\n",
      "0.06641591538023815\n",
      "0.07631264349902306\n",
      "0.14220230275135282\n",
      "0.03198183285641301\n"
     ]
    },
    {
     "name": "stderr",
     "output_type": "stream",
     "text": [
      "\r",
      "78it [02:22,  1.83s/it]"
     ]
    },
    {
     "name": "stdout",
     "output_type": "stream",
     "text": [
      "0.07374233891334157\n",
      "0.061859892836728186\n",
      "0.08393656565476915\n",
      "0.07683133000275477\n",
      "0.09474892757724118\n"
     ]
    },
    {
     "name": "stderr",
     "output_type": "stream",
     "text": [
      "\r",
      "79it [02:24,  1.84s/it]"
     ]
    },
    {
     "name": "stdout",
     "output_type": "stream",
     "text": [
      "0.18227673550092324\n",
      "0.029953703666462383\n",
      "0.02570890697528308\n",
      "0.005777120269609485\n",
      "0.06548014569680409\n"
     ]
    },
    {
     "name": "stderr",
     "output_type": "stream",
     "text": [
      "\r",
      "80it [02:25,  1.85s/it]"
     ]
    },
    {
     "name": "stdout",
     "output_type": "stream",
     "text": [
      "0.030186754493593898\n",
      "0.15968739047410457\n",
      "0.003826304229065371\n",
      "0.10543579812214013\n",
      "0.08209314997872351\n"
     ]
    },
    {
     "name": "stderr",
     "output_type": "stream",
     "text": [
      "\r",
      "81it [02:27,  1.84s/it]"
     ]
    },
    {
     "name": "stdout",
     "output_type": "stream",
     "text": [
      "0.008863890010491501\n",
      "0.160720553701143\n",
      "0.08701440042665588\n",
      "0.024156025618187305\n",
      "0.033126309511298135\n"
     ]
    },
    {
     "name": "stderr",
     "output_type": "stream",
     "text": [
      "\r",
      "82it [02:29,  1.84s/it]"
     ]
    },
    {
     "name": "stdout",
     "output_type": "stream",
     "text": [
      "0.08663352186338036\n",
      "0.003154667975400194\n",
      "0.1370328094969385\n",
      "0.058794597839662247\n",
      "0.16431632170573363\n"
     ]
    },
    {
     "name": "stderr",
     "output_type": "stream",
     "text": [
      "\r",
      "83it [02:31,  1.82s/it]"
     ]
    },
    {
     "name": "stdout",
     "output_type": "stream",
     "text": [
      "0.05018524161415713\n",
      "0.1548012002449782\n",
      "0.08296429035353503\n",
      "0.013416071108412454\n",
      "0.014652827282360599\n"
     ]
    },
    {
     "name": "stderr",
     "output_type": "stream",
     "text": [
      "\r",
      "84it [02:33,  1.82s/it]"
     ]
    },
    {
     "name": "stdout",
     "output_type": "stream",
     "text": [
      "0.006669722970047748\n",
      "0.11699668487414382\n",
      "0.20939752488582233\n",
      "0.004546741600442302\n",
      "0.05385698759037255\n"
     ]
    },
    {
     "name": "stderr",
     "output_type": "stream",
     "text": [
      "\r",
      "85it [02:34,  1.81s/it]"
     ]
    },
    {
     "name": "stdout",
     "output_type": "stream",
     "text": [
      "0.02545055041262928\n",
      "0.02985674057425225\n",
      "0.0037532435940227254\n",
      "0.0943792273221065\n",
      "0.07411904673868332\n"
     ]
    },
    {
     "name": "stderr",
     "output_type": "stream",
     "text": [
      "\r",
      "86it [02:36,  1.82s/it]"
     ]
    },
    {
     "name": "stdout",
     "output_type": "stream",
     "text": [
      "0.053689060735819284\n",
      "0.009038463589543933\n",
      "0.0643739835652491\n",
      "0.025209420846061644\n",
      "0.32191094805025894\n"
     ]
    },
    {
     "name": "stderr",
     "output_type": "stream",
     "text": [
      "\r",
      "87it [02:38,  1.81s/it]"
     ]
    },
    {
     "name": "stdout",
     "output_type": "stream",
     "text": [
      "0.010474874878650385\n",
      "0.2494241564496843\n",
      "0.20955619716955384\n",
      "0.1745883786187816\n",
      "0.1597280365832968\n"
     ]
    },
    {
     "name": "stderr",
     "output_type": "stream",
     "text": [
      "\r",
      "88it [02:40,  1.80s/it]"
     ]
    },
    {
     "name": "stdout",
     "output_type": "stream",
     "text": [
      "0.06965018907049778\n",
      "0.09040872051925614\n",
      "0.012772575932118353\n",
      "0.03613334458553304\n",
      "0.03866072475567337\n"
     ]
    },
    {
     "name": "stderr",
     "output_type": "stream",
     "text": [
      "\r",
      "89it [02:42,  1.80s/it]"
     ]
    },
    {
     "name": "stdout",
     "output_type": "stream",
     "text": [
      "0.07699045319353875\n",
      "0.0957187562381908\n",
      "0.021198610988429747\n",
      "0.21946135324281324\n",
      "0.0581590959658186\n"
     ]
    },
    {
     "name": "stderr",
     "output_type": "stream",
     "text": [
      "\r",
      "90it [02:43,  1.79s/it]"
     ]
    },
    {
     "name": "stdout",
     "output_type": "stream",
     "text": [
      "0.013892119632911535\n",
      "0.2695349438654471\n",
      "0.06616633503303004\n",
      "0.09229334364053263\n",
      "0.021595339742272724\n"
     ]
    },
    {
     "name": "stderr",
     "output_type": "stream",
     "text": [
      "\r",
      "91it [02:45,  1.83s/it]"
     ]
    },
    {
     "name": "stdout",
     "output_type": "stream",
     "text": [
      "0.046884788950543745\n",
      "0.046662817244111685\n",
      "0.015693664450834723\n",
      "0.04448723829736693\n",
      "0.051232733153473736\n"
     ]
    },
    {
     "name": "stderr",
     "output_type": "stream",
     "text": [
      "\r",
      "92it [02:47,  1.83s/it]"
     ]
    },
    {
     "name": "stdout",
     "output_type": "stream",
     "text": [
      "0.06644382653383248\n",
      "0.11251145083984088\n",
      "0.025821333189432034\n",
      "0.2867915770639106\n",
      "0.0872806356462196\n"
     ]
    },
    {
     "name": "stderr",
     "output_type": "stream",
     "text": [
      "\r",
      "93it [02:49,  1.86s/it]"
     ]
    },
    {
     "name": "stdout",
     "output_type": "stream",
     "text": [
      "0.019123199061385675\n",
      "0.038110859625012775\n",
      "0.06986191320839301\n",
      "0.13723729953470554\n",
      "0.054778385959727116\n"
     ]
    },
    {
     "name": "stderr",
     "output_type": "stream",
     "text": [
      "\r",
      "94it [02:51,  1.87s/it]"
     ]
    },
    {
     "name": "stdout",
     "output_type": "stream",
     "text": [
      "0.052123373906969285\n",
      "0.054089562631943505\n",
      "0.08728339855149364\n",
      "0.03012732869549732\n",
      "0.011198790077591204\n"
     ]
    },
    {
     "name": "stderr",
     "output_type": "stream",
     "text": [
      "\r",
      "95it [02:53,  1.87s/it]"
     ]
    },
    {
     "name": "stdout",
     "output_type": "stream",
     "text": [
      "0.06339996912950296\n",
      "0.04025626874327043\n",
      "0.06958914644926611\n",
      "0.031236994572457256\n",
      "0.02734687436905401\n"
     ]
    },
    {
     "name": "stderr",
     "output_type": "stream",
     "text": [
      "\r",
      "96it [02:55,  1.86s/it]"
     ]
    },
    {
     "name": "stdout",
     "output_type": "stream",
     "text": [
      "0.11754862530072985\n",
      "0.17675296070818666\n",
      "0.029698410489140094\n",
      "0.016914590663665015\n",
      "0.08700135664661594\n"
     ]
    },
    {
     "name": "stderr",
     "output_type": "stream",
     "text": [
      "\r",
      "97it [02:57,  1.85s/it]"
     ]
    },
    {
     "name": "stdout",
     "output_type": "stream",
     "text": [
      "0.0606033117678396\n",
      "0.025594149087557166\n",
      "0.03744572543349805\n",
      "0.14080335403218527\n",
      "0.027135612648439025\n"
     ]
    },
    {
     "name": "stderr",
     "output_type": "stream",
     "text": [
      "\r",
      "98it [02:58,  1.84s/it]"
     ]
    },
    {
     "name": "stdout",
     "output_type": "stream",
     "text": [
      "0.11791736627870004\n",
      "0.04961605839267773\n",
      "0.06295441584026572\n",
      "0.04318346121562133\n",
      "0.012013716377567298\n"
     ]
    },
    {
     "name": "stderr",
     "output_type": "stream",
     "text": [
      "\r",
      "99it [03:00,  1.83s/it]"
     ]
    },
    {
     "name": "stdout",
     "output_type": "stream",
     "text": [
      "0.07751772285488191\n",
      "0.08754642740649725\n",
      "0.08002491287628445\n",
      "0.002337336276010266\n",
      "0.0036182262010535406\n"
     ]
    },
    {
     "name": "stderr",
     "output_type": "stream",
     "text": [
      "\r",
      "100it [03:02,  1.82s/it]"
     ]
    },
    {
     "name": "stdout",
     "output_type": "stream",
     "text": [
      "0.015578276246377627\n",
      "0.03911269093581762\n",
      "0.06825777581505299\n",
      "0.15592774305180623\n",
      "0.13659357974142003\n"
     ]
    },
    {
     "name": "stderr",
     "output_type": "stream",
     "text": [
      "\r",
      "101it [03:04,  1.83s/it]"
     ]
    },
    {
     "name": "stdout",
     "output_type": "stream",
     "text": [
      "0.03389031938802424\n",
      "0.13903252043137515\n",
      "0.13239738585870706\n",
      "0.1228424532771038\n",
      "0.0073285770318770845\n"
     ]
    },
    {
     "name": "stderr",
     "output_type": "stream",
     "text": [
      "\r",
      "102it [03:06,  1.83s/it]"
     ]
    },
    {
     "name": "stdout",
     "output_type": "stream",
     "text": [
      "0.06681706674463157\n",
      "0.1190091144317687\n",
      "0.02571439727766517\n",
      "0.06791437798587467\n",
      "0.16501237473332717\n"
     ]
    },
    {
     "name": "stderr",
     "output_type": "stream",
     "text": [
      "\r",
      "103it [03:07,  1.82s/it]"
     ]
    },
    {
     "name": "stdout",
     "output_type": "stream",
     "text": [
      "0.05934702397054992\n",
      "0.04156841825583933\n",
      "0.1084898140088036\n",
      "0.16747367835642804\n",
      "0.14582073310202748\n"
     ]
    },
    {
     "name": "stderr",
     "output_type": "stream",
     "text": [
      "\r",
      "104it [03:09,  1.81s/it]"
     ]
    },
    {
     "name": "stdout",
     "output_type": "stream",
     "text": [
      "0.042358469648005215\n",
      "0.1812241685920044\n",
      "0.06139717551954443\n",
      "0.041294115107723704\n",
      "0.0902716103259419\n"
     ]
    },
    {
     "name": "stderr",
     "output_type": "stream",
     "text": [
      "\r",
      "105it [03:11,  1.80s/it]"
     ]
    },
    {
     "name": "stdout",
     "output_type": "stream",
     "text": [
      "0.16239399007170843\n",
      "0.012001299809779526\n",
      "0.1376618018384316\n",
      "0.010578213870540776\n",
      "0.0949109038892986\n"
     ]
    },
    {
     "name": "stderr",
     "output_type": "stream",
     "text": [
      "\r",
      "106it [03:13,  1.79s/it]"
     ]
    },
    {
     "name": "stdout",
     "output_type": "stream",
     "text": [
      "0.14730450533543757\n",
      "0.12534774887580205\n",
      "0.020729817890696615\n",
      "0.12251209180394268\n",
      "0.10966959529603143\n"
     ]
    },
    {
     "name": "stderr",
     "output_type": "stream",
     "text": [
      "\r",
      "107it [03:15,  1.80s/it]"
     ]
    },
    {
     "name": "stdout",
     "output_type": "stream",
     "text": [
      "0.10742281040631355\n",
      "0.13655478781252325\n",
      "0.026653927342359857\n",
      "0.16460905288509559\n",
      "0.21030452421298285\n"
     ]
    },
    {
     "name": "stderr",
     "output_type": "stream",
     "text": [
      "\r",
      "108it [03:16,  1.79s/it]"
     ]
    },
    {
     "name": "stdout",
     "output_type": "stream",
     "text": [
      "0.12171546018638427\n",
      "0.045343852472241396\n",
      "0.0061306858659634\n",
      "0.03540792932972969\n",
      "0.020343687335267785\n"
     ]
    },
    {
     "name": "stderr",
     "output_type": "stream",
     "text": [
      "\r",
      "109it [03:18,  1.79s/it]"
     ]
    },
    {
     "name": "stdout",
     "output_type": "stream",
     "text": [
      "0.011042110780573228\n",
      "0.07981626444803032\n",
      "0.18365143111621557\n",
      "0.11534009475198337\n",
      "0.0644548470643066\n"
     ]
    },
    {
     "name": "stderr",
     "output_type": "stream",
     "text": [
      "\r",
      "110it [03:20,  1.79s/it]"
     ]
    },
    {
     "name": "stdout",
     "output_type": "stream",
     "text": [
      "0.07162055831116237\n",
      "0.09481668391835223\n",
      "0.027073728057579034\n",
      "0.017990742145302784\n",
      "0.02113400217083418\n"
     ]
    },
    {
     "name": "stderr",
     "output_type": "stream",
     "text": [
      "\r",
      "111it [03:22,  1.81s/it]"
     ]
    },
    {
     "name": "stdout",
     "output_type": "stream",
     "text": [
      "0.010975597153455917\n",
      "0.20991742270591499\n",
      "0.0720376542423755\n",
      "0.06063657468642467\n",
      "0.03210112735832666\n"
     ]
    },
    {
     "name": "stderr",
     "output_type": "stream",
     "text": [
      "\r",
      "112it [03:24,  1.81s/it]"
     ]
    },
    {
     "name": "stdout",
     "output_type": "stream",
     "text": [
      "0.06886748099506605\n",
      "0.05413625290089909\n",
      "0.21582277353068566\n",
      "0.039703073637760024\n",
      "0.09022535704823399\n"
     ]
    },
    {
     "name": "stderr",
     "output_type": "stream",
     "text": [
      "\r",
      "113it [03:25,  1.81s/it]"
     ]
    },
    {
     "name": "stdout",
     "output_type": "stream",
     "text": [
      "0.047346663501795574\n",
      "1.3300303391900671e-05\n",
      "0.0997701806432222\n",
      "0.03490061763382932\n",
      "0.01288508124311974\n"
     ]
    },
    {
     "name": "stderr",
     "output_type": "stream",
     "text": [
      "\r",
      "114it [03:27,  1.81s/it]"
     ]
    },
    {
     "name": "stdout",
     "output_type": "stream",
     "text": [
      "0.13646413094749962\n",
      "0.06746749700099512\n",
      "0.09473412618406336\n",
      "0.08452649901915704\n",
      "0.11772626180125037\n"
     ]
    },
    {
     "name": "stderr",
     "output_type": "stream",
     "text": [
      "\r",
      "115it [03:29,  1.81s/it]"
     ]
    },
    {
     "name": "stdout",
     "output_type": "stream",
     "text": [
      "0.06583157857774947\n",
      "0.010839181269304138\n",
      "0.22149998596764384\n",
      "0.08788677975494857\n",
      "0.08867610919308759\n"
     ]
    },
    {
     "name": "stderr",
     "output_type": "stream",
     "text": [
      "\r",
      "116it [03:31,  1.82s/it]"
     ]
    },
    {
     "name": "stdout",
     "output_type": "stream",
     "text": [
      "0.009999400563717585\n",
      "0.1694244500087459\n",
      "0.004875794846392085\n",
      "0.022275836271946965\n",
      "0.013617533807832575\n"
     ]
    },
    {
     "name": "stderr",
     "output_type": "stream",
     "text": [
      "\r",
      "117it [03:33,  1.82s/it]"
     ]
    },
    {
     "name": "stdout",
     "output_type": "stream",
     "text": [
      "0.18771495580045147\n",
      "0.05683603229465341\n",
      "0.06760433391361771\n",
      "0.022991505111729694\n",
      "0.06542751186132395\n"
     ]
    },
    {
     "name": "stderr",
     "output_type": "stream",
     "text": [
      "\r",
      "118it [03:35,  1.83s/it]"
     ]
    },
    {
     "name": "stdout",
     "output_type": "stream",
     "text": [
      "0.14476787539202296\n",
      "0.0830319747388619\n",
      "0.09775654165573405\n",
      "0.002885123904971976\n",
      "0.08854608208300216\n"
     ]
    },
    {
     "name": "stderr",
     "output_type": "stream",
     "text": [
      "\r",
      "119it [03:36,  1.82s/it]"
     ]
    },
    {
     "name": "stdout",
     "output_type": "stream",
     "text": [
      "0.007239430799501476\n",
      "0.03279381801827463\n",
      "0.1359913222969887\n",
      "0.15638439644499372\n",
      "0.06118505805352295\n"
     ]
    },
    {
     "name": "stderr",
     "output_type": "stream",
     "text": [
      "\r",
      "120it [03:38,  1.82s/it]"
     ]
    },
    {
     "name": "stdout",
     "output_type": "stream",
     "text": [
      "0.07576403975889603\n",
      "0.08005299982274805\n",
      "0.10072795289675443\n",
      "0.02467465909373599\n",
      "0.21101340535109925\n"
     ]
    },
    {
     "name": "stderr",
     "output_type": "stream",
     "text": [
      "\r",
      "121it [03:40,  1.81s/it]"
     ]
    },
    {
     "name": "stdout",
     "output_type": "stream",
     "text": [
      "0.09546008049226964\n",
      "0.024746295860406886\n",
      "0.07154186450782297\n",
      "0.07820043105430445\n",
      "0.04213992421775287\n"
     ]
    },
    {
     "name": "stderr",
     "output_type": "stream",
     "text": [
      "\r",
      "122it [03:42,  1.81s/it]"
     ]
    },
    {
     "name": "stdout",
     "output_type": "stream",
     "text": [
      "0.15272185535521565\n",
      "0.02005235191326605\n",
      "0.11401488980432438\n",
      "0.02575125900060308\n",
      "0.1340885648577726\n"
     ]
    },
    {
     "name": "stderr",
     "output_type": "stream",
     "text": [
      "\r",
      "123it [03:44,  1.80s/it]"
     ]
    },
    {
     "name": "stdout",
     "output_type": "stream",
     "text": [
      "0.06977516675035833\n",
      "0.18185046881760347\n",
      "0.07747096122240725\n",
      "0.12144385802241207\n",
      "0.07217566100117528\n"
     ]
    },
    {
     "name": "stderr",
     "output_type": "stream",
     "text": [
      "\r",
      "124it [03:45,  1.80s/it]"
     ]
    },
    {
     "name": "stdout",
     "output_type": "stream",
     "text": [
      "0.016362470866610582\n",
      "0.05479078490089623\n",
      "0.09721879151284327\n",
      "0.21411195336319674\n",
      "0.11760899341645624\n"
     ]
    },
    {
     "name": "stderr",
     "output_type": "stream",
     "text": [
      "\r",
      "125it [03:47,  1.80s/it]"
     ]
    },
    {
     "name": "stdout",
     "output_type": "stream",
     "text": [
      "0.017438584742396353\n",
      "0.15084556546766045\n",
      "0.2525916983576392\n",
      "0.20770720118938324\n",
      "0.04743843121936377\n"
     ]
    },
    {
     "name": "stderr",
     "output_type": "stream",
     "text": [
      "\r",
      "126it [03:49,  1.80s/it]"
     ]
    },
    {
     "name": "stdout",
     "output_type": "stream",
     "text": [
      "0.1327312072058461\n",
      "0.0965391545230401\n",
      "0.1207442358740635\n",
      "0.01878139613359475\n",
      "0.12030160529257686\n"
     ]
    },
    {
     "name": "stderr",
     "output_type": "stream",
     "text": [
      "\r",
      "127it [03:51,  1.80s/it]"
     ]
    },
    {
     "name": "stdout",
     "output_type": "stream",
     "text": [
      "0.10752609903103319\n",
      "0.14212256136821858\n",
      "0.1206928004840159\n",
      "0.13012609945875844\n",
      "0.008923054597890763\n"
     ]
    },
    {
     "name": "stderr",
     "output_type": "stream",
     "text": [
      "\r",
      "128it [03:53,  1.80s/it]"
     ]
    },
    {
     "name": "stdout",
     "output_type": "stream",
     "text": [
      "0.03198244096102303\n",
      "0.0020930587285760815\n",
      "4.892130303576345e-05\n",
      "0.032899863951451815\n",
      "0.08287262418786864\n"
     ]
    },
    {
     "name": "stderr",
     "output_type": "stream",
     "text": [
      "\r",
      "129it [03:54,  1.81s/it]"
     ]
    },
    {
     "name": "stdout",
     "output_type": "stream",
     "text": [
      "0.08138786644599788\n",
      "0.22365776180246333\n",
      "0.17244699551639459\n",
      "0.07981827932238775\n",
      "0.12022939977343883\n"
     ]
    },
    {
     "name": "stderr",
     "output_type": "stream",
     "text": [
      "\r",
      "130it [03:56,  1.80s/it]"
     ]
    },
    {
     "name": "stdout",
     "output_type": "stream",
     "text": [
      "0.008227880606044359\n",
      "0.09304237308029853\n",
      "0.05935431326450329\n",
      "0.08166353975657921\n",
      "0.04011098843278358\n"
     ]
    },
    {
     "name": "stderr",
     "output_type": "stream",
     "text": [
      "\r",
      "131it [03:58,  1.82s/it]"
     ]
    },
    {
     "name": "stdout",
     "output_type": "stream",
     "text": [
      "0.04809695724185068\n",
      "0.1454279240520493\n",
      "0.05823574733496137\n",
      "0.0833291401008741\n",
      "0.010006517496307744\n"
     ]
    },
    {
     "name": "stderr",
     "output_type": "stream",
     "text": [
      "\r",
      "132it [04:00,  1.83s/it]"
     ]
    },
    {
     "name": "stdout",
     "output_type": "stream",
     "text": [
      "0.14864282441206475\n",
      "0.06235875520922488\n",
      "0.052562084742932995\n",
      "0.08281207325027867\n",
      "0.0611906961483748\n"
     ]
    },
    {
     "name": "stderr",
     "output_type": "stream",
     "text": [
      "\r",
      "133it [04:02,  1.82s/it]"
     ]
    },
    {
     "name": "stdout",
     "output_type": "stream",
     "text": [
      "0.015941703171138466\n",
      "0.09741081857149345\n",
      "0.059715474664038905\n",
      "0.2289671924847117\n",
      "0.06284496160894515\n"
     ]
    },
    {
     "name": "stderr",
     "output_type": "stream",
     "text": [
      "\r",
      "134it [04:04,  1.82s/it]"
     ]
    },
    {
     "name": "stdout",
     "output_type": "stream",
     "text": [
      "0.07574126043541068\n",
      "0.1334228166332967\n",
      "0.10185324099533036\n",
      "0.021918635954275942\n",
      "0.05341679048855916\n"
     ]
    },
    {
     "name": "stderr",
     "output_type": "stream",
     "text": [
      "\r",
      "135it [04:05,  1.83s/it]"
     ]
    },
    {
     "name": "stdout",
     "output_type": "stream",
     "text": [
      "0.017465782689317727\n",
      "0.01964193395090594\n",
      "0.018884940311505075\n",
      "0.03179923493251342\n",
      "0.046145466434598006\n"
     ]
    },
    {
     "name": "stderr",
     "output_type": "stream",
     "text": [
      "\r",
      "136it [04:07,  1.84s/it]"
     ]
    },
    {
     "name": "stdout",
     "output_type": "stream",
     "text": [
      "0.007851928447103527\n",
      "0.10549446331236996\n",
      "0.058202557284874126\n",
      "0.2401849304160789\n",
      "0.13437966518278918\n"
     ]
    },
    {
     "name": "stderr",
     "output_type": "stream",
     "text": [
      "\r",
      "137it [04:09,  1.84s/it]"
     ]
    },
    {
     "name": "stdout",
     "output_type": "stream",
     "text": [
      "0.07389472541729443\n",
      "0.13078859423837513\n",
      "0.049590077641168614\n",
      "0.05096451437684194\n",
      "0.09182644797248701\n"
     ]
    },
    {
     "name": "stderr",
     "output_type": "stream",
     "text": [
      "\r",
      "138it [04:11,  1.85s/it]"
     ]
    },
    {
     "name": "stdout",
     "output_type": "stream",
     "text": [
      "0.08699918225313052\n",
      "0.006343761485587654\n",
      "0.004392399676045259\n",
      "0.01914327201894715\n",
      "0.039755143378830224\n"
     ]
    },
    {
     "name": "stderr",
     "output_type": "stream",
     "text": [
      "\r",
      "139it [04:13,  1.84s/it]"
     ]
    },
    {
     "name": "stdout",
     "output_type": "stream",
     "text": [
      "0.01825890515966515\n",
      "0.10004233988515965\n",
      "0.028507975740934877\n",
      "0.19679074063847932\n",
      "0.040699437957366275\n"
     ]
    },
    {
     "name": "stderr",
     "output_type": "stream",
     "text": [
      "\r",
      "140it [04:15,  1.84s/it]"
     ]
    },
    {
     "name": "stdout",
     "output_type": "stream",
     "text": [
      "0.05983675451910723\n",
      "0.04860784271843499\n",
      "0.20022616289477868\n",
      "0.14332681189930593\n",
      "0.0479878454932023\n"
     ]
    },
    {
     "name": "stderr",
     "output_type": "stream",
     "text": [
      "\r",
      "141it [04:16,  1.82s/it]"
     ]
    },
    {
     "name": "stdout",
     "output_type": "stream",
     "text": [
      "0.005666522451586309\n",
      "0.029749833260173903\n",
      "0.08022582327167659\n",
      "0.0162739293359595\n",
      "0.10313695861853212\n"
     ]
    },
    {
     "name": "stderr",
     "output_type": "stream",
     "text": [
      "\r",
      "142it [04:18,  1.82s/it]"
     ]
    },
    {
     "name": "stdout",
     "output_type": "stream",
     "text": [
      "0.12953849552515692\n",
      "0.16823025086783178\n",
      "0.16138402578820243\n",
      "0.039381204173741476\n",
      "0.08211521054060067\n"
     ]
    },
    {
     "name": "stderr",
     "output_type": "stream",
     "text": [
      "\r",
      "143it [04:20,  1.81s/it]"
     ]
    },
    {
     "name": "stdout",
     "output_type": "stream",
     "text": [
      "0.056240120825909415\n",
      "0.04725823852797022\n",
      "0.10949123752559448\n",
      "0.014028774850971119\n",
      "0.19370479769057614\n"
     ]
    },
    {
     "name": "stderr",
     "output_type": "stream",
     "text": [
      "\r",
      "144it [04:22,  1.81s/it]"
     ]
    },
    {
     "name": "stdout",
     "output_type": "stream",
     "text": [
      "0.024203205819186533\n",
      "0.014183014085625091\n",
      "0.09341158325988902\n",
      "0.1915026676186533\n",
      "0.20737243235800895\n"
     ]
    },
    {
     "name": "stderr",
     "output_type": "stream",
     "text": [
      "\r",
      "145it [04:24,  1.80s/it]"
     ]
    },
    {
     "name": "stdout",
     "output_type": "stream",
     "text": [
      "0.06324621636538032\n",
      "0.10431782999532697\n",
      "0.056519865472978076\n",
      "0.14557356421685308\n",
      "0.05547206809570574\n"
     ]
    },
    {
     "name": "stderr",
     "output_type": "stream",
     "text": [
      "\r",
      "146it [04:25,  1.79s/it]"
     ]
    },
    {
     "name": "stdout",
     "output_type": "stream",
     "text": [
      "0.02487319786304197\n",
      "0.034325883366510775\n",
      "0.004300312778346699\n",
      "0.05199116595665426\n",
      "0.017490838793876168\n"
     ]
    },
    {
     "name": "stderr",
     "output_type": "stream",
     "text": [
      "\r",
      "147it [04:27,  1.79s/it]"
     ]
    },
    {
     "name": "stdout",
     "output_type": "stream",
     "text": [
      "0.034534657123434065\n",
      "0.06490315686454835\n",
      "0.0019173275202163807\n",
      "0.07973081888275041\n",
      "0.12804684040833658\n"
     ]
    },
    {
     "name": "stderr",
     "output_type": "stream",
     "text": [
      "\r",
      "148it [04:29,  1.79s/it]"
     ]
    },
    {
     "name": "stdout",
     "output_type": "stream",
     "text": [
      "0.19012103723606322\n",
      "0.09158516080038798\n",
      "0.03465700094023049\n",
      "0.00813174782531512\n",
      "0.013926218193197502\n"
     ]
    },
    {
     "name": "stderr",
     "output_type": "stream",
     "text": [
      "\r",
      "149it [04:31,  1.79s/it]"
     ]
    },
    {
     "name": "stdout",
     "output_type": "stream",
     "text": [
      "0.07513678155303667\n",
      "0.040126384765901246\n",
      "0.19910409482954028\n",
      "0.07414976656185218\n",
      "0.13816552125564632\n"
     ]
    },
    {
     "name": "stderr",
     "output_type": "stream",
     "text": [
      "\r",
      "150it [04:32,  1.79s/it]"
     ]
    },
    {
     "name": "stdout",
     "output_type": "stream",
     "text": [
      "0.21151133795980348\n",
      "0.23237326560014637\n",
      "0.06343075099782823\n",
      "0.017456169162870412\n",
      "0.2798803221734208\n"
     ]
    },
    {
     "name": "stderr",
     "output_type": "stream",
     "text": [
      "\r",
      "151it [04:34,  1.81s/it]"
     ]
    },
    {
     "name": "stdout",
     "output_type": "stream",
     "text": [
      "0.045420021602619834\n",
      "0.08055981765249516\n",
      "0.13231898684841298\n",
      "0.15079384230984716\n",
      "0.03903009302735211\n"
     ]
    },
    {
     "name": "stderr",
     "output_type": "stream",
     "text": [
      "\r",
      "152it [04:36,  1.81s/it]"
     ]
    },
    {
     "name": "stdout",
     "output_type": "stream",
     "text": [
      "0.05196330116603242\n",
      "0.018741588083086326\n",
      "0.0958791032558032\n",
      "0.07981266853216208\n",
      "0.06200092185840365\n"
     ]
    },
    {
     "name": "stderr",
     "output_type": "stream",
     "text": [
      "\r",
      "153it [04:38,  1.81s/it]"
     ]
    },
    {
     "name": "stdout",
     "output_type": "stream",
     "text": [
      "0.11931387749389888\n",
      "0.21912726860940707\n",
      "0.005500904382534415\n",
      "0.012727698686537815\n",
      "0.10199427083773056\n"
     ]
    },
    {
     "name": "stderr",
     "output_type": "stream",
     "text": [
      "\r",
      "154it [04:40,  1.82s/it]"
     ]
    },
    {
     "name": "stdout",
     "output_type": "stream",
     "text": [
      "0.06129828765103075\n",
      "0.10852098563838863\n",
      "0.19056456771032484\n",
      "0.07503016742749419\n",
      "0.14952440004291387\n"
     ]
    },
    {
     "name": "stderr",
     "output_type": "stream",
     "text": [
      "\r",
      "155it [04:42,  1.82s/it]"
     ]
    },
    {
     "name": "stdout",
     "output_type": "stream",
     "text": [
      "0.12824832319927176\n",
      "0.09805224996912948\n",
      "0.06658659872450118\n",
      "0.023125040545262047\n",
      "0.04570979279792577\n"
     ]
    },
    {
     "name": "stderr",
     "output_type": "stream",
     "text": [
      "\r",
      "156it [04:43,  1.82s/it]"
     ]
    },
    {
     "name": "stdout",
     "output_type": "stream",
     "text": [
      "0.1909417783248667\n",
      "0.10087635313492849\n",
      "0.08523103148538326\n",
      "0.016555820087340814\n",
      "0.03714620397783811\n"
     ]
    },
    {
     "name": "stderr",
     "output_type": "stream",
     "text": [
      "\r",
      "157it [04:45,  1.82s/it]"
     ]
    },
    {
     "name": "stdout",
     "output_type": "stream",
     "text": [
      "0.021573463365359646\n",
      "0.005284605511420479\n",
      "0.07869847302436384\n",
      "0.07734334022586303\n",
      "0.06706964962139826\n"
     ]
    },
    {
     "name": "stderr",
     "output_type": "stream",
     "text": [
      "\r",
      "158it [04:47,  1.83s/it]"
     ]
    },
    {
     "name": "stdout",
     "output_type": "stream",
     "text": [
      "0.04473800379406751\n",
      "0.1291399776777926\n",
      "0.053897935198296915\n",
      "0.04501144182726659\n",
      "0.1158548585935077\n"
     ]
    },
    {
     "name": "stderr",
     "output_type": "stream",
     "text": [
      "\r",
      "159it [04:49,  1.83s/it]"
     ]
    },
    {
     "name": "stdout",
     "output_type": "stream",
     "text": [
      "0.028141947734924053\n",
      "0.12418171950737703\n",
      "0.2334909438233953\n",
      "0.17201402185138692\n",
      "0.03176453139613605\n"
     ]
    },
    {
     "name": "stderr",
     "output_type": "stream",
     "text": [
      "\r",
      "160it [04:51,  1.83s/it]"
     ]
    },
    {
     "name": "stdout",
     "output_type": "stream",
     "text": [
      "0.1388974240379914\n",
      "0.35927013150768383\n",
      "0.07205775711493739\n",
      "0.09345666227134318\n",
      "0.04463019129297008\n"
     ]
    },
    {
     "name": "stderr",
     "output_type": "stream",
     "text": [
      "\r",
      "161it [04:53,  1.82s/it]"
     ]
    },
    {
     "name": "stdout",
     "output_type": "stream",
     "text": [
      "0.16240029694289643\n",
      "0.11593184525438707\n",
      "0.07840602246269437\n",
      "0.03558493028373384\n",
      "0.05945679997055863\n"
     ]
    },
    {
     "name": "stderr",
     "output_type": "stream",
     "text": [
      "\r",
      "162it [04:54,  1.82s/it]"
     ]
    },
    {
     "name": "stdout",
     "output_type": "stream",
     "text": [
      "0.014955066910188825\n",
      "0.08800855643826921\n",
      "0.07339375589577955\n",
      "0.08653708123587574\n",
      "0.11783385973782129\n"
     ]
    },
    {
     "name": "stderr",
     "output_type": "stream",
     "text": [
      "\r",
      "163it [04:56,  1.81s/it]"
     ]
    },
    {
     "name": "stdout",
     "output_type": "stream",
     "text": [
      "0.03451042852295804\n",
      "0.030801899252080656\n",
      "0.11302243569892495\n",
      "0.049440793501973015\n",
      "0.04389970555640836\n"
     ]
    },
    {
     "name": "stderr",
     "output_type": "stream",
     "text": [
      "\r",
      "164it [04:58,  1.81s/it]"
     ]
    },
    {
     "name": "stdout",
     "output_type": "stream",
     "text": [
      "0.061213334416059764\n",
      "0.004105342177837113\n",
      "0.14319957776386563\n",
      "0.0984917360612837\n",
      "0.1432771393802411\n"
     ]
    },
    {
     "name": "stderr",
     "output_type": "stream",
     "text": [
      "\r",
      "165it [05:00,  1.80s/it]"
     ]
    },
    {
     "name": "stdout",
     "output_type": "stream",
     "text": [
      "0.06414865988701568\n",
      "0.20654064108185222\n",
      "0.11254365577949615\n",
      "0.04329945574269574\n",
      "0.11990549511411529\n"
     ]
    },
    {
     "name": "stderr",
     "output_type": "stream",
     "text": [
      "\r",
      "166it [05:02,  1.79s/it]"
     ]
    },
    {
     "name": "stdout",
     "output_type": "stream",
     "text": [
      "0.013159662405504821\n",
      "0.0500139186806871\n",
      "0.10162366269629551\n",
      "0.05814803806806951\n",
      "0.17684052763275357\n"
     ]
    },
    {
     "name": "stderr",
     "output_type": "stream",
     "text": [
      "\r",
      "167it [05:03,  1.79s/it]"
     ]
    },
    {
     "name": "stdout",
     "output_type": "stream",
     "text": [
      "0.08950983733446778\n",
      "0.035673394758628595\n",
      "0.07248091174864922\n",
      "0.0007365002059406503\n",
      "0.06372230098934462\n"
     ]
    },
    {
     "name": "stderr",
     "output_type": "stream",
     "text": [
      "\r",
      "168it [05:05,  1.79s/it]"
     ]
    },
    {
     "name": "stdout",
     "output_type": "stream",
     "text": [
      "0.04792494509775201\n",
      "0.030041975039686936\n",
      "0.22019820883148067\n",
      "0.06710175338867673\n",
      "0.02463550717915454\n"
     ]
    },
    {
     "name": "stderr",
     "output_type": "stream",
     "text": [
      "\r",
      "169it [05:07,  1.80s/it]"
     ]
    },
    {
     "name": "stdout",
     "output_type": "stream",
     "text": [
      "0.1718105022958646\n",
      "0.03495401286900162\n",
      "0.023049107872022107\n",
      "0.14453423894532294\n",
      "0.12069240095540544\n"
     ]
    },
    {
     "name": "stderr",
     "output_type": "stream",
     "text": [
      "\r",
      "170it [05:09,  1.80s/it]"
     ]
    },
    {
     "name": "stdout",
     "output_type": "stream",
     "text": [
      "0.0336201851598436\n",
      "0.10407373923298929\n",
      "0.050271642273592224\n",
      "0.10656243191766022\n",
      "0.04303167032095437\n"
     ]
    },
    {
     "name": "stderr",
     "output_type": "stream",
     "text": [
      "\r",
      "171it [05:11,  1.83s/it]"
     ]
    },
    {
     "name": "stdout",
     "output_type": "stream",
     "text": [
      "0.09761839382744572\n",
      "0.11924356406614654\n",
      "0.11424314369876531\n",
      "0.044974454494016\n",
      "0.013812306201651815\n"
     ]
    },
    {
     "name": "stderr",
     "output_type": "stream",
     "text": [
      "\r",
      "172it [05:12,  1.83s/it]"
     ]
    },
    {
     "name": "stdout",
     "output_type": "stream",
     "text": [
      "0.010547486767633188\n",
      "0.0439856965857038\n",
      "0.04412803501989431\n",
      "0.0935779910048063\n",
      "0.08826502799745867\n"
     ]
    },
    {
     "name": "stderr",
     "output_type": "stream",
     "text": [
      "\r",
      "173it [05:14,  1.83s/it]"
     ]
    },
    {
     "name": "stdout",
     "output_type": "stream",
     "text": [
      "0.03346017771649505\n",
      "0.1792892206083192\n",
      "0.07173072335926717\n",
      "0.18367540047596093\n",
      "0.045300067613730774\n"
     ]
    },
    {
     "name": "stderr",
     "output_type": "stream",
     "text": [
      "\r",
      "174it [05:16,  1.83s/it]"
     ]
    },
    {
     "name": "stdout",
     "output_type": "stream",
     "text": [
      "0.04044893086196505\n",
      "0.1298391243254625\n",
      "0.023697504291432803\n",
      "0.027083361887933262\n",
      "0.1184503446816406\n"
     ]
    },
    {
     "name": "stderr",
     "output_type": "stream",
     "text": [
      "\r",
      "175it [05:18,  1.83s/it]"
     ]
    },
    {
     "name": "stdout",
     "output_type": "stream",
     "text": [
      "0.014196690106615215\n",
      "0.011530811603328112\n",
      "0.038536838169871974\n",
      "0.10134998583663153\n",
      "0.020061343371920764\n"
     ]
    },
    {
     "name": "stderr",
     "output_type": "stream",
     "text": [
      "\r",
      "176it [05:20,  1.83s/it]"
     ]
    },
    {
     "name": "stdout",
     "output_type": "stream",
     "text": [
      "0.08453898239775326\n",
      "0.11216804578271358\n",
      "0.14725102302849338\n",
      "0.04016230413120457\n",
      "0.12350104736441213\n"
     ]
    },
    {
     "name": "stderr",
     "output_type": "stream",
     "text": [
      "\r",
      "177it [05:22,  1.84s/it]"
     ]
    },
    {
     "name": "stdout",
     "output_type": "stream",
     "text": [
      "0.09657212436559724\n",
      "0.1606084893483511\n",
      "0.004547724295075533\n",
      "0.11710376596404078\n",
      "0.11000116886454492\n"
     ]
    },
    {
     "name": "stderr",
     "output_type": "stream",
     "text": [
      "\r",
      "178it [05:24,  1.84s/it]"
     ]
    },
    {
     "name": "stdout",
     "output_type": "stream",
     "text": [
      "0.06918496687127716\n",
      "0.08515097566238086\n",
      "0.0686188474675355\n",
      "0.1000855200270545\n",
      "0.0025938598075849724\n"
     ]
    },
    {
     "name": "stderr",
     "output_type": "stream",
     "text": [
      "\r",
      "179it [05:25,  1.84s/it]"
     ]
    },
    {
     "name": "stdout",
     "output_type": "stream",
     "text": [
      "0.04632156172274375\n",
      "0.0281112825124615\n",
      "0.17947813156092135\n",
      "0.07417451896077208\n",
      "0.15173245279556397\n"
     ]
    },
    {
     "name": "stderr",
     "output_type": "stream",
     "text": [
      "\r",
      "180it [05:27,  1.83s/it]"
     ]
    },
    {
     "name": "stdout",
     "output_type": "stream",
     "text": [
      "0.0752148699247373\n",
      "0.15172186207074623\n",
      "0.011485495801928983\n",
      "0.10141462589843327\n",
      "0.06900339545459547\n"
     ]
    },
    {
     "name": "stderr",
     "output_type": "stream",
     "text": [
      "\r",
      "181it [05:29,  1.82s/it]"
     ]
    },
    {
     "name": "stdout",
     "output_type": "stream",
     "text": [
      "0.07812164148727589\n",
      "0.06924123436604793\n",
      "0.11505812773363187\n",
      "0.05004775189790786\n",
      "0.03561669125282465\n"
     ]
    },
    {
     "name": "stderr",
     "output_type": "stream",
     "text": [
      "\r",
      "182it [05:31,  1.82s/it]"
     ]
    },
    {
     "name": "stdout",
     "output_type": "stream",
     "text": [
      "0.13359042314404684\n",
      "0.09352008602009812\n",
      "0.09237164369192566\n",
      "0.027747151373648377\n",
      "0.024553134113784434\n"
     ]
    },
    {
     "name": "stderr",
     "output_type": "stream",
     "text": [
      "\r",
      "183it [05:33,  1.81s/it]"
     ]
    },
    {
     "name": "stdout",
     "output_type": "stream",
     "text": [
      "0.09425421308027804\n",
      "0.1202930588319453\n",
      "0.036582765323415305\n",
      "0.006125782262023649\n",
      "0.09718253386665822\n"
     ]
    },
    {
     "name": "stderr",
     "output_type": "stream",
     "text": [
      "\r",
      "184it [05:34,  1.81s/it]"
     ]
    },
    {
     "name": "stdout",
     "output_type": "stream",
     "text": [
      "0.10975856469489537\n",
      "0.00014955022293787197\n",
      "0.0011091730107006174\n",
      "0.0016252385817987062\n",
      "0.037261493514735074\n"
     ]
    },
    {
     "name": "stderr",
     "output_type": "stream",
     "text": [
      "\r",
      "185it [05:36,  1.80s/it]"
     ]
    },
    {
     "name": "stdout",
     "output_type": "stream",
     "text": [
      "0.029664700367945537\n",
      "0.03544828338667549\n",
      "0.008860734500763539\n",
      "0.13558664310624405\n",
      "0.09207075938197566\n"
     ]
    },
    {
     "name": "stderr",
     "output_type": "stream",
     "text": [
      "\r",
      "186it [05:38,  1.78s/it]"
     ]
    },
    {
     "name": "stdout",
     "output_type": "stream",
     "text": [
      "0.01672976681056176\n",
      "0.028867642368110548\n",
      "0.08313283036838728\n",
      "0.06636035774262454\n",
      "0.001627700936310952\n"
     ]
    },
    {
     "name": "stderr",
     "output_type": "stream",
     "text": [
      "\r",
      "187it [05:40,  1.79s/it]"
     ]
    },
    {
     "name": "stdout",
     "output_type": "stream",
     "text": [
      "0.023791842123266734\n",
      "0.03487220021739615\n",
      "0.11385897948695436\n",
      "0.027836286446984243\n",
      "0.059385893039374374\n"
     ]
    },
    {
     "name": "stderr",
     "output_type": "stream",
     "text": [
      "\r",
      "188it [05:41,  1.79s/it]"
     ]
    },
    {
     "name": "stdout",
     "output_type": "stream",
     "text": [
      "0.0827573953175959\n",
      "0.01108346230190975\n",
      "0.15113826338951447\n",
      "0.04543291279741474\n",
      "0.031021633646892633\n"
     ]
    },
    {
     "name": "stderr",
     "output_type": "stream",
     "text": [
      "\r",
      "189it [05:43,  1.79s/it]"
     ]
    },
    {
     "name": "stdout",
     "output_type": "stream",
     "text": [
      "0.048310466648217504\n",
      "0.04440149062154073\n",
      "0.021253118265892657\n",
      "0.07469287855984867\n",
      "0.29165519246743504\n"
     ]
    },
    {
     "name": "stderr",
     "output_type": "stream",
     "text": [
      "\r",
      "190it [05:45,  1.81s/it]"
     ]
    },
    {
     "name": "stdout",
     "output_type": "stream",
     "text": [
      "0.028463381633392383\n",
      "0.020377761676863167\n",
      "0.05798857364515773\n",
      "0.003722858104927425\n",
      "0.014770850139332698\n"
     ]
    },
    {
     "name": "stderr",
     "output_type": "stream",
     "text": [
      "\r",
      "191it [05:47,  1.83s/it]"
     ]
    },
    {
     "name": "stdout",
     "output_type": "stream",
     "text": [
      "0.04031558704317411\n",
      "0.08691981848570825\n",
      "0.002242775766401125\n",
      "0.0568247766540863\n",
      "0.18290743261012002\n"
     ]
    },
    {
     "name": "stderr",
     "output_type": "stream",
     "text": [
      "\r",
      "192it [05:49,  1.84s/it]"
     ]
    },
    {
     "name": "stdout",
     "output_type": "stream",
     "text": [
      "0.11174980160577917\n",
      "0.045696749962257366\n",
      "0.007298841229721929\n",
      "0.1323541904455519\n",
      "0.1435754302422832\n"
     ]
    },
    {
     "name": "stderr",
     "output_type": "stream",
     "text": [
      "\r",
      "193it [05:51,  1.84s/it]"
     ]
    },
    {
     "name": "stdout",
     "output_type": "stream",
     "text": [
      "0.29795244503138135\n",
      "0.09498223482020657\n",
      "0.13267443004483565\n",
      "0.06389053046144832\n",
      "0.06185719464670961\n"
     ]
    },
    {
     "name": "stderr",
     "output_type": "stream",
     "text": [
      "\r",
      "194it [05:53,  1.84s/it]"
     ]
    },
    {
     "name": "stdout",
     "output_type": "stream",
     "text": [
      "0.054781486368917165\n",
      "0.15499764400504468\n",
      "0.09925879896447767\n",
      "0.11996940555547407\n",
      "0.1138852479887969\n"
     ]
    },
    {
     "name": "stderr",
     "output_type": "stream",
     "text": [
      "\r",
      "195it [05:54,  1.83s/it]"
     ]
    },
    {
     "name": "stdout",
     "output_type": "stream",
     "text": [
      "0.026992022456404176\n",
      "0.02338607155820467\n",
      "0.06176807390742059\n",
      "0.10157200864788792\n",
      "0.014226504227187117\n"
     ]
    },
    {
     "name": "stderr",
     "output_type": "stream",
     "text": [
      "\r",
      "196it [05:56,  1.83s/it]"
     ]
    },
    {
     "name": "stdout",
     "output_type": "stream",
     "text": [
      "0.009323223345031715\n",
      "0.12194602600424814\n",
      "0.10854058101629067\n",
      "0.017225770929594972\n",
      "0.039890151415508356\n"
     ]
    },
    {
     "name": "stderr",
     "output_type": "stream",
     "text": [
      "\r",
      "197it [05:58,  1.84s/it]"
     ]
    },
    {
     "name": "stdout",
     "output_type": "stream",
     "text": [
      "0.05672545145031798\n",
      "0.03321968710207697\n",
      "0.1389463120754913\n",
      "0.06215332471949423\n",
      "0.13012496412806077\n"
     ]
    },
    {
     "name": "stderr",
     "output_type": "stream",
     "text": [
      "\r",
      "198it [06:00,  1.84s/it]"
     ]
    },
    {
     "name": "stdout",
     "output_type": "stream",
     "text": [
      "0.004797939581374932\n",
      "0.05937888411484526\n",
      "0.011133950996319357\n",
      "0.03148153480409656\n",
      "0.02952371197751751\n"
     ]
    },
    {
     "name": "stderr",
     "output_type": "stream",
     "text": [
      "\r",
      "199it [06:02,  1.83s/it]"
     ]
    },
    {
     "name": "stdout",
     "output_type": "stream",
     "text": [
      "0.04351303983702645\n",
      "0.004461682207302685\n",
      "0.036186827169850055\n",
      "0.05303645097641494\n",
      "0.25210986182623935\n"
     ]
    },
    {
     "name": "stderr",
     "output_type": "stream",
     "text": [
      "200it [06:04,  1.83s/it]\n",
      "0it [00:00, ?it/s]"
     ]
    },
    {
     "name": "stdout",
     "output_type": "stream",
     "text": [
      "0.04302086504597563\n",
      "0.06491260609937934\n",
      "0.050922425199983024\n",
      "0.023652871909139034\n",
      "0.18200114432064263\n"
     ]
    },
    {
     "name": "stderr",
     "output_type": "stream",
     "text": [
      "\r",
      "1it [00:01,  1.89s/it]"
     ]
    },
    {
     "name": "stdout",
     "output_type": "stream",
     "text": [
      "0.11129627074398267\n",
      "0.031049693174990532\n",
      "0.09553000922868386\n",
      "0.03485981427290789\n",
      "0.10439418546006483\n"
     ]
    },
    {
     "name": "stderr",
     "output_type": "stream",
     "text": [
      "\r",
      "2it [00:03,  1.89s/it]"
     ]
    },
    {
     "name": "stdout",
     "output_type": "stream",
     "text": [
      "0.029698216382350977\n",
      "0.2287338431704109\n",
      "0.15827502972729035\n",
      "0.037843010346089036\n",
      "0.03148153535917988\n"
     ]
    },
    {
     "name": "stderr",
     "output_type": "stream",
     "text": [
      "\r",
      "3it [00:05,  1.88s/it]"
     ]
    },
    {
     "name": "stdout",
     "output_type": "stream",
     "text": [
      "0.047192590755544495\n",
      "0.05584505980560977\n",
      "0.008119872689063097\n",
      "0.14084938431085303\n",
      "0.046581513831853896\n"
     ]
    },
    {
     "name": "stderr",
     "output_type": "stream",
     "text": [
      "\r",
      "4it [00:07,  1.89s/it]"
     ]
    },
    {
     "name": "stdout",
     "output_type": "stream",
     "text": [
      "0.01951908074011878\n",
      "0.026512967480233608\n",
      "0.030604348125889795\n",
      "0.06001753766498027\n",
      "0.17407640678108494\n"
     ]
    },
    {
     "name": "stderr",
     "output_type": "stream",
     "text": [
      "\r",
      "5it [00:09,  1.89s/it]"
     ]
    },
    {
     "name": "stdout",
     "output_type": "stream",
     "text": [
      "0.21828672413003314\n",
      "0.047069181878591146\n",
      "0.010888392986574095\n",
      "0.07443277639459758\n",
      "0.059114478770161114\n"
     ]
    },
    {
     "name": "stderr",
     "output_type": "stream",
     "text": [
      "\r",
      "6it [00:11,  1.89s/it]"
     ]
    },
    {
     "name": "stdout",
     "output_type": "stream",
     "text": [
      "0.026239681855196068\n",
      "0.16837496936973986\n",
      "0.07465098854766306\n",
      "0.0406919643281557\n",
      "0.03456431283908617\n"
     ]
    },
    {
     "name": "stderr",
     "output_type": "stream",
     "text": [
      "\r",
      "7it [00:13,  1.89s/it]"
     ]
    },
    {
     "name": "stdout",
     "output_type": "stream",
     "text": [
      "0.18512517534965678\n",
      "0.08576489895232889\n",
      "0.07963536534271229\n",
      "0.016089068075488357\n",
      "0.03500924854242988\n"
     ]
    },
    {
     "name": "stderr",
     "output_type": "stream",
     "text": [
      "\r",
      "8it [00:15,  1.89s/it]"
     ]
    },
    {
     "name": "stdout",
     "output_type": "stream",
     "text": [
      "0.13767774064580293\n",
      "0.032128638296332744\n",
      "0.07553704501144907\n",
      "0.006426505934818647\n",
      "0.03284829958913309\n"
     ]
    },
    {
     "name": "stderr",
     "output_type": "stream",
     "text": [
      "\r",
      "9it [00:16,  1.88s/it]"
     ]
    },
    {
     "name": "stdout",
     "output_type": "stream",
     "text": [
      "0.006356132963014582\n",
      "0.1507655900214457\n",
      "0.09687541432186406\n",
      "0.07548582882227042\n",
      "0.051111829463667616\n"
     ]
    },
    {
     "name": "stderr",
     "output_type": "stream",
     "text": [
      "\r",
      "10it [00:18,  1.88s/it]"
     ]
    },
    {
     "name": "stdout",
     "output_type": "stream",
     "text": [
      "0.18222541930378408\n",
      "0.04834195800157651\n",
      "0.15146765519993158\n",
      "0.01505416838760057\n",
      "0.029501807404114885\n"
     ]
    },
    {
     "name": "stderr",
     "output_type": "stream",
     "text": [
      "\r",
      "11it [00:20,  1.88s/it]"
     ]
    },
    {
     "name": "stdout",
     "output_type": "stream",
     "text": [
      "0.20368913249535117\n",
      "0.062110180321867076\n",
      "0.017391158346756273\n",
      "0.05843210164154282\n",
      "0.07980004514687784\n"
     ]
    },
    {
     "name": "stderr",
     "output_type": "stream",
     "text": [
      "\r",
      "12it [00:22,  1.87s/it]"
     ]
    },
    {
     "name": "stdout",
     "output_type": "stream",
     "text": [
      "0.056382909648204596\n",
      "0.13829746282189073\n",
      "0.08318693846094063\n",
      "0.07755803804150688\n",
      "0.06019071095201738\n"
     ]
    },
    {
     "name": "stderr",
     "output_type": "stream",
     "text": [
      "\r",
      "13it [00:24,  1.87s/it]"
     ]
    },
    {
     "name": "stdout",
     "output_type": "stream",
     "text": [
      "0.027090524204729863\n",
      "0.11570359195769289\n",
      "0.040303057794251876\n",
      "0.018921108988161885\n",
      "0.11201454858000158\n"
     ]
    },
    {
     "name": "stderr",
     "output_type": "stream",
     "text": [
      "\r",
      "14it [00:26,  1.87s/it]"
     ]
    },
    {
     "name": "stdout",
     "output_type": "stream",
     "text": [
      "0.04972149329531503\n",
      "0.015110244557201544\n",
      "0.14009147238461747\n",
      "0.021852779937351567\n",
      "0.14329113276588992\n"
     ]
    },
    {
     "name": "stderr",
     "output_type": "stream",
     "text": [
      "\r",
      "15it [00:28,  1.88s/it]"
     ]
    },
    {
     "name": "stdout",
     "output_type": "stream",
     "text": [
      "0.1688346110515843\n",
      "0.23991041932433352\n",
      "0.22316502169989458\n",
      "0.24062036422129038\n",
      "0.12241072499982553\n"
     ]
    },
    {
     "name": "stderr",
     "output_type": "stream",
     "text": [
      "\r",
      "16it [00:30,  1.88s/it]"
     ]
    },
    {
     "name": "stdout",
     "output_type": "stream",
     "text": [
      "0.03199395966461773\n",
      "0.005020303345300285\n",
      "0.2039022936592855\n",
      "0.07551236311572528\n",
      "0.0479345077034273\n"
     ]
    },
    {
     "name": "stderr",
     "output_type": "stream",
     "text": [
      "\r",
      "17it [00:32,  1.89s/it]"
     ]
    },
    {
     "name": "stdout",
     "output_type": "stream",
     "text": [
      "0.11114830969339184\n",
      "0.09211973729360677\n",
      "0.18273150679477576\n",
      "0.11385424018802928\n",
      "0.17343715776607782\n"
     ]
    },
    {
     "name": "stderr",
     "output_type": "stream",
     "text": [
      "\r",
      "18it [00:33,  1.88s/it]"
     ]
    },
    {
     "name": "stdout",
     "output_type": "stream",
     "text": [
      "0.34995697591851327\n",
      "0.18412725657086412\n",
      "0.05248859775078746\n",
      "0.07846907022367286\n",
      "0.0886924617385815\n"
     ]
    },
    {
     "name": "stderr",
     "output_type": "stream",
     "text": [
      "\r",
      "19it [00:35,  1.89s/it]"
     ]
    },
    {
     "name": "stdout",
     "output_type": "stream",
     "text": [
      "0.07814434190753514\n",
      "0.16441701778909548\n",
      "0.02951607632557155\n",
      "0.15090155919690698\n",
      "0.09178208746264473\n"
     ]
    },
    {
     "name": "stderr",
     "output_type": "stream",
     "text": [
      "\r",
      "20it [00:37,  1.88s/it]"
     ]
    },
    {
     "name": "stdout",
     "output_type": "stream",
     "text": [
      "0.2872678531705274\n",
      "0.20110251740167057\n",
      "0.08219256708733581\n",
      "0.0012074761941862355\n",
      "0.01215771704184164\n"
     ]
    },
    {
     "name": "stderr",
     "output_type": "stream",
     "text": [
      "\r",
      "21it [00:39,  1.90s/it]"
     ]
    },
    {
     "name": "stdout",
     "output_type": "stream",
     "text": [
      "0.23370815948341453\n",
      "0.24465701890228964\n",
      "0.07412168488346227\n",
      "0.29718674762048775\n",
      "0.11294442752905358\n"
     ]
    },
    {
     "name": "stderr",
     "output_type": "stream",
     "text": [
      "\r",
      "22it [00:41,  1.89s/it]"
     ]
    },
    {
     "name": "stdout",
     "output_type": "stream",
     "text": [
      "0.2068980935516811\n",
      "0.1827653739448839\n",
      "0.0840089777227742\n",
      "0.25233973718606834\n",
      "0.05624728254504548\n"
     ]
    },
    {
     "name": "stderr",
     "output_type": "stream",
     "text": [
      "\r",
      "23it [00:43,  1.88s/it]"
     ]
    },
    {
     "name": "stdout",
     "output_type": "stream",
     "text": [
      "0.202766797375661\n",
      "0.18260667579172996\n",
      "0.11784593799605914\n",
      "0.045892044883443894\n",
      "0.08668434696230858\n"
     ]
    },
    {
     "name": "stderr",
     "output_type": "stream",
     "text": [
      "\r",
      "24it [00:45,  1.88s/it]"
     ]
    },
    {
     "name": "stdout",
     "output_type": "stream",
     "text": [
      "0.13889669173411834\n",
      "0.02733950260028288\n",
      "0.1770550913178929\n",
      "0.2334193986956979\n",
      "0.030427123206372003\n"
     ]
    },
    {
     "name": "stderr",
     "output_type": "stream",
     "text": [
      "\r",
      "25it [00:47,  1.88s/it]"
     ]
    },
    {
     "name": "stdout",
     "output_type": "stream",
     "text": [
      "0.27601425615349845\n",
      "0.2852106921569928\n",
      "0.04080608882125916\n",
      "0.18621084011917138\n",
      "0.04255094975950674\n"
     ]
    },
    {
     "name": "stderr",
     "output_type": "stream",
     "text": [
      "\r",
      "26it [00:48,  1.89s/it]"
     ]
    },
    {
     "name": "stdout",
     "output_type": "stream",
     "text": [
      "0.13535560540681482\n",
      "0.21311189994911958\n",
      "0.17635493635002442\n",
      "0.13106112722361785\n",
      "0.06682315060123825\n"
     ]
    },
    {
     "name": "stderr",
     "output_type": "stream",
     "text": [
      "\r",
      "27it [00:50,  1.89s/it]"
     ]
    },
    {
     "name": "stdout",
     "output_type": "stream",
     "text": [
      "0.31814796334616996\n",
      "0.1098224829437133\n",
      "0.07812939384117301\n",
      "0.17647816390215712\n",
      "0.15563477230901118\n"
     ]
    },
    {
     "name": "stderr",
     "output_type": "stream",
     "text": [
      "\r",
      "28it [00:52,  1.89s/it]"
     ]
    },
    {
     "name": "stdout",
     "output_type": "stream",
     "text": [
      "0.04309657582430844\n",
      "0.008968051394945664\n",
      "0.023593219194199072\n",
      "0.2692439173144046\n",
      "0.12573380184823785\n"
     ]
    },
    {
     "name": "stderr",
     "output_type": "stream",
     "text": [
      "\r",
      "29it [00:54,  1.89s/it]"
     ]
    },
    {
     "name": "stdout",
     "output_type": "stream",
     "text": [
      "0.18539624696268944\n",
      "0.11545980790200511\n",
      "0.24581042106464884\n",
      "0.1889900291158967\n",
      "0.26976137481995727\n"
     ]
    },
    {
     "name": "stderr",
     "output_type": "stream",
     "text": [
      "\r",
      "30it [00:56,  1.89s/it]"
     ]
    },
    {
     "name": "stdout",
     "output_type": "stream",
     "text": [
      "0.08926595813432843\n",
      "0.09227962369430574\n",
      "0.13450421370754567\n",
      "0.22827688470716018\n",
      "0.13425649780739568\n"
     ]
    },
    {
     "name": "stderr",
     "output_type": "stream",
     "text": [
      "\r",
      "31it [00:58,  1.89s/it]"
     ]
    },
    {
     "name": "stdout",
     "output_type": "stream",
     "text": [
      "0.2825938484276185\n",
      "0.09968308534493596\n",
      "0.32648834836258955\n",
      "0.20553820248751806\n",
      "0.15181056284818978\n"
     ]
    },
    {
     "name": "stderr",
     "output_type": "stream",
     "text": [
      "\r",
      "32it [01:00,  1.88s/it]"
     ]
    },
    {
     "name": "stdout",
     "output_type": "stream",
     "text": [
      "0.14997847684752028\n",
      "0.015129978531003063\n",
      "0.21215463772050044\n",
      "0.20886791696790724\n",
      "0.1009426805259113\n"
     ]
    },
    {
     "name": "stderr",
     "output_type": "stream",
     "text": [
      "\r",
      "33it [01:02,  1.88s/it]"
     ]
    },
    {
     "name": "stdout",
     "output_type": "stream",
     "text": [
      "0.07342812476204187\n",
      "0.29179883776791293\n",
      "0.21115757641437322\n",
      "0.16352792414976441\n",
      "0.2910037751028117\n"
     ]
    },
    {
     "name": "stderr",
     "output_type": "stream",
     "text": [
      "\r",
      "34it [01:04,  1.88s/it]"
     ]
    },
    {
     "name": "stdout",
     "output_type": "stream",
     "text": [
      "0.02352267651208345\n",
      "0.03794850826531418\n",
      "0.22475528756774765\n",
      "0.05700597884765532\n",
      "0.11923950734980102\n"
     ]
    },
    {
     "name": "stderr",
     "output_type": "stream",
     "text": [
      "\r",
      "35it [01:05,  1.89s/it]"
     ]
    },
    {
     "name": "stdout",
     "output_type": "stream",
     "text": [
      "0.027370790243656712\n",
      "0.16927987584558676\n",
      "0.26152145610805055\n",
      "0.08578989139953443\n",
      "0.17989873794568254\n"
     ]
    },
    {
     "name": "stderr",
     "output_type": "stream",
     "text": [
      "\r",
      "36it [01:07,  1.88s/it]"
     ]
    },
    {
     "name": "stdout",
     "output_type": "stream",
     "text": [
      "0.08206653368702037\n",
      "0.07913179659969236\n",
      "0.05014807532845936\n",
      "0.021610865208151614\n",
      "0.18594149955455536\n"
     ]
    },
    {
     "name": "stderr",
     "output_type": "stream",
     "text": [
      "\r",
      "37it [01:09,  1.89s/it]"
     ]
    },
    {
     "name": "stdout",
     "output_type": "stream",
     "text": [
      "0.13584958651110535\n",
      "0.10672676970476053\n",
      "0.21151527903050138\n",
      "0.05431689934004884\n",
      "0.18106698158805182\n"
     ]
    },
    {
     "name": "stderr",
     "output_type": "stream",
     "text": [
      "\r",
      "38it [01:11,  1.89s/it]"
     ]
    },
    {
     "name": "stdout",
     "output_type": "stream",
     "text": [
      "0.31620979516447467\n",
      "0.2048083100261568\n",
      "0.30271859462364153\n",
      "0.21646502750239036\n",
      "0.024415475055367675\n"
     ]
    },
    {
     "name": "stderr",
     "output_type": "stream",
     "text": [
      "\r",
      "39it [01:13,  1.89s/it]"
     ]
    },
    {
     "name": "stdout",
     "output_type": "stream",
     "text": [
      "0.24851249635732636\n",
      "0.2149197884882328\n",
      "0.07536081443688379\n",
      "0.110872904201833\n",
      "0.3472166491874761\n"
     ]
    },
    {
     "name": "stderr",
     "output_type": "stream",
     "text": [
      "\r",
      "40it [01:15,  1.88s/it]"
     ]
    },
    {
     "name": "stdout",
     "output_type": "stream",
     "text": [
      "0.42598287175577987\n",
      "0.08472949653416942\n",
      "0.15005088761121155\n",
      "0.21428997821514276\n",
      "0.1652922750623026\n"
     ]
    },
    {
     "name": "stderr",
     "output_type": "stream",
     "text": [
      "\r",
      "41it [01:17,  1.89s/it]"
     ]
    },
    {
     "name": "stdout",
     "output_type": "stream",
     "text": [
      "0.16347143584864146\n",
      "0.135474646963092\n",
      "0.18979103022673488\n",
      "0.1684603061846476\n",
      "0.17995057657176178\n"
     ]
    },
    {
     "name": "stderr",
     "output_type": "stream",
     "text": [
      "\r",
      "42it [01:19,  1.89s/it]"
     ]
    },
    {
     "name": "stdout",
     "output_type": "stream",
     "text": [
      "0.19732889761483552\n",
      "0.2780931848886713\n",
      "0.19872918478928664\n",
      "0.051847944147506764\n",
      "0.29348915664679587\n"
     ]
    },
    {
     "name": "stderr",
     "output_type": "stream",
     "text": [
      "\r",
      "43it [01:21,  1.89s/it]"
     ]
    },
    {
     "name": "stdout",
     "output_type": "stream",
     "text": [
      "0.17936941324747507\n",
      "0.21095847296057774\n",
      "0.1851229247474812\n",
      "0.4204139076972814\n",
      "0.25501397705314555\n"
     ]
    },
    {
     "name": "stderr",
     "output_type": "stream",
     "text": [
      "\r",
      "44it [01:22,  1.89s/it]"
     ]
    },
    {
     "name": "stdout",
     "output_type": "stream",
     "text": [
      "0.2344472795936608\n",
      "0.4748893100499766\n",
      "0.1720728402177066\n",
      "0.1391585734765513\n",
      "0.269501340901097\n"
     ]
    },
    {
     "name": "stderr",
     "output_type": "stream",
     "text": [
      "\r",
      "45it [01:24,  1.89s/it]"
     ]
    },
    {
     "name": "stdout",
     "output_type": "stream",
     "text": [
      "0.271251982274143\n",
      "0.12706657521309145\n",
      "0.3841925166948903\n",
      "0.22345977763049932\n",
      "0.2495927243488934\n"
     ]
    },
    {
     "name": "stderr",
     "output_type": "stream",
     "text": [
      "\r",
      "46it [01:26,  1.89s/it]"
     ]
    },
    {
     "name": "stdout",
     "output_type": "stream",
     "text": [
      "0.06728819066221176\n",
      "0.23462279539562597\n",
      "0.06574761633164461\n",
      "0.20794974973582725\n",
      "0.1546156043132893\n"
     ]
    },
    {
     "name": "stderr",
     "output_type": "stream",
     "text": [
      "\r",
      "47it [01:28,  1.89s/it]"
     ]
    },
    {
     "name": "stdout",
     "output_type": "stream",
     "text": [
      "0.09900659167746634\n",
      "0.09791321809098019\n",
      "0.2865155654486267\n",
      "0.06051102558057994\n",
      "0.25184241854658984\n"
     ]
    },
    {
     "name": "stderr",
     "output_type": "stream",
     "text": [
      "\r",
      "48it [01:30,  1.88s/it]"
     ]
    },
    {
     "name": "stdout",
     "output_type": "stream",
     "text": [
      "0.44675750731056874\n",
      "0.15058773630027694\n",
      "0.3086356290997247\n",
      "0.033483522191874476\n",
      "0.19513664948092524\n"
     ]
    },
    {
     "name": "stderr",
     "output_type": "stream",
     "text": [
      "\r",
      "49it [01:32,  1.89s/it]"
     ]
    },
    {
     "name": "stdout",
     "output_type": "stream",
     "text": [
      "0.10052631434304768\n",
      "0.17798139965234838\n",
      "0.36330802071730817\n",
      "0.1495672923207564\n",
      "0.24014936494619107\n"
     ]
    },
    {
     "name": "stderr",
     "output_type": "stream",
     "text": [
      "\r",
      "50it [01:34,  1.89s/it]"
     ]
    },
    {
     "name": "stdout",
     "output_type": "stream",
     "text": [
      "0.2938350773762181\n",
      "0.17705804118067242\n",
      "0.45924935826625357\n",
      "0.4669932817975329\n",
      "0.25641413838646476\n"
     ]
    },
    {
     "name": "stderr",
     "output_type": "stream",
     "text": [
      "\r",
      "51it [01:36,  1.89s/it]"
     ]
    },
    {
     "name": "stdout",
     "output_type": "stream",
     "text": [
      "0.3315368756051199\n",
      "0.10662183638189238\n",
      "0.343516235882101\n",
      "0.3464756162372912\n",
      "0.34906456940384334\n"
     ]
    },
    {
     "name": "stderr",
     "output_type": "stream",
     "text": [
      "\r",
      "52it [01:38,  1.89s/it]"
     ]
    },
    {
     "name": "stdout",
     "output_type": "stream",
     "text": [
      "0.17744617824056452\n",
      "0.3185406853581854\n",
      "0.25833851068752667\n",
      "0.326117858191628\n",
      "0.23011392475959794\n"
     ]
    },
    {
     "name": "stderr",
     "output_type": "stream",
     "text": [
      "\r",
      "53it [01:39,  1.89s/it]"
     ]
    },
    {
     "name": "stdout",
     "output_type": "stream",
     "text": [
      "0.2930969991360701\n",
      "0.27149599735872837\n",
      "0.3559130320673861\n",
      "0.17680386433916284\n",
      "0.30392598736293003\n"
     ]
    },
    {
     "name": "stderr",
     "output_type": "stream",
     "text": [
      "\r",
      "54it [01:41,  1.90s/it]"
     ]
    },
    {
     "name": "stdout",
     "output_type": "stream",
     "text": [
      "0.2837962052655591\n",
      "0.41558482806655594\n",
      "0.26342996782987804\n",
      "0.22598333879175375\n",
      "0.4736212784399914\n"
     ]
    },
    {
     "name": "stderr",
     "output_type": "stream",
     "text": [
      "\r",
      "55it [01:43,  1.91s/it]"
     ]
    },
    {
     "name": "stdout",
     "output_type": "stream",
     "text": [
      "0.3912094694848318\n",
      "0.26679572536969215\n",
      "0.42389173043314565\n",
      "0.16801150816949523\n",
      "0.2863958117280435\n"
     ]
    },
    {
     "name": "stderr",
     "output_type": "stream",
     "text": [
      "\r",
      "56it [01:45,  1.91s/it]"
     ]
    },
    {
     "name": "stdout",
     "output_type": "stream",
     "text": [
      "0.16558832213815688\n",
      "0.2076089591499496\n",
      "0.2437363774373443\n",
      "0.4104358284947187\n",
      "0.20957995489693568\n"
     ]
    },
    {
     "name": "stderr",
     "output_type": "stream",
     "text": [
      "\r",
      "57it [01:47,  1.91s/it]"
     ]
    },
    {
     "name": "stdout",
     "output_type": "stream",
     "text": [
      "0.24442761282846628\n",
      "0.17440468775348963\n",
      "0.2933732906579424\n",
      "0.18406597694790658\n",
      "0.29348396584932857\n"
     ]
    },
    {
     "name": "stderr",
     "output_type": "stream",
     "text": [
      "\r",
      "58it [01:49,  1.90s/it]"
     ]
    },
    {
     "name": "stdout",
     "output_type": "stream",
     "text": [
      "0.2594804073390392\n",
      "0.0025197793715324157\n",
      "0.2859950876858246\n",
      "0.4119878753862545\n",
      "0.026771661767915317\n"
     ]
    },
    {
     "name": "stderr",
     "output_type": "stream",
     "text": [
      "\r",
      "59it [01:51,  1.89s/it]"
     ]
    },
    {
     "name": "stdout",
     "output_type": "stream",
     "text": [
      "0.29719538112859023\n",
      "0.3010709420911026\n",
      "0.3134729918480029\n",
      "0.12858111786898865\n",
      "0.3673131981378387\n"
     ]
    },
    {
     "name": "stderr",
     "output_type": "stream",
     "text": [
      "\r",
      "60it [01:53,  1.90s/it]"
     ]
    },
    {
     "name": "stdout",
     "output_type": "stream",
     "text": [
      "0.19170830624704482\n",
      "0.39863794920380224\n",
      "0.30489233960238965\n",
      "0.3977334849074492\n",
      "0.08993547615903802\n"
     ]
    },
    {
     "name": "stderr",
     "output_type": "stream",
     "text": [
      "\r",
      "61it [01:55,  1.90s/it]"
     ]
    },
    {
     "name": "stdout",
     "output_type": "stream",
     "text": [
      "0.22776732239367137\n",
      "0.37224340332117706\n",
      "0.29978452091787616\n",
      "0.3326044378199851\n",
      "0.44298259094924636\n"
     ]
    },
    {
     "name": "stderr",
     "output_type": "stream",
     "text": [
      "\r",
      "62it [01:57,  1.91s/it]"
     ]
    },
    {
     "name": "stdout",
     "output_type": "stream",
     "text": [
      "0.3127306435652765\n",
      "0.4501088517486488\n",
      "0.16923105352505358\n",
      "0.37290763130000854\n",
      "0.22945896538443583\n"
     ]
    },
    {
     "name": "stderr",
     "output_type": "stream",
     "text": [
      "\r",
      "63it [01:59,  1.90s/it]"
     ]
    },
    {
     "name": "stdout",
     "output_type": "stream",
     "text": [
      "0.7018295645673847\n",
      "0.3140860722898193\n",
      "0.39996517721929326\n",
      "0.33717753617887647\n",
      "0.20397093389121618\n"
     ]
    },
    {
     "name": "stderr",
     "output_type": "stream",
     "text": [
      "\r",
      "64it [02:00,  1.90s/it]"
     ]
    },
    {
     "name": "stdout",
     "output_type": "stream",
     "text": [
      "0.3089356023702325\n",
      "0.3298080900870388\n",
      "0.3200480781646126\n",
      "0.3184161046335745\n",
      "0.3179702405063512\n"
     ]
    },
    {
     "name": "stderr",
     "output_type": "stream",
     "text": [
      "\r",
      "65it [02:02,  1.90s/it]"
     ]
    },
    {
     "name": "stdout",
     "output_type": "stream",
     "text": [
      "0.42759996220923074\n",
      "0.43136210887688003\n",
      "0.36925360955109315\n",
      "0.3917871757863565\n",
      "0.40711468687329205\n"
     ]
    },
    {
     "name": "stderr",
     "output_type": "stream",
     "text": [
      "\r",
      "66it [02:04,  1.90s/it]"
     ]
    },
    {
     "name": "stdout",
     "output_type": "stream",
     "text": [
      "0.2624126320128921\n",
      "0.3787179277293825\n",
      "0.2541308392340874\n",
      "0.33486426998075275\n",
      "0.441026096292629\n"
     ]
    },
    {
     "name": "stderr",
     "output_type": "stream",
     "text": [
      "\r",
      "67it [02:06,  1.90s/it]"
     ]
    },
    {
     "name": "stdout",
     "output_type": "stream",
     "text": [
      "0.368195112660882\n",
      "0.22080701138549286\n",
      "0.25684975952215455\n",
      "0.34784489447212574\n",
      "0.46068774914651645\n"
     ]
    },
    {
     "name": "stderr",
     "output_type": "stream",
     "text": [
      "\r",
      "68it [02:08,  1.90s/it]"
     ]
    },
    {
     "name": "stdout",
     "output_type": "stream",
     "text": [
      "0.2635077113402855\n",
      "0.4889501172400258\n",
      "0.23581795890006108\n",
      "0.34120987263964353\n",
      "0.437448843460442\n"
     ]
    },
    {
     "name": "stderr",
     "output_type": "stream",
     "text": [
      "\r",
      "69it [02:10,  1.90s/it]"
     ]
    },
    {
     "name": "stdout",
     "output_type": "stream",
     "text": [
      "0.24230056706785394\n",
      "0.29743245921524786\n",
      "0.2901740283444813\n",
      "0.21825190248819787\n",
      "0.23043522245079523\n"
     ]
    },
    {
     "name": "stderr",
     "output_type": "stream",
     "text": [
      "\r",
      "70it [02:12,  1.90s/it]"
     ]
    },
    {
     "name": "stdout",
     "output_type": "stream",
     "text": [
      "0.4229311978275154\n",
      "0.37632399842272757\n",
      "0.5712588264097636\n",
      "0.3700167178841893\n",
      "0.28770614478252243\n"
     ]
    },
    {
     "name": "stderr",
     "output_type": "stream",
     "text": [
      "\r",
      "71it [02:14,  1.92s/it]"
     ]
    },
    {
     "name": "stdout",
     "output_type": "stream",
     "text": [
      "0.5495455422513353\n",
      "0.40686983384810027\n",
      "0.31310104718697324\n",
      "0.4108552197298208\n",
      "0.24157506739015358\n"
     ]
    },
    {
     "name": "stderr",
     "output_type": "stream",
     "text": [
      "\r",
      "72it [02:16,  1.91s/it]"
     ]
    },
    {
     "name": "stdout",
     "output_type": "stream",
     "text": [
      "0.34218095273617927\n",
      "0.5409104292297651\n",
      "0.2440054174000195\n",
      "0.3628728938684955\n",
      "0.249416482734405\n"
     ]
    },
    {
     "name": "stderr",
     "output_type": "stream",
     "text": [
      "\r",
      "73it [02:18,  1.91s/it]"
     ]
    },
    {
     "name": "stdout",
     "output_type": "stream",
     "text": [
      "0.42401944794445606\n",
      "0.45613649455786826\n",
      "0.5010707395232874\n",
      "0.4193206579428975\n",
      "0.2974736938891489\n"
     ]
    },
    {
     "name": "stderr",
     "output_type": "stream",
     "text": [
      "\r",
      "74it [02:19,  1.90s/it]"
     ]
    },
    {
     "name": "stdout",
     "output_type": "stream",
     "text": [
      "0.5223532937924993\n",
      "0.34303875933839634\n",
      "0.3752129857671149\n",
      "0.34348248524777053\n",
      "0.3854733992319079\n"
     ]
    },
    {
     "name": "stderr",
     "output_type": "stream",
     "text": [
      "\r",
      "75it [02:21,  1.90s/it]"
     ]
    },
    {
     "name": "stdout",
     "output_type": "stream",
     "text": [
      "0.4436193827166841\n",
      "0.4462706949574285\n",
      "0.3523327331290879\n",
      "0.5580569244217997\n",
      "0.3091462380843641\n"
     ]
    },
    {
     "name": "stderr",
     "output_type": "stream",
     "text": [
      "\r",
      "76it [02:23,  1.90s/it]"
     ]
    },
    {
     "name": "stdout",
     "output_type": "stream",
     "text": [
      "0.327053902946155\n",
      "0.3348389932554286\n",
      "0.5414290945132427\n",
      "0.3662253407393672\n",
      "0.5102418808221253\n"
     ]
    },
    {
     "name": "stderr",
     "output_type": "stream",
     "text": [
      "\r",
      "77it [02:25,  1.90s/it]"
     ]
    },
    {
     "name": "stdout",
     "output_type": "stream",
     "text": [
      "0.3357523671266621\n",
      "0.38507409398601283\n",
      "0.39283600748684344\n",
      "0.5275216264030369\n",
      "0.26018371255653283\n"
     ]
    },
    {
     "name": "stderr",
     "output_type": "stream",
     "text": [
      "\r",
      "78it [02:27,  1.90s/it]"
     ]
    },
    {
     "name": "stdout",
     "output_type": "stream",
     "text": [
      "0.4262233964715289\n",
      "0.5296992573549485\n",
      "0.2731570264142382\n",
      "0.4678691739163029\n",
      "0.4798067154845329\n"
     ]
    },
    {
     "name": "stderr",
     "output_type": "stream",
     "text": [
      "\r",
      "79it [02:29,  1.89s/it]"
     ]
    },
    {
     "name": "stdout",
     "output_type": "stream",
     "text": [
      "0.24018399704462734\n",
      "0.36826871963567037\n",
      "0.32886053677955807\n",
      "0.3732685995748655\n",
      "0.3603280595033986\n"
     ]
    },
    {
     "name": "stderr",
     "output_type": "stream",
     "text": [
      "\r",
      "80it [02:31,  1.92s/it]"
     ]
    },
    {
     "name": "stdout",
     "output_type": "stream",
     "text": [
      "0.4741257156594233\n",
      "0.31805155604483465\n",
      "0.43625005270875217\n",
      "0.29997015705341235\n",
      "0.3622257838159644\n"
     ]
    },
    {
     "name": "stderr",
     "output_type": "stream",
     "text": [
      "\r",
      "81it [02:33,  1.92s/it]"
     ]
    },
    {
     "name": "stdout",
     "output_type": "stream",
     "text": [
      "0.39359663877295903\n",
      "0.526776006108221\n",
      "0.3853019362916511\n",
      "0.47330605624797545\n",
      "0.3649180224731037\n"
     ]
    },
    {
     "name": "stderr",
     "output_type": "stream",
     "text": [
      "\r",
      "82it [02:35,  1.92s/it]"
     ]
    },
    {
     "name": "stdout",
     "output_type": "stream",
     "text": [
      "0.35267368649944814\n",
      "0.1493119003848573\n",
      "0.6011408391075566\n",
      "0.46511447863592387\n",
      "0.4537851180954659\n"
     ]
    },
    {
     "name": "stderr",
     "output_type": "stream",
     "text": [
      "\r",
      "83it [02:37,  1.92s/it]"
     ]
    },
    {
     "name": "stdout",
     "output_type": "stream",
     "text": [
      "0.47101016698347226\n",
      "0.4131487602454228\n",
      "0.3336395823411075\n",
      "0.3351294599847042\n",
      "0.42439039833606507\n"
     ]
    },
    {
     "name": "stderr",
     "output_type": "stream",
     "text": [
      "\r",
      "84it [02:39,  1.92s/it]"
     ]
    },
    {
     "name": "stdout",
     "output_type": "stream",
     "text": [
      "0.38889207524687736\n",
      "0.4555037102987348\n",
      "0.35502162910715196\n",
      "0.3637726637842801\n",
      "0.6254922740829162\n"
     ]
    },
    {
     "name": "stderr",
     "output_type": "stream",
     "text": [
      "\r",
      "85it [02:40,  1.92s/it]"
     ]
    },
    {
     "name": "stdout",
     "output_type": "stream",
     "text": [
      "0.5364339681238963\n",
      "0.18591546746317045\n",
      "0.3605821412058185\n",
      "0.37734674160137666\n",
      "0.4471537366184261\n"
     ]
    },
    {
     "name": "stderr",
     "output_type": "stream",
     "text": [
      "\r",
      "86it [02:42,  1.90s/it]"
     ]
    },
    {
     "name": "stdout",
     "output_type": "stream",
     "text": [
      "0.3777915667581855\n",
      "0.38200360511548126\n",
      "0.7001866939875195\n",
      "0.5114436980175265\n",
      "0.48831255879890184\n"
     ]
    },
    {
     "name": "stderr",
     "output_type": "stream",
     "text": [
      "\r",
      "87it [02:44,  1.91s/it]"
     ]
    },
    {
     "name": "stdout",
     "output_type": "stream",
     "text": [
      "0.46121611842438426\n",
      "0.488361798840957\n",
      "0.4460077246025722\n",
      "0.40892660879100073\n",
      "0.5181689302236298\n"
     ]
    },
    {
     "name": "stderr",
     "output_type": "stream",
     "text": [
      "\r",
      "88it [02:46,  1.90s/it]"
     ]
    },
    {
     "name": "stdout",
     "output_type": "stream",
     "text": [
      "0.4297857197163052\n",
      "0.3755730429291181\n",
      "0.4643156510277916\n",
      "0.4482934513451663\n",
      "0.4090121700113075\n"
     ]
    },
    {
     "name": "stderr",
     "output_type": "stream",
     "text": [
      "\r",
      "89it [02:48,  1.89s/it]"
     ]
    },
    {
     "name": "stdout",
     "output_type": "stream",
     "text": [
      "0.551454930269786\n",
      "0.37604599808032496\n",
      "0.4625895664097102\n",
      "0.36578139575952084\n",
      "0.4799834510918036\n"
     ]
    },
    {
     "name": "stderr",
     "output_type": "stream",
     "text": [
      "\r",
      "90it [02:50,  1.89s/it]"
     ]
    },
    {
     "name": "stdout",
     "output_type": "stream",
     "text": [
      "0.6282181039793981\n",
      "0.4085960724715888\n",
      "0.6665617761513332\n",
      "0.434459087595467\n",
      "0.44705883636229926\n"
     ]
    },
    {
     "name": "stderr",
     "output_type": "stream",
     "text": [
      "\r",
      "91it [02:52,  1.89s/it]"
     ]
    },
    {
     "name": "stdout",
     "output_type": "stream",
     "text": [
      "0.41187344402882525\n",
      "0.44205809562622733\n",
      "0.6226746775769129\n",
      "0.5228185359848232\n",
      "0.5696262969698207\n"
     ]
    },
    {
     "name": "stderr",
     "output_type": "stream",
     "text": [
      "\r",
      "92it [02:54,  1.88s/it]"
     ]
    },
    {
     "name": "stdout",
     "output_type": "stream",
     "text": [
      "0.49858731982862003\n",
      "0.5576862925509116\n",
      "0.5066658305643496\n",
      "0.655799383394741\n",
      "0.4570543515054283\n"
     ]
    },
    {
     "name": "stderr",
     "output_type": "stream",
     "text": [
      "\r",
      "93it [02:56,  1.88s/it]"
     ]
    },
    {
     "name": "stdout",
     "output_type": "stream",
     "text": [
      "0.3267282879925152\n",
      "0.4686120574102567\n",
      "0.5505345429095455\n",
      "0.4902530339092771\n",
      "0.6155115034033949\n"
     ]
    },
    {
     "name": "stderr",
     "output_type": "stream",
     "text": [
      "\r",
      "94it [02:57,  1.88s/it]"
     ]
    },
    {
     "name": "stdout",
     "output_type": "stream",
     "text": [
      "0.3294215653193858\n",
      "0.48741979631399907\n",
      "0.4860314322487437\n",
      "0.38178364338678467\n",
      "0.38314323999786704\n"
     ]
    },
    {
     "name": "stderr",
     "output_type": "stream",
     "text": [
      "\r",
      "95it [02:59,  1.90s/it]"
     ]
    },
    {
     "name": "stdout",
     "output_type": "stream",
     "text": [
      "0.4081703405733175\n",
      "0.465522424422232\n",
      "0.4600962264234541\n",
      "0.4746863762690522\n",
      "0.48938033798557745\n"
     ]
    },
    {
     "name": "stderr",
     "output_type": "stream",
     "text": [
      "\r",
      "96it [03:01,  1.90s/it]"
     ]
    },
    {
     "name": "stdout",
     "output_type": "stream",
     "text": [
      "0.6529024703168699\n",
      "0.5068114745292488\n",
      "0.43947108899213483\n",
      "0.4041596227469387\n",
      "0.5061988425323387\n"
     ]
    },
    {
     "name": "stderr",
     "output_type": "stream",
     "text": [
      "\r",
      "97it [03:03,  1.89s/it]"
     ]
    },
    {
     "name": "stdout",
     "output_type": "stream",
     "text": [
      "0.38692158228516027\n",
      "0.4187941208343381\n",
      "0.5293529485807846\n",
      "0.3652040362880885\n",
      "0.3729623360636103\n"
     ]
    },
    {
     "name": "stderr",
     "output_type": "stream",
     "text": [
      "\r",
      "98it [03:05,  1.88s/it]"
     ]
    },
    {
     "name": "stdout",
     "output_type": "stream",
     "text": [
      "0.4705346641235222\n",
      "0.49819067717857624\n",
      "0.46805210417410203\n",
      "0.4355684274275198\n",
      "0.5841365903735201\n"
     ]
    },
    {
     "name": "stderr",
     "output_type": "stream",
     "text": [
      "\r",
      "99it [03:07,  1.88s/it]"
     ]
    },
    {
     "name": "stdout",
     "output_type": "stream",
     "text": [
      "0.46335882238377285\n",
      "0.5828460778931568\n",
      "0.5525762985089416\n",
      "0.41616978577492075\n",
      "0.396824567898315\n"
     ]
    },
    {
     "name": "stderr",
     "output_type": "stream",
     "text": [
      "\r",
      "100it [03:09,  1.91s/it]"
     ]
    },
    {
     "name": "stdout",
     "output_type": "stream",
     "text": [
      "0.5934032633162516\n",
      "0.6326023584681675\n",
      "0.39541402568937134\n",
      "0.3886486100049237\n",
      "0.5177892922998784\n"
     ]
    },
    {
     "name": "stderr",
     "output_type": "stream",
     "text": [
      "\r",
      "101it [03:11,  1.90s/it]"
     ]
    },
    {
     "name": "stdout",
     "output_type": "stream",
     "text": [
      "0.6008351323231134\n",
      "0.5884882720731078\n",
      "0.426790317548847\n",
      "0.49677605568791566\n",
      "0.6679533337773433\n"
     ]
    },
    {
     "name": "stderr",
     "output_type": "stream",
     "text": [
      "\r",
      "102it [03:13,  1.90s/it]"
     ]
    },
    {
     "name": "stdout",
     "output_type": "stream",
     "text": [
      "0.545702900297821\n",
      "0.6100473254360312\n",
      "0.31855093404459756\n",
      "0.6505128441064723\n",
      "0.5801376822059042\n"
     ]
    },
    {
     "name": "stderr",
     "output_type": "stream",
     "text": [
      "\r",
      "103it [03:15,  1.90s/it]"
     ]
    },
    {
     "name": "stdout",
     "output_type": "stream",
     "text": [
      "0.5774149235425733\n",
      "0.4403103285178509\n",
      "0.45326791033687386\n",
      "0.716833104667924\n",
      "0.5598790948522252\n"
     ]
    },
    {
     "name": "stderr",
     "output_type": "stream",
     "text": [
      "\r",
      "104it [03:16,  1.90s/it]"
     ]
    },
    {
     "name": "stdout",
     "output_type": "stream",
     "text": [
      "0.6209041464330753\n",
      "0.5274103928942981\n",
      "0.5917359900792769\n",
      "0.4509167166564653\n",
      "0.5483699218181566\n"
     ]
    },
    {
     "name": "stderr",
     "output_type": "stream",
     "text": [
      "\r",
      "105it [03:18,  1.90s/it]"
     ]
    },
    {
     "name": "stdout",
     "output_type": "stream",
     "text": [
      "0.5214723916876903\n",
      "0.4567745710878165\n",
      "0.5300648368924722\n",
      "0.5928828686270007\n",
      "0.47947970310328647\n"
     ]
    },
    {
     "name": "stderr",
     "output_type": "stream",
     "text": [
      "\r",
      "106it [03:20,  1.90s/it]"
     ]
    },
    {
     "name": "stdout",
     "output_type": "stream",
     "text": [
      "0.5203681767584608\n",
      "0.6650147295320776\n",
      "0.6315968509239834\n",
      "0.7075308261512777\n",
      "0.6195625880357574\n"
     ]
    },
    {
     "name": "stderr",
     "output_type": "stream",
     "text": [
      "\r",
      "107it [03:22,  1.90s/it]"
     ]
    },
    {
     "name": "stdout",
     "output_type": "stream",
     "text": [
      "0.5296155967333933\n",
      "0.4975573197176472\n",
      "0.44079295490434045\n",
      "0.48043573527508243\n",
      "0.7957225942159947\n"
     ]
    },
    {
     "name": "stderr",
     "output_type": "stream",
     "text": [
      "\r",
      "108it [03:24,  1.89s/it]"
     ]
    },
    {
     "name": "stdout",
     "output_type": "stream",
     "text": [
      "0.4514160942357843\n",
      "0.6874425801495502\n",
      "0.592173127743188\n",
      "0.5860233517600445\n",
      "0.5903214301804439\n"
     ]
    },
    {
     "name": "stderr",
     "output_type": "stream",
     "text": [
      "\r",
      "109it [03:26,  1.89s/it]"
     ]
    },
    {
     "name": "stdout",
     "output_type": "stream",
     "text": [
      "0.6049527783768055\n",
      "0.4742266707800121\n",
      "0.677429788380065\n",
      "0.5687004890779721\n",
      "0.6977003409573306\n"
     ]
    },
    {
     "name": "stderr",
     "output_type": "stream",
     "text": [
      "\r",
      "110it [03:28,  1.87s/it]"
     ]
    },
    {
     "name": "stdout",
     "output_type": "stream",
     "text": [
      "0.6529645123140148\n",
      "0.5265162234613892\n",
      "0.5384989998535429\n",
      "0.6602064027058412\n",
      "0.57380023947645\n"
     ]
    },
    {
     "name": "stderr",
     "output_type": "stream",
     "text": [
      "\r",
      "111it [03:30,  1.87s/it]"
     ]
    },
    {
     "name": "stdout",
     "output_type": "stream",
     "text": [
      "0.6832931013789318\n",
      "0.6196117707380775\n",
      "0.403283340771154\n",
      "0.45617164558375545\n",
      "0.5918605205494326\n"
     ]
    },
    {
     "name": "stderr",
     "output_type": "stream",
     "text": [
      "\r",
      "112it [03:31,  1.87s/it]"
     ]
    },
    {
     "name": "stdout",
     "output_type": "stream",
     "text": [
      "0.5860736779731501\n",
      "0.5299748452233097\n",
      "0.6673188313392019\n",
      "0.5684605596268807\n",
      "0.7296675530306338\n"
     ]
    },
    {
     "name": "stderr",
     "output_type": "stream",
     "text": [
      "\r",
      "113it [03:33,  1.87s/it]"
     ]
    },
    {
     "name": "stdout",
     "output_type": "stream",
     "text": [
      "0.518187402765299\n",
      "0.6356667420648059\n",
      "0.600253970633154\n",
      "0.6524650481285219\n",
      "0.5006812211040392\n"
     ]
    },
    {
     "name": "stderr",
     "output_type": "stream",
     "text": [
      "\r",
      "114it [03:35,  1.86s/it]"
     ]
    },
    {
     "name": "stdout",
     "output_type": "stream",
     "text": [
      "0.5152735450882917\n",
      "0.7943992625241701\n",
      "0.5860744532455349\n",
      "0.5071019058780076\n",
      "0.42513354545180126\n"
     ]
    },
    {
     "name": "stderr",
     "output_type": "stream",
     "text": [
      "\r",
      "115it [03:37,  1.85s/it]"
     ]
    },
    {
     "name": "stdout",
     "output_type": "stream",
     "text": [
      "0.653577106743106\n",
      "0.5383490215910138\n",
      "0.6601391849492719\n",
      "0.504134462473578\n",
      "0.564678904777187\n"
     ]
    },
    {
     "name": "stderr",
     "output_type": "stream",
     "text": [
      "\r",
      "116it [03:39,  1.85s/it]"
     ]
    },
    {
     "name": "stdout",
     "output_type": "stream",
     "text": [
      "0.5322356030440081\n",
      "0.5323382123931782\n",
      "0.5334571490489685\n",
      "0.43590180372054577\n",
      "0.5969593805024345\n"
     ]
    },
    {
     "name": "stderr",
     "output_type": "stream",
     "text": [
      "\r",
      "117it [03:41,  1.86s/it]"
     ]
    },
    {
     "name": "stdout",
     "output_type": "stream",
     "text": [
      "0.5795927293747265\n",
      "0.6078506891270125\n",
      "0.6365194260011434\n",
      "0.580606415356729\n",
      "0.3992294909812909\n"
     ]
    },
    {
     "name": "stderr",
     "output_type": "stream",
     "text": [
      "\r",
      "118it [03:43,  1.86s/it]"
     ]
    },
    {
     "name": "stdout",
     "output_type": "stream",
     "text": [
      "0.4374203710476958\n",
      "0.6160875893767582\n",
      "0.679407229146541\n",
      "0.6896629033201297\n",
      "0.5457628605658902\n"
     ]
    },
    {
     "name": "stderr",
     "output_type": "stream",
     "text": [
      "\r",
      "119it [03:44,  1.85s/it]"
     ]
    },
    {
     "name": "stdout",
     "output_type": "stream",
     "text": [
      "0.5939195679193146\n",
      "0.6119743014760756\n",
      "0.5434242093689634\n",
      "0.653032809247054\n",
      "0.5722974539632226\n"
     ]
    },
    {
     "name": "stderr",
     "output_type": "stream",
     "text": [
      "\r",
      "120it [03:46,  1.88s/it]"
     ]
    },
    {
     "name": "stdout",
     "output_type": "stream",
     "text": [
      "0.7338891499210384\n",
      "0.5199953800171566\n",
      "0.7600072039742658\n",
      "0.49262496994453536\n",
      "0.5460214619066637\n"
     ]
    },
    {
     "name": "stderr",
     "output_type": "stream",
     "text": [
      "\r",
      "121it [03:48,  1.88s/it]"
     ]
    },
    {
     "name": "stdout",
     "output_type": "stream",
     "text": [
      "0.4963147166343272\n",
      "0.47967903227511255\n",
      "0.6270596369928394\n",
      "0.721327611301651\n",
      "0.6316755821747754\n"
     ]
    },
    {
     "name": "stderr",
     "output_type": "stream",
     "text": [
      "\r",
      "122it [03:50,  1.88s/it]"
     ]
    },
    {
     "name": "stdout",
     "output_type": "stream",
     "text": [
      "0.5122420868423445\n",
      "0.6252563829411217\n",
      "0.6037230053174891\n",
      "0.7381338619160314\n",
      "0.5969823770449987\n"
     ]
    },
    {
     "name": "stderr",
     "output_type": "stream",
     "text": [
      "\r",
      "123it [03:52,  1.88s/it]"
     ]
    },
    {
     "name": "stdout",
     "output_type": "stream",
     "text": [
      "0.6329110768525994\n",
      "0.7088185286359218\n",
      "0.6255676836311185\n",
      "0.5900684297498406\n",
      "0.5130447872388616\n"
     ]
    },
    {
     "name": "stderr",
     "output_type": "stream",
     "text": [
      "\r",
      "124it [03:54,  1.87s/it]"
     ]
    },
    {
     "name": "stdout",
     "output_type": "stream",
     "text": [
      "0.6966295515976468\n",
      "0.40842440822196047\n",
      "0.4066726488211461\n",
      "0.6110725935478185\n",
      "0.6378018460845931\n"
     ]
    },
    {
     "name": "stderr",
     "output_type": "stream",
     "text": [
      "\r",
      "125it [03:56,  1.88s/it]"
     ]
    },
    {
     "name": "stdout",
     "output_type": "stream",
     "text": [
      "0.6105743741051957\n",
      "0.522047606415275\n",
      "0.7499791297966563\n",
      "0.5252231270873546\n",
      "0.6350256991921698\n"
     ]
    },
    {
     "name": "stderr",
     "output_type": "stream",
     "text": [
      "\r",
      "126it [03:58,  1.89s/it]"
     ]
    },
    {
     "name": "stdout",
     "output_type": "stream",
     "text": [
      "0.6190146389714519\n",
      "0.881748922269\n",
      "0.5968481843330727\n",
      "0.696240951263881\n",
      "0.8471064344316318\n"
     ]
    },
    {
     "name": "stderr",
     "output_type": "stream",
     "text": [
      "\r",
      "127it [04:00,  1.88s/it]"
     ]
    },
    {
     "name": "stdout",
     "output_type": "stream",
     "text": [
      "0.6251924332236217\n",
      "0.5066711747251051\n",
      "0.6409978000783225\n",
      "0.703179951448051\n",
      "0.6558586370676811\n"
     ]
    },
    {
     "name": "stderr",
     "output_type": "stream",
     "text": [
      "\r",
      "128it [04:01,  1.88s/it]"
     ]
    },
    {
     "name": "stdout",
     "output_type": "stream",
     "text": [
      "0.7268288911960858\n",
      "0.6154252018208152\n",
      "0.6059481939265068\n",
      "0.6017826329992609\n",
      "0.6987267111153121\n"
     ]
    },
    {
     "name": "stderr",
     "output_type": "stream",
     "text": [
      "\r",
      "129it [04:03,  1.88s/it]"
     ]
    },
    {
     "name": "stdout",
     "output_type": "stream",
     "text": [
      "0.5719660781974657\n",
      "0.5669002543933398\n",
      "0.7092659537059385\n",
      "0.6596397436409892\n",
      "0.45404521137556186\n"
     ]
    },
    {
     "name": "stderr",
     "output_type": "stream",
     "text": [
      "\r",
      "130it [04:05,  1.87s/it]"
     ]
    },
    {
     "name": "stdout",
     "output_type": "stream",
     "text": [
      "0.6856219226280013\n",
      "0.6661070003893022\n",
      "0.493978843415199\n",
      "0.5592998857467048\n",
      "0.5915450193620662\n"
     ]
    },
    {
     "name": "stderr",
     "output_type": "stream",
     "text": [
      "\r",
      "131it [04:07,  1.88s/it]"
     ]
    },
    {
     "name": "stdout",
     "output_type": "stream",
     "text": [
      "0.5813279472672072\n",
      "0.8377436895070163\n",
      "0.855273170041418\n",
      "0.5550863120161986\n",
      "0.5944971310198915\n"
     ]
    },
    {
     "name": "stderr",
     "output_type": "stream",
     "text": [
      "\r",
      "132it [04:09,  1.87s/it]"
     ]
    },
    {
     "name": "stdout",
     "output_type": "stream",
     "text": [
      "0.6949510728323538\n",
      "0.59196104886036\n",
      "0.6870138710874963\n",
      "0.6756581337675678\n",
      "0.5953973534600002\n"
     ]
    },
    {
     "name": "stderr",
     "output_type": "stream",
     "text": [
      "\r",
      "133it [04:11,  1.87s/it]"
     ]
    },
    {
     "name": "stdout",
     "output_type": "stream",
     "text": [
      "0.6519090387495531\n",
      "0.7306839197121788\n",
      "0.5117190237060549\n",
      "0.6113160969193258\n",
      "0.5512667100516229\n"
     ]
    },
    {
     "name": "stderr",
     "output_type": "stream",
     "text": [
      "\r",
      "134it [04:13,  1.86s/it]"
     ]
    },
    {
     "name": "stdout",
     "output_type": "stream",
     "text": [
      "0.7118367644293188\n",
      "0.8117509471417511\n",
      "0.7004478368820634\n",
      "0.5971022705095175\n",
      "0.7392506711672727\n"
     ]
    },
    {
     "name": "stderr",
     "output_type": "stream",
     "text": [
      "\r",
      "135it [04:14,  1.84s/it]"
     ]
    },
    {
     "name": "stdout",
     "output_type": "stream",
     "text": [
      "0.8056847746753723\n",
      "0.721063183925518\n",
      "0.6713535085672477\n",
      "0.6763222954282363\n",
      "0.6780183362828714\n"
     ]
    },
    {
     "name": "stderr",
     "output_type": "stream",
     "text": [
      "\r",
      "136it [04:16,  1.84s/it]"
     ]
    },
    {
     "name": "stdout",
     "output_type": "stream",
     "text": [
      "0.7022476134020214\n",
      "0.9234182681112716\n",
      "0.7246232973694539\n",
      "0.5775016908257573\n",
      "0.5965472550018656\n"
     ]
    },
    {
     "name": "stderr",
     "output_type": "stream",
     "text": [
      "\r",
      "137it [04:18,  1.84s/it]"
     ]
    },
    {
     "name": "stdout",
     "output_type": "stream",
     "text": [
      "0.815916053249075\n",
      "0.627874105694921\n",
      "0.7497354436415106\n",
      "0.62365584335156\n",
      "0.6621001876386031\n"
     ]
    },
    {
     "name": "stderr",
     "output_type": "stream",
     "text": [
      "\r",
      "138it [04:20,  1.84s/it]"
     ]
    },
    {
     "name": "stdout",
     "output_type": "stream",
     "text": [
      "0.7217178213388316\n",
      "0.7647971250560263\n",
      "0.7249872616310957\n",
      "0.5938453644578847\n",
      "0.7776867128882266\n"
     ]
    },
    {
     "name": "stderr",
     "output_type": "stream",
     "text": [
      "\r",
      "139it [04:22,  1.84s/it]"
     ]
    },
    {
     "name": "stdout",
     "output_type": "stream",
     "text": [
      "0.7155358483328714\n",
      "0.6078698894421224\n",
      "0.8704218172891242\n",
      "0.6741852214067746\n",
      "0.83480055858723\n"
     ]
    },
    {
     "name": "stderr",
     "output_type": "stream",
     "text": [
      "\r",
      "140it [04:24,  1.85s/it]"
     ]
    },
    {
     "name": "stdout",
     "output_type": "stream",
     "text": [
      "0.9233023050103415\n",
      "0.5737726267780312\n",
      "0.5427171087142996\n",
      "0.6593624508048341\n",
      "0.8309757660161622\n"
     ]
    },
    {
     "name": "stderr",
     "output_type": "stream",
     "text": [
      "\r",
      "141it [04:25,  1.85s/it]"
     ]
    },
    {
     "name": "stdout",
     "output_type": "stream",
     "text": [
      "0.8014914936583526\n",
      "0.6369115022399472\n",
      "0.7081898679920864\n",
      "0.6591138553786966\n",
      "0.7187987137143114\n"
     ]
    },
    {
     "name": "stderr",
     "output_type": "stream",
     "text": [
      "\r",
      "142it [04:27,  1.85s/it]"
     ]
    },
    {
     "name": "stdout",
     "output_type": "stream",
     "text": [
      "0.5815633597447261\n",
      "0.7526289386662006\n",
      "0.6402206120378778\n",
      "0.7091098349312489\n",
      "0.6952551375793463\n"
     ]
    },
    {
     "name": "stderr",
     "output_type": "stream",
     "text": [
      "\r",
      "143it [04:29,  1.86s/it]"
     ]
    },
    {
     "name": "stdout",
     "output_type": "stream",
     "text": [
      "0.7859318804859977\n",
      "0.6634562896874959\n",
      "0.8549151037180951\n",
      "0.8020527165646333\n",
      "0.626944761997051\n"
     ]
    },
    {
     "name": "stderr",
     "output_type": "stream",
     "text": [
      "\r",
      "144it [04:31,  1.83s/it]"
     ]
    },
    {
     "name": "stdout",
     "output_type": "stream",
     "text": [
      "0.6687230339610053\n",
      "0.6796917576492649\n",
      "0.7230574198720708\n",
      "0.6248848668555222\n",
      "0.6715942801507092\n"
     ]
    },
    {
     "name": "stderr",
     "output_type": "stream",
     "text": [
      "\r",
      "145it [04:33,  1.86s/it]"
     ]
    },
    {
     "name": "stdout",
     "output_type": "stream",
     "text": [
      "0.794348345718898\n",
      "0.814467427296602\n",
      "0.4446257626200584\n",
      "0.7679817295024312\n",
      "0.7231279356164935\n"
     ]
    },
    {
     "name": "stderr",
     "output_type": "stream",
     "text": [
      "\r",
      "146it [04:35,  1.84s/it]"
     ]
    },
    {
     "name": "stdout",
     "output_type": "stream",
     "text": [
      "0.8798906409867697\n",
      "0.5783792851502515\n",
      "0.7504439483746913\n",
      "0.6615103414154028\n",
      "0.7047311167136937\n"
     ]
    },
    {
     "name": "stderr",
     "output_type": "stream",
     "text": [
      "\r",
      "147it [04:37,  1.85s/it]"
     ]
    },
    {
     "name": "stdout",
     "output_type": "stream",
     "text": [
      "0.7251730670359177\n",
      "0.6145384752632583\n",
      "0.7331663476338693\n",
      "0.6413645654307348\n",
      "0.6556578504450858\n"
     ]
    },
    {
     "name": "stderr",
     "output_type": "stream",
     "text": [
      "\r",
      "148it [04:38,  1.86s/it]"
     ]
    },
    {
     "name": "stdout",
     "output_type": "stream",
     "text": [
      "0.7645854118528546\n",
      "0.8801636584142298\n",
      "0.8731539335434094\n",
      "0.6313659642054433\n",
      "0.6833840522935546\n"
     ]
    },
    {
     "name": "stderr",
     "output_type": "stream",
     "text": [
      "\r",
      "149it [04:40,  1.83s/it]"
     ]
    },
    {
     "name": "stdout",
     "output_type": "stream",
     "text": [
      "0.8582942059306298\n",
      "0.6108706563424342\n",
      "0.9985656179406774\n",
      "0.920734881852878\n",
      "0.6346175584786933\n"
     ]
    },
    {
     "name": "stderr",
     "output_type": "stream",
     "text": [
      "\r",
      "150it [04:42,  1.79s/it]"
     ]
    },
    {
     "name": "stdout",
     "output_type": "stream",
     "text": [
      "0.8163423637374047\n",
      "0.69248876474716\n",
      "0.9526812949394818\n",
      "0.826441549370894\n",
      "0.8150541207667773\n"
     ]
    },
    {
     "name": "stderr",
     "output_type": "stream",
     "text": [
      "\r",
      "151it [04:44,  1.78s/it]"
     ]
    },
    {
     "name": "stdout",
     "output_type": "stream",
     "text": [
      "0.8478275832434137\n",
      "0.6626179242794337\n",
      "0.8863192669753039\n",
      "0.8982802468539024\n",
      "0.8342296150775176\n"
     ]
    },
    {
     "name": "stderr",
     "output_type": "stream",
     "text": [
      "\r",
      "152it [04:45,  1.75s/it]"
     ]
    },
    {
     "name": "stdout",
     "output_type": "stream",
     "text": [
      "0.7954771348812455\n",
      "0.7630293244708798\n",
      "0.856522560996952\n",
      "0.6708587671501414\n",
      "0.8788530547121766\n"
     ]
    },
    {
     "name": "stderr",
     "output_type": "stream",
     "text": [
      "\r",
      "153it [04:47,  1.78s/it]"
     ]
    },
    {
     "name": "stdout",
     "output_type": "stream",
     "text": [
      "0.8292940841730617\n",
      "0.8285985573993877\n",
      "0.7556447369235355\n",
      "0.6496006461038971\n",
      "0.9222413599025836\n"
     ]
    },
    {
     "name": "stderr",
     "output_type": "stream",
     "text": [
      "\r",
      "154it [04:49,  1.75s/it]"
     ]
    },
    {
     "name": "stdout",
     "output_type": "stream",
     "text": [
      "0.9274725315906606\n",
      "0.7914339755790785\n",
      "0.6350099033840841\n",
      "0.778634924727644\n",
      "0.8816507081292468\n"
     ]
    },
    {
     "name": "stderr",
     "output_type": "stream",
     "text": [
      "\r",
      "155it [04:51,  1.75s/it]"
     ]
    },
    {
     "name": "stdout",
     "output_type": "stream",
     "text": [
      "0.6007317521046076\n",
      "0.7973071795291549\n",
      "0.8549970445786682\n",
      "0.9859812524284487\n",
      "0.7624865917153455\n"
     ]
    },
    {
     "name": "stderr",
     "output_type": "stream",
     "text": [
      "\r",
      "156it [04:52,  1.74s/it]"
     ]
    },
    {
     "name": "stdout",
     "output_type": "stream",
     "text": [
      "0.7422817418669119\n",
      "0.6873799315944409\n",
      "0.6290807876787642\n",
      "0.6328710031691896\n",
      "0.8391876217385121\n"
     ]
    },
    {
     "name": "stderr",
     "output_type": "stream",
     "text": [
      "\r",
      "157it [04:54,  1.77s/it]"
     ]
    },
    {
     "name": "stdout",
     "output_type": "stream",
     "text": [
      "0.910786065254824\n",
      "0.830318123337251\n",
      "0.807699744310322\n",
      "0.7793500366117743\n",
      "0.8267344468252893\n"
     ]
    },
    {
     "name": "stderr",
     "output_type": "stream",
     "text": [
      "\r",
      "158it [04:56,  1.76s/it]"
     ]
    },
    {
     "name": "stdout",
     "output_type": "stream",
     "text": [
      "0.7489230775021326\n",
      "0.7633375081534615\n",
      "0.8114008820900372\n",
      "0.6536669870543366\n",
      "0.7061149034347847\n"
     ]
    },
    {
     "name": "stderr",
     "output_type": "stream",
     "text": [
      "\r",
      "159it [04:58,  1.77s/it]"
     ]
    },
    {
     "name": "stdout",
     "output_type": "stream",
     "text": [
      "0.7002420737957402\n",
      "0.927357837150032\n",
      "0.8417998090465205\n",
      "0.6324610301450202\n",
      "0.8255215133157636\n"
     ]
    },
    {
     "name": "stderr",
     "output_type": "stream",
     "text": [
      "\r",
      "160it [05:00,  1.81s/it]"
     ]
    },
    {
     "name": "stdout",
     "output_type": "stream",
     "text": [
      "0.6862885325692896\n",
      "0.8644605488266128\n",
      "0.8303162369613443\n",
      "0.6485758588370166\n",
      "0.7985985063094175\n"
     ]
    },
    {
     "name": "stderr",
     "output_type": "stream",
     "text": [
      "\r",
      "161it [05:01,  1.79s/it]"
     ]
    },
    {
     "name": "stdout",
     "output_type": "stream",
     "text": [
      "0.7536823769875134\n",
      "0.8224179833435585\n",
      "0.7567901984275835\n",
      "0.8296978119179887\n",
      "0.7996027157539496\n"
     ]
    },
    {
     "name": "stderr",
     "output_type": "stream",
     "text": [
      "\r",
      "162it [05:03,  1.80s/it]"
     ]
    },
    {
     "name": "stdout",
     "output_type": "stream",
     "text": [
      "0.8210719277082182\n",
      "0.9447878518453665\n",
      "0.6853675865999596\n",
      "0.9228486288638947\n",
      "0.8755840497710057\n"
     ]
    },
    {
     "name": "stderr",
     "output_type": "stream",
     "text": [
      "\r",
      "163it [05:05,  1.81s/it]"
     ]
    },
    {
     "name": "stdout",
     "output_type": "stream",
     "text": [
      "0.7690784047000583\n",
      "0.9346237983352114\n",
      "0.7358832614054978\n",
      "0.8046739496324755\n",
      "0.7966641527602136\n"
     ]
    },
    {
     "name": "stderr",
     "output_type": "stream",
     "text": [
      "\r",
      "164it [05:07,  1.83s/it]"
     ]
    },
    {
     "name": "stdout",
     "output_type": "stream",
     "text": [
      "0.8977527047815835\n",
      "0.8313981034761779\n",
      "0.771247683824914\n",
      "0.9219852650120999\n",
      "0.9488503431046017\n"
     ]
    },
    {
     "name": "stderr",
     "output_type": "stream",
     "text": [
      "\r",
      "165it [05:09,  1.81s/it]"
     ]
    },
    {
     "name": "stdout",
     "output_type": "stream",
     "text": [
      "0.8563178894599914\n",
      "0.7378068899788386\n",
      "0.8324211131272273\n",
      "0.6476926741493801\n",
      "0.8023095017164416\n"
     ]
    },
    {
     "name": "stderr",
     "output_type": "stream",
     "text": [
      "\r",
      "166it [05:10,  1.79s/it]"
     ]
    },
    {
     "name": "stdout",
     "output_type": "stream",
     "text": [
      "0.7293119353400963\n",
      "0.950956186644742\n",
      "0.7399443196548963\n",
      "0.9758180700742745\n",
      "0.8998563032549625\n"
     ]
    },
    {
     "name": "stderr",
     "output_type": "stream",
     "text": [
      "\r",
      "167it [05:12,  1.78s/it]"
     ]
    },
    {
     "name": "stdout",
     "output_type": "stream",
     "text": [
      "0.734326767072541\n",
      "0.7922799919052018\n",
      "0.8644912178026289\n",
      "0.8808551264594126\n",
      "0.81803269463638\n"
     ]
    },
    {
     "name": "stderr",
     "output_type": "stream",
     "text": [
      "\r",
      "168it [05:14,  1.77s/it]"
     ]
    },
    {
     "name": "stdout",
     "output_type": "stream",
     "text": [
      "0.9017505701155237\n",
      "0.7475492445863025\n",
      "0.9116733280533071\n",
      "0.760589022972706\n",
      "0.733747863099393\n"
     ]
    },
    {
     "name": "stderr",
     "output_type": "stream",
     "text": [
      "\r",
      "169it [05:16,  1.77s/it]"
     ]
    },
    {
     "name": "stdout",
     "output_type": "stream",
     "text": [
      "0.8909267120483381\n",
      "0.9349155310788899\n",
      "0.8681898276153359\n",
      "0.780634272992336\n",
      "0.8440782193811256\n"
     ]
    },
    {
     "name": "stderr",
     "output_type": "stream",
     "text": [
      "\r",
      "170it [05:17,  1.75s/it]"
     ]
    },
    {
     "name": "stdout",
     "output_type": "stream",
     "text": [
      "0.9773063413743217\n",
      "0.8950810279403929\n",
      "0.9360413450189846\n",
      "0.8841832304083284\n",
      "0.7909283750516399\n"
     ]
    },
    {
     "name": "stderr",
     "output_type": "stream",
     "text": [
      "\r",
      "171it [05:19,  1.75s/it]"
     ]
    },
    {
     "name": "stdout",
     "output_type": "stream",
     "text": [
      "0.8612754433823632\n",
      "0.8781671390718696\n",
      "0.9533265754102201\n",
      "0.9456494549026646\n",
      "0.8159427767638331\n"
     ]
    },
    {
     "name": "stderr",
     "output_type": "stream",
     "text": [
      "\r",
      "172it [05:21,  1.74s/it]"
     ]
    },
    {
     "name": "stdout",
     "output_type": "stream",
     "text": [
      "0.8161305280725419\n",
      "0.9006614879453574\n",
      "0.6245995419745957\n",
      "0.7621422989881504\n",
      "0.933666405524562\n"
     ]
    },
    {
     "name": "stderr",
     "output_type": "stream",
     "text": [
      "\r",
      "173it [05:23,  1.73s/it]"
     ]
    },
    {
     "name": "stdout",
     "output_type": "stream",
     "text": [
      "0.9931377145486694\n",
      "0.7554147151847864\n",
      "0.9818367454596402\n",
      "0.725606831196463\n",
      "0.6945905375072543\n"
     ]
    },
    {
     "name": "stderr",
     "output_type": "stream",
     "text": [
      "\r",
      "174it [05:24,  1.75s/it]"
     ]
    },
    {
     "name": "stdout",
     "output_type": "stream",
     "text": [
      "0.8165587251323926\n",
      "0.8231928991267177\n",
      "0.8121532670445019\n",
      "0.9064743912722052\n",
      "0.9724046100758538\n"
     ]
    },
    {
     "name": "stderr",
     "output_type": "stream",
     "text": [
      "\r",
      "175it [05:26,  1.75s/it]"
     ]
    },
    {
     "name": "stdout",
     "output_type": "stream",
     "text": [
      "0.9584229631686572\n",
      "0.9108629849080382\n",
      "0.8821378825721492\n",
      "0.8709136466181188\n",
      "0.8170061743773497\n"
     ]
    },
    {
     "name": "stderr",
     "output_type": "stream",
     "text": [
      "\r",
      "176it [05:28,  1.73s/it]"
     ]
    },
    {
     "name": "stdout",
     "output_type": "stream",
     "text": [
      "0.8711662698646793\n",
      "0.8968264833777895\n",
      "0.9451303539845781\n",
      "0.9042234091984067\n",
      "0.7451509770527647\n"
     ]
    },
    {
     "name": "stderr",
     "output_type": "stream",
     "text": [
      "\r",
      "177it [05:30,  1.73s/it]"
     ]
    },
    {
     "name": "stdout",
     "output_type": "stream",
     "text": [
      "0.8811047028843466\n",
      "0.9332766240956182\n",
      "0.8862343921260287\n",
      "0.8222472701766727\n",
      "0.9660699262507563\n"
     ]
    },
    {
     "name": "stderr",
     "output_type": "stream",
     "text": [
      "\r",
      "178it [05:31,  1.74s/it]"
     ]
    },
    {
     "name": "stdout",
     "output_type": "stream",
     "text": [
      "0.8431052351268397\n",
      "0.9187262134732548\n",
      "0.8243030575854219\n",
      "0.8099681526739049\n",
      "0.8486055220362432\n"
     ]
    },
    {
     "name": "stderr",
     "output_type": "stream",
     "text": [
      "\r",
      "179it [05:33,  1.73s/it]"
     ]
    },
    {
     "name": "stdout",
     "output_type": "stream",
     "text": [
      "0.6451577558479105\n",
      "0.8683116755353624\n",
      "0.8454016451002069\n",
      "0.8933223159896769\n",
      "0.8253497547973013\n"
     ]
    },
    {
     "name": "stderr",
     "output_type": "stream",
     "text": [
      "\r",
      "180it [05:35,  1.75s/it]"
     ]
    },
    {
     "name": "stdout",
     "output_type": "stream",
     "text": [
      "0.9435076514983971\n",
      "0.8575544150309574\n",
      "0.8801342647784987\n",
      "0.7560038907078257\n",
      "0.9587120143576897\n"
     ]
    },
    {
     "name": "stderr",
     "output_type": "stream",
     "text": [
      "\r",
      "181it [05:37,  1.78s/it]"
     ]
    },
    {
     "name": "stdout",
     "output_type": "stream",
     "text": [
      "0.8210979322834709\n",
      "0.876340073288493\n",
      "0.9480622932364072\n",
      "0.9679440138547177\n",
      "0.9506635639601058\n"
     ]
    },
    {
     "name": "stderr",
     "output_type": "stream",
     "text": [
      "\r",
      "182it [05:38,  1.77s/it]"
     ]
    },
    {
     "name": "stdout",
     "output_type": "stream",
     "text": [
      "0.7773928970348003\n",
      "0.8700542117690846\n",
      "0.8494355976208394\n",
      "0.8083049772203409\n",
      "0.9858814133841995\n"
     ]
    },
    {
     "name": "stderr",
     "output_type": "stream",
     "text": [
      "\r",
      "183it [05:40,  1.77s/it]"
     ]
    },
    {
     "name": "stdout",
     "output_type": "stream",
     "text": [
      "0.7635650416934119\n",
      "0.8693898979768705\n",
      "0.9356868630148704\n",
      "0.8138194752266956\n",
      "0.8167177447143336\n"
     ]
    },
    {
     "name": "stderr",
     "output_type": "stream",
     "text": [
      "\r",
      "184it [05:42,  1.77s/it]"
     ]
    },
    {
     "name": "stdout",
     "output_type": "stream",
     "text": [
      "0.9527028947933796\n",
      "0.9619021153216115\n",
      "0.8810919101186987\n",
      "0.8477141683964691\n",
      "0.8617634792701163\n"
     ]
    },
    {
     "name": "stderr",
     "output_type": "stream",
     "text": [
      "\r",
      "185it [05:44,  1.77s/it]"
     ]
    },
    {
     "name": "stdout",
     "output_type": "stream",
     "text": [
      "0.8587175715064215\n",
      "0.9848333577965359\n",
      "0.9153602706377845\n",
      "0.8288157595558845\n",
      "0.7539561093050737\n"
     ]
    },
    {
     "name": "stderr",
     "output_type": "stream",
     "text": [
      "\r",
      "186it [05:45,  1.76s/it]"
     ]
    },
    {
     "name": "stdout",
     "output_type": "stream",
     "text": [
      "0.9252925653248596\n",
      "0.9813100910492211\n",
      "0.7951632496374191\n",
      "0.9287933348717982\n",
      "0.9957795979925376\n"
     ]
    },
    {
     "name": "stderr",
     "output_type": "stream",
     "text": [
      "\r",
      "187it [05:47,  1.77s/it]"
     ]
    },
    {
     "name": "stdout",
     "output_type": "stream",
     "text": [
      "0.8451517755232475\n",
      "0.989485254008367\n",
      "0.8282137763388506\n",
      "0.9098069923040287\n",
      "0.9563098163015927\n"
     ]
    },
    {
     "name": "stderr",
     "output_type": "stream",
     "text": [
      "\r",
      "188it [05:49,  1.77s/it]"
     ]
    },
    {
     "name": "stdout",
     "output_type": "stream",
     "text": [
      "0.8598993123253678\n",
      "0.982181884619528\n",
      "0.955738506591127\n",
      "0.9451210775931445\n",
      "0.9735264909662601\n"
     ]
    },
    {
     "name": "stderr",
     "output_type": "stream",
     "text": [
      "\r",
      "189it [05:51,  1.77s/it]"
     ]
    },
    {
     "name": "stdout",
     "output_type": "stream",
     "text": [
      "0.9427370618676829\n",
      "0.9489733939948475\n",
      "0.903816981839172\n",
      "0.8811726755098731\n",
      "0.9835082368135992\n"
     ]
    },
    {
     "name": "stderr",
     "output_type": "stream",
     "text": [
      "\r",
      "190it [05:52,  1.75s/it]"
     ]
    },
    {
     "name": "stdout",
     "output_type": "stream",
     "text": [
      "0.8522132764699395\n",
      "0.8737951146540726\n",
      "0.8964944435028269\n",
      "0.9441974736897595\n",
      "0.9277369386530256\n"
     ]
    },
    {
     "name": "stderr",
     "output_type": "stream",
     "text": [
      "\r",
      "191it [05:54,  1.76s/it]"
     ]
    },
    {
     "name": "stdout",
     "output_type": "stream",
     "text": [
      "0.9427143752640006\n",
      "0.6843198202171936\n",
      "0.9938885671752732\n",
      "0.8896803766874859\n",
      "0.9446101558356876\n"
     ]
    },
    {
     "name": "stderr",
     "output_type": "stream",
     "text": [
      "\r",
      "192it [05:56,  1.74s/it]"
     ]
    },
    {
     "name": "stdout",
     "output_type": "stream",
     "text": [
      "0.8447111570326976\n",
      "0.9917321342836212\n",
      "0.8769169163652876\n",
      "0.9995344116757215\n",
      "0.9236453044571263\n"
     ]
    },
    {
     "name": "stderr",
     "output_type": "stream",
     "text": [
      "\r",
      "193it [05:58,  1.72s/it]"
     ]
    },
    {
     "name": "stdout",
     "output_type": "stream",
     "text": [
      "0.9620927034442234\n",
      "0.9617176609933517\n",
      "0.9330508943408669\n",
      "0.8862304655843817\n",
      "0.9864847994099689\n"
     ]
    },
    {
     "name": "stderr",
     "output_type": "stream",
     "text": [
      "\r",
      "194it [05:59,  1.73s/it]"
     ]
    },
    {
     "name": "stdout",
     "output_type": "stream",
     "text": [
      "0.8148716956317965\n",
      "0.9064001583991574\n",
      "0.9829850368242362\n",
      "0.9376441241997092\n",
      "0.9861227480409719\n"
     ]
    },
    {
     "name": "stderr",
     "output_type": "stream",
     "text": [
      "\r",
      "195it [06:01,  1.72s/it]"
     ]
    },
    {
     "name": "stdout",
     "output_type": "stream",
     "text": [
      "0.9317220350027976\n",
      "0.9627941146410319\n",
      "0.9221938619626626\n",
      "0.9519048121061103\n",
      "0.9538410592837193\n"
     ]
    },
    {
     "name": "stderr",
     "output_type": "stream",
     "text": [
      "\r",
      "196it [06:03,  1.71s/it]"
     ]
    },
    {
     "name": "stdout",
     "output_type": "stream",
     "text": [
      "0.86295986501656\n",
      "0.9986601743740282\n",
      "0.850063948886692\n",
      "0.9612392277756576\n",
      "0.8841509351762373\n"
     ]
    },
    {
     "name": "stderr",
     "output_type": "stream",
     "text": [
      "\r",
      "197it [06:04,  1.72s/it]"
     ]
    },
    {
     "name": "stdout",
     "output_type": "stream",
     "text": [
      "0.9649699491527752\n",
      "0.9369197748203131\n",
      "0.9653254393708431\n",
      "0.8677648328786627\n",
      "0.9652527136410424\n"
     ]
    },
    {
     "name": "stderr",
     "output_type": "stream",
     "text": [
      "\r",
      "198it [06:06,  1.72s/it]"
     ]
    },
    {
     "name": "stdout",
     "output_type": "stream",
     "text": [
      "0.9205326150440785\n",
      "0.9443395631276085\n",
      "0.7937646031844956\n",
      "0.9612650004423453\n",
      "0.8668055563393012\n"
     ]
    },
    {
     "name": "stderr",
     "output_type": "stream",
     "text": [
      "\r",
      "199it [06:08,  1.72s/it]"
     ]
    },
    {
     "name": "stdout",
     "output_type": "stream",
     "text": [
      "0.8877360521974609\n",
      "0.8687466152669924\n",
      "0.954435932648956\n",
      "0.9758329558596439\n",
      "0.938091692398515\n"
     ]
    },
    {
     "name": "stderr",
     "output_type": "stream",
     "text": [
      "200it [06:10,  1.74s/it]\n",
      "0it [00:00, ?it/s]"
     ]
    },
    {
     "name": "stdout",
     "output_type": "stream",
     "text": [
      "0.12510388201038763\n",
      "0.01229246408116496\n",
      "0.015275118626581166\n",
      "0.012612009565241267\n",
      "0.03101602161208284\n"
     ]
    },
    {
     "name": "stderr",
     "output_type": "stream",
     "text": [
      "\r",
      "1it [00:01,  1.92s/it]"
     ]
    },
    {
     "name": "stdout",
     "output_type": "stream",
     "text": [
      "0.0148342931969229\n",
      "0.019073893251707885\n",
      "0.05149960880880533\n",
      "0.05668502081939895\n",
      "0.05445906533349407\n"
     ]
    },
    {
     "name": "stderr",
     "output_type": "stream",
     "text": [
      "\r",
      "2it [00:03,  1.92s/it]"
     ]
    },
    {
     "name": "stdout",
     "output_type": "stream",
     "text": [
      "0.0154613901285535\n",
      "0.08302226162118335\n",
      "0.1338244983965899\n",
      "0.05714086674227969\n",
      "0.017521247131342312\n"
     ]
    },
    {
     "name": "stderr",
     "output_type": "stream",
     "text": [
      "\r",
      "3it [00:05,  1.90s/it]"
     ]
    },
    {
     "name": "stdout",
     "output_type": "stream",
     "text": [
      "0.11388732434922416\n",
      "0.07466116877131147\n",
      "0.01941818346719769\n",
      "0.045488285283765015\n",
      "0.18257254829665662\n"
     ]
    },
    {
     "name": "stderr",
     "output_type": "stream",
     "text": [
      "\r",
      "4it [00:07,  1.90s/it]"
     ]
    },
    {
     "name": "stdout",
     "output_type": "stream",
     "text": [
      "0.006951630975589918\n",
      "0.03345210363190595\n",
      "0.18438510658146037\n",
      "0.03892713262377922\n",
      "0.04730923066014938\n"
     ]
    },
    {
     "name": "stderr",
     "output_type": "stream",
     "text": [
      "\r",
      "5it [00:09,  1.89s/it]"
     ]
    },
    {
     "name": "stdout",
     "output_type": "stream",
     "text": [
      "0.019382462727438023\n",
      "0.12827254360736004\n",
      "0.013875283935550804\n",
      "0.04893167992609583\n",
      "0.047230874217968934\n"
     ]
    },
    {
     "name": "stderr",
     "output_type": "stream",
     "text": [
      "\r",
      "6it [00:11,  1.88s/it]"
     ]
    },
    {
     "name": "stdout",
     "output_type": "stream",
     "text": [
      "0.02840235559045769\n",
      "0.05552472990680827\n",
      "0.1461652773983168\n",
      "0.015401154577182108\n",
      "0.0545922356378945\n"
     ]
    },
    {
     "name": "stderr",
     "output_type": "stream",
     "text": [
      "\r",
      "7it [00:13,  1.88s/it]"
     ]
    },
    {
     "name": "stdout",
     "output_type": "stream",
     "text": [
      "0.0332469760759402\n",
      "0.016604462131619493\n",
      "0.09726430427296784\n",
      "0.014661829194991031\n",
      "0.05951238479826985\n"
     ]
    },
    {
     "name": "stderr",
     "output_type": "stream",
     "text": [
      "\r",
      "8it [00:15,  1.89s/it]"
     ]
    },
    {
     "name": "stdout",
     "output_type": "stream",
     "text": [
      "0.18775281082593154\n",
      "0.013480766280444052\n",
      "0.01338703395658829\n",
      "0.08606035453954058\n",
      "0.02780327819682074\n"
     ]
    },
    {
     "name": "stderr",
     "output_type": "stream",
     "text": [
      "\r",
      "9it [00:16,  1.88s/it]"
     ]
    },
    {
     "name": "stdout",
     "output_type": "stream",
     "text": [
      "0.06904547165612099\n",
      "0.18112265466091085\n",
      "0.045201887704303764\n",
      "0.2023837723281842\n",
      "0.04746928471441632\n"
     ]
    },
    {
     "name": "stderr",
     "output_type": "stream",
     "text": [
      "\r",
      "10it [00:18,  1.88s/it]"
     ]
    },
    {
     "name": "stdout",
     "output_type": "stream",
     "text": [
      "0.07394800082151327\n",
      "0.12969784124164477\n",
      "0.01036101181336247\n",
      "0.02112785177291134\n",
      "0.035686265445833816\n"
     ]
    },
    {
     "name": "stderr",
     "output_type": "stream",
     "text": [
      "\r",
      "11it [00:20,  1.88s/it]"
     ]
    },
    {
     "name": "stdout",
     "output_type": "stream",
     "text": [
      "0.053225353048013596\n",
      "0.06459918039529443\n",
      "0.051818308705766675\n",
      "0.042133689758463065\n",
      "0.11562264644764307\n"
     ]
    },
    {
     "name": "stderr",
     "output_type": "stream",
     "text": [
      "\r",
      "12it [00:22,  1.89s/it]"
     ]
    },
    {
     "name": "stdout",
     "output_type": "stream",
     "text": [
      "0.032892285828716034\n",
      "0.02881080063020829\n",
      "0.08853324616019376\n",
      "0.09051766387745419\n",
      "0.004416060123460223\n"
     ]
    },
    {
     "name": "stderr",
     "output_type": "stream",
     "text": [
      "\r",
      "13it [00:24,  1.89s/it]"
     ]
    },
    {
     "name": "stdout",
     "output_type": "stream",
     "text": [
      "0.07789895391476113\n",
      "0.07356165963463927\n",
      "0.1302498080479563\n",
      "0.05437588263691025\n",
      "0.029992961418871613\n"
     ]
    },
    {
     "name": "stderr",
     "output_type": "stream",
     "text": [
      "\r",
      "14it [00:26,  1.89s/it]"
     ]
    },
    {
     "name": "stdout",
     "output_type": "stream",
     "text": [
      "0.09245608902871214\n",
      "0.06099033378124812\n",
      "0.08489962727794333\n",
      "0.0072601650691163895\n",
      "0.04048551717735462\n"
     ]
    },
    {
     "name": "stderr",
     "output_type": "stream",
     "text": [
      "\r",
      "15it [00:28,  1.89s/it]"
     ]
    },
    {
     "name": "stdout",
     "output_type": "stream",
     "text": [
      "0.029715505362208783\n",
      "0.08933253731875353\n",
      "0.02868119057682658\n",
      "0.20823589182168095\n",
      "0.2045774878563619\n"
     ]
    },
    {
     "name": "stderr",
     "output_type": "stream",
     "text": [
      "\r",
      "16it [00:30,  1.89s/it]"
     ]
    },
    {
     "name": "stdout",
     "output_type": "stream",
     "text": [
      "0.12260362445926512\n",
      "0.014813147399816817\n",
      "0.10647147563818622\n",
      "0.1750241241579058\n",
      "0.12811732498606454\n"
     ]
    },
    {
     "name": "stderr",
     "output_type": "stream",
     "text": [
      "\r",
      "17it [00:32,  1.89s/it]"
     ]
    },
    {
     "name": "stdout",
     "output_type": "stream",
     "text": [
      "0.091743066404699\n",
      "0.0858571791753791\n",
      "0.033320823476367535\n",
      "0.03368757785966906\n",
      "0.0157623934578504\n"
     ]
    },
    {
     "name": "stderr",
     "output_type": "stream",
     "text": [
      "\r",
      "18it [00:33,  1.89s/it]"
     ]
    },
    {
     "name": "stdout",
     "output_type": "stream",
     "text": [
      "0.113295590630015\n",
      "0.14704430202301932\n",
      "0.05470367102929272\n",
      "0.013615720397202644\n",
      "0.0067567308699246365\n"
     ]
    },
    {
     "name": "stderr",
     "output_type": "stream",
     "text": [
      "\r",
      "19it [00:35,  1.88s/it]"
     ]
    },
    {
     "name": "stdout",
     "output_type": "stream",
     "text": [
      "0.21889593645958363\n",
      "0.07634005072896215\n",
      "0.08813615842290866\n",
      "0.194198499452177\n",
      "0.04247415336116992\n"
     ]
    },
    {
     "name": "stderr",
     "output_type": "stream",
     "text": [
      "\r",
      "20it [00:37,  1.88s/it]"
     ]
    },
    {
     "name": "stdout",
     "output_type": "stream",
     "text": [
      "0.05780175009406318\n",
      "0.08505448058134006\n",
      "0.0012935395592998309\n",
      "0.0018358725627695264\n",
      "0.14786949628218468\n"
     ]
    },
    {
     "name": "stderr",
     "output_type": "stream",
     "text": [
      "\r",
      "21it [00:39,  1.89s/it]"
     ]
    },
    {
     "name": "stdout",
     "output_type": "stream",
     "text": [
      "0.05102706539998502\n",
      "0.01682903721643661\n",
      "0.12067571486114029\n",
      "0.07792786892232696\n",
      "0.09469914090264299\n"
     ]
    },
    {
     "name": "stderr",
     "output_type": "stream",
     "text": [
      "\r",
      "22it [00:41,  1.90s/it]"
     ]
    },
    {
     "name": "stdout",
     "output_type": "stream",
     "text": [
      "0.012929888135584593\n",
      "0.06077288389737215\n",
      "0.06399278454728428\n",
      "0.12739197092825813\n",
      "0.11583583996368403\n"
     ]
    },
    {
     "name": "stderr",
     "output_type": "stream",
     "text": [
      "\r",
      "23it [00:43,  1.89s/it]"
     ]
    },
    {
     "name": "stdout",
     "output_type": "stream",
     "text": [
      "0.06774525977627686\n",
      "0.08297186361052039\n",
      "0.04933755596607989\n",
      "0.018712931015402782\n",
      "0.10800149259377795\n"
     ]
    },
    {
     "name": "stderr",
     "output_type": "stream",
     "text": [
      "\r",
      "24it [00:45,  1.89s/it]"
     ]
    },
    {
     "name": "stdout",
     "output_type": "stream",
     "text": [
      "0.13983446068720828\n",
      "0.07552035227986675\n",
      "0.05070616279895212\n",
      "0.022334936429075136\n",
      "0.035812670857896446\n"
     ]
    },
    {
     "name": "stderr",
     "output_type": "stream",
     "text": [
      "\r",
      "25it [00:47,  1.89s/it]"
     ]
    },
    {
     "name": "stdout",
     "output_type": "stream",
     "text": [
      "0.011518900359874346\n",
      "0.14267757318892402\n",
      "0.08638680617338605\n",
      "0.16472772084794765\n",
      "0.013477251693397372\n"
     ]
    },
    {
     "name": "stderr",
     "output_type": "stream",
     "text": [
      "\r",
      "26it [00:49,  1.89s/it]"
     ]
    },
    {
     "name": "stdout",
     "output_type": "stream",
     "text": [
      "0.005832062733229299\n",
      "0.16687916593371516\n",
      "0.07017528498880242\n",
      "0.0751139342306162\n",
      "0.1502030728659735\n"
     ]
    },
    {
     "name": "stderr",
     "output_type": "stream",
     "text": [
      "\r",
      "27it [00:50,  1.89s/it]"
     ]
    },
    {
     "name": "stdout",
     "output_type": "stream",
     "text": [
      "0.04012748244637352\n",
      "0.03400998001785662\n",
      "0.026664974367189648\n",
      "0.09309937054796671\n",
      "0.07939862785320127\n"
     ]
    },
    {
     "name": "stderr",
     "output_type": "stream",
     "text": [
      "\r",
      "28it [00:52,  1.88s/it]"
     ]
    },
    {
     "name": "stdout",
     "output_type": "stream",
     "text": [
      "0.00618665623953393\n",
      "0.08081021318508257\n",
      "0.07776505312393535\n",
      "0.03304936126652573\n",
      "0.09622232206309728\n"
     ]
    },
    {
     "name": "stderr",
     "output_type": "stream",
     "text": [
      "\r",
      "29it [00:54,  1.89s/it]"
     ]
    },
    {
     "name": "stdout",
     "output_type": "stream",
     "text": [
      "0.1935330592322504\n",
      "0.15790993463858957\n",
      "0.14300420437993128\n",
      "0.11414611154683613\n",
      "0.023695710545593246\n"
     ]
    },
    {
     "name": "stderr",
     "output_type": "stream",
     "text": [
      "\r",
      "30it [00:56,  1.89s/it]"
     ]
    },
    {
     "name": "stdout",
     "output_type": "stream",
     "text": [
      "0.07916396294535227\n",
      "0.05854393068075925\n",
      "0.03998623531485593\n",
      "0.06907002837089414\n",
      "0.02499867090839113\n"
     ]
    },
    {
     "name": "stderr",
     "output_type": "stream",
     "text": [
      "\r",
      "31it [00:58,  1.89s/it]"
     ]
    },
    {
     "name": "stdout",
     "output_type": "stream",
     "text": [
      "0.026444036314393113\n",
      "0.03485011053350325\n",
      "0.1115894254310506\n",
      "0.030348389934009665\n",
      "0.10748055055456654\n"
     ]
    },
    {
     "name": "stderr",
     "output_type": "stream",
     "text": [
      "\r",
      "32it [01:00,  1.88s/it]"
     ]
    },
    {
     "name": "stdout",
     "output_type": "stream",
     "text": [
      "0.06975834349586284\n",
      "0.03490342680913654\n",
      "0.13454653073960138\n",
      "0.11921926019969163\n",
      "0.1573950270066707\n"
     ]
    },
    {
     "name": "stderr",
     "output_type": "stream",
     "text": [
      "\r",
      "33it [01:02,  1.88s/it]"
     ]
    },
    {
     "name": "stdout",
     "output_type": "stream",
     "text": [
      "0.04195230230336819\n",
      "0.02443724635427233\n",
      "0.1093132067780987\n",
      "0.11162422527577497\n",
      "0.07659439704597193\n"
     ]
    },
    {
     "name": "stderr",
     "output_type": "stream",
     "text": [
      "\r",
      "34it [01:04,  1.88s/it]"
     ]
    },
    {
     "name": "stdout",
     "output_type": "stream",
     "text": [
      "0.10145340989638085\n",
      "0.1175429879491571\n",
      "0.10846223701526364\n",
      "0.024528832242361524\n",
      "0.18445501983904072\n"
     ]
    },
    {
     "name": "stderr",
     "output_type": "stream",
     "text": [
      "\r",
      "35it [01:06,  1.88s/it]"
     ]
    },
    {
     "name": "stdout",
     "output_type": "stream",
     "text": [
      "0.12752321432861846\n",
      "0.010993293550086021\n",
      "0.14418048351622886\n",
      "0.02980004199149951\n",
      "0.06590326435001216\n"
     ]
    },
    {
     "name": "stderr",
     "output_type": "stream",
     "text": [
      "\r",
      "36it [01:07,  1.88s/it]"
     ]
    },
    {
     "name": "stdout",
     "output_type": "stream",
     "text": [
      "0.015392433747420407\n",
      "0.069022366398605\n",
      "0.016299882037407898\n",
      "0.06285058852547257\n",
      "0.019787521353164778\n"
     ]
    },
    {
     "name": "stderr",
     "output_type": "stream",
     "text": [
      "\r",
      "37it [01:09,  1.89s/it]"
     ]
    },
    {
     "name": "stdout",
     "output_type": "stream",
     "text": [
      "0.027287892444512154\n",
      "0.11897476080515679\n",
      "0.15950671478475226\n",
      "0.13273896482121977\n",
      "0.2758348075740541\n"
     ]
    },
    {
     "name": "stderr",
     "output_type": "stream",
     "text": [
      "\r",
      "38it [01:11,  1.89s/it]"
     ]
    },
    {
     "name": "stdout",
     "output_type": "stream",
     "text": [
      "0.08215777131385926\n",
      "0.08196887313198045\n",
      "0.020900423340358583\n",
      "0.001290147495647242\n",
      "0.012234457548691069\n"
     ]
    },
    {
     "name": "stderr",
     "output_type": "stream",
     "text": [
      "\r",
      "39it [01:13,  1.88s/it]"
     ]
    },
    {
     "name": "stdout",
     "output_type": "stream",
     "text": [
      "0.10448746767213334\n",
      "0.017139402081429434\n",
      "0.01997557797428286\n",
      "0.02424261267096013\n",
      "0.07647528264754622\n"
     ]
    },
    {
     "name": "stderr",
     "output_type": "stream",
     "text": [
      "\r",
      "40it [01:15,  1.89s/it]"
     ]
    },
    {
     "name": "stdout",
     "output_type": "stream",
     "text": [
      "0.04319722948465796\n",
      "0.05480440763727565\n",
      "0.05456211636451959\n",
      "0.07634724023397838\n",
      "0.08390863917138841\n"
     ]
    },
    {
     "name": "stderr",
     "output_type": "stream",
     "text": [
      "\r",
      "41it [01:17,  1.90s/it]"
     ]
    },
    {
     "name": "stdout",
     "output_type": "stream",
     "text": [
      "0.047903093486646016\n",
      "0.021966416853063293\n",
      "0.08871553074331794\n",
      "0.12087596372204917\n",
      "0.13386251874445465\n"
     ]
    },
    {
     "name": "stderr",
     "output_type": "stream",
     "text": [
      "\r",
      "42it [01:19,  1.92s/it]"
     ]
    },
    {
     "name": "stdout",
     "output_type": "stream",
     "text": [
      "0.010405117699990446\n",
      "0.10199958382935033\n",
      "0.12902695241390202\n",
      "0.10127679862245115\n",
      "0.008994889814503193\n"
     ]
    },
    {
     "name": "stderr",
     "output_type": "stream",
     "text": [
      "\r",
      "43it [01:21,  1.91s/it]"
     ]
    },
    {
     "name": "stdout",
     "output_type": "stream",
     "text": [
      "0.011163107389858868\n",
      "0.1762775016694119\n",
      "0.07593307692219606\n",
      "0.11113215414691578\n",
      "0.1134215630619909\n"
     ]
    },
    {
     "name": "stderr",
     "output_type": "stream",
     "text": [
      "\r",
      "44it [01:23,  1.91s/it]"
     ]
    },
    {
     "name": "stdout",
     "output_type": "stream",
     "text": [
      "0.04972943739220071\n",
      "0.001222330739822538\n",
      "0.04850825436700673\n",
      "0.08447330770808478\n",
      "0.11733093850614953\n"
     ]
    },
    {
     "name": "stderr",
     "output_type": "stream",
     "text": [
      "\r",
      "45it [01:25,  1.90s/it]"
     ]
    },
    {
     "name": "stdout",
     "output_type": "stream",
     "text": [
      "0.06433004626225934\n",
      "0.020067223264881775\n",
      "0.06609902522118552\n",
      "0.11578971052263194\n",
      "0.08995069966255483\n"
     ]
    },
    {
     "name": "stderr",
     "output_type": "stream",
     "text": [
      "\r",
      "46it [01:26,  1.91s/it]"
     ]
    },
    {
     "name": "stdout",
     "output_type": "stream",
     "text": [
      "0.03232371611505541\n",
      "0.026093075559344744\n",
      "0.017930665675583057\n",
      "0.1050106307673908\n",
      "0.1416219619759489\n"
     ]
    },
    {
     "name": "stderr",
     "output_type": "stream",
     "text": [
      "\r",
      "47it [01:28,  1.90s/it]"
     ]
    },
    {
     "name": "stdout",
     "output_type": "stream",
     "text": [
      "0.03357206214018193\n",
      "0.15184088981853916\n",
      "0.10589947627841033\n",
      "0.14385184980143814\n",
      "0.12066412508470231\n"
     ]
    },
    {
     "name": "stderr",
     "output_type": "stream",
     "text": [
      "\r",
      "48it [01:30,  1.89s/it]"
     ]
    },
    {
     "name": "stdout",
     "output_type": "stream",
     "text": [
      "0.14612790194260109\n",
      "0.04683991710700941\n",
      "0.057037694272468666\n",
      "0.10229176365522728\n",
      "0.016786845463839652\n"
     ]
    },
    {
     "name": "stderr",
     "output_type": "stream",
     "text": [
      "\r",
      "49it [01:32,  1.89s/it]"
     ]
    },
    {
     "name": "stdout",
     "output_type": "stream",
     "text": [
      "0.00025961516667695055\n",
      "0.18392494985962693\n",
      "0.05813545147323626\n",
      "0.08039040796452863\n",
      "0.11635966674955851\n"
     ]
    },
    {
     "name": "stderr",
     "output_type": "stream",
     "text": [
      "\r",
      "50it [01:34,  1.89s/it]"
     ]
    },
    {
     "name": "stdout",
     "output_type": "stream",
     "text": [
      "0.06099060923131529\n",
      "0.06076163231803984\n",
      "0.09076311440985445\n",
      "0.05929897513832008\n",
      "0.16870032086885997\n"
     ]
    },
    {
     "name": "stderr",
     "output_type": "stream",
     "text": [
      "\r",
      "51it [01:36,  1.89s/it]"
     ]
    },
    {
     "name": "stdout",
     "output_type": "stream",
     "text": [
      "0.09427027194390442\n",
      "0.01341161739778573\n",
      "0.01723842614565604\n",
      "0.09470371603104638\n",
      "0.04186165957154265\n"
     ]
    },
    {
     "name": "stderr",
     "output_type": "stream",
     "text": [
      "\r",
      "52it [01:38,  1.88s/it]"
     ]
    },
    {
     "name": "stdout",
     "output_type": "stream",
     "text": [
      "0.0750090211591215\n",
      "0.04388235846150664\n",
      "0.044979739234306704\n",
      "0.1475695075883623\n",
      "0.0768791790247431\n"
     ]
    },
    {
     "name": "stderr",
     "output_type": "stream",
     "text": [
      "\r",
      "53it [01:40,  1.88s/it]"
     ]
    },
    {
     "name": "stdout",
     "output_type": "stream",
     "text": [
      "0.0038444022901856357\n",
      "0.10093392046146916\n",
      "0.07320091764218625\n",
      "0.025067626021513828\n",
      "0.04437401162298078\n"
     ]
    },
    {
     "name": "stderr",
     "output_type": "stream",
     "text": [
      "\r",
      "54it [01:42,  1.89s/it]"
     ]
    },
    {
     "name": "stdout",
     "output_type": "stream",
     "text": [
      "0.07463934932780607\n",
      "0.06931294032945635\n",
      "0.1389375166431062\n",
      "0.06524422635794845\n",
      "0.0180448670374276\n"
     ]
    },
    {
     "name": "stderr",
     "output_type": "stream",
     "text": [
      "\r",
      "55it [01:43,  1.88s/it]"
     ]
    },
    {
     "name": "stdout",
     "output_type": "stream",
     "text": [
      "0.3274310562154278\n",
      "0.0058203822207016\n",
      "0.03700749063628026\n",
      "0.08949887795670045\n",
      "0.09089229603766696\n"
     ]
    },
    {
     "name": "stderr",
     "output_type": "stream",
     "text": [
      "\r",
      "56it [01:45,  1.88s/it]"
     ]
    },
    {
     "name": "stdout",
     "output_type": "stream",
     "text": [
      "0.11949680997846866\n",
      "0.03497319060172329\n",
      "0.14034763165240563\n",
      "0.14856679425986571\n",
      "0.061716976824829475\n"
     ]
    },
    {
     "name": "stderr",
     "output_type": "stream",
     "text": [
      "\r",
      "57it [01:47,  1.88s/it]"
     ]
    },
    {
     "name": "stdout",
     "output_type": "stream",
     "text": [
      "0.15343779942214308\n",
      "0.11606286261586547\n",
      "0.1603648541456707\n",
      "0.14701636096089477\n",
      "0.06218259474135264\n"
     ]
    },
    {
     "name": "stderr",
     "output_type": "stream",
     "text": [
      "\r",
      "58it [01:49,  1.88s/it]"
     ]
    },
    {
     "name": "stdout",
     "output_type": "stream",
     "text": [
      "0.005766400978675319\n",
      "0.20945724711366892\n",
      "0.13700008416857676\n",
      "0.00039615107502042354\n",
      "0.03545795482827784\n"
     ]
    },
    {
     "name": "stderr",
     "output_type": "stream",
     "text": [
      "\r",
      "59it [01:51,  1.87s/it]"
     ]
    },
    {
     "name": "stdout",
     "output_type": "stream",
     "text": [
      "0.03155937904718575\n",
      "0.17740349050573634\n",
      "0.08301575220138709\n",
      "0.0752873382085078\n",
      "0.11522221744265448\n"
     ]
    },
    {
     "name": "stderr",
     "output_type": "stream",
     "text": [
      "\r",
      "60it [01:53,  1.89s/it]"
     ]
    },
    {
     "name": "stdout",
     "output_type": "stream",
     "text": [
      "0.2319078398336316\n",
      "0.07002600337231533\n",
      "0.11069464895483204\n",
      "0.16703724369110606\n",
      "0.08293132301824477\n"
     ]
    },
    {
     "name": "stderr",
     "output_type": "stream",
     "text": [
      "\r",
      "61it [01:55,  1.90s/it]"
     ]
    },
    {
     "name": "stdout",
     "output_type": "stream",
     "text": [
      "0.0883421362897697\n",
      "0.04831635490141376\n",
      "0.12143286279288841\n",
      "0.0035344766604453078\n",
      "0.08151716491283062\n"
     ]
    },
    {
     "name": "stderr",
     "output_type": "stream",
     "text": [
      "\r",
      "62it [01:57,  1.92s/it]"
     ]
    },
    {
     "name": "stdout",
     "output_type": "stream",
     "text": [
      "0.12895116038220436\n",
      "0.09010558680186988\n",
      "0.11293596475642481\n",
      "0.01999862598616083\n",
      "0.06277708957830765\n"
     ]
    },
    {
     "name": "stderr",
     "output_type": "stream",
     "text": [
      "\r",
      "63it [01:59,  1.91s/it]"
     ]
    },
    {
     "name": "stdout",
     "output_type": "stream",
     "text": [
      "0.07875298566154809\n",
      "0.12347498340299548\n",
      "0.012318299919666958\n",
      "0.11357532363900752\n",
      "0.11964591942760938\n"
     ]
    },
    {
     "name": "stderr",
     "output_type": "stream",
     "text": [
      "\r",
      "64it [02:01,  1.91s/it]"
     ]
    },
    {
     "name": "stdout",
     "output_type": "stream",
     "text": [
      "0.13376781046094255\n",
      "0.022481764973353333\n",
      "0.015074617325021031\n",
      "0.03170519551095915\n",
      "0.08645691737987242\n"
     ]
    },
    {
     "name": "stderr",
     "output_type": "stream",
     "text": [
      "\r",
      "65it [02:02,  1.91s/it]"
     ]
    },
    {
     "name": "stdout",
     "output_type": "stream",
     "text": [
      "0.12237906444752876\n",
      "0.21809842731156254\n",
      "0.05716352448822291\n",
      "0.019867131596369894\n",
      "0.04868333617409032\n"
     ]
    },
    {
     "name": "stderr",
     "output_type": "stream",
     "text": [
      "\r",
      "66it [02:04,  1.92s/it]"
     ]
    },
    {
     "name": "stdout",
     "output_type": "stream",
     "text": [
      "0.05563221907016613\n",
      "0.027083392585671964\n",
      "0.044837948926356015\n",
      "0.16546813135763125\n",
      "0.11840153786384122\n"
     ]
    },
    {
     "name": "stderr",
     "output_type": "stream",
     "text": [
      "\r",
      "67it [02:06,  1.91s/it]"
     ]
    },
    {
     "name": "stdout",
     "output_type": "stream",
     "text": [
      "0.19494978865582857\n",
      "0.025489402306851927\n",
      "0.03908985881617976\n",
      "0.21288160335411754\n",
      "0.28078126727236896\n"
     ]
    },
    {
     "name": "stderr",
     "output_type": "stream",
     "text": [
      "\r",
      "68it [02:08,  1.90s/it]"
     ]
    },
    {
     "name": "stdout",
     "output_type": "stream",
     "text": [
      "0.04907622428523206\n",
      "0.06170627978880692\n",
      "0.03586572294789847\n",
      "0.161012988748843\n",
      "0.021122864102320112\n"
     ]
    },
    {
     "name": "stderr",
     "output_type": "stream",
     "text": [
      "\r",
      "69it [02:10,  1.90s/it]"
     ]
    },
    {
     "name": "stdout",
     "output_type": "stream",
     "text": [
      "0.10607200577115893\n",
      "0.05374266285317963\n",
      "0.056044021681377704\n",
      "0.018564155884305135\n",
      "0.041687922594251976\n"
     ]
    },
    {
     "name": "stderr",
     "output_type": "stream",
     "text": [
      "\r",
      "70it [02:12,  1.92s/it]"
     ]
    },
    {
     "name": "stdout",
     "output_type": "stream",
     "text": [
      "0.14134070594648493\n",
      "0.04779724719063563\n",
      "0.08365452678523924\n",
      "0.14606775221879242\n",
      "0.02618017384577899\n"
     ]
    },
    {
     "name": "stderr",
     "output_type": "stream",
     "text": [
      "\r",
      "71it [02:14,  1.91s/it]"
     ]
    },
    {
     "name": "stdout",
     "output_type": "stream",
     "text": [
      "0.08610973230422334\n",
      "0.15518764897576653\n",
      "0.11456061516143153\n",
      "0.04065918830302176\n",
      "0.11032309351346647\n"
     ]
    },
    {
     "name": "stderr",
     "output_type": "stream",
     "text": [
      "\r",
      "72it [02:16,  1.90s/it]"
     ]
    },
    {
     "name": "stdout",
     "output_type": "stream",
     "text": [
      "0.00021994859678264937\n",
      "0.16371880007203643\n",
      "0.15097632336036027\n",
      "0.1784825203876095\n",
      "0.14448576631318896\n"
     ]
    },
    {
     "name": "stderr",
     "output_type": "stream",
     "text": [
      "\r",
      "73it [02:18,  1.90s/it]"
     ]
    },
    {
     "name": "stdout",
     "output_type": "stream",
     "text": [
      "0.05056792849636184\n",
      "0.013906038520449061\n",
      "0.053961452263380054\n",
      "0.019483213068536828\n",
      "0.06255286954167133\n"
     ]
    },
    {
     "name": "stderr",
     "output_type": "stream",
     "text": [
      "\r",
      "74it [02:19,  1.89s/it]"
     ]
    },
    {
     "name": "stdout",
     "output_type": "stream",
     "text": [
      "0.029762345887635516\n",
      "0.06486311316559565\n",
      "0.130108346606825\n",
      "0.10692926086808208\n",
      "0.1134816883861281\n"
     ]
    },
    {
     "name": "stderr",
     "output_type": "stream",
     "text": [
      "\r",
      "75it [02:21,  1.89s/it]"
     ]
    },
    {
     "name": "stdout",
     "output_type": "stream",
     "text": [
      "0.12461407006233038\n",
      "0.029653120045424194\n",
      "0.21038408677504594\n",
      "0.059897820092696244\n",
      "0.12288000372536995\n"
     ]
    },
    {
     "name": "stderr",
     "output_type": "stream",
     "text": [
      "\r",
      "76it [02:23,  1.89s/it]"
     ]
    },
    {
     "name": "stdout",
     "output_type": "stream",
     "text": [
      "0.05032656263553531\n",
      "0.029078081978303402\n",
      "0.07198524751510586\n",
      "0.00261745721274421\n",
      "0.17076118934387494\n"
     ]
    },
    {
     "name": "stderr",
     "output_type": "stream",
     "text": [
      "\r",
      "77it [02:25,  1.89s/it]"
     ]
    },
    {
     "name": "stdout",
     "output_type": "stream",
     "text": [
      "0.03146786020147784\n",
      "0.1439980835188209\n",
      "0.0025077627048588364\n",
      "0.09900873997555008\n",
      "0.022048542333467213\n"
     ]
    },
    {
     "name": "stderr",
     "output_type": "stream",
     "text": [
      "\r",
      "78it [02:27,  1.89s/it]"
     ]
    },
    {
     "name": "stdout",
     "output_type": "stream",
     "text": [
      "0.22739216342072543\n",
      "0.00681489302614855\n",
      "0.11663606403651793\n",
      "0.05740058502925062\n",
      "0.10179789972357325\n"
     ]
    },
    {
     "name": "stderr",
     "output_type": "stream",
     "text": [
      "\r",
      "79it [02:29,  1.88s/it]"
     ]
    },
    {
     "name": "stdout",
     "output_type": "stream",
     "text": [
      "0.03671651389788737\n",
      "0.0511673336058055\n",
      "0.019000753972088266\n",
      "0.003757521208740844\n",
      "0.25366902055893226\n"
     ]
    },
    {
     "name": "stderr",
     "output_type": "stream",
     "text": [
      "\r",
      "80it [02:31,  1.90s/it]"
     ]
    },
    {
     "name": "stdout",
     "output_type": "stream",
     "text": [
      "0.14133641385100534\n",
      "0.00887349890740267\n",
      "0.05550426375138206\n",
      "0.01889878413109198\n",
      "0.03291219632829837\n"
     ]
    },
    {
     "name": "stderr",
     "output_type": "stream",
     "text": [
      "\r",
      "81it [02:33,  1.91s/it]"
     ]
    },
    {
     "name": "stdout",
     "output_type": "stream",
     "text": [
      "0.16850446252646664\n",
      "0.03937615575548778\n",
      "0.044225526789879926\n",
      "0.03910310565135199\n",
      "0.031475026039089846\n"
     ]
    },
    {
     "name": "stderr",
     "output_type": "stream",
     "text": [
      "\r",
      "82it [02:35,  1.90s/it]"
     ]
    },
    {
     "name": "stdout",
     "output_type": "stream",
     "text": [
      "0.14893438614467822\n",
      "0.03401136586498309\n",
      "0.05531764556458915\n",
      "0.001785205991163801\n",
      "0.11138849297939633\n"
     ]
    },
    {
     "name": "stderr",
     "output_type": "stream",
     "text": [
      "\r",
      "83it [02:37,  1.91s/it]"
     ]
    },
    {
     "name": "stdout",
     "output_type": "stream",
     "text": [
      "0.032832371028672334\n",
      "0.023458891359343058\n",
      "0.04572660256045652\n",
      "0.1713173350082284\n",
      "0.15701899113573986\n"
     ]
    },
    {
     "name": "stderr",
     "output_type": "stream",
     "text": [
      "\r",
      "84it [02:39,  1.92s/it]"
     ]
    },
    {
     "name": "stdout",
     "output_type": "stream",
     "text": [
      "0.04305718702718037\n",
      "0.05502647308068709\n",
      "0.15126567937559537\n",
      "0.02830075290178287\n",
      "0.03209959067177955\n"
     ]
    },
    {
     "name": "stderr",
     "output_type": "stream",
     "text": [
      "\r",
      "85it [02:40,  1.92s/it]"
     ]
    },
    {
     "name": "stdout",
     "output_type": "stream",
     "text": [
      "0.08083633441964505\n",
      "0.003804412923745161\n",
      "0.045261400356572355\n",
      "0.14401344654572132\n",
      "0.07754279581898708\n"
     ]
    },
    {
     "name": "stderr",
     "output_type": "stream",
     "text": [
      "\r",
      "86it [02:42,  1.91s/it]"
     ]
    },
    {
     "name": "stdout",
     "output_type": "stream",
     "text": [
      "0.05267831946845441\n",
      "0.21636271183890618\n",
      "0.20182771465964233\n",
      "0.009523571903398968\n",
      "0.08584168064709737\n"
     ]
    },
    {
     "name": "stderr",
     "output_type": "stream",
     "text": [
      "\r",
      "87it [02:44,  1.91s/it]"
     ]
    },
    {
     "name": "stdout",
     "output_type": "stream",
     "text": [
      "0.04815461751352839\n",
      "0.05177321671370349\n",
      "0.11599073789429537\n",
      "0.021665187466395317\n",
      "0.11710055537369209\n"
     ]
    },
    {
     "name": "stderr",
     "output_type": "stream",
     "text": [
      "\r",
      "88it [02:46,  1.90s/it]"
     ]
    },
    {
     "name": "stdout",
     "output_type": "stream",
     "text": [
      "0.06264402524104916\n",
      "0.10983421245855517\n",
      "0.04160950599583338\n",
      "0.09595201642507127\n",
      "0.05349819850552001\n"
     ]
    },
    {
     "name": "stderr",
     "output_type": "stream",
     "text": [
      "\r",
      "89it [02:48,  1.90s/it]"
     ]
    },
    {
     "name": "stdout",
     "output_type": "stream",
     "text": [
      "0.09101268381917033\n",
      "0.13702341323306655\n",
      "0.006200605558338912\n",
      "0.10566377820469207\n",
      "0.1080307438976744\n"
     ]
    },
    {
     "name": "stderr",
     "output_type": "stream",
     "text": [
      "\r",
      "90it [02:50,  1.89s/it]"
     ]
    },
    {
     "name": "stdout",
     "output_type": "stream",
     "text": [
      "0.01470151344834258\n",
      "0.07545794604685058\n",
      "0.04507233631223649\n",
      "0.2640434744495934\n",
      "0.011638761169184745\n"
     ]
    },
    {
     "name": "stderr",
     "output_type": "stream",
     "text": [
      "\r",
      "91it [02:52,  1.90s/it]"
     ]
    },
    {
     "name": "stdout",
     "output_type": "stream",
     "text": [
      "0.07286974533245565\n",
      "0.11855681181210197\n",
      "0.05832725477853473\n",
      "0.02066745511935855\n",
      "0.1496627674383643\n"
     ]
    },
    {
     "name": "stderr",
     "output_type": "stream",
     "text": [
      "\r",
      "92it [02:54,  1.90s/it]"
     ]
    },
    {
     "name": "stdout",
     "output_type": "stream",
     "text": [
      "0.12389194071506895\n",
      "0.021212674810173842\n",
      "0.04229503744193175\n",
      "0.01141113372010172\n",
      "0.030158828480000635\n"
     ]
    },
    {
     "name": "stderr",
     "output_type": "stream",
     "text": [
      "\r",
      "93it [02:56,  1.89s/it]"
     ]
    },
    {
     "name": "stdout",
     "output_type": "stream",
     "text": [
      "0.11986548432763602\n",
      "0.17993798429388663\n",
      "0.21195271048950853\n",
      "0.11852182357071946\n",
      "0.1444932361555494\n"
     ]
    },
    {
     "name": "stderr",
     "output_type": "stream",
     "text": [
      "\r",
      "94it [02:57,  1.89s/it]"
     ]
    },
    {
     "name": "stdout",
     "output_type": "stream",
     "text": [
      "0.013549207571185657\n",
      "0.10097180534030303\n",
      "0.06679209406022403\n",
      "0.1055665532535183\n",
      "0.15444951613946656\n"
     ]
    },
    {
     "name": "stderr",
     "output_type": "stream",
     "text": [
      "\r",
      "95it [02:59,  1.89s/it]"
     ]
    },
    {
     "name": "stdout",
     "output_type": "stream",
     "text": [
      "0.04757875672581811\n",
      "0.08907830069684561\n",
      "0.011709456741001057\n",
      "0.0213519633539263\n",
      "0.006807567688820102\n"
     ]
    },
    {
     "name": "stderr",
     "output_type": "stream",
     "text": [
      "\r",
      "96it [03:01,  1.88s/it]"
     ]
    },
    {
     "name": "stdout",
     "output_type": "stream",
     "text": [
      "0.08525191843838931\n",
      "0.10926465413560349\n",
      "0.11182861961062357\n",
      "0.13383431988485026\n",
      "0.029234520851928476\n"
     ]
    },
    {
     "name": "stderr",
     "output_type": "stream",
     "text": [
      "\r",
      "97it [03:03,  1.87s/it]"
     ]
    },
    {
     "name": "stdout",
     "output_type": "stream",
     "text": [
      "0.14361611155351198\n",
      "0.024075544300289686\n",
      "0.15168477602654082\n",
      "0.09347156349707976\n",
      "0.10584874662452014\n"
     ]
    },
    {
     "name": "stderr",
     "output_type": "stream",
     "text": [
      "\r",
      "98it [03:05,  1.88s/it]"
     ]
    },
    {
     "name": "stdout",
     "output_type": "stream",
     "text": [
      "0.04942852580508737\n",
      "0.05575077127513078\n",
      "0.05525031479336047\n",
      "0.12702258241228712\n",
      "0.028121784743804654\n"
     ]
    },
    {
     "name": "stderr",
     "output_type": "stream",
     "text": [
      "\r",
      "99it [03:07,  1.89s/it]"
     ]
    },
    {
     "name": "stdout",
     "output_type": "stream",
     "text": [
      "0.15556841596275922\n",
      "0.07261236048807648\n",
      "0.03819557452998459\n",
      "0.01989952329497564\n",
      "0.027783761847715388\n"
     ]
    },
    {
     "name": "stderr",
     "output_type": "stream",
     "text": [
      "\r",
      "100it [03:09,  1.91s/it]"
     ]
    },
    {
     "name": "stdout",
     "output_type": "stream",
     "text": [
      "0.011128269381045969\n",
      "0.08611283821740184\n",
      "0.14826283501440413\n",
      "0.11924591382843863\n",
      "0.10349420150219327\n"
     ]
    },
    {
     "name": "stderr",
     "output_type": "stream",
     "text": [
      "\r",
      "101it [03:11,  1.91s/it]"
     ]
    },
    {
     "name": "stdout",
     "output_type": "stream",
     "text": [
      "0.0013636732787298475\n",
      "0.13292043814318386\n",
      "0.01869611327824466\n",
      "0.10936997302605121\n",
      "0.05742123286809993\n"
     ]
    },
    {
     "name": "stderr",
     "output_type": "stream",
     "text": [
      "\r",
      "102it [03:13,  1.92s/it]"
     ]
    },
    {
     "name": "stdout",
     "output_type": "stream",
     "text": [
      "0.25943542181192497\n",
      "0.04052283940310499\n",
      "0.15090085940467024\n",
      "0.09471559314014916\n",
      "0.0752032493552157\n"
     ]
    },
    {
     "name": "stderr",
     "output_type": "stream",
     "text": [
      "\r",
      "103it [03:15,  1.92s/it]"
     ]
    },
    {
     "name": "stdout",
     "output_type": "stream",
     "text": [
      "0.06240696304131036\n",
      "0.021219041310806184\n",
      "0.12060254790023715\n",
      "0.10212636207823714\n",
      "0.14283247904467078\n"
     ]
    },
    {
     "name": "stderr",
     "output_type": "stream",
     "text": [
      "\r",
      "104it [03:17,  1.93s/it]"
     ]
    },
    {
     "name": "stdout",
     "output_type": "stream",
     "text": [
      "0.07841002413264452\n",
      "0.1321040766161999\n",
      "0.03364479633401806\n",
      "0.09569030650523762\n",
      "0.19889008832162297\n"
     ]
    },
    {
     "name": "stderr",
     "output_type": "stream",
     "text": [
      "\r",
      "105it [03:18,  1.92s/it]"
     ]
    },
    {
     "name": "stdout",
     "output_type": "stream",
     "text": [
      "0.04804415621847827\n",
      "0.09269528533852567\n",
      "0.07243840217552493\n",
      "0.19776186508835225\n",
      "0.20884463666556569\n"
     ]
    },
    {
     "name": "stderr",
     "output_type": "stream",
     "text": [
      "\r",
      "106it [03:20,  1.92s/it]"
     ]
    },
    {
     "name": "stdout",
     "output_type": "stream",
     "text": [
      "0.02715030988749217\n",
      "0.1850292911091188\n",
      "0.26695033241070965\n",
      "0.0353345645611696\n",
      "0.10544847947529389\n"
     ]
    },
    {
     "name": "stderr",
     "output_type": "stream",
     "text": [
      "\r",
      "107it [03:22,  1.92s/it]"
     ]
    },
    {
     "name": "stdout",
     "output_type": "stream",
     "text": [
      "0.014308411333674186\n",
      "0.17656355369534804\n",
      "0.04868851057585126\n",
      "0.09792600322658854\n",
      "0.1970656087787055\n"
     ]
    },
    {
     "name": "stderr",
     "output_type": "stream",
     "text": [
      "\r",
      "108it [03:24,  1.90s/it]"
     ]
    },
    {
     "name": "stdout",
     "output_type": "stream",
     "text": [
      "0.0863949484819183\n",
      "0.07768337984050538\n",
      "0.11995689901771867\n",
      "0.0439266595688233\n",
      "0.10771061893808234\n"
     ]
    },
    {
     "name": "stderr",
     "output_type": "stream",
     "text": [
      "\r",
      "109it [03:26,  1.90s/it]"
     ]
    },
    {
     "name": "stdout",
     "output_type": "stream",
     "text": [
      "0.0312330493943013\n",
      "0.08301209992682684\n",
      "0.014315915979420052\n",
      "0.0909406625955147\n",
      "0.007243734112260232\n"
     ]
    },
    {
     "name": "stderr",
     "output_type": "stream",
     "text": [
      "\r",
      "110it [03:28,  1.90s/it]"
     ]
    },
    {
     "name": "stdout",
     "output_type": "stream",
     "text": [
      "0.1193825514590579\n",
      "0.07889564797738774\n",
      "0.0789183315722768\n",
      "0.13680405869537168\n",
      "0.08442064112698099\n"
     ]
    },
    {
     "name": "stderr",
     "output_type": "stream",
     "text": [
      "\r",
      "111it [03:30,  1.90s/it]"
     ]
    },
    {
     "name": "stdout",
     "output_type": "stream",
     "text": [
      "0.09002735716460394\n",
      "0.018107756816857185\n",
      "0.025246587357929274\n",
      "0.007727087365212363\n",
      "0.08368389707819705\n"
     ]
    },
    {
     "name": "stderr",
     "output_type": "stream",
     "text": [
      "\r",
      "112it [03:32,  1.89s/it]"
     ]
    },
    {
     "name": "stdout",
     "output_type": "stream",
     "text": [
      "0.10080115968211262\n",
      "0.14252564639764773\n",
      "0.06530802751562531\n",
      "0.1599991483610893\n",
      "0.0378931238655401\n"
     ]
    },
    {
     "name": "stderr",
     "output_type": "stream",
     "text": [
      "\r",
      "113it [03:34,  1.90s/it]"
     ]
    },
    {
     "name": "stdout",
     "output_type": "stream",
     "text": [
      "0.0645284449122285\n",
      "0.06925315038085404\n",
      "0.10347249221589279\n",
      "0.06169814645979219\n",
      "0.14945322193198274\n"
     ]
    },
    {
     "name": "stderr",
     "output_type": "stream",
     "text": [
      "\r",
      "114it [03:36,  1.89s/it]"
     ]
    },
    {
     "name": "stdout",
     "output_type": "stream",
     "text": [
      "0.08408809965671216\n",
      "0.0030379146569477636\n",
      "0.08956273859149158\n",
      "0.011402724912668761\n",
      "0.1141363790301801\n"
     ]
    },
    {
     "name": "stderr",
     "output_type": "stream",
     "text": [
      "\r",
      "115it [03:37,  1.89s/it]"
     ]
    },
    {
     "name": "stdout",
     "output_type": "stream",
     "text": [
      "0.15792555793297441\n",
      "0.0019829512873371508\n",
      "0.028159770047718986\n",
      "0.06401086052734234\n",
      "0.12867401972824247\n"
     ]
    },
    {
     "name": "stderr",
     "output_type": "stream",
     "text": [
      "\r",
      "116it [03:39,  1.88s/it]"
     ]
    },
    {
     "name": "stdout",
     "output_type": "stream",
     "text": [
      "0.031943710485375275\n",
      "0.03505655605095894\n",
      "0.08702232851351033\n",
      "0.021862453565015174\n",
      "0.048033462933438846\n"
     ]
    },
    {
     "name": "stderr",
     "output_type": "stream",
     "text": [
      "\r",
      "117it [03:41,  1.87s/it]"
     ]
    },
    {
     "name": "stdout",
     "output_type": "stream",
     "text": [
      "0.17191663188706488\n",
      "0.2639010994025626\n",
      "0.10053552350865842\n",
      "0.0696378251831956\n",
      "0.09008865842430817\n"
     ]
    },
    {
     "name": "stderr",
     "output_type": "stream",
     "text": [
      "\r",
      "118it [03:43,  1.87s/it]"
     ]
    },
    {
     "name": "stdout",
     "output_type": "stream",
     "text": [
      "0.015611545921659831\n",
      "0.16037004072811675\n",
      "0.19282300563016228\n",
      "0.0009358307823485462\n",
      "8.936766705764855e-05\n"
     ]
    },
    {
     "name": "stderr",
     "output_type": "stream",
     "text": [
      "\r",
      "119it [03:45,  1.87s/it]"
     ]
    },
    {
     "name": "stdout",
     "output_type": "stream",
     "text": [
      "0.012228231724456117\n",
      "0.03446789556610561\n",
      "0.003434662913033681\n",
      "0.01987360779573774\n",
      "0.13321631072154835\n"
     ]
    },
    {
     "name": "stderr",
     "output_type": "stream",
     "text": [
      "\r",
      "120it [03:47,  1.90s/it]"
     ]
    },
    {
     "name": "stdout",
     "output_type": "stream",
     "text": [
      "0.028517996479126534\n",
      "0.016826668599699668\n",
      "0.130219181298969\n",
      "0.07259156958349622\n",
      "0.020871256050613764\n"
     ]
    },
    {
     "name": "stderr",
     "output_type": "stream",
     "text": [
      "\r",
      "121it [03:49,  1.90s/it]"
     ]
    },
    {
     "name": "stdout",
     "output_type": "stream",
     "text": [
      "0.018048559725422266\n",
      "0.04274532947593054\n",
      "0.03673947031930462\n",
      "0.01940770112028526\n",
      "0.038712421088072296\n"
     ]
    },
    {
     "name": "stderr",
     "output_type": "stream",
     "text": [
      "\r",
      "122it [03:51,  1.91s/it]"
     ]
    },
    {
     "name": "stdout",
     "output_type": "stream",
     "text": [
      "0.06890637308997125\n",
      "0.023587387803883267\n",
      "0.022823147926214184\n",
      "0.02215541378271202\n",
      "0.1556541253354512\n"
     ]
    },
    {
     "name": "stderr",
     "output_type": "stream",
     "text": [
      "\r",
      "123it [03:53,  1.91s/it]"
     ]
    },
    {
     "name": "stdout",
     "output_type": "stream",
     "text": [
      "0.13546515464003736\n",
      "0.13493977313844563\n",
      "0.0152325244769127\n",
      "0.014637462168922897\n",
      "0.14927594408966988\n"
     ]
    },
    {
     "name": "stderr",
     "output_type": "stream",
     "text": [
      "\r",
      "124it [03:55,  1.92s/it]"
     ]
    },
    {
     "name": "stdout",
     "output_type": "stream",
     "text": [
      "0.04297989338277529\n",
      "0.11775643100989171\n",
      "0.10666627620162682\n",
      "0.021777898279260605\n",
      "0.04986758887498788\n"
     ]
    },
    {
     "name": "stderr",
     "output_type": "stream",
     "text": [
      "\r",
      "125it [03:56,  1.92s/it]"
     ]
    },
    {
     "name": "stdout",
     "output_type": "stream",
     "text": [
      "0.023514832478279915\n",
      "0.035599766627597416\n",
      "0.050825982440011554\n",
      "0.060718469742196\n",
      "0.13950392362265948\n"
     ]
    },
    {
     "name": "stderr",
     "output_type": "stream",
     "text": [
      "\r",
      "126it [03:58,  1.92s/it]"
     ]
    },
    {
     "name": "stdout",
     "output_type": "stream",
     "text": [
      "0.07145359818094894\n",
      "0.020361449267399644\n",
      "0.11581834103484723\n",
      "0.156499312850353\n",
      "0.04302755208756279\n"
     ]
    },
    {
     "name": "stderr",
     "output_type": "stream",
     "text": [
      "\r",
      "127it [04:00,  1.93s/it]"
     ]
    },
    {
     "name": "stdout",
     "output_type": "stream",
     "text": [
      "0.04654153942031952\n",
      "0.10421003307760127\n",
      "0.0989426927191806\n",
      "0.08501676945317478\n",
      "0.0008452044326054428\n"
     ]
    },
    {
     "name": "stderr",
     "output_type": "stream",
     "text": [
      "\r",
      "128it [04:02,  1.92s/it]"
     ]
    },
    {
     "name": "stdout",
     "output_type": "stream",
     "text": [
      "0.10707824004291483\n",
      "0.018079479135808457\n",
      "0.03881031039397142\n",
      "0.11983914424403858\n",
      "0.12618998603115858\n"
     ]
    },
    {
     "name": "stderr",
     "output_type": "stream",
     "text": [
      "\r",
      "129it [04:04,  1.92s/it]"
     ]
    },
    {
     "name": "stdout",
     "output_type": "stream",
     "text": [
      "0.09360856037570899\n",
      "0.02183473358642614\n",
      "0.07119842409872694\n",
      "0.12104073953759782\n",
      "0.016460139317549635\n"
     ]
    },
    {
     "name": "stderr",
     "output_type": "stream",
     "text": [
      "\r",
      "130it [04:06,  1.91s/it]"
     ]
    },
    {
     "name": "stdout",
     "output_type": "stream",
     "text": [
      "0.020918534797693945\n",
      "0.11738799207160051\n",
      "0.07774002639753495\n",
      "0.00880570930642379\n",
      "0.12490294197749585\n"
     ]
    },
    {
     "name": "stderr",
     "output_type": "stream",
     "text": [
      "\r",
      "131it [04:08,  1.91s/it]"
     ]
    },
    {
     "name": "stdout",
     "output_type": "stream",
     "text": [
      "0.14162143715703837\n",
      "0.02221170081733353\n",
      "0.04543253051253498\n",
      "0.08066162894436361\n",
      "0.12727057229886138\n"
     ]
    },
    {
     "name": "stderr",
     "output_type": "stream",
     "text": [
      "\r",
      "132it [04:10,  1.90s/it]"
     ]
    },
    {
     "name": "stdout",
     "output_type": "stream",
     "text": [
      "0.01893185598868404\n",
      "0.18578267377073795\n",
      "0.1354929052366575\n",
      "0.216159986972386\n",
      "0.003845861501709868\n"
     ]
    },
    {
     "name": "stderr",
     "output_type": "stream",
     "text": [
      "\r",
      "133it [04:12,  1.91s/it]"
     ]
    },
    {
     "name": "stdout",
     "output_type": "stream",
     "text": [
      "0.05347587340912489\n",
      "0.047232900083581685\n",
      "0.012069882139261565\n",
      "0.15223791754175386\n",
      "0.09953684245177118\n"
     ]
    },
    {
     "name": "stderr",
     "output_type": "stream",
     "text": [
      "\r",
      "134it [04:14,  1.90s/it]"
     ]
    },
    {
     "name": "stdout",
     "output_type": "stream",
     "text": [
      "0.020784494054471695\n",
      "0.04634762504490685\n",
      "0.07435077117249447\n",
      "0.018220514500235645\n",
      "0.11996597376730596\n"
     ]
    },
    {
     "name": "stderr",
     "output_type": "stream",
     "text": [
      "\r",
      "135it [04:16,  1.90s/it]"
     ]
    },
    {
     "name": "stdout",
     "output_type": "stream",
     "text": [
      "0.03218336204263909\n",
      "0.010030157317277051\n",
      "0.20460071484945275\n",
      "0.0030134765907349043\n",
      "0.07502117348215437\n"
     ]
    },
    {
     "name": "stderr",
     "output_type": "stream",
     "text": [
      "\r",
      "136it [04:17,  1.89s/it]"
     ]
    },
    {
     "name": "stdout",
     "output_type": "stream",
     "text": [
      "0.16333434607607475\n",
      "0.12545248447752264\n",
      "0.12030056547410106\n",
      "0.0722420444081723\n",
      "0.2626146412661298\n"
     ]
    },
    {
     "name": "stderr",
     "output_type": "stream",
     "text": [
      "\r",
      "137it [04:19,  1.88s/it]"
     ]
    },
    {
     "name": "stdout",
     "output_type": "stream",
     "text": [
      "0.006981045696393146\n",
      "0.2455694106586207\n",
      "0.05366019695730843\n",
      "0.08696318396138814\n",
      "0.026383402794666434\n"
     ]
    },
    {
     "name": "stderr",
     "output_type": "stream",
     "text": [
      "\r",
      "138it [04:21,  1.88s/it]"
     ]
    },
    {
     "name": "stdout",
     "output_type": "stream",
     "text": [
      "0.08977339110475271\n",
      "0.17825258292497498\n",
      "0.039600781360498556\n",
      "0.08612019302166896\n",
      "0.109419370853781\n"
     ]
    },
    {
     "name": "stderr",
     "output_type": "stream",
     "text": [
      "\r",
      "139it [04:23,  1.88s/it]"
     ]
    },
    {
     "name": "stdout",
     "output_type": "stream",
     "text": [
      "0.041641511911401384\n",
      "0.0369047434497027\n",
      "0.1441916817938807\n",
      "0.23160725682140343\n",
      "0.07673881894174822\n"
     ]
    },
    {
     "name": "stderr",
     "output_type": "stream",
     "text": [
      "\r",
      "140it [04:25,  1.90s/it]"
     ]
    },
    {
     "name": "stdout",
     "output_type": "stream",
     "text": [
      "0.20938396610101073\n",
      "0.3681441570419743\n",
      "0.04005215921039626\n",
      "0.09563916683293879\n",
      "0.03544373941037672\n"
     ]
    },
    {
     "name": "stderr",
     "output_type": "stream",
     "text": [
      "\r",
      "141it [04:27,  1.91s/it]"
     ]
    },
    {
     "name": "stdout",
     "output_type": "stream",
     "text": [
      "0.2120407573074591\n",
      "0.030612462478050884\n",
      "0.05204711222739118\n",
      "0.10010852987272097\n",
      "0.1514123696365308\n"
     ]
    },
    {
     "name": "stderr",
     "output_type": "stream",
     "text": [
      "\r",
      "142it [04:29,  1.91s/it]"
     ]
    },
    {
     "name": "stdout",
     "output_type": "stream",
     "text": [
      "0.07937452108097573\n",
      "0.08102390079984931\n",
      "0.12572484759162175\n",
      "0.11840916506851165\n",
      "0.08852197466849557\n"
     ]
    },
    {
     "name": "stderr",
     "output_type": "stream",
     "text": [
      "\r",
      "143it [04:31,  1.91s/it]"
     ]
    },
    {
     "name": "stdout",
     "output_type": "stream",
     "text": [
      "0.2241211606168368\n",
      "0.11800756527326889\n",
      "0.08319728143511863\n",
      "0.09748278522152043\n",
      "0.01293639847258148\n"
     ]
    },
    {
     "name": "stderr",
     "output_type": "stream",
     "text": [
      "\r",
      "144it [04:33,  1.92s/it]"
     ]
    },
    {
     "name": "stdout",
     "output_type": "stream",
     "text": [
      "0.09067290062569303\n",
      "0.02761233876992905\n",
      "0.00915404344183662\n",
      "0.0876067201264647\n",
      "0.02635442514926565\n"
     ]
    },
    {
     "name": "stderr",
     "output_type": "stream",
     "text": [
      "\r",
      "145it [04:35,  1.92s/it]"
     ]
    },
    {
     "name": "stdout",
     "output_type": "stream",
     "text": [
      "0.0062869466012511034\n",
      "0.1744614531079346\n",
      "0.15491709553283375\n",
      "0.05265140568394852\n",
      "0.05389139554968482\n"
     ]
    },
    {
     "name": "stderr",
     "output_type": "stream",
     "text": [
      "\r",
      "146it [04:36,  1.92s/it]"
     ]
    },
    {
     "name": "stdout",
     "output_type": "stream",
     "text": [
      "0.18352459705031113\n",
      "0.00921156912089637\n",
      "0.09089505861073159\n",
      "0.10888115745232015\n",
      "0.07332310154635366\n"
     ]
    },
    {
     "name": "stderr",
     "output_type": "stream",
     "text": [
      "\r",
      "147it [04:38,  1.93s/it]"
     ]
    },
    {
     "name": "stdout",
     "output_type": "stream",
     "text": [
      "0.014772030068923789\n",
      "0.04062314269317571\n",
      "0.04016039001067298\n",
      "0.10720350549495286\n",
      "0.020041483160306253\n"
     ]
    },
    {
     "name": "stderr",
     "output_type": "stream",
     "text": [
      "\r",
      "148it [04:40,  1.92s/it]"
     ]
    },
    {
     "name": "stdout",
     "output_type": "stream",
     "text": [
      "0.06834711760039482\n",
      "0.07341725338253964\n",
      "0.021246815714765246\n",
      "0.08982539770374652\n",
      "0.059256935418792636\n"
     ]
    },
    {
     "name": "stderr",
     "output_type": "stream",
     "text": [
      "\r",
      "149it [04:42,  1.92s/it]"
     ]
    },
    {
     "name": "stdout",
     "output_type": "stream",
     "text": [
      "0.09577789555391114\n",
      "0.07076757578127406\n",
      "0.07683804760619284\n",
      "0.08407745884261328\n",
      "0.03580434026639831\n"
     ]
    },
    {
     "name": "stderr",
     "output_type": "stream",
     "text": [
      "\r",
      "150it [04:44,  1.91s/it]"
     ]
    },
    {
     "name": "stdout",
     "output_type": "stream",
     "text": [
      "0.08096183563528914\n",
      "0.013529955007941373\n",
      "0.09757531351617565\n",
      "0.01839328954796522\n",
      "0.04607435696785515\n"
     ]
    },
    {
     "name": "stderr",
     "output_type": "stream",
     "text": [
      "\r",
      "151it [04:46,  1.92s/it]"
     ]
    },
    {
     "name": "stdout",
     "output_type": "stream",
     "text": [
      "0.05148706704362234\n",
      "0.006572559519121885\n",
      "0.07845114802629766\n",
      "0.02391591605314756\n",
      "0.01367590569391376\n"
     ]
    },
    {
     "name": "stderr",
     "output_type": "stream",
     "text": [
      "\r",
      "152it [04:48,  1.91s/it]"
     ]
    },
    {
     "name": "stdout",
     "output_type": "stream",
     "text": [
      "0.04999850792709907\n",
      "0.04394015216056676\n",
      "0.019088899489135166\n",
      "0.0408880483028051\n",
      "0.05447840935829852\n"
     ]
    },
    {
     "name": "stderr",
     "output_type": "stream",
     "text": [
      "\r",
      "153it [04:50,  1.91s/it]"
     ]
    },
    {
     "name": "stdout",
     "output_type": "stream",
     "text": [
      "0.03590551260986159\n",
      "0.017433081470363036\n",
      "0.0959241751417711\n",
      "0.028397474730536033\n",
      "0.1924560553182494\n"
     ]
    },
    {
     "name": "stderr",
     "output_type": "stream",
     "text": [
      "\r",
      "154it [04:52,  1.90s/it]"
     ]
    },
    {
     "name": "stdout",
     "output_type": "stream",
     "text": [
      "0.04819387907549859\n",
      "0.10576312710927452\n",
      "0.07634165266689047\n",
      "0.12042709505827603\n",
      "0.18401720660174373\n"
     ]
    },
    {
     "name": "stderr",
     "output_type": "stream",
     "text": [
      "\r",
      "155it [04:54,  1.89s/it]"
     ]
    },
    {
     "name": "stdout",
     "output_type": "stream",
     "text": [
      "0.03918486514079649\n",
      "0.04005606471459362\n",
      "0.00897460209445242\n",
      "0.03491281627289029\n",
      "0.08773767792434099\n"
     ]
    },
    {
     "name": "stderr",
     "output_type": "stream",
     "text": [
      "\r",
      "156it [04:55,  1.88s/it]"
     ]
    },
    {
     "name": "stdout",
     "output_type": "stream",
     "text": [
      "0.1170957845868153\n",
      "0.03644751706831309\n",
      "0.18425498677630256\n",
      "0.030185154823787547\n",
      "0.05766587092862551\n"
     ]
    },
    {
     "name": "stderr",
     "output_type": "stream",
     "text": [
      "\r",
      "157it [04:57,  1.87s/it]"
     ]
    },
    {
     "name": "stdout",
     "output_type": "stream",
     "text": [
      "0.21910917164364246\n",
      "0.06876590124380098\n",
      "0.11099349530071985\n",
      "0.11510037257808481\n",
      "0.060564804657208995\n"
     ]
    },
    {
     "name": "stderr",
     "output_type": "stream",
     "text": [
      "\r",
      "158it [04:59,  1.87s/it]"
     ]
    },
    {
     "name": "stdout",
     "output_type": "stream",
     "text": [
      "0.14881675875443712\n",
      "0.023398444309624518\n",
      "0.09248980413488467\n",
      "0.01386580486465913\n",
      "0.040939527527747654\n"
     ]
    },
    {
     "name": "stderr",
     "output_type": "stream",
     "text": [
      "\r",
      "159it [05:01,  1.87s/it]"
     ]
    },
    {
     "name": "stdout",
     "output_type": "stream",
     "text": [
      "0.036384392351145434\n",
      "0.017411495939779243\n",
      "0.024289863030999063\n",
      "0.0016845763956998883\n",
      "0.04724379251151451\n"
     ]
    },
    {
     "name": "stderr",
     "output_type": "stream",
     "text": [
      "\r",
      "160it [05:03,  1.89s/it]"
     ]
    },
    {
     "name": "stdout",
     "output_type": "stream",
     "text": [
      "0.04028429725290625\n",
      "0.07618733737182484\n",
      "0.11962925901946941\n",
      "0.09910711147732088\n",
      "0.11576511608399627\n"
     ]
    },
    {
     "name": "stderr",
     "output_type": "stream",
     "text": [
      "\r",
      "161it [05:05,  1.89s/it]"
     ]
    },
    {
     "name": "stdout",
     "output_type": "stream",
     "text": [
      "0.03137538465963738\n",
      "0.15874699417391552\n",
      "0.11586903863827894\n",
      "0.04870872686702686\n",
      "0.033347339882668574\n"
     ]
    },
    {
     "name": "stderr",
     "output_type": "stream",
     "text": [
      "\r",
      "162it [05:07,  1.90s/it]"
     ]
    },
    {
     "name": "stdout",
     "output_type": "stream",
     "text": [
      "0.02033432582154568\n",
      "0.05959259493604138\n",
      "0.07496110891659269\n",
      "0.005411098584369141\n",
      "0.16289060839132724\n"
     ]
    },
    {
     "name": "stderr",
     "output_type": "stream",
     "text": [
      "\r",
      "163it [05:09,  1.90s/it]"
     ]
    },
    {
     "name": "stdout",
     "output_type": "stream",
     "text": [
      "0.019328587348997242\n",
      "0.023812465085985557\n",
      "0.07881065324021418\n",
      "0.13842040873081501\n",
      "0.1874203103493507\n"
     ]
    },
    {
     "name": "stderr",
     "output_type": "stream",
     "text": [
      "\r",
      "164it [05:11,  1.91s/it]"
     ]
    },
    {
     "name": "stdout",
     "output_type": "stream",
     "text": [
      "0.024500571705991875\n",
      "0.09295054672142196\n",
      "0.06982720603375585\n",
      "0.2548237352127944\n",
      "0.002819844386639369\n"
     ]
    },
    {
     "name": "stderr",
     "output_type": "stream",
     "text": [
      "\r",
      "165it [05:13,  1.91s/it]"
     ]
    },
    {
     "name": "stdout",
     "output_type": "stream",
     "text": [
      "0.023692672554878905\n",
      "0.0940640942446288\n",
      "0.04579322007480383\n",
      "0.13596912240267767\n",
      "0.0704559221031404\n"
     ]
    },
    {
     "name": "stderr",
     "output_type": "stream",
     "text": [
      "\r",
      "166it [05:14,  1.91s/it]"
     ]
    },
    {
     "name": "stdout",
     "output_type": "stream",
     "text": [
      "0.06348808524027548\n",
      "0.06478633148703229\n",
      "0.0020315254949137772\n",
      "0.058784442068675\n",
      "0.11201765361150735\n"
     ]
    },
    {
     "name": "stderr",
     "output_type": "stream",
     "text": [
      "\r",
      "167it [05:16,  1.91s/it]"
     ]
    },
    {
     "name": "stdout",
     "output_type": "stream",
     "text": [
      "0.10427823159974821\n",
      "0.09684850780951275\n",
      "0.0765495697965833\n",
      "0.06770771790928645\n",
      "0.080008741573425\n"
     ]
    },
    {
     "name": "stderr",
     "output_type": "stream",
     "text": [
      "\r",
      "168it [05:18,  1.90s/it]"
     ]
    },
    {
     "name": "stdout",
     "output_type": "stream",
     "text": [
      "0.06704032425662784\n",
      "0.14601547037225812\n",
      "0.02580157840622215\n",
      "0.05020062636491593\n",
      "0.0736904291219993\n"
     ]
    },
    {
     "name": "stderr",
     "output_type": "stream",
     "text": [
      "\r",
      "169it [05:20,  1.90s/it]"
     ]
    },
    {
     "name": "stdout",
     "output_type": "stream",
     "text": [
      "0.03380782625783115\n",
      "0.021583452409156247\n",
      "0.13427074209606282\n",
      "0.11120342146923533\n",
      "0.20943141153825262\n"
     ]
    },
    {
     "name": "stderr",
     "output_type": "stream",
     "text": [
      "\r",
      "170it [05:22,  1.90s/it]"
     ]
    },
    {
     "name": "stdout",
     "output_type": "stream",
     "text": [
      "0.15242795283323504\n",
      "0.0033302915771469786\n",
      "0.0190262645716392\n",
      "0.061256669624807726\n",
      "0.157741333900691\n"
     ]
    },
    {
     "name": "stderr",
     "output_type": "stream",
     "text": [
      "\r",
      "171it [05:24,  1.91s/it]"
     ]
    },
    {
     "name": "stdout",
     "output_type": "stream",
     "text": [
      "0.03315361416295499\n",
      "0.06815070716466075\n",
      "0.10176845868750051\n",
      "0.10517065168463208\n",
      "0.16158521528109812\n"
     ]
    },
    {
     "name": "stderr",
     "output_type": "stream",
     "text": [
      "\r",
      "172it [05:26,  1.90s/it]"
     ]
    },
    {
     "name": "stdout",
     "output_type": "stream",
     "text": [
      "0.08256395757510195\n",
      "0.15966876628321305\n",
      "0.1252684388060868\n",
      "0.06134727736254872\n",
      "0.003907483331704897\n"
     ]
    },
    {
     "name": "stderr",
     "output_type": "stream",
     "text": [
      "\r",
      "173it [05:28,  1.90s/it]"
     ]
    },
    {
     "name": "stdout",
     "output_type": "stream",
     "text": [
      "0.07279414729376268\n",
      "0.06857185910020651\n",
      "0.0727493924424084\n",
      "0.05700968806553382\n",
      "0.1526312712752334\n"
     ]
    },
    {
     "name": "stderr",
     "output_type": "stream",
     "text": [
      "\r",
      "174it [05:30,  1.89s/it]"
     ]
    },
    {
     "name": "stdout",
     "output_type": "stream",
     "text": [
      "0.032895885275177554\n",
      "0.036706834033803176\n",
      "0.0675113691330065\n",
      "0.0493501593703492\n",
      "0.171881509698167\n"
     ]
    },
    {
     "name": "stderr",
     "output_type": "stream",
     "text": [
      "\r",
      "175it [05:32,  1.89s/it]"
     ]
    },
    {
     "name": "stdout",
     "output_type": "stream",
     "text": [
      "0.050041018720200406\n",
      "0.01897143164085287\n",
      "0.13285710533130754\n",
      "0.06634988109258144\n",
      "0.12726380236142484\n"
     ]
    },
    {
     "name": "stderr",
     "output_type": "stream",
     "text": [
      "\r",
      "176it [05:33,  1.88s/it]"
     ]
    },
    {
     "name": "stdout",
     "output_type": "stream",
     "text": [
      "0.030989371962826154\n",
      "0.19293655777212193\n",
      "0.27926100819821015\n",
      "0.0904003573028775\n",
      "0.25703226291122433\n"
     ]
    },
    {
     "name": "stderr",
     "output_type": "stream",
     "text": [
      "\r",
      "177it [05:35,  1.87s/it]"
     ]
    },
    {
     "name": "stdout",
     "output_type": "stream",
     "text": [
      "0.12162305756769394\n",
      "0.2092408463469139\n",
      "0.06709927844507284\n",
      "0.0028308790290736347\n",
      "0.01145090746456927\n"
     ]
    },
    {
     "name": "stderr",
     "output_type": "stream",
     "text": [
      "\r",
      "178it [05:37,  1.88s/it]"
     ]
    },
    {
     "name": "stdout",
     "output_type": "stream",
     "text": [
      "0.09655441405597276\n",
      "0.19744135106958616\n",
      "0.0664166069741745\n",
      "0.07174841756936251\n",
      "0.03396788158588209\n"
     ]
    },
    {
     "name": "stderr",
     "output_type": "stream",
     "text": [
      "\r",
      "179it [05:39,  1.87s/it]"
     ]
    },
    {
     "name": "stdout",
     "output_type": "stream",
     "text": [
      "0.029156168044192722\n",
      "0.0575800665037379\n",
      "0.021724355683457694\n",
      "0.09569870200623803\n",
      "0.1041598875115441\n"
     ]
    },
    {
     "name": "stderr",
     "output_type": "stream",
     "text": [
      "\r",
      "180it [05:41,  1.91s/it]"
     ]
    },
    {
     "name": "stdout",
     "output_type": "stream",
     "text": [
      "0.07442552927818179\n",
      "0.038805329714606485\n",
      "0.12286109122589768\n",
      "0.11976906552821492\n",
      "0.11001639854637002\n"
     ]
    },
    {
     "name": "stderr",
     "output_type": "stream",
     "text": [
      "\r",
      "181it [05:43,  1.91s/it]"
     ]
    },
    {
     "name": "stdout",
     "output_type": "stream",
     "text": [
      "0.06379423695695309\n",
      "0.07894206888350144\n",
      "0.04452925198407562\n",
      "0.0934026874091929\n",
      "0.06544999023947702\n"
     ]
    },
    {
     "name": "stderr",
     "output_type": "stream",
     "text": [
      "\r",
      "182it [05:45,  1.91s/it]"
     ]
    },
    {
     "name": "stdout",
     "output_type": "stream",
     "text": [
      "0.12522703841484867\n",
      "0.11445597194963991\n",
      "0.13329770840038263\n",
      "0.017073150245381224\n",
      "0.08682564801701903\n"
     ]
    },
    {
     "name": "stderr",
     "output_type": "stream",
     "text": [
      "\r",
      "183it [05:47,  1.91s/it]"
     ]
    },
    {
     "name": "stdout",
     "output_type": "stream",
     "text": [
      "0.23927386765204292\n",
      "0.014123417101646291\n",
      "0.05298658667078903\n",
      "0.10741770473583474\n",
      "0.0020117343687424934\n"
     ]
    },
    {
     "name": "stderr",
     "output_type": "stream",
     "text": [
      "\r",
      "184it [05:49,  1.92s/it]"
     ]
    },
    {
     "name": "stdout",
     "output_type": "stream",
     "text": [
      "0.00484792528288689\n",
      "0.03622246542051538\n",
      "0.10175087170921493\n",
      "0.1357996341703425\n",
      "0.14160102469721553\n"
     ]
    },
    {
     "name": "stderr",
     "output_type": "stream",
     "text": [
      "\r",
      "185it [05:51,  1.92s/it]"
     ]
    },
    {
     "name": "stdout",
     "output_type": "stream",
     "text": [
      "0.23369589324924922\n",
      "0.045379535651483026\n",
      "0.08149444426553064\n",
      "0.06891027043192326\n",
      "0.0942705406288391\n"
     ]
    },
    {
     "name": "stderr",
     "output_type": "stream",
     "text": [
      "\r",
      "186it [05:52,  1.92s/it]"
     ]
    },
    {
     "name": "stdout",
     "output_type": "stream",
     "text": [
      "0.0591308967625835\n",
      "0.076492068156372\n",
      "0.1439368055732872\n",
      "0.015760366890057043\n",
      "0.04804061860559031\n"
     ]
    },
    {
     "name": "stderr",
     "output_type": "stream",
     "text": [
      "\r",
      "187it [05:54,  1.92s/it]"
     ]
    },
    {
     "name": "stdout",
     "output_type": "stream",
     "text": [
      "0.0005814307869857657\n",
      "0.08931566911891271\n",
      "0.17280106823629615\n",
      "0.0050550907325545525\n",
      "0.02510492631994511\n"
     ]
    },
    {
     "name": "stderr",
     "output_type": "stream",
     "text": [
      "\r",
      "188it [05:56,  1.93s/it]"
     ]
    },
    {
     "name": "stdout",
     "output_type": "stream",
     "text": [
      "0.1166967711148904\n",
      "0.0008336902633815269\n",
      "0.09858761876933851\n",
      "0.03377669171972946\n",
      "0.09514338963510265\n"
     ]
    },
    {
     "name": "stderr",
     "output_type": "stream",
     "text": [
      "\r",
      "189it [05:58,  1.93s/it]"
     ]
    },
    {
     "name": "stdout",
     "output_type": "stream",
     "text": [
      "0.1569075463215399\n",
      "0.05515738324473105\n",
      "0.10353461077958573\n",
      "0.2702943845336921\n",
      "0.0015289810301511294\n"
     ]
    },
    {
     "name": "stderr",
     "output_type": "stream",
     "text": [
      "\r",
      "190it [06:00,  1.93s/it]"
     ]
    },
    {
     "name": "stdout",
     "output_type": "stream",
     "text": [
      "0.12404864694349896\n",
      "0.02443869010991162\n",
      "0.09759732657341327\n",
      "0.09865494708531786\n",
      "0.014145389535438507\n"
     ]
    },
    {
     "name": "stderr",
     "output_type": "stream",
     "text": [
      "\r",
      "191it [06:02,  1.93s/it]"
     ]
    },
    {
     "name": "stdout",
     "output_type": "stream",
     "text": [
      "0.10040160879300025\n",
      "0.04195336586194192\n",
      "0.11592488169868963\n",
      "0.014494823827228965\n",
      "0.024488649086947124\n"
     ]
    },
    {
     "name": "stderr",
     "output_type": "stream",
     "text": [
      "\r",
      "192it [06:04,  1.92s/it]"
     ]
    },
    {
     "name": "stdout",
     "output_type": "stream",
     "text": [
      "0.045809173978356744\n",
      "0.023574812623051375\n",
      "0.10093727714800789\n",
      "0.16934014863472058\n",
      "0.12867569735810935\n"
     ]
    },
    {
     "name": "stderr",
     "output_type": "stream",
     "text": [
      "\r",
      "193it [06:06,  1.91s/it]"
     ]
    },
    {
     "name": "stdout",
     "output_type": "stream",
     "text": [
      "0.001082971901287166\n",
      "0.03365630243150128\n",
      "0.09263294963488053\n",
      "0.15635869223031285\n",
      "0.13634189297937477\n"
     ]
    },
    {
     "name": "stderr",
     "output_type": "stream",
     "text": [
      "\r",
      "194it [06:08,  1.90s/it]"
     ]
    },
    {
     "name": "stdout",
     "output_type": "stream",
     "text": [
      "0.02831759708848656\n",
      "0.06511356512895806\n",
      "0.09315867326202182\n",
      "0.10937538421918787\n",
      "0.10073951284502472\n"
     ]
    },
    {
     "name": "stderr",
     "output_type": "stream",
     "text": [
      "\r",
      "195it [06:10,  1.90s/it]"
     ]
    },
    {
     "name": "stdout",
     "output_type": "stream",
     "text": [
      "0.160848723144662\n",
      "0.16223322835858656\n",
      "0.14789884604340084\n",
      "0.027130320364892366\n",
      "0.07350816229601374\n"
     ]
    },
    {
     "name": "stderr",
     "output_type": "stream",
     "text": [
      "\r",
      "196it [06:12,  1.89s/it]"
     ]
    },
    {
     "name": "stdout",
     "output_type": "stream",
     "text": [
      "0.0786150989382482\n",
      "0.11355745098782695\n",
      "0.07433383757422111\n",
      "0.105692636169127\n",
      "0.08879931782546459\n"
     ]
    },
    {
     "name": "stderr",
     "output_type": "stream",
     "text": [
      "\r",
      "197it [06:13,  1.88s/it]"
     ]
    },
    {
     "name": "stdout",
     "output_type": "stream",
     "text": [
      "0.12816215162698527\n",
      "0.14993169396676193\n",
      "0.0847993259284181\n",
      "0.04134577478893601\n",
      "0.027741030073257775\n"
     ]
    },
    {
     "name": "stderr",
     "output_type": "stream",
     "text": [
      "\r",
      "198it [06:15,  1.88s/it]"
     ]
    },
    {
     "name": "stdout",
     "output_type": "stream",
     "text": [
      "0.05107285332341147\n",
      "0.03220499640337351\n",
      "0.1581748685442046\n",
      "0.041603878112212674\n",
      "0.16886452668437543\n"
     ]
    },
    {
     "name": "stderr",
     "output_type": "stream",
     "text": [
      "\r",
      "199it [06:17,  1.88s/it]"
     ]
    },
    {
     "name": "stdout",
     "output_type": "stream",
     "text": [
      "0.02040993370017431\n",
      "0.06063286866592772\n",
      "0.044322823507368214\n",
      "0.1333032603173977\n",
      "0.13315863377959378\n"
     ]
    },
    {
     "name": "stderr",
     "output_type": "stream",
     "text": [
      "200it [06:19,  1.90s/it]\n",
      "0it [00:00, ?it/s]"
     ]
    },
    {
     "name": "stdout",
     "output_type": "stream",
     "text": [
      "0.10581125996617238\n",
      "0.06950122719858744\n",
      "0.03693486749887659\n",
      "0.13276356881101573\n",
      "0.09214408647180199\n"
     ]
    },
    {
     "name": "stderr",
     "output_type": "stream",
     "text": [
      "\r",
      "1it [00:01,  1.90s/it]"
     ]
    },
    {
     "name": "stdout",
     "output_type": "stream",
     "text": [
      "0.022489585849156717\n",
      "0.10778096898062439\n",
      "0.032370353792848194\n",
      "0.09379154216489148\n",
      "0.07659708936003719\n"
     ]
    },
    {
     "name": "stderr",
     "output_type": "stream",
     "text": [
      "\r",
      "2it [00:03,  1.90s/it]"
     ]
    },
    {
     "name": "stdout",
     "output_type": "stream",
     "text": [
      "0.03709742470780633\n",
      "0.15201910097568638\n",
      "0.04428597153370964\n",
      "0.10523979235825442\n",
      "0.046939724940236065\n"
     ]
    },
    {
     "name": "stderr",
     "output_type": "stream",
     "text": [
      "\r",
      "3it [00:05,  1.89s/it]"
     ]
    },
    {
     "name": "stdout",
     "output_type": "stream",
     "text": [
      "0.045969053959356784\n",
      "0.04252649437079986\n",
      "0.04784742407171989\n",
      "0.2179989829714197\n",
      "0.057330532450404814\n"
     ]
    },
    {
     "name": "stderr",
     "output_type": "stream",
     "text": [
      "\r",
      "4it [00:07,  1.89s/it]"
     ]
    },
    {
     "name": "stdout",
     "output_type": "stream",
     "text": [
      "0.0530505883675976\n",
      "0.03478939041585304\n",
      "0.04484240939284826\n",
      "0.11300890856663051\n",
      "0.09709146824866753\n"
     ]
    },
    {
     "name": "stderr",
     "output_type": "stream",
     "text": [
      "\r",
      "5it [00:09,  1.89s/it]"
     ]
    },
    {
     "name": "stdout",
     "output_type": "stream",
     "text": [
      "0.023133887712347458\n",
      "0.11698714085338642\n",
      "0.11437522686545892\n",
      "0.06968048707356228\n",
      "0.011245959782629038\n"
     ]
    },
    {
     "name": "stderr",
     "output_type": "stream",
     "text": [
      "\r",
      "6it [00:11,  1.89s/it]"
     ]
    },
    {
     "name": "stdout",
     "output_type": "stream",
     "text": [
      "0.06924981284152844\n",
      "0.019440643710290594\n",
      "0.07992599878130219\n",
      "0.10992590530177081\n",
      "0.1762872859199441\n"
     ]
    },
    {
     "name": "stderr",
     "output_type": "stream",
     "text": [
      "\r",
      "7it [00:13,  1.88s/it]"
     ]
    },
    {
     "name": "stdout",
     "output_type": "stream",
     "text": [
      "0.010766058189623461\n",
      "0.021999664348990627\n",
      "0.0674069902182609\n",
      "0.1120761596389949\n",
      "0.0762298760833293\n"
     ]
    },
    {
     "name": "stderr",
     "output_type": "stream",
     "text": [
      "\r",
      "8it [00:15,  1.88s/it]"
     ]
    },
    {
     "name": "stdout",
     "output_type": "stream",
     "text": [
      "0.16093501062863894\n",
      "0.12673850872184933\n",
      "0.1879500136270761\n",
      "0.012986273691739051\n",
      "0.03376442116056291\n"
     ]
    },
    {
     "name": "stderr",
     "output_type": "stream",
     "text": [
      "\r",
      "9it [00:16,  1.87s/it]"
     ]
    },
    {
     "name": "stdout",
     "output_type": "stream",
     "text": [
      "0.03388068218797664\n",
      "0.05138097061816691\n",
      "0.1599087535075019\n",
      "0.11208418077495558\n",
      "0.09367653297965021\n"
     ]
    },
    {
     "name": "stderr",
     "output_type": "stream",
     "text": [
      "\r",
      "10it [00:18,  1.87s/it]"
     ]
    },
    {
     "name": "stdout",
     "output_type": "stream",
     "text": [
      "0.05086672153010057\n",
      "0.09817679173712726\n",
      "0.16440861672092996\n",
      "0.07791637103672094\n",
      "0.06108123726397219\n"
     ]
    },
    {
     "name": "stderr",
     "output_type": "stream",
     "text": [
      "\r",
      "11it [00:20,  1.87s/it]"
     ]
    },
    {
     "name": "stdout",
     "output_type": "stream",
     "text": [
      "0.12647735153288772\n",
      "0.03348352083427158\n",
      "0.1441239604549006\n",
      "0.01371335388153181\n",
      "0.13610399859937858\n"
     ]
    },
    {
     "name": "stderr",
     "output_type": "stream",
     "text": [
      "\r",
      "12it [00:22,  1.87s/it]"
     ]
    },
    {
     "name": "stdout",
     "output_type": "stream",
     "text": [
      "0.17470905728749447\n",
      "0.03150298556133519\n",
      "0.04140377334548372\n",
      "0.01578755230561022\n",
      "0.1189399553820189\n"
     ]
    },
    {
     "name": "stderr",
     "output_type": "stream",
     "text": [
      "\r",
      "13it [00:24,  1.87s/it]"
     ]
    },
    {
     "name": "stdout",
     "output_type": "stream",
     "text": [
      "0.1308169941000286\n",
      "0.13556623073945873\n",
      "0.029623260338641884\n",
      "0.04318848017359042\n",
      "0.10952054463293973\n"
     ]
    },
    {
     "name": "stderr",
     "output_type": "stream",
     "text": [
      "\r",
      "14it [00:26,  1.88s/it]"
     ]
    },
    {
     "name": "stdout",
     "output_type": "stream",
     "text": [
      "0.016711604756465128\n",
      "0.2158213014045836\n",
      "0.10275379666836765\n",
      "0.0003092946809526238\n",
      "0.10857487142203899\n"
     ]
    },
    {
     "name": "stderr",
     "output_type": "stream",
     "text": [
      "\r",
      "15it [00:28,  1.88s/it]"
     ]
    },
    {
     "name": "stdout",
     "output_type": "stream",
     "text": [
      "0.08451185577843534\n",
      "0.013772015576551087\n",
      "0.035995628873698546\n",
      "0.1746468605317376\n",
      "0.06967016038725919\n"
     ]
    },
    {
     "name": "stderr",
     "output_type": "stream",
     "text": [
      "\r",
      "16it [00:30,  1.89s/it]"
     ]
    },
    {
     "name": "stdout",
     "output_type": "stream",
     "text": [
      "0.05782006835379309\n",
      "0.10924324339851968\n",
      "0.009255782382676665\n",
      "0.04297901069525047\n",
      "0.16887078272826903\n"
     ]
    },
    {
     "name": "stderr",
     "output_type": "stream",
     "text": [
      "\r",
      "17it [00:31,  1.89s/it]"
     ]
    },
    {
     "name": "stdout",
     "output_type": "stream",
     "text": [
      "0.034064724501219584\n",
      "0.13491352366047188\n",
      "0.03137513675141602\n",
      "0.037444498283473\n",
      "0.04982173489397195\n"
     ]
    },
    {
     "name": "stderr",
     "output_type": "stream",
     "text": [
      "\r",
      "18it [00:33,  1.88s/it]"
     ]
    },
    {
     "name": "stdout",
     "output_type": "stream",
     "text": [
      "0.0350513373848723\n",
      "0.07350555711237693\n",
      "0.12717578041151464\n",
      "0.06771897985853004\n",
      "0.08832213597428892\n"
     ]
    },
    {
     "name": "stderr",
     "output_type": "stream",
     "text": [
      "\r",
      "19it [00:35,  1.88s/it]"
     ]
    },
    {
     "name": "stdout",
     "output_type": "stream",
     "text": [
      "0.07208306129036614\n",
      "0.07776251236305157\n",
      "0.06427092469392087\n",
      "0.04718019840733226\n",
      "0.10865271253856262\n"
     ]
    },
    {
     "name": "stderr",
     "output_type": "stream",
     "text": [
      "\r",
      "20it [00:37,  1.88s/it]"
     ]
    },
    {
     "name": "stdout",
     "output_type": "stream",
     "text": [
      "0.08070319114839775\n",
      "0.1485073390558135\n",
      "0.04861812481981134\n",
      "0.1426347985655042\n",
      "0.003652920384460746\n"
     ]
    },
    {
     "name": "stderr",
     "output_type": "stream",
     "text": [
      "\r",
      "21it [00:39,  1.90s/it]"
     ]
    },
    {
     "name": "stdout",
     "output_type": "stream",
     "text": [
      "0.06984543528611248\n",
      "0.022690674398914923\n",
      "0.11348695208852018\n",
      "0.10451065501227728\n",
      "0.005324574825484107\n"
     ]
    },
    {
     "name": "stderr",
     "output_type": "stream",
     "text": [
      "\r",
      "22it [00:41,  1.90s/it]"
     ]
    },
    {
     "name": "stdout",
     "output_type": "stream",
     "text": [
      "0.057067352310861824\n",
      "0.029108866531973834\n",
      "0.2222293749540714\n",
      "0.027697110608655817\n",
      "0.005104694241185803\n"
     ]
    },
    {
     "name": "stderr",
     "output_type": "stream",
     "text": [
      "\r",
      "23it [00:43,  1.89s/it]"
     ]
    },
    {
     "name": "stdout",
     "output_type": "stream",
     "text": [
      "0.08735389379931212\n",
      "0.01266920920135929\n",
      "0.038443087800729164\n",
      "0.04967188205092252\n",
      "0.07355328972356627\n"
     ]
    },
    {
     "name": "stderr",
     "output_type": "stream",
     "text": [
      "\r",
      "24it [00:45,  1.90s/it]"
     ]
    },
    {
     "name": "stdout",
     "output_type": "stream",
     "text": [
      "0.021704102893918224\n",
      "0.042440679244344984\n",
      "0.1410572681571327\n",
      "0.03669215650062371\n",
      "0.020051851950990032\n"
     ]
    },
    {
     "name": "stderr",
     "output_type": "stream",
     "text": [
      "\r",
      "25it [00:47,  1.89s/it]"
     ]
    },
    {
     "name": "stdout",
     "output_type": "stream",
     "text": [
      "0.021561401124902325\n",
      "0.13442586109981206\n",
      "0.09042201821139204\n",
      "0.12635228414409197\n",
      "0.05810880965726217\n"
     ]
    },
    {
     "name": "stderr",
     "output_type": "stream",
     "text": [
      "\r",
      "26it [00:48,  1.89s/it]"
     ]
    },
    {
     "name": "stdout",
     "output_type": "stream",
     "text": [
      "0.013588539819813476\n",
      "0.032837958634584795\n",
      "0.008087212074013904\n",
      "0.026409921923198354\n",
      "0.07154894767275564\n"
     ]
    },
    {
     "name": "stderr",
     "output_type": "stream",
     "text": [
      "\r",
      "27it [00:50,  1.88s/it]"
     ]
    },
    {
     "name": "stdout",
     "output_type": "stream",
     "text": [
      "0.10770724561980308\n",
      "0.0680687245508418\n",
      "0.1316491079449149\n",
      "0.12617308730389493\n",
      "0.07063210047695694\n"
     ]
    },
    {
     "name": "stderr",
     "output_type": "stream",
     "text": [
      "\r",
      "28it [00:52,  1.88s/it]"
     ]
    },
    {
     "name": "stdout",
     "output_type": "stream",
     "text": [
      "0.013630485697297912\n",
      "0.09156976939680128\n",
      "0.011893710775700207\n",
      "0.02457244488850533\n",
      "0.07949516283830793\n"
     ]
    },
    {
     "name": "stderr",
     "output_type": "stream",
     "text": [
      "\r",
      "29it [00:54,  1.88s/it]"
     ]
    },
    {
     "name": "stdout",
     "output_type": "stream",
     "text": [
      "0.07792891392206436\n",
      "0.030856259821298016\n",
      "0.14051048284693435\n",
      "0.019286276430791886\n",
      "0.0692025536890008\n"
     ]
    },
    {
     "name": "stderr",
     "output_type": "stream",
     "text": [
      "\r",
      "30it [00:56,  1.87s/it]"
     ]
    },
    {
     "name": "stdout",
     "output_type": "stream",
     "text": [
      "0.07320812828104477\n",
      "0.05223801875668156\n",
      "0.08363090776066603\n",
      "0.11086378689571462\n",
      "0.17558967043460685\n"
     ]
    },
    {
     "name": "stderr",
     "output_type": "stream",
     "text": [
      "\r",
      "31it [00:58,  1.88s/it]"
     ]
    },
    {
     "name": "stdout",
     "output_type": "stream",
     "text": [
      "0.07183564867565226\n",
      "0.07197448243129573\n",
      "0.15604153438558813\n",
      "0.03523024933943218\n",
      "0.04556433989956857\n"
     ]
    },
    {
     "name": "stderr",
     "output_type": "stream",
     "text": [
      "\r",
      "32it [01:00,  1.88s/it]"
     ]
    },
    {
     "name": "stdout",
     "output_type": "stream",
     "text": [
      "0.031646879211454766\n",
      "0.11733424200342553\n",
      "0.063769616503336\n",
      "0.07287477088530887\n",
      "0.041478274169556614\n"
     ]
    },
    {
     "name": "stderr",
     "output_type": "stream",
     "text": [
      "\r",
      "33it [01:02,  1.88s/it]"
     ]
    },
    {
     "name": "stdout",
     "output_type": "stream",
     "text": [
      "0.07399090188448862\n",
      "0.23153351821489704\n",
      "0.04454720815446323\n",
      "0.01526559626455431\n",
      "0.0734056015764254\n"
     ]
    },
    {
     "name": "stderr",
     "output_type": "stream",
     "text": [
      "\r",
      "34it [01:04,  1.88s/it]"
     ]
    },
    {
     "name": "stdout",
     "output_type": "stream",
     "text": [
      "0.16388279134190434\n",
      "0.14984935150169795\n",
      "0.05825933281613275\n",
      "0.07714245744665549\n",
      "0.1719076190390515\n"
     ]
    },
    {
     "name": "stderr",
     "output_type": "stream",
     "text": [
      "\r",
      "35it [01:05,  1.88s/it]"
     ]
    },
    {
     "name": "stdout",
     "output_type": "stream",
     "text": [
      "0.047854733161618805\n",
      "0.027878877338701077\n",
      "0.22164256431896145\n",
      "0.01864247656129731\n",
      "0.13523919462312545\n"
     ]
    },
    {
     "name": "stderr",
     "output_type": "stream",
     "text": [
      "\r",
      "36it [01:07,  1.88s/it]"
     ]
    },
    {
     "name": "stdout",
     "output_type": "stream",
     "text": [
      "0.17563110575443142\n",
      "0.13041664427529093\n",
      "0.17097226111934066\n",
      "0.05901243892633173\n",
      "0.1100641396576044\n"
     ]
    },
    {
     "name": "stderr",
     "output_type": "stream",
     "text": [
      "\r",
      "37it [01:09,  1.88s/it]"
     ]
    },
    {
     "name": "stdout",
     "output_type": "stream",
     "text": [
      "0.2424887364274164\n",
      "0.12440569258997974\n",
      "0.27482031543661734\n",
      "0.005652500774506911\n",
      "0.19303001706004738\n"
     ]
    },
    {
     "name": "stderr",
     "output_type": "stream",
     "text": [
      "\r",
      "38it [01:11,  1.87s/it]"
     ]
    },
    {
     "name": "stdout",
     "output_type": "stream",
     "text": [
      "0.033298382464565505\n",
      "0.11601069062115826\n",
      "0.050835580508596594\n",
      "0.07684025691864949\n",
      "0.05449488553823997\n"
     ]
    },
    {
     "name": "stderr",
     "output_type": "stream",
     "text": [
      "\r",
      "39it [01:13,  1.87s/it]"
     ]
    },
    {
     "name": "stdout",
     "output_type": "stream",
     "text": [
      "0.17498103181089777\n",
      "0.16787798350903438\n",
      "0.01207862955397979\n",
      "0.039347152112207795\n",
      "0.10805970530355713\n"
     ]
    },
    {
     "name": "stderr",
     "output_type": "stream",
     "text": [
      "\r",
      "40it [01:15,  1.89s/it]"
     ]
    },
    {
     "name": "stdout",
     "output_type": "stream",
     "text": [
      "0.007263624024541286\n",
      "0.1121565768778142\n",
      "0.12859188331515758\n",
      "0.03008782907049113\n",
      "0.03166416600676305\n"
     ]
    },
    {
     "name": "stderr",
     "output_type": "stream",
     "text": [
      "\r",
      "41it [01:17,  1.90s/it]"
     ]
    },
    {
     "name": "stdout",
     "output_type": "stream",
     "text": [
      "0.13300305567675405\n",
      "0.03217270518196435\n",
      "0.16195359425209122\n",
      "0.059361306359724114\n",
      "0.0353463070809957\n"
     ]
    },
    {
     "name": "stderr",
     "output_type": "stream",
     "text": [
      "\r",
      "42it [01:19,  1.91s/it]"
     ]
    },
    {
     "name": "stdout",
     "output_type": "stream",
     "text": [
      "0.02862045624868847\n",
      "0.17156493737332817\n",
      "0.09855691309311991\n",
      "0.09347816017067123\n",
      "0.07068063747023438\n"
     ]
    },
    {
     "name": "stderr",
     "output_type": "stream",
     "text": [
      "\r",
      "43it [01:21,  1.91s/it]"
     ]
    },
    {
     "name": "stdout",
     "output_type": "stream",
     "text": [
      "0.01912313865078803\n",
      "0.1152691845639514\n",
      "0.04648609503596501\n",
      "0.0594335362634425\n",
      "0.01434633643223573\n"
     ]
    },
    {
     "name": "stderr",
     "output_type": "stream",
     "text": [
      "\r",
      "44it [01:22,  1.91s/it]"
     ]
    },
    {
     "name": "stdout",
     "output_type": "stream",
     "text": [
      "0.2588484477697547\n",
      "0.20331187543098259\n",
      "0.17546687453896692\n",
      "0.09946215629345975\n",
      "0.005684247297484836\n"
     ]
    },
    {
     "name": "stderr",
     "output_type": "stream",
     "text": [
      "\r",
      "45it [01:24,  1.90s/it]"
     ]
    },
    {
     "name": "stdout",
     "output_type": "stream",
     "text": [
      "0.010496485438290296\n",
      "0.06669674840297342\n",
      "0.10329291276638826\n",
      "0.06463937734577262\n",
      "0.05891805288904387\n"
     ]
    },
    {
     "name": "stderr",
     "output_type": "stream",
     "text": [
      "\r",
      "46it [01:26,  1.90s/it]"
     ]
    },
    {
     "name": "stdout",
     "output_type": "stream",
     "text": [
      "0.0894282033772841\n",
      "0.024881785118578192\n",
      "0.07369384950403647\n",
      "0.09295091648985704\n",
      "0.20201667514158217\n"
     ]
    },
    {
     "name": "stderr",
     "output_type": "stream",
     "text": [
      "\r",
      "47it [01:28,  1.89s/it]"
     ]
    },
    {
     "name": "stdout",
     "output_type": "stream",
     "text": [
      "0.21390101359570235\n",
      "0.13855863868622248\n",
      "0.06769939384610138\n",
      "3.0849097849244795e-05\n",
      "0.024981610268443036\n"
     ]
    },
    {
     "name": "stderr",
     "output_type": "stream",
     "text": [
      "\r",
      "48it [01:30,  1.88s/it]"
     ]
    },
    {
     "name": "stdout",
     "output_type": "stream",
     "text": [
      "0.04648437522372366\n",
      "0.14409069310008102\n",
      "0.15119116998932958\n",
      "0.04169562663652272\n",
      "0.08492983921606782\n"
     ]
    },
    {
     "name": "stderr",
     "output_type": "stream",
     "text": [
      "\r",
      "49it [01:32,  1.88s/it]"
     ]
    },
    {
     "name": "stdout",
     "output_type": "stream",
     "text": [
      "0.03701386307794854\n",
      "0.0017096712924258642\n",
      "0.08457961784207425\n",
      "0.1491389198366176\n",
      "0.03811604761569224\n"
     ]
    },
    {
     "name": "stderr",
     "output_type": "stream",
     "text": [
      "\r",
      "50it [01:34,  1.88s/it]"
     ]
    },
    {
     "name": "stdout",
     "output_type": "stream",
     "text": [
      "0.0013630817328531867\n",
      "0.06695181011485571\n",
      "0.0987902397387884\n",
      "0.11618315624546427\n",
      "0.023142911161695305\n"
     ]
    },
    {
     "name": "stderr",
     "output_type": "stream",
     "text": [
      "\r",
      "51it [01:36,  1.88s/it]"
     ]
    },
    {
     "name": "stdout",
     "output_type": "stream",
     "text": [
      "0.013364045643333067\n",
      "0.13942822838946853\n",
      "0.09825641225442276\n",
      "0.024977274149282636\n",
      "0.09545812004256432\n"
     ]
    },
    {
     "name": "stderr",
     "output_type": "stream",
     "text": [
      "\r",
      "52it [01:37,  1.88s/it]"
     ]
    },
    {
     "name": "stdout",
     "output_type": "stream",
     "text": [
      "0.05198602422482819\n",
      "0.060794444769911964\n",
      "0.04642908533115707\n",
      "0.03154519850323407\n",
      "0.1372302005274865\n"
     ]
    },
    {
     "name": "stderr",
     "output_type": "stream",
     "text": [
      "\r",
      "53it [01:39,  1.88s/it]"
     ]
    },
    {
     "name": "stdout",
     "output_type": "stream",
     "text": [
      "0.06557811062878001\n",
      "0.03510246196719665\n",
      "0.03540524463478967\n",
      "0.041834390545776014\n",
      "0.015358426324617187\n"
     ]
    },
    {
     "name": "stderr",
     "output_type": "stream",
     "text": [
      "\r",
      "54it [01:41,  1.88s/it]"
     ]
    },
    {
     "name": "stdout",
     "output_type": "stream",
     "text": [
      "0.18268094921930378\n",
      "0.009246795572740522\n",
      "0.11528854354372182\n",
      "0.02976710991888223\n",
      "0.031665942060413635\n"
     ]
    },
    {
     "name": "stderr",
     "output_type": "stream",
     "text": [
      "\r",
      "55it [01:43,  1.88s/it]"
     ]
    },
    {
     "name": "stdout",
     "output_type": "stream",
     "text": [
      "0.3057878881503235\n",
      "0.046412197863814286\n",
      "0.038540644186121575\n",
      "0.10646934708504091\n",
      "0.09795835452071466\n"
     ]
    },
    {
     "name": "stderr",
     "output_type": "stream",
     "text": [
      "\r",
      "56it [01:45,  1.87s/it]"
     ]
    },
    {
     "name": "stdout",
     "output_type": "stream",
     "text": [
      "0.23674121791918654\n",
      "0.09926488198855765\n",
      "0.1325026015457058\n",
      "0.05317968701549276\n",
      "0.05094546270305427\n"
     ]
    },
    {
     "name": "stderr",
     "output_type": "stream",
     "text": [
      "\r",
      "57it [01:47,  1.87s/it]"
     ]
    },
    {
     "name": "stdout",
     "output_type": "stream",
     "text": [
      "0.012912976331184224\n",
      "0.0018831708059983084\n",
      "0.014615092628357232\n",
      "0.012259408875743104\n",
      "0.06537924439177438\n"
     ]
    },
    {
     "name": "stderr",
     "output_type": "stream",
     "text": [
      "\r",
      "58it [01:49,  1.87s/it]"
     ]
    },
    {
     "name": "stdout",
     "output_type": "stream",
     "text": [
      "0.04283038504179362\n",
      "0.14916805899573082\n",
      "0.07958275745125493\n",
      "0.028679238705914118\n",
      "0.16544475929986524\n"
     ]
    },
    {
     "name": "stderr",
     "output_type": "stream",
     "text": [
      "\r",
      "59it [01:51,  1.86s/it]"
     ]
    },
    {
     "name": "stdout",
     "output_type": "stream",
     "text": [
      "0.05143115732469497\n",
      "0.03649222589977926\n",
      "0.010044709236358317\n",
      "0.029366371878432846\n",
      "0.14599772084176085\n"
     ]
    },
    {
     "name": "stderr",
     "output_type": "stream",
     "text": [
      "\r",
      "60it [01:52,  1.88s/it]"
     ]
    },
    {
     "name": "stdout",
     "output_type": "stream",
     "text": [
      "0.08371428697839994\n",
      "0.14893879835438703\n",
      "0.004342643312539076\n",
      "0.19539723244092402\n",
      "0.09711800967456669\n"
     ]
    },
    {
     "name": "stderr",
     "output_type": "stream",
     "text": [
      "\r",
      "61it [01:54,  1.89s/it]"
     ]
    },
    {
     "name": "stdout",
     "output_type": "stream",
     "text": [
      "0.09339744004130297\n",
      "0.04949016714319355\n",
      "0.19482642899186023\n",
      "0.09915775748929526\n",
      "0.0704833222913291\n"
     ]
    },
    {
     "name": "stderr",
     "output_type": "stream",
     "text": [
      "\r",
      "62it [01:56,  1.90s/it]"
     ]
    },
    {
     "name": "stdout",
     "output_type": "stream",
     "text": [
      "0.057895758302784074\n",
      "0.04102479221169793\n",
      "0.08726852404914424\n",
      "0.09503737278582568\n",
      "0.009599599906316359\n"
     ]
    },
    {
     "name": "stderr",
     "output_type": "stream",
     "text": [
      "\r",
      "63it [01:58,  1.89s/it]"
     ]
    },
    {
     "name": "stdout",
     "output_type": "stream",
     "text": [
      "0.09520503216855956\n",
      "0.0016116620041246258\n",
      "0.1602958151457831\n",
      "0.11883271291542324\n",
      "0.023657317301286646\n"
     ]
    },
    {
     "name": "stderr",
     "output_type": "stream",
     "text": [
      "\r",
      "64it [02:00,  1.89s/it]"
     ]
    },
    {
     "name": "stdout",
     "output_type": "stream",
     "text": [
      "0.1456659214976801\n",
      "0.04895377548319613\n",
      "0.15842802980519827\n",
      "0.05529750982298574\n",
      "0.08113461059145441\n"
     ]
    },
    {
     "name": "stderr",
     "output_type": "stream",
     "text": [
      "\r",
      "65it [02:02,  1.90s/it]"
     ]
    },
    {
     "name": "stdout",
     "output_type": "stream",
     "text": [
      "0.0053437297561802054\n",
      "0.14027015208701063\n",
      "0.02349402824611\n",
      "0.13689081655039012\n",
      "0.003099803968593831\n"
     ]
    },
    {
     "name": "stderr",
     "output_type": "stream",
     "text": [
      "\r",
      "66it [02:04,  1.90s/it]"
     ]
    },
    {
     "name": "stdout",
     "output_type": "stream",
     "text": [
      "0.016644243572348644\n",
      "0.02121449471555345\n",
      "0.09353355781868872\n",
      "0.278241027792037\n",
      "0.09626800141926178\n"
     ]
    },
    {
     "name": "stderr",
     "output_type": "stream",
     "text": [
      "\r",
      "67it [02:06,  1.89s/it]"
     ]
    },
    {
     "name": "stdout",
     "output_type": "stream",
     "text": [
      "0.053507271613158075\n",
      "0.12392815755829584\n",
      "0.011440805291352378\n",
      "0.01288301583087396\n",
      "0.118094425780922\n"
     ]
    },
    {
     "name": "stderr",
     "output_type": "stream",
     "text": [
      "\r",
      "68it [02:08,  1.88s/it]"
     ]
    },
    {
     "name": "stdout",
     "output_type": "stream",
     "text": [
      "0.08811964056943966\n",
      "0.2218607403583738\n",
      "0.004661475186472226\n",
      "0.08421676637921746\n",
      "0.0590979655969663\n"
     ]
    },
    {
     "name": "stderr",
     "output_type": "stream",
     "text": [
      "\r",
      "69it [02:10,  1.88s/it]"
     ]
    },
    {
     "name": "stdout",
     "output_type": "stream",
     "text": [
      "0.13312104549934545\n",
      "0.14941807664972578\n",
      "0.00015645961611368924\n",
      "0.033156967776712974\n",
      "0.030678544863140523\n"
     ]
    },
    {
     "name": "stderr",
     "output_type": "stream",
     "text": [
      "\r",
      "70it [02:11,  1.88s/it]"
     ]
    },
    {
     "name": "stdout",
     "output_type": "stream",
     "text": [
      "0.08139873143365173\n",
      "0.1577637550203681\n",
      "0.017165314474959278\n",
      "0.09253910444787063\n",
      "0.026417942286869053\n"
     ]
    },
    {
     "name": "stderr",
     "output_type": "stream",
     "text": [
      "\r",
      "71it [02:13,  1.88s/it]"
     ]
    },
    {
     "name": "stdout",
     "output_type": "stream",
     "text": [
      "0.14158426789467213\n",
      "0.17138044115898277\n",
      "0.04279565736047425\n",
      "0.17485026489173877\n",
      "0.15483569894517502\n"
     ]
    },
    {
     "name": "stderr",
     "output_type": "stream",
     "text": [
      "\r",
      "72it [02:15,  1.88s/it]"
     ]
    },
    {
     "name": "stdout",
     "output_type": "stream",
     "text": [
      "0.05101310105287729\n",
      "0.25182249284230984\n",
      "0.07008396711696696\n",
      "0.06341125690324766\n",
      "0.17768103979652455\n"
     ]
    },
    {
     "name": "stderr",
     "output_type": "stream",
     "text": [
      "\r",
      "73it [02:17,  1.89s/it]"
     ]
    },
    {
     "name": "stdout",
     "output_type": "stream",
     "text": [
      "0.09916627654487566\n",
      "0.10063589715770559\n",
      "0.046529102716998956\n",
      "0.011812714148444519\n",
      "0.09040174868111582\n"
     ]
    },
    {
     "name": "stderr",
     "output_type": "stream",
     "text": [
      "\r",
      "74it [02:19,  1.89s/it]"
     ]
    },
    {
     "name": "stdout",
     "output_type": "stream",
     "text": [
      "0.17272603766701944\n",
      "0.060856756919509904\n",
      "0.1153374003365047\n",
      "0.15717603427889504\n",
      "0.12912023373384582\n"
     ]
    },
    {
     "name": "stderr",
     "output_type": "stream",
     "text": [
      "\r",
      "75it [02:21,  1.88s/it]"
     ]
    },
    {
     "name": "stdout",
     "output_type": "stream",
     "text": [
      "0.012505010411058018\n",
      "0.001951544299936053\n",
      "0.015513050806284748\n",
      "0.06731611327185527\n",
      "0.09362808666393864\n"
     ]
    },
    {
     "name": "stderr",
     "output_type": "stream",
     "text": [
      "\r",
      "76it [02:23,  1.88s/it]"
     ]
    },
    {
     "name": "stdout",
     "output_type": "stream",
     "text": [
      "0.0524574023960946\n",
      "0.11030255472994757\n",
      "0.002823482753063999\n",
      "0.07118181969182648\n",
      "0.03639235988765657\n"
     ]
    },
    {
     "name": "stderr",
     "output_type": "stream",
     "text": [
      "\r",
      "77it [02:25,  1.87s/it]"
     ]
    },
    {
     "name": "stdout",
     "output_type": "stream",
     "text": [
      "0.08482302477158897\n",
      "0.06966988827962364\n",
      "0.1261914180523099\n",
      "0.01321930126822265\n",
      "0.06731063107655522\n"
     ]
    },
    {
     "name": "stderr",
     "output_type": "stream",
     "text": [
      "\r",
      "78it [02:26,  1.88s/it]"
     ]
    },
    {
     "name": "stdout",
     "output_type": "stream",
     "text": [
      "0.0020151948923974416\n",
      "0.07735481838170903\n",
      "0.031169801713179176\n",
      "0.038785660769765355\n",
      "0.02571772305772889\n"
     ]
    },
    {
     "name": "stderr",
     "output_type": "stream",
     "text": [
      "\r",
      "79it [02:28,  1.87s/it]"
     ]
    },
    {
     "name": "stdout",
     "output_type": "stream",
     "text": [
      "0.19072620101083948\n",
      "0.19021551723271846\n",
      "0.035865647970178015\n",
      "0.026856321827442055\n",
      "0.09587923853915865\n"
     ]
    },
    {
     "name": "stderr",
     "output_type": "stream",
     "text": [
      "\r",
      "80it [02:30,  1.91s/it]"
     ]
    },
    {
     "name": "stdout",
     "output_type": "stream",
     "text": [
      "0.029023000659268786\n",
      "0.06509886427307059\n",
      "0.0074230149498568975\n",
      "0.14700922848514875\n",
      "0.09451152868299362\n"
     ]
    },
    {
     "name": "stderr",
     "output_type": "stream",
     "text": [
      "\r",
      "81it [02:32,  1.92s/it]"
     ]
    },
    {
     "name": "stdout",
     "output_type": "stream",
     "text": [
      "0.12442089962386348\n",
      "0.01241622593040833\n",
      "0.016167490096216437\n",
      "0.010488677161078814\n",
      "0.002685037259955892\n"
     ]
    },
    {
     "name": "stderr",
     "output_type": "stream",
     "text": [
      "\r",
      "82it [02:34,  1.91s/it]"
     ]
    },
    {
     "name": "stdout",
     "output_type": "stream",
     "text": [
      "0.17649877471732972\n",
      "0.04952832158863016\n",
      "0.13946309951810476\n",
      "0.04149940080253536\n",
      "0.21374156737532932\n"
     ]
    },
    {
     "name": "stderr",
     "output_type": "stream",
     "text": [
      "\r",
      "83it [02:36,  1.91s/it]"
     ]
    },
    {
     "name": "stdout",
     "output_type": "stream",
     "text": [
      "0.14274402056257623\n",
      "0.0660151484966018\n",
      "0.007219195561776393\n",
      "0.06528351999754116\n",
      "0.1116595748786422\n"
     ]
    },
    {
     "name": "stderr",
     "output_type": "stream",
     "text": [
      "\r",
      "84it [02:38,  1.92s/it]"
     ]
    },
    {
     "name": "stdout",
     "output_type": "stream",
     "text": [
      "0.07800742115725623\n",
      "0.024111922946752833\n",
      "0.17861731617192791\n",
      "0.03907178897899006\n",
      "0.1556303638916158\n"
     ]
    },
    {
     "name": "stderr",
     "output_type": "stream",
     "text": [
      "\r",
      "85it [02:40,  1.91s/it]"
     ]
    },
    {
     "name": "stdout",
     "output_type": "stream",
     "text": [
      "0.16364262657753326\n",
      "0.153361275293312\n",
      "0.06265926114790238\n",
      "0.008525267783116498\n",
      "0.19780434757022614\n"
     ]
    },
    {
     "name": "stderr",
     "output_type": "stream",
     "text": [
      "\r",
      "86it [02:42,  1.90s/it]"
     ]
    },
    {
     "name": "stdout",
     "output_type": "stream",
     "text": [
      "0.018210580346985288\n",
      "0.13125417685010873\n",
      "0.01902659996881033\n",
      "0.2615809709332602\n",
      "0.05894751749845481\n"
     ]
    },
    {
     "name": "stderr",
     "output_type": "stream",
     "text": [
      "\r",
      "87it [02:44,  1.90s/it]"
     ]
    },
    {
     "name": "stdout",
     "output_type": "stream",
     "text": [
      "0.08345596998836548\n",
      "0.14960356616522477\n",
      "0.07289668575457206\n",
      "0.11182023965710544\n",
      "0.08161746553588489\n"
     ]
    },
    {
     "name": "stderr",
     "output_type": "stream",
     "text": [
      "\r",
      "88it [02:46,  1.90s/it]"
     ]
    },
    {
     "name": "stdout",
     "output_type": "stream",
     "text": [
      "0.24698207221282553\n",
      "0.10482154431238583\n",
      "0.1864029027611055\n",
      "0.03108322727647335\n",
      "0.34347282718143\n"
     ]
    },
    {
     "name": "stderr",
     "output_type": "stream",
     "text": [
      "\r",
      "89it [02:47,  1.90s/it]"
     ]
    },
    {
     "name": "stdout",
     "output_type": "stream",
     "text": [
      "0.018797627175404202\n",
      "0.05909105859698588\n",
      "0.009434504027903093\n",
      "0.06731348651020351\n",
      "0.2383238323691281\n"
     ]
    },
    {
     "name": "stderr",
     "output_type": "stream",
     "text": [
      "\r",
      "90it [02:49,  1.89s/it]"
     ]
    },
    {
     "name": "stdout",
     "output_type": "stream",
     "text": [
      "0.13389728850830526\n",
      "0.09600401272387236\n",
      "0.06474167992750653\n",
      "0.21029688684438652\n",
      "0.06444058429205836\n"
     ]
    },
    {
     "name": "stderr",
     "output_type": "stream",
     "text": [
      "\r",
      "91it [02:51,  1.90s/it]"
     ]
    },
    {
     "name": "stdout",
     "output_type": "stream",
     "text": [
      "0.06616965606638757\n",
      "0.02805002071481194\n",
      "0.025290304799445995\n",
      "0.01624896951348063\n",
      "0.0814743398661305\n"
     ]
    },
    {
     "name": "stderr",
     "output_type": "stream",
     "text": [
      "\r",
      "92it [02:53,  1.90s/it]"
     ]
    },
    {
     "name": "stdout",
     "output_type": "stream",
     "text": [
      "0.14172339363952524\n",
      "0.03080629157492053\n",
      "0.025382660022795375\n",
      "0.048882165882923316\n",
      "0.0426207571217118\n"
     ]
    },
    {
     "name": "stderr",
     "output_type": "stream",
     "text": [
      "\r",
      "93it [02:55,  1.90s/it]"
     ]
    },
    {
     "name": "stdout",
     "output_type": "stream",
     "text": [
      "0.12154704146748584\n",
      "0.08641302311469944\n",
      "0.06029313583341022\n",
      "0.1293036200353113\n",
      "0.07775227892921631\n"
     ]
    },
    {
     "name": "stderr",
     "output_type": "stream",
     "text": [
      "\r",
      "94it [02:57,  1.89s/it]"
     ]
    },
    {
     "name": "stdout",
     "output_type": "stream",
     "text": [
      "0.04326770212106694\n",
      "0.0017504337726068115\n",
      "0.08571655686480302\n",
      "0.1613103132424127\n",
      "0.05806564303533268\n"
     ]
    },
    {
     "name": "stderr",
     "output_type": "stream",
     "text": [
      "\r",
      "95it [02:59,  1.89s/it]"
     ]
    },
    {
     "name": "stdout",
     "output_type": "stream",
     "text": [
      "0.05720421529765799\n",
      "0.06244661925680028\n",
      "0.08330526877530822\n",
      "0.049995472797187024\n",
      "0.14980174634642807\n"
     ]
    },
    {
     "name": "stderr",
     "output_type": "stream",
     "text": [
      "\r",
      "96it [03:01,  1.88s/it]"
     ]
    },
    {
     "name": "stdout",
     "output_type": "stream",
     "text": [
      "0.0026084556364795956\n",
      "0.12392169944241652\n",
      "0.10155832908500528\n",
      "0.16600481092088204\n",
      "0.030527599669348038\n"
     ]
    },
    {
     "name": "stderr",
     "output_type": "stream",
     "text": [
      "\r",
      "97it [03:03,  1.88s/it]"
     ]
    },
    {
     "name": "stdout",
     "output_type": "stream",
     "text": [
      "0.07653911546856104\n",
      "0.09807388412054568\n",
      "0.1922690842371095\n",
      "0.18541178206068018\n",
      "0.019586038318148424\n"
     ]
    },
    {
     "name": "stderr",
     "output_type": "stream",
     "text": [
      "\r",
      "98it [03:04,  1.88s/it]"
     ]
    },
    {
     "name": "stdout",
     "output_type": "stream",
     "text": [
      "0.07032990076101957\n",
      "0.11775677785654876\n",
      "0.0001407845364292044\n",
      "0.00763773248904638\n",
      "0.048911292331560725\n"
     ]
    },
    {
     "name": "stderr",
     "output_type": "stream",
     "text": [
      "\r",
      "99it [03:06,  1.88s/it]"
     ]
    },
    {
     "name": "stdout",
     "output_type": "stream",
     "text": [
      "0.17887108290699094\n",
      "0.07393108794504338\n",
      "0.20218525408409016\n",
      "0.10826440874811485\n",
      "0.1515504988924665\n"
     ]
    },
    {
     "name": "stderr",
     "output_type": "stream",
     "text": [
      "\r",
      "100it [03:08,  1.91s/it]"
     ]
    },
    {
     "name": "stdout",
     "output_type": "stream",
     "text": [
      "0.07551503892425082\n",
      "0.04172671537766292\n",
      "0.04489557206919153\n",
      "0.0376499044418923\n",
      "0.06988225496460249\n"
     ]
    },
    {
     "name": "stderr",
     "output_type": "stream",
     "text": [
      "\r",
      "101it [03:10,  1.91s/it]"
     ]
    },
    {
     "name": "stdout",
     "output_type": "stream",
     "text": [
      "0.031752107990493765\n",
      "0.028143882753841273\n",
      "0.1328699456146603\n",
      "0.10936173649843013\n",
      "0.06960924046955878\n"
     ]
    },
    {
     "name": "stderr",
     "output_type": "stream",
     "text": [
      "\r",
      "102it [03:12,  1.91s/it]"
     ]
    },
    {
     "name": "stdout",
     "output_type": "stream",
     "text": [
      "0.03306408716922296\n",
      "0.14387878659692316\n",
      "0.17341498200242558\n",
      "0.14063846209332997\n",
      "0.1064885750039169\n"
     ]
    },
    {
     "name": "stderr",
     "output_type": "stream",
     "text": [
      "\r",
      "103it [03:14,  1.91s/it]"
     ]
    },
    {
     "name": "stdout",
     "output_type": "stream",
     "text": [
      "0.13941783042561914\n",
      "0.22196512990304168\n",
      "0.029627294586478954\n",
      "0.014657008543704315\n",
      "0.003505650466857895\n"
     ]
    },
    {
     "name": "stderr",
     "output_type": "stream",
     "text": [
      "\r",
      "104it [03:16,  1.91s/it]"
     ]
    },
    {
     "name": "stdout",
     "output_type": "stream",
     "text": [
      "0.0024707931632361644\n",
      "0.2558337494779163\n",
      "0.12695411631614104\n",
      "0.039573947258567825\n",
      "0.05109242466440317\n"
     ]
    },
    {
     "name": "stderr",
     "output_type": "stream",
     "text": [
      "\r",
      "105it [03:18,  1.92s/it]"
     ]
    },
    {
     "name": "stdout",
     "output_type": "stream",
     "text": [
      "0.10216767464172859\n",
      "0.11676180881595855\n",
      "0.07663613953582842\n",
      "0.10041155701374427\n",
      "0.008057258998406326\n"
     ]
    },
    {
     "name": "stderr",
     "output_type": "stream",
     "text": [
      "\r",
      "106it [03:20,  1.92s/it]"
     ]
    },
    {
     "name": "stdout",
     "output_type": "stream",
     "text": [
      "0.05476886929331155\n",
      "0.02406813232959675\n",
      "0.14890653629012784\n",
      "0.062135883798951935\n",
      "0.029759240809672596\n"
     ]
    },
    {
     "name": "stderr",
     "output_type": "stream",
     "text": [
      "\r",
      "107it [03:22,  1.92s/it]"
     ]
    },
    {
     "name": "stdout",
     "output_type": "stream",
     "text": [
      "0.14147756018051713\n",
      "0.0015565736435252603\n",
      "0.09530541104813675\n",
      "0.05356837932553278\n",
      "0.03841169774088003\n"
     ]
    },
    {
     "name": "stderr",
     "output_type": "stream",
     "text": [
      "\r",
      "108it [03:24,  1.91s/it]"
     ]
    },
    {
     "name": "stdout",
     "output_type": "stream",
     "text": [
      "0.13627099129457287\n",
      "0.03609063245155722\n",
      "0.08008801600358885\n",
      "0.009461617242979762\n",
      "0.08040721089651878\n"
     ]
    },
    {
     "name": "stderr",
     "output_type": "stream",
     "text": [
      "\r",
      "109it [03:25,  1.91s/it]"
     ]
    },
    {
     "name": "stdout",
     "output_type": "stream",
     "text": [
      "0.06425685342554123\n",
      "0.13222334287464096\n",
      "0.054527311082229905\n",
      "0.027761429948047197\n",
      "0.15295481567773603\n"
     ]
    },
    {
     "name": "stderr",
     "output_type": "stream",
     "text": [
      "\r",
      "110it [03:27,  1.90s/it]"
     ]
    },
    {
     "name": "stdout",
     "output_type": "stream",
     "text": [
      "0.0562604277732089\n",
      "0.10667389194615595\n",
      "0.16815132711548286\n",
      "0.020375483271776403\n",
      "0.1515122652746841\n"
     ]
    },
    {
     "name": "stderr",
     "output_type": "stream",
     "text": [
      "\r",
      "111it [03:29,  1.89s/it]"
     ]
    },
    {
     "name": "stdout",
     "output_type": "stream",
     "text": [
      "0.025677420874163515\n",
      "0.07937771208160292\n",
      "0.22431932771362476\n",
      "0.004203038195060516\n",
      "0.09049174985061081\n"
     ]
    },
    {
     "name": "stderr",
     "output_type": "stream",
     "text": [
      "\r",
      "112it [03:31,  1.89s/it]"
     ]
    },
    {
     "name": "stdout",
     "output_type": "stream",
     "text": [
      "0.09518733774801229\n",
      "0.046735246431161934\n",
      "0.006846196253690488\n",
      "0.21295503128240295\n",
      "0.08407213057244362\n"
     ]
    },
    {
     "name": "stderr",
     "output_type": "stream",
     "text": [
      "\r",
      "113it [03:33,  1.89s/it]"
     ]
    },
    {
     "name": "stdout",
     "output_type": "stream",
     "text": [
      "0.1640418872505488\n",
      "0.06361913333050576\n",
      "0.036694420441246975\n",
      "0.03981641104630593\n",
      "0.15854760919354638\n"
     ]
    },
    {
     "name": "stderr",
     "output_type": "stream",
     "text": [
      "\r",
      "114it [03:35,  1.88s/it]"
     ]
    },
    {
     "name": "stdout",
     "output_type": "stream",
     "text": [
      "0.08104809062585538\n",
      "0.11011637559482444\n",
      "0.06467533973009114\n",
      "0.0266803880914274\n",
      "0.12935686596258275\n"
     ]
    },
    {
     "name": "stderr",
     "output_type": "stream",
     "text": [
      "\r",
      "115it [03:37,  1.90s/it]"
     ]
    },
    {
     "name": "stdout",
     "output_type": "stream",
     "text": [
      "0.15696095038206892\n",
      "0.05858048263123399\n",
      "0.1636177209767935\n",
      "0.1608398692225117\n",
      "0.046215774526994685\n"
     ]
    },
    {
     "name": "stderr",
     "output_type": "stream",
     "text": [
      "\r",
      "116it [03:39,  1.89s/it]"
     ]
    },
    {
     "name": "stdout",
     "output_type": "stream",
     "text": [
      "0.0285403765138965\n",
      "0.2598010072595826\n",
      "0.04017629367489153\n",
      "0.03242296280716999\n",
      "0.007719261805478517\n"
     ]
    },
    {
     "name": "stderr",
     "output_type": "stream",
     "text": [
      "\r",
      "117it [03:41,  1.88s/it]"
     ]
    },
    {
     "name": "stdout",
     "output_type": "stream",
     "text": [
      "0.05521586893895162\n",
      "0.018502929876666487\n",
      "0.09474826085344211\n",
      "0.020794936442113887\n",
      "0.11533936795927811\n"
     ]
    },
    {
     "name": "stderr",
     "output_type": "stream",
     "text": [
      "\r",
      "118it [03:42,  1.89s/it]"
     ]
    },
    {
     "name": "stdout",
     "output_type": "stream",
     "text": [
      "0.004878393380808646\n",
      "0.10062378819350787\n",
      "0.0855178833444593\n",
      "0.019076098921187806\n",
      "0.0889481658300741\n"
     ]
    },
    {
     "name": "stderr",
     "output_type": "stream",
     "text": [
      "\r",
      "119it [03:44,  1.88s/it]"
     ]
    },
    {
     "name": "stdout",
     "output_type": "stream",
     "text": [
      "0.16221843631626243\n",
      "0.06794711172895827\n",
      "0.008867416363035783\n",
      "0.13836336363241336\n",
      "0.029541757668473518\n"
     ]
    },
    {
     "name": "stderr",
     "output_type": "stream",
     "text": [
      "\r",
      "120it [03:46,  1.90s/it]"
     ]
    },
    {
     "name": "stdout",
     "output_type": "stream",
     "text": [
      "0.007262082554889983\n",
      "0.04424482995277702\n",
      "0.035654804187201926\n",
      "0.05416385864945979\n",
      "0.03045545296292697\n"
     ]
    },
    {
     "name": "stderr",
     "output_type": "stream",
     "text": [
      "\r",
      "121it [03:48,  1.90s/it]"
     ]
    },
    {
     "name": "stdout",
     "output_type": "stream",
     "text": [
      "0.14845039507193106\n",
      "0.052650271145743235\n",
      "0.2616190372730134\n",
      "0.028705105911850787\n",
      "0.027507048610487285\n"
     ]
    },
    {
     "name": "stderr",
     "output_type": "stream",
     "text": [
      "\r",
      "122it [03:50,  1.90s/it]"
     ]
    },
    {
     "name": "stdout",
     "output_type": "stream",
     "text": [
      "0.07662003292928532\n",
      "0.15383063089454196\n",
      "0.08789745864911878\n",
      "0.06586605735983651\n",
      "0.16310248394771662\n"
     ]
    },
    {
     "name": "stderr",
     "output_type": "stream",
     "text": [
      "\r",
      "123it [03:52,  1.91s/it]"
     ]
    },
    {
     "name": "stdout",
     "output_type": "stream",
     "text": [
      "0.08767600012006932\n",
      "0.14324071682944398\n",
      "0.17235809331928112\n",
      "0.12715987001619192\n",
      "0.0812598911638999\n"
     ]
    },
    {
     "name": "stderr",
     "output_type": "stream",
     "text": [
      "\r",
      "124it [03:54,  1.91s/it]"
     ]
    },
    {
     "name": "stdout",
     "output_type": "stream",
     "text": [
      "0.013947809706901654\n",
      "0.12703186463006977\n",
      "0.08771306565023995\n",
      "0.19992354207099536\n",
      "0.08918573019254501\n"
     ]
    },
    {
     "name": "stderr",
     "output_type": "stream",
     "text": [
      "\r",
      "125it [03:56,  1.91s/it]"
     ]
    },
    {
     "name": "stdout",
     "output_type": "stream",
     "text": [
      "0.1019800308204506\n",
      "0.026201343600671445\n",
      "0.16679384809620024\n",
      "0.04801835546632345\n",
      "0.08504045040812386\n"
     ]
    },
    {
     "name": "stderr",
     "output_type": "stream",
     "text": [
      "\r",
      "126it [03:58,  1.91s/it]"
     ]
    },
    {
     "name": "stdout",
     "output_type": "stream",
     "text": [
      "0.018735020200246855\n",
      "0.18836938341376597\n",
      "0.04666140522619752\n",
      "0.19373881716811545\n",
      "0.028403424155377627\n"
     ]
    },
    {
     "name": "stderr",
     "output_type": "stream",
     "text": [
      "\r",
      "127it [04:00,  1.91s/it]"
     ]
    },
    {
     "name": "stdout",
     "output_type": "stream",
     "text": [
      "0.1393011700554671\n",
      "0.045115739297936844\n",
      "0.09176450037502434\n",
      "0.030430997705541526\n",
      "0.04085298777939889\n"
     ]
    },
    {
     "name": "stderr",
     "output_type": "stream",
     "text": [
      "\r",
      "128it [04:01,  1.90s/it]"
     ]
    },
    {
     "name": "stdout",
     "output_type": "stream",
     "text": [
      "0.02250308451930558\n",
      "0.09895500648668859\n",
      "0.04796216307383418\n",
      "0.045549319604923866\n",
      "0.04210130638280546\n"
     ]
    },
    {
     "name": "stderr",
     "output_type": "stream",
     "text": [
      "\r",
      "129it [04:03,  1.91s/it]"
     ]
    },
    {
     "name": "stdout",
     "output_type": "stream",
     "text": [
      "0.14285523239716255\n",
      "0.14009766781411603\n",
      "0.1720873361983412\n",
      "0.011142509706434892\n",
      "0.16754065356999479\n"
     ]
    },
    {
     "name": "stderr",
     "output_type": "stream",
     "text": [
      "\r",
      "130it [04:05,  1.89s/it]"
     ]
    },
    {
     "name": "stdout",
     "output_type": "stream",
     "text": [
      "0.15439766658886267\n",
      "0.038183804546498556\n",
      "0.10205662355275297\n",
      "0.056737878185385775\n",
      "0.08472535839226178\n"
     ]
    },
    {
     "name": "stderr",
     "output_type": "stream",
     "text": [
      "\r",
      "131it [04:07,  1.89s/it]"
     ]
    },
    {
     "name": "stdout",
     "output_type": "stream",
     "text": [
      "0.013440420131851823\n",
      "0.11921469173466388\n",
      "0.07288454275359367\n",
      "0.0333202201988582\n",
      "0.02016060208925052\n"
     ]
    },
    {
     "name": "stderr",
     "output_type": "stream",
     "text": [
      "\r",
      "132it [04:09,  1.88s/it]"
     ]
    },
    {
     "name": "stdout",
     "output_type": "stream",
     "text": [
      "0.08159505043525285\n",
      "0.10043092943592308\n",
      "0.16429002270313545\n",
      "0.1254186296121274\n",
      "0.07447137733316854\n"
     ]
    },
    {
     "name": "stderr",
     "output_type": "stream",
     "text": [
      "\r",
      "133it [04:11,  1.88s/it]"
     ]
    },
    {
     "name": "stdout",
     "output_type": "stream",
     "text": [
      "0.012450227373402649\n",
      "0.04591105098926999\n",
      "0.10286019027880858\n",
      "0.03771380687978772\n",
      "0.1653435077056263\n"
     ]
    },
    {
     "name": "stderr",
     "output_type": "stream",
     "text": [
      "\r",
      "134it [04:13,  1.88s/it]"
     ]
    },
    {
     "name": "stdout",
     "output_type": "stream",
     "text": [
      "0.03960658534974903\n",
      "0.007848502717197713\n",
      "0.015175002658060871\n",
      "0.14199977827011082\n",
      "0.06311950251330468\n"
     ]
    },
    {
     "name": "stderr",
     "output_type": "stream",
     "text": [
      "\r",
      "135it [04:15,  1.87s/it]"
     ]
    },
    {
     "name": "stdout",
     "output_type": "stream",
     "text": [
      "0.06128396269140873\n",
      "0.16310453729728602\n",
      "0.06383503887517893\n",
      "0.06453767912155207\n",
      "0.10822822563944788\n"
     ]
    },
    {
     "name": "stderr",
     "output_type": "stream",
     "text": [
      "\r",
      "136it [04:16,  1.87s/it]"
     ]
    },
    {
     "name": "stdout",
     "output_type": "stream",
     "text": [
      "0.22608332809700804\n",
      "0.020525782225382688\n",
      "0.12434741180641891\n",
      "0.018960070413177474\n",
      "0.07315325107260875\n"
     ]
    },
    {
     "name": "stderr",
     "output_type": "stream",
     "text": [
      "\r",
      "137it [04:18,  1.87s/it]"
     ]
    },
    {
     "name": "stdout",
     "output_type": "stream",
     "text": [
      "0.032994575839310224\n",
      "0.16858707587134442\n",
      "0.06200636028103414\n",
      "0.06143202708523783\n",
      "0.17892507982916994\n"
     ]
    },
    {
     "name": "stderr",
     "output_type": "stream",
     "text": [
      "\r",
      "138it [04:20,  1.87s/it]"
     ]
    },
    {
     "name": "stdout",
     "output_type": "stream",
     "text": [
      "0.05601716173836988\n",
      "0.01853829874007042\n",
      "0.030823959542077003\n",
      "0.049425487044831\n",
      "0.07917439633985977\n"
     ]
    },
    {
     "name": "stderr",
     "output_type": "stream",
     "text": [
      "\r",
      "139it [04:22,  1.87s/it]"
     ]
    },
    {
     "name": "stdout",
     "output_type": "stream",
     "text": [
      "0.049733697409305305\n",
      "0.18793955095979642\n",
      "0.04754747564779715\n",
      "0.046395525177008075\n",
      "0.00796253911347876\n"
     ]
    },
    {
     "name": "stderr",
     "output_type": "stream",
     "text": [
      "\r",
      "140it [04:24,  1.90s/it]"
     ]
    },
    {
     "name": "stdout",
     "output_type": "stream",
     "text": [
      "0.10467105310645541\n",
      "0.07326708718855833\n",
      "0.018416189100701582\n",
      "0.04202550718510631\n",
      "0.11465463238267964\n"
     ]
    },
    {
     "name": "stderr",
     "output_type": "stream",
     "text": [
      "\r",
      "141it [04:26,  1.90s/it]"
     ]
    },
    {
     "name": "stdout",
     "output_type": "stream",
     "text": [
      "0.03873954878041423\n",
      "0.01282601206290688\n",
      "0.050032203678464365\n",
      "0.044331582308040456\n",
      "0.13454886142882422\n"
     ]
    },
    {
     "name": "stderr",
     "output_type": "stream",
     "text": [
      "\r",
      "142it [04:28,  1.90s/it]"
     ]
    },
    {
     "name": "stdout",
     "output_type": "stream",
     "text": [
      "0.05741536338367869\n",
      "0.02252722015953519\n",
      "0.1272906722114291\n",
      "0.1772882825054099\n",
      "0.051656283249292\n"
     ]
    },
    {
     "name": "stderr",
     "output_type": "stream",
     "text": [
      "\r",
      "143it [04:30,  1.90s/it]"
     ]
    },
    {
     "name": "stdout",
     "output_type": "stream",
     "text": [
      "0.016548894293564747\n",
      "0.09461009803674081\n",
      "0.10128420407984887\n",
      "0.1317970237394855\n",
      "0.03535456303873652\n"
     ]
    },
    {
     "name": "stderr",
     "output_type": "stream",
     "text": [
      "\r",
      "144it [04:32,  1.90s/it]"
     ]
    },
    {
     "name": "stdout",
     "output_type": "stream",
     "text": [
      "0.025049486477255564\n",
      "0.11884169466680666\n",
      "0.07195777966489582\n",
      "0.09305197965263462\n",
      "0.1657504508990182\n"
     ]
    },
    {
     "name": "stderr",
     "output_type": "stream",
     "text": [
      "\r",
      "145it [04:34,  1.90s/it]"
     ]
    },
    {
     "name": "stdout",
     "output_type": "stream",
     "text": [
      "0.07792795309754172\n",
      "0.10688473589329857\n",
      "0.0003873331980292978\n",
      "0.14846128516232993\n",
      "0.025093609011238846\n"
     ]
    },
    {
     "name": "stderr",
     "output_type": "stream",
     "text": [
      "\r",
      "146it [04:36,  1.91s/it]"
     ]
    },
    {
     "name": "stdout",
     "output_type": "stream",
     "text": [
      "0.04341374018537825\n",
      "0.08190838440863131\n",
      "0.018474636564545063\n",
      "0.00395383239713132\n",
      "0.010184476673101047\n"
     ]
    },
    {
     "name": "stderr",
     "output_type": "stream",
     "text": [
      "\r",
      "147it [04:37,  1.92s/it]"
     ]
    },
    {
     "name": "stdout",
     "output_type": "stream",
     "text": [
      "0.03370356350072517\n",
      "0.07442332992430806\n",
      "0.1176215066104661\n",
      "0.16366308669700477\n",
      "0.10744063706119822\n"
     ]
    },
    {
     "name": "stderr",
     "output_type": "stream",
     "text": [
      "\r",
      "148it [04:39,  1.91s/it]"
     ]
    },
    {
     "name": "stdout",
     "output_type": "stream",
     "text": [
      "0.13508846769031793\n",
      "0.14480728503413207\n",
      "0.10238866545737486\n",
      "0.03899820684089353\n",
      "0.08790318424105506\n"
     ]
    },
    {
     "name": "stderr",
     "output_type": "stream",
     "text": [
      "\r",
      "149it [04:41,  1.92s/it]"
     ]
    },
    {
     "name": "stdout",
     "output_type": "stream",
     "text": [
      "0.040837932062996546\n",
      "0.041652556769860606\n",
      "0.09973862622557611\n",
      "0.052999431084810734\n",
      "0.03739480941845571\n"
     ]
    },
    {
     "name": "stderr",
     "output_type": "stream",
     "text": [
      "\r",
      "150it [04:43,  1.91s/it]"
     ]
    },
    {
     "name": "stdout",
     "output_type": "stream",
     "text": [
      "0.06903661197037016\n",
      "0.03658498853486789\n",
      "0.17508124279276924\n",
      "0.019913980665692093\n",
      "0.10844156184843501\n"
     ]
    },
    {
     "name": "stderr",
     "output_type": "stream",
     "text": [
      "\r",
      "151it [04:45,  1.90s/it]"
     ]
    },
    {
     "name": "stdout",
     "output_type": "stream",
     "text": [
      "0.01300303986135826\n",
      "0.13808051013954248\n",
      "0.13704843299234723\n",
      "0.03767775481627551\n",
      "0.015466123369857539\n"
     ]
    },
    {
     "name": "stderr",
     "output_type": "stream",
     "text": [
      "\r",
      "152it [04:47,  1.89s/it]"
     ]
    },
    {
     "name": "stdout",
     "output_type": "stream",
     "text": [
      "0.10174201142167023\n",
      "0.08236068993670187\n",
      "0.1228828719356434\n",
      "0.03492375555384503\n",
      "0.03630703998027811\n"
     ]
    },
    {
     "name": "stderr",
     "output_type": "stream",
     "text": [
      "\r",
      "153it [04:49,  1.89s/it]"
     ]
    },
    {
     "name": "stdout",
     "output_type": "stream",
     "text": [
      "0.06717008492997349\n",
      "0.00024401459464846147\n",
      "0.09215159286899358\n",
      "0.2739619648149346\n",
      "0.008619906909795591\n"
     ]
    },
    {
     "name": "stderr",
     "output_type": "stream",
     "text": [
      "\r",
      "154it [04:51,  1.88s/it]"
     ]
    },
    {
     "name": "stdout",
     "output_type": "stream",
     "text": [
      "0.0011814043785954077\n",
      "0.11018648769042101\n",
      "0.028659692237003476\n",
      "0.15974909859835623\n",
      "0.14669143925246397\n"
     ]
    },
    {
     "name": "stderr",
     "output_type": "stream",
     "text": [
      "\r",
      "155it [04:53,  1.87s/it]"
     ]
    },
    {
     "name": "stdout",
     "output_type": "stream",
     "text": [
      "0.05388474581792407\n",
      "0.04836967969854021\n",
      "0.04387173968796195\n",
      "0.02083734939030851\n",
      "0.0515778250329921\n"
     ]
    },
    {
     "name": "stderr",
     "output_type": "stream",
     "text": [
      "\r",
      "156it [04:54,  1.86s/it]"
     ]
    },
    {
     "name": "stdout",
     "output_type": "stream",
     "text": [
      "0.07873186973830566\n",
      "0.2029779510923488\n",
      "0.1253114471757519\n",
      "0.06352031251856877\n",
      "0.07822307784123318\n"
     ]
    },
    {
     "name": "stderr",
     "output_type": "stream",
     "text": [
      "\r",
      "157it [04:56,  1.87s/it]"
     ]
    },
    {
     "name": "stdout",
     "output_type": "stream",
     "text": [
      "0.1587698737354354\n",
      "0.009886515553971747\n",
      "0.15467613203097222\n",
      "0.06333619678004562\n",
      "0.24746987697417283\n"
     ]
    },
    {
     "name": "stderr",
     "output_type": "stream",
     "text": [
      "\r",
      "158it [04:58,  1.87s/it]"
     ]
    },
    {
     "name": "stdout",
     "output_type": "stream",
     "text": [
      "0.071573937349398\n",
      "0.10956711544500544\n",
      "0.15369114557287109\n",
      "0.08085299453516465\n",
      "0.12754558939845115\n"
     ]
    },
    {
     "name": "stderr",
     "output_type": "stream",
     "text": [
      "\r",
      "159it [05:00,  1.87s/it]"
     ]
    },
    {
     "name": "stdout",
     "output_type": "stream",
     "text": [
      "0.06428502004840846\n",
      "0.12232621355300931\n",
      "0.010006932167625575\n",
      "0.09212964895860389\n",
      "0.04944957007297704\n"
     ]
    },
    {
     "name": "stderr",
     "output_type": "stream",
     "text": [
      "\r",
      "160it [05:02,  1.90s/it]"
     ]
    },
    {
     "name": "stdout",
     "output_type": "stream",
     "text": [
      "0.035089163365840066\n",
      "0.059608341618898324\n",
      "0.27122936230002886\n",
      "0.12761453348643714\n",
      "0.028089294881002026\n"
     ]
    },
    {
     "name": "stderr",
     "output_type": "stream",
     "text": [
      "\r",
      "161it [05:04,  1.89s/it]"
     ]
    },
    {
     "name": "stdout",
     "output_type": "stream",
     "text": [
      "0.20421762010385502\n",
      "0.10578293170007508\n",
      "0.03384772013536075\n",
      "0.1309701550054144\n",
      "0.08541113251675568\n"
     ]
    },
    {
     "name": "stderr",
     "output_type": "stream",
     "text": [
      "\r",
      "162it [05:06,  1.89s/it]"
     ]
    },
    {
     "name": "stdout",
     "output_type": "stream",
     "text": [
      "0.01752696059040242\n",
      "0.1328126420010535\n",
      "0.18151307421540863\n",
      "0.03952679080164264\n",
      "0.04915262979644892\n"
     ]
    },
    {
     "name": "stderr",
     "output_type": "stream",
     "text": [
      "\r",
      "163it [05:08,  1.89s/it]"
     ]
    },
    {
     "name": "stdout",
     "output_type": "stream",
     "text": [
      "0.04272259437019409\n",
      "0.06359507736750361\n",
      "0.256511412729933\n",
      "0.0526003529257745\n",
      "0.006026488864625486\n"
     ]
    },
    {
     "name": "stderr",
     "output_type": "stream",
     "text": [
      "\r",
      "164it [05:09,  1.89s/it]"
     ]
    },
    {
     "name": "stdout",
     "output_type": "stream",
     "text": [
      "0.10489048102617077\n",
      "0.015504454490230787\n",
      "0.003089069292632017\n",
      "0.1574520728137546\n",
      "0.13369467677891916\n"
     ]
    },
    {
     "name": "stderr",
     "output_type": "stream",
     "text": [
      "\r",
      "165it [05:11,  1.90s/it]"
     ]
    },
    {
     "name": "stdout",
     "output_type": "stream",
     "text": [
      "0.09562721623554955\n",
      "0.19981196610851595\n",
      "0.031426318905446005\n",
      "0.16622598061581054\n",
      "0.15071952834866573\n"
     ]
    },
    {
     "name": "stderr",
     "output_type": "stream",
     "text": [
      "\r",
      "166it [05:13,  1.90s/it]"
     ]
    },
    {
     "name": "stdout",
     "output_type": "stream",
     "text": [
      "0.04801809293140594\n",
      "0.02117171266601392\n",
      "0.09558417484786587\n",
      "0.09961349100180433\n",
      "0.02553450241171644\n"
     ]
    },
    {
     "name": "stderr",
     "output_type": "stream",
     "text": [
      "\r",
      "167it [05:15,  1.89s/it]"
     ]
    },
    {
     "name": "stdout",
     "output_type": "stream",
     "text": [
      "0.08887754377234904\n",
      "0.07710675629203327\n",
      "0.17778086139674074\n",
      "0.013128334899846099\n",
      "0.11245245004236842\n"
     ]
    },
    {
     "name": "stderr",
     "output_type": "stream",
     "text": [
      "\r",
      "168it [05:17,  1.90s/it]"
     ]
    },
    {
     "name": "stdout",
     "output_type": "stream",
     "text": [
      "0.08781293387661908\n",
      "0.005467547073619145\n",
      "0.020542899286517244\n",
      "0.08913932782735194\n",
      "0.07343430203721628\n"
     ]
    },
    {
     "name": "stderr",
     "output_type": "stream",
     "text": [
      "\r",
      "169it [05:19,  1.90s/it]"
     ]
    },
    {
     "name": "stdout",
     "output_type": "stream",
     "text": [
      "0.14187900786885194\n",
      "0.05676768818122801\n",
      "0.1482260807034798\n",
      "0.0221482829037329\n",
      "0.09157887611816667\n"
     ]
    },
    {
     "name": "stderr",
     "output_type": "stream",
     "text": [
      "\r",
      "170it [05:21,  1.90s/it]"
     ]
    },
    {
     "name": "stdout",
     "output_type": "stream",
     "text": [
      "0.10633079932983708\n",
      "0.027232620491073778\n",
      "0.055320810921751506\n",
      "0.18632014249984963\n",
      "0.02215271823750076\n"
     ]
    },
    {
     "name": "stderr",
     "output_type": "stream",
     "text": [
      "\r",
      "171it [05:23,  1.89s/it]"
     ]
    },
    {
     "name": "stdout",
     "output_type": "stream",
     "text": [
      "0.08902072416204129\n",
      "0.0027286303254437524\n",
      "0.0016244013591935847\n",
      "0.043963988436984826\n",
      "0.15553156251250783\n"
     ]
    },
    {
     "name": "stderr",
     "output_type": "stream",
     "text": [
      "\r",
      "172it [05:25,  1.88s/it]"
     ]
    },
    {
     "name": "stdout",
     "output_type": "stream",
     "text": [
      "0.10798361027917476\n",
      "0.03884634917925145\n",
      "0.21189127451746048\n",
      "0.09429944553824639\n",
      "0.07319735218981725\n"
     ]
    },
    {
     "name": "stderr",
     "output_type": "stream",
     "text": [
      "\r",
      "173it [05:27,  1.88s/it]"
     ]
    },
    {
     "name": "stdout",
     "output_type": "stream",
     "text": [
      "0.14233388503966646\n",
      "0.24871547978657982\n",
      "0.14960997558553665\n",
      "0.030956336575293432\n",
      "0.23533208111859105\n"
     ]
    },
    {
     "name": "stderr",
     "output_type": "stream",
     "text": [
      "\r",
      "174it [05:28,  1.88s/it]"
     ]
    },
    {
     "name": "stdout",
     "output_type": "stream",
     "text": [
      "0.04804919397787412\n",
      "0.11272478289867659\n",
      "0.03222402389505826\n",
      "0.10408941836129651\n",
      "0.022355599763803316\n"
     ]
    },
    {
     "name": "stderr",
     "output_type": "stream",
     "text": [
      "\r",
      "175it [05:30,  1.87s/it]"
     ]
    },
    {
     "name": "stdout",
     "output_type": "stream",
     "text": [
      "0.18523662925601048\n",
      "0.06462693278318153\n",
      "0.0031841181322550824\n",
      "0.02038363948960756\n",
      "0.0020893526793837763\n"
     ]
    },
    {
     "name": "stderr",
     "output_type": "stream",
     "text": [
      "\r",
      "176it [05:32,  1.88s/it]"
     ]
    },
    {
     "name": "stdout",
     "output_type": "stream",
     "text": [
      "0.17243936242068478\n",
      "0.18938951424320632\n",
      "0.16976339405216728\n",
      "0.018119303506007815\n",
      "0.026412749520009056\n"
     ]
    },
    {
     "name": "stderr",
     "output_type": "stream",
     "text": [
      "\r",
      "177it [05:34,  1.88s/it]"
     ]
    },
    {
     "name": "stdout",
     "output_type": "stream",
     "text": [
      "0.011827432744091254\n",
      "0.007912143241623378\n",
      "0.06007743854280097\n",
      "0.053309171094760466\n",
      "0.04563799634672051\n"
     ]
    },
    {
     "name": "stderr",
     "output_type": "stream",
     "text": [
      "\r",
      "178it [05:36,  1.90s/it]"
     ]
    },
    {
     "name": "stdout",
     "output_type": "stream",
     "text": [
      "0.15901541701738736\n",
      "0.06902604352771419\n",
      "0.10527671860336581\n",
      "0.06759682852271957\n",
      "0.1206659598603642\n"
     ]
    },
    {
     "name": "stderr",
     "output_type": "stream",
     "text": [
      "\r",
      "179it [05:38,  1.89s/it]"
     ]
    },
    {
     "name": "stdout",
     "output_type": "stream",
     "text": [
      "0.048482131676413374\n",
      "0.2372939438495203\n",
      "0.026071725338057097\n",
      "0.09068347977693068\n",
      "0.07013355395953723\n"
     ]
    },
    {
     "name": "stderr",
     "output_type": "stream",
     "text": [
      "\r",
      "180it [05:40,  1.91s/it]"
     ]
    },
    {
     "name": "stdout",
     "output_type": "stream",
     "text": [
      "0.0397722978802118\n",
      "0.10763750875949328\n",
      "0.05862640538961761\n",
      "0.05962026556552024\n",
      "0.21461316929745664\n"
     ]
    },
    {
     "name": "stderr",
     "output_type": "stream",
     "text": [
      "\r",
      "181it [05:42,  1.90s/it]"
     ]
    },
    {
     "name": "stdout",
     "output_type": "stream",
     "text": [
      "0.12425849263107619\n",
      "0.09133021571318915\n",
      "0.0914929513562875\n",
      "0.07307223604827667\n",
      "0.07799287073350157\n"
     ]
    },
    {
     "name": "stderr",
     "output_type": "stream",
     "text": [
      "\r",
      "182it [05:44,  1.89s/it]"
     ]
    },
    {
     "name": "stdout",
     "output_type": "stream",
     "text": [
      "0.010556416537482323\n",
      "0.06283619941636788\n",
      "0.05607459162935174\n",
      "0.06243521325274973\n",
      "0.20912941289975706\n"
     ]
    },
    {
     "name": "stderr",
     "output_type": "stream",
     "text": [
      "\r",
      "183it [05:45,  1.89s/it]"
     ]
    },
    {
     "name": "stdout",
     "output_type": "stream",
     "text": [
      "0.11097330988822496\n",
      "0.08101653060630543\n",
      "0.06971416999539276\n",
      "0.026247092355926843\n",
      "0.1234497103653105\n"
     ]
    },
    {
     "name": "stderr",
     "output_type": "stream",
     "text": [
      "\r",
      "184it [05:47,  1.88s/it]"
     ]
    },
    {
     "name": "stdout",
     "output_type": "stream",
     "text": [
      "0.23343673560681483\n",
      "0.049302977415961596\n",
      "0.14191295485540298\n",
      "0.13890432970510833\n",
      "0.06726646293366365\n"
     ]
    },
    {
     "name": "stderr",
     "output_type": "stream",
     "text": [
      "\r",
      "185it [05:49,  1.89s/it]"
     ]
    },
    {
     "name": "stdout",
     "output_type": "stream",
     "text": [
      "0.011148867156991451\n",
      "0.023893023209415575\n",
      "0.03429625180438262\n",
      "0.005587290000315187\n",
      "0.03910559489912846\n"
     ]
    },
    {
     "name": "stderr",
     "output_type": "stream",
     "text": [
      "\r",
      "186it [05:51,  1.89s/it]"
     ]
    },
    {
     "name": "stdout",
     "output_type": "stream",
     "text": [
      "0.0797859246586352\n",
      "0.009862010738853295\n",
      "0.10593587939396497\n",
      "0.19474019819936628\n",
      "0.07642602841962497\n"
     ]
    },
    {
     "name": "stderr",
     "output_type": "stream",
     "text": [
      "\r",
      "187it [05:53,  1.91s/it]"
     ]
    },
    {
     "name": "stdout",
     "output_type": "stream",
     "text": [
      "0.127756875550114\n",
      "0.07153516607311992\n",
      "0.06746911698093833\n",
      "0.12815430034910721\n",
      "0.05805701957868523\n"
     ]
    },
    {
     "name": "stderr",
     "output_type": "stream",
     "text": [
      "\r",
      "188it [05:55,  1.90s/it]"
     ]
    },
    {
     "name": "stdout",
     "output_type": "stream",
     "text": [
      "0.04172270058104248\n",
      "0.0062146475094541275\n",
      "0.1428039063073939\n",
      "0.08484728323172161\n",
      "0.009337659186808395\n"
     ]
    },
    {
     "name": "stderr",
     "output_type": "stream",
     "text": [
      "\r",
      "189it [05:57,  1.90s/it]"
     ]
    },
    {
     "name": "stdout",
     "output_type": "stream",
     "text": [
      "0.03433662539441238\n",
      "0.06752272571423365\n",
      "0.10534972322348589\n",
      "0.03228653040077379\n",
      "0.013034197480116175\n"
     ]
    },
    {
     "name": "stderr",
     "output_type": "stream",
     "text": [
      "\r",
      "190it [05:59,  1.90s/it]"
     ]
    },
    {
     "name": "stdout",
     "output_type": "stream",
     "text": [
      "0.13515891445556702\n",
      "0.09100990436809533\n",
      "0.08689218436723586\n",
      "0.010907410084305909\n",
      "0.026377475755790566\n"
     ]
    },
    {
     "name": "stderr",
     "output_type": "stream",
     "text": [
      "\r",
      "191it [06:01,  1.90s/it]"
     ]
    },
    {
     "name": "stdout",
     "output_type": "stream",
     "text": [
      "0.047713867190890574\n",
      "0.06121765589286909\n",
      "0.07947869053664536\n",
      "0.03619302416829638\n",
      "0.08407985915782225\n"
     ]
    },
    {
     "name": "stderr",
     "output_type": "stream",
     "text": [
      "\r",
      "192it [06:03,  1.89s/it]"
     ]
    },
    {
     "name": "stdout",
     "output_type": "stream",
     "text": [
      "0.004928093433700358\n",
      "0.027912077644514935\n",
      "0.08450606662469595\n",
      "0.018399679444678806\n",
      "0.05354923611492499\n"
     ]
    },
    {
     "name": "stderr",
     "output_type": "stream",
     "text": [
      "\r",
      "193it [06:04,  1.89s/it]"
     ]
    },
    {
     "name": "stdout",
     "output_type": "stream",
     "text": [
      "0.09544171725950285\n",
      "0.021206927437689316\n",
      "0.12501512714033813\n",
      "0.0001278980630976771\n",
      "0.06705640524472099\n"
     ]
    },
    {
     "name": "stderr",
     "output_type": "stream",
     "text": [
      "\r",
      "194it [06:06,  1.88s/it]"
     ]
    },
    {
     "name": "stdout",
     "output_type": "stream",
     "text": [
      "0.08331133940892771\n",
      "0.15557046091182808\n",
      "0.002990428573621125\n",
      "0.024282634803673778\n",
      "0.007229477954005062\n"
     ]
    },
    {
     "name": "stderr",
     "output_type": "stream",
     "text": [
      "\r",
      "195it [06:08,  1.88s/it]"
     ]
    },
    {
     "name": "stdout",
     "output_type": "stream",
     "text": [
      "0.20964111957375364\n",
      "0.0577534315832674\n",
      "0.06944476929326385\n",
      "0.03891133190029778\n",
      "0.0420563584073496\n"
     ]
    },
    {
     "name": "stderr",
     "output_type": "stream",
     "text": [
      "\r",
      "196it [06:10,  1.87s/it]"
     ]
    },
    {
     "name": "stdout",
     "output_type": "stream",
     "text": [
      "0.10260639506353438\n",
      "0.07644202158899555\n",
      "0.1217188928011547\n",
      "0.13429276297425305\n",
      "0.054784138142659713\n"
     ]
    },
    {
     "name": "stderr",
     "output_type": "stream",
     "text": [
      "\r",
      "197it [06:12,  1.86s/it]"
     ]
    },
    {
     "name": "stdout",
     "output_type": "stream",
     "text": [
      "0.24259294244028506\n",
      "0.15328484318279992\n",
      "0.20721887148738088\n",
      "0.20489748962820672\n",
      "0.11129141489381678\n"
     ]
    },
    {
     "name": "stderr",
     "output_type": "stream",
     "text": [
      "\r",
      "198it [06:14,  1.86s/it]"
     ]
    },
    {
     "name": "stdout",
     "output_type": "stream",
     "text": [
      "0.003945282773144351\n",
      "0.11465247099208419\n",
      "0.042279420227231135\n",
      "0.11575417232876604\n",
      "0.13575246124584023\n"
     ]
    },
    {
     "name": "stderr",
     "output_type": "stream",
     "text": [
      "\r",
      "199it [06:16,  1.86s/it]"
     ]
    },
    {
     "name": "stdout",
     "output_type": "stream",
     "text": [
      "0.05392802800004483\n",
      "0.10633115167233903\n",
      "0.10701636013484223\n",
      "0.12820018191335245\n",
      "0.0875107780396338\n"
     ]
    },
    {
     "name": "stderr",
     "output_type": "stream",
     "text": [
      "200it [06:17,  1.88s/it]\n",
      "0it [00:00, ?it/s]"
     ]
    },
    {
     "name": "stdout",
     "output_type": "stream",
     "text": [
      "0.03938945546320877\n",
      "0.0722555412938789\n",
      "0.0864949060658663\n",
      "0.012509379992029066\n",
      "0.001330129174516083\n"
     ]
    },
    {
     "name": "stderr",
     "output_type": "stream",
     "text": [
      "\r",
      "1it [00:01,  1.89s/it]"
     ]
    },
    {
     "name": "stdout",
     "output_type": "stream",
     "text": [
      "0.22007159933404397\n",
      "0.1358340807370101\n",
      "0.01538693153662192\n",
      "0.19823873825434132\n",
      "0.06711903091659176\n"
     ]
    },
    {
     "name": "stderr",
     "output_type": "stream",
     "text": [
      "\r",
      "2it [00:03,  1.90s/it]"
     ]
    },
    {
     "name": "stdout",
     "output_type": "stream",
     "text": [
      "0.06568804922901932\n",
      "0.11123632466793808\n",
      "0.01904613726896559\n",
      "0.08729351943293027\n",
      "0.03518186289755744\n"
     ]
    },
    {
     "name": "stderr",
     "output_type": "stream",
     "text": [
      "\r",
      "3it [00:05,  1.89s/it]"
     ]
    },
    {
     "name": "stdout",
     "output_type": "stream",
     "text": [
      "0.08413519952555731\n",
      "0.06261966440531055\n",
      "0.17209515327242508\n",
      "0.021106356869533723\n",
      "0.035346471666757244\n"
     ]
    },
    {
     "name": "stderr",
     "output_type": "stream",
     "text": [
      "\r",
      "4it [00:07,  1.92s/it]"
     ]
    },
    {
     "name": "stdout",
     "output_type": "stream",
     "text": [
      "0.025978077982824994\n",
      "0.08205371808308327\n",
      "0.0371278557033017\n",
      "0.0043539299691346635\n",
      "0.0006949017690881722\n"
     ]
    },
    {
     "name": "stderr",
     "output_type": "stream",
     "text": [
      "\r",
      "5it [00:09,  1.90s/it]"
     ]
    },
    {
     "name": "stdout",
     "output_type": "stream",
     "text": [
      "0.11570050711396968\n",
      "0.008555443053902859\n",
      "0.05362550428517246\n",
      "0.06019498085128561\n",
      "0.0368886640180506\n"
     ]
    },
    {
     "name": "stderr",
     "output_type": "stream",
     "text": [
      "\r",
      "6it [00:11,  1.90s/it]"
     ]
    },
    {
     "name": "stdout",
     "output_type": "stream",
     "text": [
      "0.1946261014301817\n",
      "0.17552113525585022\n",
      "0.1179575680754682\n",
      "0.0261758888054579\n",
      "0.03461873504644942\n"
     ]
    },
    {
     "name": "stderr",
     "output_type": "stream",
     "text": [
      "\r",
      "7it [00:13,  1.89s/it]"
     ]
    },
    {
     "name": "stdout",
     "output_type": "stream",
     "text": [
      "0.12319080582603033\n",
      "0.1048854007621926\n",
      "0.09589115568492576\n",
      "0.07817453800816232\n",
      "0.002940821795270392\n"
     ]
    },
    {
     "name": "stderr",
     "output_type": "stream",
     "text": [
      "\r",
      "8it [00:15,  1.89s/it]"
     ]
    },
    {
     "name": "stdout",
     "output_type": "stream",
     "text": [
      "0.03579939798123479\n",
      "0.04641326471004777\n",
      "0.028944635568759938\n",
      "0.1559661850603802\n",
      "0.004547076298656381\n"
     ]
    },
    {
     "name": "stderr",
     "output_type": "stream",
     "text": [
      "\r",
      "9it [00:17,  1.89s/it]"
     ]
    },
    {
     "name": "stdout",
     "output_type": "stream",
     "text": [
      "0.07924228271855398\n",
      "0.1632093885783016\n",
      "0.030914228615499858\n",
      "0.0011496515637476868\n",
      "0.05912269454658269\n"
     ]
    },
    {
     "name": "stderr",
     "output_type": "stream",
     "text": [
      "\r",
      "10it [00:18,  1.89s/it]"
     ]
    },
    {
     "name": "stdout",
     "output_type": "stream",
     "text": [
      "0.003984099050419561\n",
      "0.08432825274962757\n",
      "0.1085049190654889\n",
      "0.010865116714707732\n",
      "0.0992805964129383\n"
     ]
    },
    {
     "name": "stderr",
     "output_type": "stream",
     "text": [
      "\r",
      "11it [00:20,  1.88s/it]"
     ]
    },
    {
     "name": "stdout",
     "output_type": "stream",
     "text": [
      "0.10804739275110731\n",
      "0.030812000441093487\n",
      "0.14697058887520506\n",
      "0.09126446777325588\n",
      "0.12802598581656968\n"
     ]
    },
    {
     "name": "stderr",
     "output_type": "stream",
     "text": [
      "\r",
      "12it [00:22,  1.87s/it]"
     ]
    },
    {
     "name": "stdout",
     "output_type": "stream",
     "text": [
      "0.05903778850769162\n",
      "0.11649651956371634\n",
      "0.00271026965943975\n",
      "0.06223482611268123\n",
      "0.20914100249381537\n"
     ]
    },
    {
     "name": "stderr",
     "output_type": "stream",
     "text": [
      "\r",
      "13it [00:24,  1.87s/it]"
     ]
    },
    {
     "name": "stdout",
     "output_type": "stream",
     "text": [
      "0.012857187122583652\n",
      "0.13878202403450476\n",
      "0.11666858978659689\n",
      "0.07386391120854645\n",
      "0.0001513710869770803\n"
     ]
    },
    {
     "name": "stderr",
     "output_type": "stream",
     "text": [
      "\r",
      "14it [00:26,  1.87s/it]"
     ]
    },
    {
     "name": "stdout",
     "output_type": "stream",
     "text": [
      "0.005082511388971873\n",
      "0.00032531480379112876\n",
      "0.0018025453251705383\n",
      "0.12446621387460897\n",
      "0.14451456706373292\n"
     ]
    },
    {
     "name": "stderr",
     "output_type": "stream",
     "text": [
      "\r",
      "15it [00:28,  1.87s/it]"
     ]
    },
    {
     "name": "stdout",
     "output_type": "stream",
     "text": [
      "0.05917764854252882\n",
      "0.061655263845407204\n",
      "0.20751486719443177\n",
      "0.3221347573727553\n",
      "0.06961556970865455\n"
     ]
    },
    {
     "name": "stderr",
     "output_type": "stream",
     "text": [
      "\r",
      "16it [00:30,  1.87s/it]"
     ]
    },
    {
     "name": "stdout",
     "output_type": "stream",
     "text": [
      "0.03765807906070647\n",
      "0.006282102951501678\n",
      "0.17474547396297233\n",
      "0.007306857469268283\n",
      "0.10643893501245312\n"
     ]
    },
    {
     "name": "stderr",
     "output_type": "stream",
     "text": [
      "\r",
      "17it [00:32,  1.88s/it]"
     ]
    },
    {
     "name": "stdout",
     "output_type": "stream",
     "text": [
      "0.04525072184430023\n",
      "0.034606486863778194\n",
      "0.0327175344660278\n",
      "0.007460003421093367\n",
      "0.0944004849725724\n"
     ]
    },
    {
     "name": "stderr",
     "output_type": "stream",
     "text": [
      "\r",
      "18it [00:33,  1.88s/it]"
     ]
    },
    {
     "name": "stdout",
     "output_type": "stream",
     "text": [
      "0.11699598250713493\n",
      "0.024938132743851184\n",
      "0.0508063360030409\n",
      "0.18769623898142243\n",
      "0.005971101833603151\n"
     ]
    },
    {
     "name": "stderr",
     "output_type": "stream",
     "text": [
      "\r",
      "19it [00:35,  1.88s/it]"
     ]
    },
    {
     "name": "stdout",
     "output_type": "stream",
     "text": [
      "0.01558321516828818\n",
      "0.0011926394967940973\n",
      "0.026346891994692152\n",
      "0.028439123057844986\n",
      "0.03133945030343096\n"
     ]
    },
    {
     "name": "stderr",
     "output_type": "stream",
     "text": [
      "\r",
      "20it [00:37,  1.88s/it]"
     ]
    },
    {
     "name": "stdout",
     "output_type": "stream",
     "text": [
      "0.054248804348185034\n",
      "0.06094666085128897\n",
      "0.18245468229959866\n",
      "0.19558636683660008\n",
      "0.026382226898983577\n"
     ]
    },
    {
     "name": "stderr",
     "output_type": "stream",
     "text": [
      "\r",
      "21it [00:39,  1.90s/it]"
     ]
    },
    {
     "name": "stdout",
     "output_type": "stream",
     "text": [
      "0.07322289079815947\n",
      "0.06841173828885898\n",
      "0.17795143278011716\n",
      "0.13759271466271458\n",
      "0.08928490925176216\n"
     ]
    },
    {
     "name": "stderr",
     "output_type": "stream",
     "text": [
      "\r",
      "22it [00:41,  1.90s/it]"
     ]
    },
    {
     "name": "stdout",
     "output_type": "stream",
     "text": [
      "0.14768653957742678\n",
      "0.03174075419947472\n",
      "0.020841666165621334\n",
      "0.07666952788828818\n",
      "0.05858197391060425\n"
     ]
    },
    {
     "name": "stderr",
     "output_type": "stream",
     "text": [
      "\r",
      "23it [00:43,  1.89s/it]"
     ]
    },
    {
     "name": "stdout",
     "output_type": "stream",
     "text": [
      "0.10904507047626628\n",
      "0.04112641427231383\n",
      "0.053484687232661345\n",
      "0.1794221431364123\n",
      "0.18462540102962535\n"
     ]
    },
    {
     "name": "stderr",
     "output_type": "stream",
     "text": [
      "\r",
      "24it [00:45,  1.89s/it]"
     ]
    },
    {
     "name": "stdout",
     "output_type": "stream",
     "text": [
      "0.18349952016128043\n",
      "0.03240442081311763\n",
      "0.2548533129560832\n",
      "0.15319857202423368\n",
      "0.055665456761739555\n"
     ]
    },
    {
     "name": "stderr",
     "output_type": "stream",
     "text": [
      "\r",
      "25it [00:47,  1.88s/it]"
     ]
    },
    {
     "name": "stdout",
     "output_type": "stream",
     "text": [
      "0.004756858521036742\n",
      "0.046808040306727694\n",
      "0.09369700703741551\n",
      "0.0007655464910179589\n",
      "0.05178294391811392\n"
     ]
    },
    {
     "name": "stderr",
     "output_type": "stream",
     "text": [
      "\r",
      "26it [00:49,  1.88s/it]"
     ]
    },
    {
     "name": "stdout",
     "output_type": "stream",
     "text": [
      "0.1964899083346656\n",
      "0.09109181530564348\n",
      "0.11574764079794264\n",
      "0.07770613220706428\n",
      "0.22965335304297652\n"
     ]
    },
    {
     "name": "stderr",
     "output_type": "stream",
     "text": [
      "\r",
      "27it [00:50,  1.88s/it]"
     ]
    },
    {
     "name": "stdout",
     "output_type": "stream",
     "text": [
      "0.05596422949462108\n",
      "0.22152104871574224\n",
      "0.010866016409598354\n",
      "0.053853151200986604\n",
      "0.07495945436220645\n"
     ]
    },
    {
     "name": "stderr",
     "output_type": "stream",
     "text": [
      "\r",
      "28it [00:52,  1.89s/it]"
     ]
    },
    {
     "name": "stdout",
     "output_type": "stream",
     "text": [
      "0.009232852580697148\n",
      "0.050917270873339415\n",
      "0.18480403164290327\n",
      "0.11677261284251471\n",
      "0.11849719768382272\n"
     ]
    },
    {
     "name": "stderr",
     "output_type": "stream",
     "text": [
      "\r",
      "29it [00:54,  1.88s/it]"
     ]
    },
    {
     "name": "stdout",
     "output_type": "stream",
     "text": [
      "0.03741638314852671\n",
      "0.16201452586452986\n",
      "0.06158893435624333\n",
      "0.03157998690033093\n",
      "0.14670702280826267\n"
     ]
    },
    {
     "name": "stderr",
     "output_type": "stream",
     "text": [
      "\r",
      "30it [00:56,  1.88s/it]"
     ]
    },
    {
     "name": "stdout",
     "output_type": "stream",
     "text": [
      "0.17118784964429207\n",
      "0.003519521940892729\n",
      "0.05447126271161643\n",
      "0.016616374034515175\n",
      "0.011911790912449226\n"
     ]
    },
    {
     "name": "stderr",
     "output_type": "stream",
     "text": [
      "\r",
      "31it [00:58,  1.88s/it]"
     ]
    },
    {
     "name": "stdout",
     "output_type": "stream",
     "text": [
      "0.10768340213181796\n",
      "0.05727565033649723\n",
      "0.13309429476715212\n",
      "0.03847836161221443\n",
      "0.031334853681883434\n"
     ]
    },
    {
     "name": "stderr",
     "output_type": "stream",
     "text": [
      "\r",
      "32it [01:00,  1.88s/it]"
     ]
    },
    {
     "name": "stdout",
     "output_type": "stream",
     "text": [
      "0.11620769873353098\n",
      "0.1425221127968561\n",
      "0.05893806932710306\n",
      "0.026368849915386405\n",
      "0.003615745047332071\n"
     ]
    },
    {
     "name": "stderr",
     "output_type": "stream",
     "text": [
      "\r",
      "33it [01:02,  1.87s/it]"
     ]
    },
    {
     "name": "stdout",
     "output_type": "stream",
     "text": [
      "0.0016797968670376905\n",
      "0.025969987234210852\n",
      "0.025752922764078503\n",
      "0.06331532242159657\n",
      "0.005222221036756127\n"
     ]
    },
    {
     "name": "stderr",
     "output_type": "stream",
     "text": [
      "\r",
      "34it [01:04,  1.89s/it]"
     ]
    },
    {
     "name": "stdout",
     "output_type": "stream",
     "text": [
      "0.17496465063298697\n",
      "0.1004448847993583\n",
      "0.018598880661133545\n",
      "0.11531742386563558\n",
      "0.05828467436526949\n"
     ]
    },
    {
     "name": "stderr",
     "output_type": "stream",
     "text": [
      "\r",
      "35it [01:06,  1.90s/it]"
     ]
    },
    {
     "name": "stdout",
     "output_type": "stream",
     "text": [
      "0.07902762993388569\n",
      "0.00037929444981259675\n",
      "0.14475713964328865\n",
      "0.05694816598706607\n",
      "0.004637602359576702\n"
     ]
    },
    {
     "name": "stderr",
     "output_type": "stream",
     "text": [
      "\r",
      "36it [01:07,  1.90s/it]"
     ]
    },
    {
     "name": "stdout",
     "output_type": "stream",
     "text": [
      "0.0754052651738857\n",
      "0.03133900020839924\n",
      "2.1751796335282305e-05\n",
      "0.05306305491898955\n",
      "0.15323233289877183\n"
     ]
    },
    {
     "name": "stderr",
     "output_type": "stream",
     "text": [
      "\r",
      "37it [01:09,  1.91s/it]"
     ]
    },
    {
     "name": "stdout",
     "output_type": "stream",
     "text": [
      "0.0005618247570119192\n",
      "0.025049865969855686\n",
      "0.046190242114715924\n",
      "0.10632563766071085\n",
      "0.07024955545632014\n"
     ]
    },
    {
     "name": "stderr",
     "output_type": "stream",
     "text": [
      "\r",
      "38it [01:11,  1.92s/it]"
     ]
    },
    {
     "name": "stdout",
     "output_type": "stream",
     "text": [
      "0.078770030119792\n",
      "0.022756145231435966\n",
      "0.06964576691662984\n",
      "0.0003470097506709699\n",
      "0.03349364171994119\n"
     ]
    },
    {
     "name": "stderr",
     "output_type": "stream",
     "text": [
      "\r",
      "39it [01:13,  1.93s/it]"
     ]
    },
    {
     "name": "stdout",
     "output_type": "stream",
     "text": [
      "0.15512228515314855\n",
      "0.03318726982801535\n",
      "0.08091784512909762\n",
      "0.10292377328869083\n",
      "0.03323649289818118\n"
     ]
    },
    {
     "name": "stderr",
     "output_type": "stream",
     "text": [
      "\r",
      "40it [01:15,  1.93s/it]"
     ]
    },
    {
     "name": "stdout",
     "output_type": "stream",
     "text": [
      "0.05055594432916334\n",
      "0.17945243557798043\n",
      "0.13059981726912867\n",
      "0.1316082532483098\n",
      "0.0161613860290724\n"
     ]
    },
    {
     "name": "stderr",
     "output_type": "stream",
     "text": [
      "\r",
      "41it [01:17,  1.95s/it]"
     ]
    },
    {
     "name": "stdout",
     "output_type": "stream",
     "text": [
      "0.08480022495314193\n",
      "0.02829355020788892\n",
      "0.0943572435812508\n",
      "0.13200832958419118\n",
      "0.04209780930236408\n"
     ]
    },
    {
     "name": "stderr",
     "output_type": "stream",
     "text": [
      "\r",
      "42it [01:19,  1.98s/it]"
     ]
    },
    {
     "name": "stdout",
     "output_type": "stream",
     "text": [
      "0.03714851868248524\n",
      "0.2566637385931162\n",
      "0.1288919469314233\n",
      "0.02082659617127851\n",
      "0.13355154460476865\n"
     ]
    },
    {
     "name": "stderr",
     "output_type": "stream",
     "text": [
      "\r",
      "43it [01:21,  1.97s/it]"
     ]
    },
    {
     "name": "stdout",
     "output_type": "stream",
     "text": [
      "0.09424595197160139\n",
      "0.17562583391759212\n",
      "0.04429240885695161\n",
      "0.07190068756982392\n",
      "0.006896427867554839\n"
     ]
    },
    {
     "name": "stderr",
     "output_type": "stream",
     "text": [
      "\r",
      "44it [01:23,  1.97s/it]"
     ]
    },
    {
     "name": "stdout",
     "output_type": "stream",
     "text": [
      "0.01810850855184688\n",
      "0.11375570051886622\n",
      "0.18644659206506337\n",
      "0.05156762106313796\n",
      "0.12688915615979732\n"
     ]
    },
    {
     "name": "stderr",
     "output_type": "stream",
     "text": [
      "\r",
      "45it [01:25,  1.94s/it]"
     ]
    },
    {
     "name": "stdout",
     "output_type": "stream",
     "text": [
      "0.1170833403982977\n",
      "0.14813086419394125\n",
      "0.06646518349429893\n",
      "0.0336936112380967\n",
      "0.05761673263887224\n"
     ]
    },
    {
     "name": "stderr",
     "output_type": "stream",
     "text": [
      "\r",
      "46it [01:27,  1.93s/it]"
     ]
    },
    {
     "name": "stdout",
     "output_type": "stream",
     "text": [
      "0.20135517733578523\n",
      "0.09435040780824551\n",
      "0.160911401520037\n",
      "0.18343580526725844\n",
      "0.07607914221558489\n"
     ]
    },
    {
     "name": "stderr",
     "output_type": "stream",
     "text": [
      "\r",
      "47it [01:29,  1.91s/it]"
     ]
    },
    {
     "name": "stdout",
     "output_type": "stream",
     "text": [
      "0.08454201343658918\n",
      "0.009121652855779561\n",
      "0.0035831786067456934\n",
      "0.14084815732909592\n",
      "0.04669205401995285\n"
     ]
    },
    {
     "name": "stderr",
     "output_type": "stream",
     "text": [
      "\r",
      "48it [01:31,  1.90s/it]"
     ]
    },
    {
     "name": "stdout",
     "output_type": "stream",
     "text": [
      "0.22269465802306332\n",
      "0.13637608045781105\n",
      "0.1284999549440752\n",
      "0.008406411314402153\n",
      "0.08613318111049842\n"
     ]
    },
    {
     "name": "stderr",
     "output_type": "stream",
     "text": [
      "\r",
      "49it [01:33,  1.89s/it]"
     ]
    },
    {
     "name": "stdout",
     "output_type": "stream",
     "text": [
      "0.0075052672093167214\n",
      "0.10992724784229352\n",
      "0.002616794749171973\n",
      "0.06646971828756415\n",
      "0.13651359917131015\n"
     ]
    },
    {
     "name": "stderr",
     "output_type": "stream",
     "text": [
      "\r",
      "50it [01:34,  1.89s/it]"
     ]
    },
    {
     "name": "stdout",
     "output_type": "stream",
     "text": [
      "0.03126234709183675\n",
      "0.0001702158131725958\n",
      "0.046410965437324536\n",
      "0.024965513908653748\n",
      "0.17322468479097525\n"
     ]
    },
    {
     "name": "stderr",
     "output_type": "stream",
     "text": [
      "\r",
      "51it [01:36,  1.88s/it]"
     ]
    },
    {
     "name": "stdout",
     "output_type": "stream",
     "text": [
      "0.08700728808412504\n",
      "0.07843402314275094\n",
      "0.1379361134720198\n",
      "0.12322508394724792\n",
      "0.09717448214124567\n"
     ]
    },
    {
     "name": "stderr",
     "output_type": "stream",
     "text": [
      "\r",
      "52it [01:38,  1.89s/it]"
     ]
    },
    {
     "name": "stdout",
     "output_type": "stream",
     "text": [
      "0.04093989764622087\n",
      "0.07707662900691806\n",
      "0.06345113806890652\n",
      "0.011388576479892666\n",
      "0.04561380589389622\n"
     ]
    },
    {
     "name": "stderr",
     "output_type": "stream",
     "text": [
      "\r",
      "53it [01:40,  1.89s/it]"
     ]
    },
    {
     "name": "stdout",
     "output_type": "stream",
     "text": [
      "0.10021730270522218\n",
      "0.10393994246621574\n",
      "0.05741317165980449\n",
      "0.07559853145587256\n",
      "0.061323433710365666\n"
     ]
    },
    {
     "name": "stderr",
     "output_type": "stream",
     "text": [
      "\r",
      "54it [01:42,  1.89s/it]"
     ]
    },
    {
     "name": "stdout",
     "output_type": "stream",
     "text": [
      "0.14740410660457112\n",
      "0.09318685393351378\n",
      "0.012117527698239964\n",
      "0.134651144467096\n",
      "0.055921707753927165\n"
     ]
    },
    {
     "name": "stderr",
     "output_type": "stream",
     "text": [
      "\r",
      "55it [01:44,  1.88s/it]"
     ]
    },
    {
     "name": "stdout",
     "output_type": "stream",
     "text": [
      "0.13305525950285987\n",
      "0.03698699035330033\n",
      "0.2150545370642028\n",
      "0.04057186863896009\n",
      "0.08036907994678887\n"
     ]
    },
    {
     "name": "stderr",
     "output_type": "stream",
     "text": [
      "\r",
      "56it [01:46,  1.87s/it]"
     ]
    },
    {
     "name": "stdout",
     "output_type": "stream",
     "text": [
      "0.19894819870254832\n",
      "0.0060766082636275415\n",
      "0.013670105434024776\n",
      "0.06644999964558483\n",
      "0.08588379245181971\n"
     ]
    },
    {
     "name": "stderr",
     "output_type": "stream",
     "text": [
      "\r",
      "57it [01:48,  1.87s/it]"
     ]
    },
    {
     "name": "stdout",
     "output_type": "stream",
     "text": [
      "0.18072988523932676\n",
      "0.10500525549399412\n",
      "0.05559378760191439\n",
      "0.032689933456254726\n",
      "0.02242974364685301\n"
     ]
    },
    {
     "name": "stderr",
     "output_type": "stream",
     "text": [
      "\r",
      "58it [01:49,  1.87s/it]"
     ]
    },
    {
     "name": "stdout",
     "output_type": "stream",
     "text": [
      "0.09611697774191175\n",
      "0.06374034028563211\n",
      "0.1140157640323119\n",
      "0.03870234751150252\n",
      "0.16961550347185486\n"
     ]
    },
    {
     "name": "stderr",
     "output_type": "stream",
     "text": [
      "\r",
      "59it [01:51,  1.87s/it]"
     ]
    },
    {
     "name": "stdout",
     "output_type": "stream",
     "text": [
      "0.162740001594321\n",
      "0.06543132174352446\n",
      "0.08251597436604254\n",
      "0.0750695805003026\n",
      "0.08901573400808119\n"
     ]
    },
    {
     "name": "stderr",
     "output_type": "stream",
     "text": [
      "\r",
      "60it [01:53,  1.86s/it]"
     ]
    },
    {
     "name": "stdout",
     "output_type": "stream",
     "text": [
      "0.0026879999394936686\n",
      "0.09093087972231903\n",
      "0.13989241699218183\n",
      "0.017889182915472392\n",
      "0.14057724991121426\n"
     ]
    },
    {
     "name": "stderr",
     "output_type": "stream",
     "text": [
      "\r",
      "61it [01:55,  1.89s/it]"
     ]
    },
    {
     "name": "stdout",
     "output_type": "stream",
     "text": [
      "0.13074247841836426\n",
      "0.1839484131795296\n",
      "0.08014049582398758\n",
      "0.057934595854802956\n",
      "0.047928769522423455\n"
     ]
    },
    {
     "name": "stderr",
     "output_type": "stream",
     "text": [
      "\r",
      "62it [01:57,  1.90s/it]"
     ]
    },
    {
     "name": "stdout",
     "output_type": "stream",
     "text": [
      "0.11570294664965375\n",
      "0.04687899050647924\n",
      "0.06514936888264686\n",
      "0.02153325952182442\n",
      "0.04345491401050918\n"
     ]
    },
    {
     "name": "stderr",
     "output_type": "stream",
     "text": [
      "\r",
      "63it [01:59,  1.90s/it]"
     ]
    },
    {
     "name": "stdout",
     "output_type": "stream",
     "text": [
      "0.11389606204466443\n",
      "0.0693279833139092\n",
      "0.09614975339723948\n",
      "0.14794856760077102\n",
      "0.0057522326002471804\n"
     ]
    },
    {
     "name": "stderr",
     "output_type": "stream",
     "text": [
      "\r",
      "64it [02:01,  1.91s/it]"
     ]
    },
    {
     "name": "stdout",
     "output_type": "stream",
     "text": [
      "0.040622185043703476\n",
      "0.08305385344724932\n",
      "0.052106192389744156\n",
      "0.002034791525851866\n",
      "0.16423720723400026\n"
     ]
    },
    {
     "name": "stderr",
     "output_type": "stream",
     "text": [
      "\r",
      "65it [02:03,  1.91s/it]"
     ]
    },
    {
     "name": "stdout",
     "output_type": "stream",
     "text": [
      "0.014708169732062648\n",
      "0.011217684010396464\n",
      "0.0285920644961635\n",
      "0.19439029454557194\n",
      "0.10462060041702159\n"
     ]
    },
    {
     "name": "stderr",
     "output_type": "stream",
     "text": [
      "\r",
      "66it [02:05,  1.91s/it]"
     ]
    },
    {
     "name": "stdout",
     "output_type": "stream",
     "text": [
      "0.064829610563452\n",
      "0.07242404641544802\n",
      "0.010039894984507422\n",
      "0.04058131759421061\n",
      "0.0002953450173004584\n"
     ]
    },
    {
     "name": "stderr",
     "output_type": "stream",
     "text": [
      "\r",
      "67it [02:07,  1.90s/it]"
     ]
    },
    {
     "name": "stdout",
     "output_type": "stream",
     "text": [
      "0.022217141051760286\n",
      "0.07456869819519027\n",
      "0.053134436958207444\n",
      "0.04129897576862674\n",
      "0.028772843969417313\n"
     ]
    },
    {
     "name": "stderr",
     "output_type": "stream",
     "text": [
      "\r",
      "68it [02:08,  1.91s/it]"
     ]
    },
    {
     "name": "stdout",
     "output_type": "stream",
     "text": [
      "0.14328719284577796\n",
      "0.06709978464135828\n",
      "0.048228797757472484\n",
      "0.06679923016912133\n",
      "0.061170886481711144\n"
     ]
    },
    {
     "name": "stderr",
     "output_type": "stream",
     "text": [
      "\r",
      "69it [02:10,  1.90s/it]"
     ]
    },
    {
     "name": "stdout",
     "output_type": "stream",
     "text": [
      "0.015755009100208005\n",
      "0.010680058598071886\n",
      "0.26103161471550934\n",
      "0.22370630769717922\n",
      "0.10746245386550667\n"
     ]
    },
    {
     "name": "stderr",
     "output_type": "stream",
     "text": [
      "\r",
      "70it [02:12,  1.90s/it]"
     ]
    },
    {
     "name": "stdout",
     "output_type": "stream",
     "text": [
      "0.1262663433951404\n",
      "0.22771965259394464\n",
      "0.05376711388563073\n",
      "0.03996175657987325\n",
      "0.020192290160911123\n"
     ]
    },
    {
     "name": "stderr",
     "output_type": "stream",
     "text": [
      "\r",
      "71it [02:14,  1.90s/it]"
     ]
    },
    {
     "name": "stdout",
     "output_type": "stream",
     "text": [
      "0.05589691902515758\n",
      "0.01076846149037361\n",
      "0.11388798036300865\n",
      "0.01763941217370701\n",
      "0.0317630367828342\n"
     ]
    },
    {
     "name": "stderr",
     "output_type": "stream",
     "text": [
      "\r",
      "72it [02:16,  1.89s/it]"
     ]
    },
    {
     "name": "stdout",
     "output_type": "stream",
     "text": [
      "0.1999799565538627\n",
      "0.057021642996487515\n",
      "0.00754284173676394\n",
      "0.11429945151727511\n",
      "0.08728662448847568\n"
     ]
    },
    {
     "name": "stderr",
     "output_type": "stream",
     "text": [
      "\r",
      "73it [02:18,  1.89s/it]"
     ]
    },
    {
     "name": "stdout",
     "output_type": "stream",
     "text": [
      "0.013077535457599524\n",
      "0.086505118378717\n",
      "0.009161616103174312\n",
      "0.1118983597712774\n",
      "0.08978798927104144\n"
     ]
    },
    {
     "name": "stderr",
     "output_type": "stream",
     "text": [
      "\r",
      "74it [02:20,  1.89s/it]"
     ]
    },
    {
     "name": "stdout",
     "output_type": "stream",
     "text": [
      "0.1567552197849975\n",
      "0.24660979995612564\n",
      "0.0013019581435481965\n",
      "0.08755715797430405\n",
      "0.0896479998852811\n"
     ]
    },
    {
     "name": "stderr",
     "output_type": "stream",
     "text": [
      "\r",
      "75it [02:22,  1.88s/it]"
     ]
    },
    {
     "name": "stdout",
     "output_type": "stream",
     "text": [
      "0.05091793449113816\n",
      "0.09619151352365062\n",
      "0.13769703490137628\n",
      "0.2239014083185057\n",
      "0.0349098414588511\n"
     ]
    },
    {
     "name": "stderr",
     "output_type": "stream",
     "text": [
      "\r",
      "76it [02:24,  1.88s/it]"
     ]
    },
    {
     "name": "stdout",
     "output_type": "stream",
     "text": [
      "0.07001300002479786\n",
      "0.040339913501969915\n",
      "0.11436930092126492\n",
      "0.1045886852540867\n",
      "0.044482229803219184\n"
     ]
    },
    {
     "name": "stderr",
     "output_type": "stream",
     "text": [
      "\r",
      "77it [02:25,  1.88s/it]"
     ]
    },
    {
     "name": "stdout",
     "output_type": "stream",
     "text": [
      "0.1342870622043278\n",
      "0.2803810130829215\n",
      "0.027186828175716517\n",
      "0.04928292651845767\n",
      "0.18063130616930387\n"
     ]
    },
    {
     "name": "stderr",
     "output_type": "stream",
     "text": [
      "\r",
      "78it [02:27,  1.88s/it]"
     ]
    },
    {
     "name": "stdout",
     "output_type": "stream",
     "text": [
      "0.02155202525147842\n",
      "0.10793706183953672\n",
      "0.003220969111220783\n",
      "0.075451750057224\n",
      "0.06623858564468159\n"
     ]
    },
    {
     "name": "stderr",
     "output_type": "stream",
     "text": [
      "\r",
      "79it [02:29,  1.89s/it]"
     ]
    },
    {
     "name": "stdout",
     "output_type": "stream",
     "text": [
      "0.016794003172986724\n",
      "0.011433517613659228\n",
      "0.025727725140700625\n",
      "0.002128795453103804\n",
      "0.01932406238237538\n"
     ]
    },
    {
     "name": "stderr",
     "output_type": "stream",
     "text": [
      "\r",
      "80it [02:31,  1.89s/it]"
     ]
    },
    {
     "name": "stdout",
     "output_type": "stream",
     "text": [
      "0.03363806434601538\n",
      "0.06788806056689699\n",
      "0.09497325927350829\n",
      "0.07138924103861748\n",
      "0.08566194832976363\n"
     ]
    },
    {
     "name": "stderr",
     "output_type": "stream",
     "text": [
      "\r",
      "81it [02:33,  1.92s/it]"
     ]
    },
    {
     "name": "stdout",
     "output_type": "stream",
     "text": [
      "0.12119851585164693\n",
      "0.1342430804623709\n",
      "0.07494328864012745\n",
      "0.08732472476588882\n",
      "0.22785973468801413\n"
     ]
    },
    {
     "name": "stderr",
     "output_type": "stream",
     "text": [
      "\r",
      "82it [02:35,  1.92s/it]"
     ]
    },
    {
     "name": "stdout",
     "output_type": "stream",
     "text": [
      "0.12809979324047563\n",
      "0.16819475617282806\n",
      "0.04388907414647251\n",
      "0.03831342812595097\n",
      "0.06090321039601024\n"
     ]
    },
    {
     "name": "stderr",
     "output_type": "stream",
     "text": [
      "\r",
      "83it [02:37,  1.91s/it]"
     ]
    },
    {
     "name": "stdout",
     "output_type": "stream",
     "text": [
      "0.012034795227144762\n",
      "0.1139721683905677\n",
      "0.03440916257802067\n",
      "0.146543602123974\n",
      "0.12343728215648633\n"
     ]
    },
    {
     "name": "stderr",
     "output_type": "stream",
     "text": [
      "\r",
      "84it [02:39,  1.92s/it]"
     ]
    },
    {
     "name": "stdout",
     "output_type": "stream",
     "text": [
      "0.011310181840648843\n",
      "0.017619835565900476\n",
      "0.0188839325956541\n",
      "0.04722718588995783\n",
      "0.004294365787090105\n"
     ]
    },
    {
     "name": "stderr",
     "output_type": "stream",
     "text": [
      "\r",
      "85it [02:41,  1.92s/it]"
     ]
    },
    {
     "name": "stdout",
     "output_type": "stream",
     "text": [
      "0.07113600799309609\n",
      "0.045864563515826365\n",
      "0.10770236084056586\n",
      "0.22702808303644406\n",
      "0.005430125324191008\n"
     ]
    },
    {
     "name": "stderr",
     "output_type": "stream",
     "text": [
      "\r",
      "86it [02:43,  1.93s/it]"
     ]
    },
    {
     "name": "stdout",
     "output_type": "stream",
     "text": [
      "0.019569960616135546\n",
      "0.07909577477733347\n",
      "0.2869784930110718\n",
      "0.07273994141633795\n",
      "0.16781774566300123\n"
     ]
    },
    {
     "name": "stderr",
     "output_type": "stream",
     "text": [
      "\r",
      "87it [02:45,  1.92s/it]"
     ]
    },
    {
     "name": "stdout",
     "output_type": "stream",
     "text": [
      "0.22473966596598421\n",
      "0.07389563493017373\n",
      "0.07574970860802219\n",
      "0.07206055593577855\n",
      "0.08548304189978365\n"
     ]
    },
    {
     "name": "stderr",
     "output_type": "stream",
     "text": [
      "\r",
      "88it [02:47,  1.92s/it]"
     ]
    },
    {
     "name": "stdout",
     "output_type": "stream",
     "text": [
      "0.10123533908575277\n",
      "0.08242074261202904\n",
      "0.12247311498501408\n",
      "0.09333765519403378\n",
      "0.010009372574276152\n"
     ]
    },
    {
     "name": "stderr",
     "output_type": "stream",
     "text": [
      "\r",
      "89it [02:48,  1.91s/it]"
     ]
    },
    {
     "name": "stdout",
     "output_type": "stream",
     "text": [
      "0.02157156694621823\n",
      "0.0705327668822433\n",
      "0.08357604045325909\n",
      "0.02332040908828041\n",
      "0.019308997643489357\n"
     ]
    },
    {
     "name": "stderr",
     "output_type": "stream",
     "text": [
      "\r",
      "90it [02:50,  1.90s/it]"
     ]
    },
    {
     "name": "stdout",
     "output_type": "stream",
     "text": [
      "0.07153233061338478\n",
      "0.12748824281928384\n",
      "0.0153037766236019\n",
      "0.12798126210643643\n",
      "0.20386192453237967\n"
     ]
    },
    {
     "name": "stderr",
     "output_type": "stream",
     "text": [
      "\r",
      "91it [02:52,  1.89s/it]"
     ]
    },
    {
     "name": "stdout",
     "output_type": "stream",
     "text": [
      "0.037697345264746614\n",
      "0.04092803137662146\n",
      "0.1537532510560577\n",
      "0.02518320822546955\n",
      "0.06541081879804217\n"
     ]
    },
    {
     "name": "stderr",
     "output_type": "stream",
     "text": [
      "\r",
      "92it [02:54,  1.89s/it]"
     ]
    },
    {
     "name": "stdout",
     "output_type": "stream",
     "text": [
      "0.15713826693225458\n",
      "0.022939769033784092\n",
      "0.07284040293941933\n",
      "0.1436143403851094\n",
      "0.009636783254084881\n"
     ]
    },
    {
     "name": "stderr",
     "output_type": "stream",
     "text": [
      "\r",
      "93it [02:56,  1.88s/it]"
     ]
    },
    {
     "name": "stdout",
     "output_type": "stream",
     "text": [
      "0.02382242093878685\n",
      "0.08417365324422597\n",
      "0.08109134226959379\n",
      "0.08680758914513916\n",
      "0.2356499917163446\n"
     ]
    },
    {
     "name": "stderr",
     "output_type": "stream",
     "text": [
      "\r",
      "94it [02:58,  1.88s/it]"
     ]
    },
    {
     "name": "stdout",
     "output_type": "stream",
     "text": [
      "0.05543963120244482\n",
      "0.03256709170827906\n",
      "0.07630154119746932\n",
      "0.027465450253328083\n",
      "0.13723419875916829\n"
     ]
    },
    {
     "name": "stderr",
     "output_type": "stream",
     "text": [
      "\r",
      "95it [03:00,  1.87s/it]"
     ]
    },
    {
     "name": "stdout",
     "output_type": "stream",
     "text": [
      "0.11450301898231224\n",
      "0.020087002662420732\n",
      "0.15398589251889805\n",
      "0.05385388034674935\n",
      "0.03899440700127102\n"
     ]
    },
    {
     "name": "stderr",
     "output_type": "stream",
     "text": [
      "\r",
      "96it [03:01,  1.86s/it]"
     ]
    },
    {
     "name": "stdout",
     "output_type": "stream",
     "text": [
      "0.25275499671466944\n",
      "0.004529417258869592\n",
      "0.1229665958238424\n",
      "0.13041130638638362\n",
      "0.001708390471447935\n"
     ]
    },
    {
     "name": "stderr",
     "output_type": "stream",
     "text": [
      "\r",
      "97it [03:03,  1.87s/it]"
     ]
    },
    {
     "name": "stdout",
     "output_type": "stream",
     "text": [
      "0.025690915343397826\n",
      "0.11045538987685331\n",
      "0.03665289347613753\n",
      "0.09228798812225403\n",
      "0.014959401164986562\n"
     ]
    },
    {
     "name": "stderr",
     "output_type": "stream",
     "text": [
      "\r",
      "98it [03:05,  1.87s/it]"
     ]
    },
    {
     "name": "stdout",
     "output_type": "stream",
     "text": [
      "0.003568248156525819\n",
      "0.016562092780523344\n",
      "0.2269084911802074\n",
      "0.05410682366922215\n",
      "0.123764838041433\n"
     ]
    },
    {
     "name": "stderr",
     "output_type": "stream",
     "text": [
      "\r",
      "99it [03:07,  1.88s/it]"
     ]
    },
    {
     "name": "stdout",
     "output_type": "stream",
     "text": [
      "0.16375352771585938\n",
      "0.15047767370460835\n",
      "0.04326203806101835\n",
      "0.001460317636105211\n",
      "0.011421814904519607\n"
     ]
    },
    {
     "name": "stderr",
     "output_type": "stream",
     "text": [
      "\r",
      "100it [03:09,  1.87s/it]"
     ]
    },
    {
     "name": "stdout",
     "output_type": "stream",
     "text": [
      "0.0018592548240792\n",
      "0.11016551720078685\n",
      "0.007929403376289593\n",
      "0.01176767497980125\n",
      "0.04072739473223695\n"
     ]
    },
    {
     "name": "stderr",
     "output_type": "stream",
     "text": [
      "\r",
      "101it [03:11,  1.89s/it]"
     ]
    },
    {
     "name": "stdout",
     "output_type": "stream",
     "text": [
      "0.022006798848316772\n",
      "0.1725945105222969\n",
      "0.04605288035360203\n",
      "0.009150258321927956\n",
      "0.09844498554627484\n"
     ]
    },
    {
     "name": "stderr",
     "output_type": "stream",
     "text": [
      "\r",
      "102it [03:13,  1.89s/it]"
     ]
    },
    {
     "name": "stdout",
     "output_type": "stream",
     "text": [
      "0.04614853906795697\n",
      "0.150809933221011\n",
      "0.04635117666349653\n",
      "0.057445926514260205\n",
      "0.02686168619385075\n"
     ]
    },
    {
     "name": "stderr",
     "output_type": "stream",
     "text": [
      "\r",
      "103it [03:15,  1.89s/it]"
     ]
    },
    {
     "name": "stdout",
     "output_type": "stream",
     "text": [
      "0.0977591046991694\n",
      "0.13972785287653577\n",
      "0.14019880906761875\n",
      "0.00650345193067229\n",
      "0.21534376529088242\n"
     ]
    },
    {
     "name": "stderr",
     "output_type": "stream",
     "text": [
      "\r",
      "104it [03:17,  1.89s/it]"
     ]
    },
    {
     "name": "stdout",
     "output_type": "stream",
     "text": [
      "0.046117724730240624\n",
      "0.004732772079166926\n",
      "0.00016374093808640576\n",
      "0.12960529080219899\n",
      "0.09198360467715717\n"
     ]
    },
    {
     "name": "stderr",
     "output_type": "stream",
     "text": [
      "\r",
      "105it [03:19,  1.90s/it]"
     ]
    },
    {
     "name": "stdout",
     "output_type": "stream",
     "text": [
      "0.0638679757216545\n",
      "0.2284653374518625\n",
      "0.011794868162526347\n",
      "0.17385209545359223\n",
      "0.03433098354642759\n"
     ]
    },
    {
     "name": "stderr",
     "output_type": "stream",
     "text": [
      "\r",
      "106it [03:20,  1.90s/it]"
     ]
    },
    {
     "name": "stdout",
     "output_type": "stream",
     "text": [
      "0.04443646173392592\n",
      "0.06216970780943263\n",
      "0.07282310641612846\n",
      "0.022853963845980915\n",
      "0.04167004926905459\n"
     ]
    },
    {
     "name": "stderr",
     "output_type": "stream",
     "text": [
      "\r",
      "107it [03:22,  1.91s/it]"
     ]
    },
    {
     "name": "stdout",
     "output_type": "stream",
     "text": [
      "0.03310460800495266\n",
      "0.09270491699915184\n",
      "0.08832252442615421\n",
      "0.08508971412720616\n",
      "0.006229109816888935\n"
     ]
    },
    {
     "name": "stderr",
     "output_type": "stream",
     "text": [
      "\r",
      "108it [03:24,  1.91s/it]"
     ]
    },
    {
     "name": "stdout",
     "output_type": "stream",
     "text": [
      "0.016836330891020785\n",
      "0.12325093533727326\n",
      "0.18846664060291746\n",
      "0.022691322978626995\n",
      "0.08872128968172129\n"
     ]
    },
    {
     "name": "stderr",
     "output_type": "stream",
     "text": [
      "\r",
      "109it [03:26,  1.90s/it]"
     ]
    },
    {
     "name": "stdout",
     "output_type": "stream",
     "text": [
      "0.1500037751734495\n",
      "0.1961120786258612\n",
      "0.08723536135781615\n",
      "0.04284481707003799\n",
      "0.045192977475608215\n"
     ]
    },
    {
     "name": "stderr",
     "output_type": "stream",
     "text": [
      "\r",
      "110it [03:28,  1.90s/it]"
     ]
    },
    {
     "name": "stdout",
     "output_type": "stream",
     "text": [
      "0.15613168314573042\n",
      "0.05157585480555398\n",
      "0.21075963740480563\n",
      "0.07633807003991888\n",
      "0.08295869319823374\n"
     ]
    },
    {
     "name": "stderr",
     "output_type": "stream",
     "text": [
      "\r",
      "111it [03:30,  1.89s/it]"
     ]
    },
    {
     "name": "stdout",
     "output_type": "stream",
     "text": [
      "0.13390048320815803\n",
      "0.009219777591875375\n",
      "0.05881923883200853\n",
      "0.07167925609970308\n",
      "0.09275952193883404\n"
     ]
    },
    {
     "name": "stderr",
     "output_type": "stream",
     "text": [
      "\r",
      "112it [03:32,  1.89s/it]"
     ]
    },
    {
     "name": "stdout",
     "output_type": "stream",
     "text": [
      "0.003921031230952529\n",
      "0.11990500171379147\n",
      "0.188032707210621\n",
      "0.06325988931019633\n",
      "0.13189300792879766\n"
     ]
    },
    {
     "name": "stderr",
     "output_type": "stream",
     "text": [
      "\r",
      "113it [03:34,  1.88s/it]"
     ]
    },
    {
     "name": "stdout",
     "output_type": "stream",
     "text": [
      "0.11456042453162368\n",
      "0.017504302651351698\n",
      "0.05757624552981954\n",
      "0.13421946208967597\n",
      "0.029435928716398448\n"
     ]
    },
    {
     "name": "stderr",
     "output_type": "stream",
     "text": [
      "\r",
      "114it [03:36,  1.88s/it]"
     ]
    },
    {
     "name": "stdout",
     "output_type": "stream",
     "text": [
      "0.04842394506206979\n",
      "0.0175794797646892\n",
      "0.08679582282284881\n",
      "0.13265776252415037\n",
      "0.0343388243493418\n"
     ]
    },
    {
     "name": "stderr",
     "output_type": "stream",
     "text": [
      "\r",
      "115it [03:37,  1.88s/it]"
     ]
    },
    {
     "name": "stdout",
     "output_type": "stream",
     "text": [
      "0.22759686423562053\n",
      "0.004223726958038764\n",
      "0.139913769778611\n",
      "0.025528005906297953\n",
      "0.00311067319210046\n"
     ]
    },
    {
     "name": "stderr",
     "output_type": "stream",
     "text": [
      "\r",
      "116it [03:39,  1.87s/it]"
     ]
    },
    {
     "name": "stdout",
     "output_type": "stream",
     "text": [
      "0.16073879357040616\n",
      "0.018143298304530812\n",
      "0.07743498739458166\n",
      "0.026454424401787736\n",
      "0.10177839627014454\n"
     ]
    },
    {
     "name": "stderr",
     "output_type": "stream",
     "text": [
      "\r",
      "117it [03:41,  1.87s/it]"
     ]
    },
    {
     "name": "stdout",
     "output_type": "stream",
     "text": [
      "0.08921045574304093\n",
      "0.10436086067577427\n",
      "0.06850368449136002\n",
      "0.025097869070433487\n",
      "0.013960106448877525\n"
     ]
    },
    {
     "name": "stderr",
     "output_type": "stream",
     "text": [
      "\r",
      "118it [03:43,  1.88s/it]"
     ]
    },
    {
     "name": "stdout",
     "output_type": "stream",
     "text": [
      "0.12796726482369486\n",
      "0.0783172364547305\n",
      "0.09671117358008854\n",
      "0.05217959544318841\n",
      "0.0577822846008225\n"
     ]
    },
    {
     "name": "stderr",
     "output_type": "stream",
     "text": [
      "\r",
      "119it [03:45,  1.88s/it]"
     ]
    },
    {
     "name": "stdout",
     "output_type": "stream",
     "text": [
      "0.17580775068964\n",
      "0.005616838931632397\n",
      "0.10455807538537575\n",
      "0.05442386470176578\n",
      "0.04393182168244851\n"
     ]
    },
    {
     "name": "stderr",
     "output_type": "stream",
     "text": [
      "\r",
      "120it [03:47,  1.87s/it]"
     ]
    },
    {
     "name": "stdout",
     "output_type": "stream",
     "text": [
      "0.15060189424249504\n",
      "0.12501101712832036\n",
      "0.023358534614545207\n",
      "0.08170188846477544\n",
      "0.0007389356466302536\n"
     ]
    },
    {
     "name": "stderr",
     "output_type": "stream",
     "text": [
      "\r",
      "121it [03:49,  1.91s/it]"
     ]
    },
    {
     "name": "stdout",
     "output_type": "stream",
     "text": [
      "0.013826576911423721\n",
      "0.04737076378761421\n",
      "0.015957413496689856\n",
      "0.0075957636747690585\n",
      "0.13091750910006214\n"
     ]
    },
    {
     "name": "stderr",
     "output_type": "stream",
     "text": [
      "\r",
      "122it [03:51,  1.91s/it]"
     ]
    },
    {
     "name": "stdout",
     "output_type": "stream",
     "text": [
      "0.1526207363399471\n",
      "0.10691256987619252\n",
      "0.0836386250807832\n",
      "0.03659600765453387\n",
      "0.08204502617386127\n"
     ]
    },
    {
     "name": "stderr",
     "output_type": "stream",
     "text": [
      "\r",
      "123it [03:53,  1.91s/it]"
     ]
    },
    {
     "name": "stdout",
     "output_type": "stream",
     "text": [
      "0.1394477758544819\n",
      "0.1264565140490501\n",
      "0.07323543111379843\n",
      "0.001657880181802452\n",
      "0.08140650123241694\n"
     ]
    },
    {
     "name": "stderr",
     "output_type": "stream",
     "text": [
      "\r",
      "124it [03:54,  1.91s/it]"
     ]
    },
    {
     "name": "stdout",
     "output_type": "stream",
     "text": [
      "0.10035095936976979\n",
      "0.05123667317621199\n",
      "0.025004493107730615\n",
      "0.05896689633086447\n",
      "0.057105430435233154\n"
     ]
    },
    {
     "name": "stderr",
     "output_type": "stream",
     "text": [
      "\r",
      "125it [03:56,  1.90s/it]"
     ]
    },
    {
     "name": "stdout",
     "output_type": "stream",
     "text": [
      "0.11071347839021128\n",
      "0.0400417257299274\n",
      "0.04802731746780554\n",
      "0.06279188641596896\n",
      "0.19336855508700118\n"
     ]
    },
    {
     "name": "stderr",
     "output_type": "stream",
     "text": [
      "\r",
      "126it [03:58,  1.91s/it]"
     ]
    },
    {
     "name": "stdout",
     "output_type": "stream",
     "text": [
      "0.0839749232778822\n",
      "0.23553355006936738\n",
      "0.07923310108136276\n",
      "0.0045683800278731946\n",
      "0.1148548374702473\n"
     ]
    },
    {
     "name": "stderr",
     "output_type": "stream",
     "text": [
      "\r",
      "127it [04:00,  1.91s/it]"
     ]
    },
    {
     "name": "stdout",
     "output_type": "stream",
     "text": [
      "0.0039632526814302686\n",
      "0.012900893606257596\n",
      "0.022320060772446575\n",
      "0.030515928921707132\n",
      "0.04847405108404748\n"
     ]
    },
    {
     "name": "stderr",
     "output_type": "stream",
     "text": [
      "\r",
      "128it [04:02,  1.91s/it]"
     ]
    },
    {
     "name": "stdout",
     "output_type": "stream",
     "text": [
      "0.10277679840201244\n",
      "0.049714896753265764\n",
      "0.018879643358258515\n",
      "0.3508839679293137\n",
      "0.0439414546618503\n"
     ]
    },
    {
     "name": "stderr",
     "output_type": "stream",
     "text": [
      "\r",
      "129it [04:04,  1.90s/it]"
     ]
    },
    {
     "name": "stdout",
     "output_type": "stream",
     "text": [
      "0.0325775393595278\n",
      "0.048623090599331155\n",
      "0.06647116943433785\n",
      "0.058405984899578926\n",
      "0.1867873991518352\n"
     ]
    },
    {
     "name": "stderr",
     "output_type": "stream",
     "text": [
      "\r",
      "130it [04:06,  1.90s/it]"
     ]
    },
    {
     "name": "stdout",
     "output_type": "stream",
     "text": [
      "0.04035167133569825\n",
      "0.10121111001681214\n",
      "0.07770134925873934\n",
      "0.18250964393581956\n",
      "0.16166210089872488\n"
     ]
    },
    {
     "name": "stderr",
     "output_type": "stream",
     "text": [
      "\r",
      "131it [04:08,  1.90s/it]"
     ]
    },
    {
     "name": "stdout",
     "output_type": "stream",
     "text": [
      "0.010049943078849542\n",
      "0.14158843819292008\n",
      "0.06460071183227876\n",
      "0.13410035592895128\n",
      "0.19301070896617994\n"
     ]
    },
    {
     "name": "stderr",
     "output_type": "stream",
     "text": [
      "\r",
      "132it [04:10,  1.90s/it]"
     ]
    },
    {
     "name": "stdout",
     "output_type": "stream",
     "text": [
      "0.11082676063695605\n",
      "0.0354185750831477\n",
      "0.005279844802062585\n",
      "0.03428563894847197\n",
      "0.030404220362959124\n"
     ]
    },
    {
     "name": "stderr",
     "output_type": "stream",
     "text": [
      "\r",
      "133it [04:12,  1.88s/it]"
     ]
    },
    {
     "name": "stdout",
     "output_type": "stream",
     "text": [
      "0.01740448999843701\n",
      "0.055612239956745114\n",
      "0.10150652515654278\n",
      "0.10917001404906433\n",
      "0.23337203377897842\n"
     ]
    },
    {
     "name": "stderr",
     "output_type": "stream",
     "text": [
      "\r",
      "134it [04:13,  1.88s/it]"
     ]
    },
    {
     "name": "stdout",
     "output_type": "stream",
     "text": [
      "0.13986233646661136\n",
      "0.15122230676753726\n",
      "0.059091802443629354\n",
      "0.13902506608907128\n",
      "0.09828327961591891\n"
     ]
    },
    {
     "name": "stderr",
     "output_type": "stream",
     "text": [
      "\r",
      "135it [04:15,  1.88s/it]"
     ]
    },
    {
     "name": "stdout",
     "output_type": "stream",
     "text": [
      "0.00448872986251372\n",
      "0.023942288258540625\n",
      "0.055847955632434665\n",
      "0.2845597962319035\n",
      "0.05481458376713038\n"
     ]
    },
    {
     "name": "stderr",
     "output_type": "stream",
     "text": [
      "\r",
      "136it [04:17,  1.87s/it]"
     ]
    },
    {
     "name": "stdout",
     "output_type": "stream",
     "text": [
      "0.025089141225273556\n",
      "0.07228305176492686\n",
      "0.16575450240257575\n",
      "0.04545737598585589\n",
      "0.11509845687296022\n"
     ]
    },
    {
     "name": "stderr",
     "output_type": "stream",
     "text": [
      "\r",
      "137it [04:19,  1.87s/it]"
     ]
    },
    {
     "name": "stdout",
     "output_type": "stream",
     "text": [
      "0.15020654064587144\n",
      "0.0370524910573749\n",
      "0.01873898033715945\n",
      "0.07617375850986124\n",
      "0.014969561723928368\n"
     ]
    },
    {
     "name": "stderr",
     "output_type": "stream",
     "text": [
      "\r",
      "138it [04:21,  1.87s/it]"
     ]
    },
    {
     "name": "stdout",
     "output_type": "stream",
     "text": [
      "0.02644297704369923\n",
      "0.10587956164961704\n",
      "0.11540212620537238\n",
      "0.08054498893015306\n",
      "0.012535050430255119\n"
     ]
    },
    {
     "name": "stderr",
     "output_type": "stream",
     "text": [
      "\r",
      "139it [04:23,  1.87s/it]"
     ]
    },
    {
     "name": "stdout",
     "output_type": "stream",
     "text": [
      "0.06780443699877282\n",
      "0.008665724620779901\n",
      "0.2859048028294951\n",
      "0.06287638365080925\n",
      "0.04127447685496289\n"
     ]
    },
    {
     "name": "stderr",
     "output_type": "stream",
     "text": [
      "\r",
      "140it [04:25,  1.87s/it]"
     ]
    },
    {
     "name": "stdout",
     "output_type": "stream",
     "text": [
      "0.0064243018471366355\n",
      "0.15154561241641826\n",
      "0.1656852349850232\n",
      "0.028203736010368692\n",
      "0.006516363713121716\n"
     ]
    },
    {
     "name": "stderr",
     "output_type": "stream",
     "text": [
      "\r",
      "141it [04:27,  1.90s/it]"
     ]
    },
    {
     "name": "stdout",
     "output_type": "stream",
     "text": [
      "0.035131917223473384\n",
      "0.09998589305261932\n",
      "0.06996651987040868\n",
      "0.12996128652378977\n",
      "0.0645662000859485\n"
     ]
    },
    {
     "name": "stderr",
     "output_type": "stream",
     "text": [
      "\r",
      "142it [04:28,  1.89s/it]"
     ]
    },
    {
     "name": "stdout",
     "output_type": "stream",
     "text": [
      "0.04795901699117159\n",
      "0.05648122910467934\n",
      "0.015826843569771123\n",
      "0.11283753869070634\n",
      "0.016741038331585408\n"
     ]
    },
    {
     "name": "stderr",
     "output_type": "stream",
     "text": [
      "\r",
      "143it [04:30,  1.89s/it]"
     ]
    },
    {
     "name": "stdout",
     "output_type": "stream",
     "text": [
      "0.06787804757024234\n",
      "0.18621437919220116\n",
      "0.041852283797896454\n",
      "0.007871682474509381\n",
      "0.13832566089743348\n"
     ]
    },
    {
     "name": "stderr",
     "output_type": "stream",
     "text": [
      "\r",
      "144it [04:32,  1.89s/it]"
     ]
    },
    {
     "name": "stdout",
     "output_type": "stream",
     "text": [
      "0.12347277011993303\n",
      "0.12902234179844313\n",
      "0.014362728331575933\n",
      "0.005936314317954241\n",
      "0.05259924009103339\n"
     ]
    },
    {
     "name": "stderr",
     "output_type": "stream",
     "text": [
      "\r",
      "145it [04:34,  1.89s/it]"
     ]
    },
    {
     "name": "stdout",
     "output_type": "stream",
     "text": [
      "0.08889807971157694\n",
      "0.06637548713323059\n",
      "0.12513577303561588\n",
      "0.10049836823358083\n",
      "0.07268399900658493\n"
     ]
    },
    {
     "name": "stderr",
     "output_type": "stream",
     "text": [
      "\r",
      "146it [04:36,  1.90s/it]"
     ]
    },
    {
     "name": "stdout",
     "output_type": "stream",
     "text": [
      "0.022910900773360877\n",
      "0.07235602778370141\n",
      "0.0012376103418129166\n",
      "0.022773383969106373\n",
      "0.28414961084353035\n"
     ]
    },
    {
     "name": "stderr",
     "output_type": "stream",
     "text": [
      "\r",
      "147it [04:38,  1.90s/it]"
     ]
    },
    {
     "name": "stdout",
     "output_type": "stream",
     "text": [
      "0.018938622571168715\n",
      "0.17757680998924374\n",
      "0.029143853828466227\n",
      "0.08325176404780933\n",
      "0.07665448594682167\n"
     ]
    },
    {
     "name": "stderr",
     "output_type": "stream",
     "text": [
      "\r",
      "148it [04:40,  1.90s/it]"
     ]
    },
    {
     "name": "stdout",
     "output_type": "stream",
     "text": [
      "0.06603405616826664\n",
      "0.04747308312409585\n",
      "0.010735593453952653\n",
      "0.04603752790773048\n",
      "0.11036239344706585\n"
     ]
    },
    {
     "name": "stderr",
     "output_type": "stream",
     "text": [
      "\r",
      "149it [04:42,  1.91s/it]"
     ]
    },
    {
     "name": "stdout",
     "output_type": "stream",
     "text": [
      "0.04713954209021921\n",
      "0.07760299352269473\n",
      "0.057906747465683577\n",
      "0.09410318369756729\n",
      "0.024645729990258103\n"
     ]
    },
    {
     "name": "stderr",
     "output_type": "stream",
     "text": [
      "\r",
      "150it [04:44,  1.92s/it]"
     ]
    },
    {
     "name": "stdout",
     "output_type": "stream",
     "text": [
      "0.16544022995620108\n",
      "0.10866431124074334\n",
      "0.10405194229058277\n",
      "0.03321159692972212\n",
      "0.13614425604403096\n"
     ]
    },
    {
     "name": "stderr",
     "output_type": "stream",
     "text": [
      "\r",
      "151it [04:46,  1.92s/it]"
     ]
    },
    {
     "name": "stdout",
     "output_type": "stream",
     "text": [
      "0.04597438590119236\n",
      "0.06174491917012423\n",
      "0.17422372148011123\n",
      "0.02840960951819349\n",
      "0.17869654746800556\n"
     ]
    },
    {
     "name": "stderr",
     "output_type": "stream",
     "text": [
      "\r",
      "152it [04:48,  1.92s/it]"
     ]
    },
    {
     "name": "stdout",
     "output_type": "stream",
     "text": [
      "0.06608685879762809\n",
      "0.05680424770438489\n",
      "0.10931739184871186\n",
      "0.07825441808480658\n",
      "0.07723038582705391\n"
     ]
    },
    {
     "name": "stderr",
     "output_type": "stream",
     "text": [
      "\r",
      "153it [04:49,  1.90s/it]"
     ]
    },
    {
     "name": "stdout",
     "output_type": "stream",
     "text": [
      "0.007282144260816788\n",
      "0.07141604651478503\n",
      "0.11077003896530124\n",
      "0.04140840312436719\n",
      "0.031769166182662685\n"
     ]
    },
    {
     "name": "stderr",
     "output_type": "stream",
     "text": [
      "\r",
      "154it [04:51,  1.90s/it]"
     ]
    },
    {
     "name": "stdout",
     "output_type": "stream",
     "text": [
      "0.0652018657191378\n",
      "0.15285441850949785\n",
      "0.00513497525584309\n",
      "0.09925993329894925\n",
      "0.016259892651537655\n"
     ]
    },
    {
     "name": "stderr",
     "output_type": "stream",
     "text": [
      "\r",
      "155it [04:53,  1.89s/it]"
     ]
    },
    {
     "name": "stdout",
     "output_type": "stream",
     "text": [
      "0.1047100296207407\n",
      "0.17151893907195373\n",
      "0.16757146711967164\n",
      "0.023691389786567825\n",
      "0.043862097171563766\n"
     ]
    },
    {
     "name": "stderr",
     "output_type": "stream",
     "text": [
      "\r",
      "156it [04:55,  1.88s/it]"
     ]
    },
    {
     "name": "stdout",
     "output_type": "stream",
     "text": [
      "0.02404752599357484\n",
      "0.23169607030875083\n",
      "0.14623442207342097\n",
      "0.05247485967412161\n",
      "0.010142600122829732\n"
     ]
    },
    {
     "name": "stderr",
     "output_type": "stream",
     "text": [
      "\r",
      "157it [04:57,  1.88s/it]"
     ]
    },
    {
     "name": "stdout",
     "output_type": "stream",
     "text": [
      "0.19621761110806724\n",
      "0.14271756158845733\n",
      "0.14346343288934046\n",
      "0.052096589942389984\n",
      "0.06478309304508116\n"
     ]
    },
    {
     "name": "stderr",
     "output_type": "stream",
     "text": [
      "\r",
      "158it [04:59,  1.88s/it]"
     ]
    },
    {
     "name": "stdout",
     "output_type": "stream",
     "text": [
      "0.008367217790676633\n",
      "0.04653297978159729\n",
      "0.029324895336495505\n",
      "0.03151597079575701\n",
      "0.06816879905445301\n"
     ]
    },
    {
     "name": "stderr",
     "output_type": "stream",
     "text": [
      "\r",
      "159it [05:01,  1.89s/it]"
     ]
    },
    {
     "name": "stdout",
     "output_type": "stream",
     "text": [
      "0.007835110981202221\n",
      "0.1039067881542102\n",
      "0.16228951401802688\n",
      "0.027463582656943465\n",
      "0.05896508964290858\n"
     ]
    },
    {
     "name": "stderr",
     "output_type": "stream",
     "text": [
      "\r",
      "160it [05:03,  1.88s/it]"
     ]
    },
    {
     "name": "stdout",
     "output_type": "stream",
     "text": [
      "0.08191421536047834\n",
      "0.011412060563488166\n",
      "0.1922156127301995\n",
      "0.10459656059950935\n",
      "0.014737737981345506\n"
     ]
    },
    {
     "name": "stderr",
     "output_type": "stream",
     "text": [
      "\r",
      "161it [05:05,  1.90s/it]"
     ]
    },
    {
     "name": "stdout",
     "output_type": "stream",
     "text": [
      "0.08232129379890137\n",
      "0.13153130000733423\n",
      "0.022784850951854466\n",
      "0.1355799030289389\n",
      "0.18631596915148943\n"
     ]
    },
    {
     "name": "stderr",
     "output_type": "stream",
     "text": [
      "\r",
      "162it [05:06,  1.92s/it]"
     ]
    },
    {
     "name": "stdout",
     "output_type": "stream",
     "text": [
      "0.06271193171889539\n",
      "0.07915076855927058\n",
      "0.004854556411119492\n",
      "0.09343583811872141\n",
      "0.005200235931285208\n"
     ]
    },
    {
     "name": "stderr",
     "output_type": "stream",
     "text": [
      "\r",
      "163it [05:08,  1.92s/it]"
     ]
    },
    {
     "name": "stdout",
     "output_type": "stream",
     "text": [
      "0.09269787476890534\n",
      "0.050255495776522344\n",
      "0.12148296851742879\n",
      "0.12032923262278668\n",
      "0.18349920825632987\n"
     ]
    },
    {
     "name": "stderr",
     "output_type": "stream",
     "text": [
      "\r",
      "164it [05:10,  1.93s/it]"
     ]
    },
    {
     "name": "stdout",
     "output_type": "stream",
     "text": [
      "0.09359143404230552\n",
      "0.08985513251916676\n",
      "0.139894190672841\n",
      "0.06411822295259346\n",
      "0.09154371535005613\n"
     ]
    },
    {
     "name": "stderr",
     "output_type": "stream",
     "text": [
      "\r",
      "165it [05:12,  1.93s/it]"
     ]
    },
    {
     "name": "stdout",
     "output_type": "stream",
     "text": [
      "0.01658859884234094\n",
      "0.14094082691448787\n",
      "0.14834462235063184\n",
      "0.011612674837266732\n",
      "0.11617830783066317\n"
     ]
    },
    {
     "name": "stderr",
     "output_type": "stream",
     "text": [
      "\r",
      "166it [05:14,  1.92s/it]"
     ]
    },
    {
     "name": "stdout",
     "output_type": "stream",
     "text": [
      "0.11822322388498335\n",
      "0.040887435374525875\n",
      "0.1875452713234108\n",
      "0.048057343246295584\n",
      "0.0787724420444691\n"
     ]
    },
    {
     "name": "stderr",
     "output_type": "stream",
     "text": [
      "\r",
      "167it [05:16,  1.92s/it]"
     ]
    },
    {
     "name": "stdout",
     "output_type": "stream",
     "text": [
      "0.05613666740776799\n",
      "0.06575641806521124\n",
      "0.17083045175504885\n",
      "0.060665097727778186\n",
      "0.09089487188717886\n"
     ]
    },
    {
     "name": "stderr",
     "output_type": "stream",
     "text": [
      "\r",
      "168it [05:18,  1.93s/it]"
     ]
    },
    {
     "name": "stdout",
     "output_type": "stream",
     "text": [
      "0.2009904956359094\n",
      "0.11171113019444726\n",
      "0.24540575215456706\n",
      "0.18436149314246433\n",
      "0.08408683569366081\n"
     ]
    },
    {
     "name": "stderr",
     "output_type": "stream",
     "text": [
      "\r",
      "169it [05:20,  1.93s/it]"
     ]
    },
    {
     "name": "stdout",
     "output_type": "stream",
     "text": [
      "0.034173066728299555\n",
      "0.09390821379609365\n",
      "0.0372266856533776\n",
      "0.029935967713193776\n",
      "0.10592838880996236\n"
     ]
    },
    {
     "name": "stderr",
     "output_type": "stream",
     "text": [
      "\r",
      "170it [05:22,  1.93s/it]"
     ]
    },
    {
     "name": "stdout",
     "output_type": "stream",
     "text": [
      "0.13051665183737562\n",
      "0.05762826234839239\n",
      "0.001963636247924647\n",
      "0.0937587777694508\n",
      "0.004784947841366982\n"
     ]
    },
    {
     "name": "stderr",
     "output_type": "stream",
     "text": [
      "\r",
      "171it [05:24,  1.93s/it]"
     ]
    },
    {
     "name": "stdout",
     "output_type": "stream",
     "text": [
      "0.17070834352132025\n",
      "0.05208584427030064\n",
      "0.06838411046750831\n",
      "0.010294814673559843\n",
      "0.17837401617376847\n"
     ]
    },
    {
     "name": "stderr",
     "output_type": "stream",
     "text": [
      "\r",
      "172it [05:26,  1.94s/it]"
     ]
    },
    {
     "name": "stdout",
     "output_type": "stream",
     "text": [
      "0.00807101745316447\n",
      "0.1992422215946998\n",
      "0.028015857939357264\n",
      "0.08864026165453903\n",
      "0.11448906799511337\n"
     ]
    },
    {
     "name": "stderr",
     "output_type": "stream",
     "text": [
      "\r",
      "173it [05:28,  1.92s/it]"
     ]
    },
    {
     "name": "stdout",
     "output_type": "stream",
     "text": [
      "0.07606151574476616\n",
      "0.07250515805135847\n",
      "0.032501074811359124\n",
      "0.09409497894978139\n",
      "0.04419354090891185\n"
     ]
    },
    {
     "name": "stderr",
     "output_type": "stream",
     "text": [
      "\r",
      "174it [05:30,  1.91s/it]"
     ]
    },
    {
     "name": "stdout",
     "output_type": "stream",
     "text": [
      "0.16681719262682101\n",
      "0.1732199614160972\n",
      "0.024225094055262308\n",
      "0.12116277342727987\n",
      "0.023885086799515294\n"
     ]
    },
    {
     "name": "stderr",
     "output_type": "stream",
     "text": [
      "\r",
      "175it [05:31,  1.90s/it]"
     ]
    },
    {
     "name": "stdout",
     "output_type": "stream",
     "text": [
      "0.04492554524346068\n",
      "0.2030526856904794\n",
      "0.11506958976995181\n",
      "0.00458031598423567\n",
      "0.012236522668880914\n"
     ]
    },
    {
     "name": "stderr",
     "output_type": "stream",
     "text": [
      "\r",
      "176it [05:33,  1.89s/it]"
     ]
    },
    {
     "name": "stdout",
     "output_type": "stream",
     "text": [
      "0.0653583961982986\n",
      "0.07372126029051006\n",
      "0.16778019129891253\n",
      "0.11967581654092566\n",
      "0.042607852534704754\n"
     ]
    },
    {
     "name": "stderr",
     "output_type": "stream",
     "text": [
      "\r",
      "177it [05:35,  1.89s/it]"
     ]
    },
    {
     "name": "stdout",
     "output_type": "stream",
     "text": [
      "0.12226033676849367\n",
      "0.21295549698112223\n",
      "0.03811975838457653\n",
      "0.052994138342187636\n",
      "0.06414884753055396\n"
     ]
    },
    {
     "name": "stderr",
     "output_type": "stream",
     "text": [
      "\r",
      "178it [05:37,  1.90s/it]"
     ]
    },
    {
     "name": "stdout",
     "output_type": "stream",
     "text": [
      "0.00047715506955377105\n",
      "0.10016561630899937\n",
      "0.03765648624991293\n",
      "0.05026062417902888\n",
      "0.19902369247780033\n"
     ]
    },
    {
     "name": "stderr",
     "output_type": "stream",
     "text": [
      "\r",
      "179it [05:39,  1.90s/it]"
     ]
    },
    {
     "name": "stdout",
     "output_type": "stream",
     "text": [
      "0.08081463106414058\n",
      "0.0961740222717475\n",
      "0.00843943737318532\n",
      "0.0007620373489785571\n",
      "0.13968527314413612\n"
     ]
    },
    {
     "name": "stderr",
     "output_type": "stream",
     "text": [
      "\r",
      "180it [05:41,  1.89s/it]"
     ]
    },
    {
     "name": "stdout",
     "output_type": "stream",
     "text": [
      "0.1040816537390342\n",
      "0.15838228030619916\n",
      "0.13152818277251577\n",
      "0.10773438985981099\n",
      "0.08602590599947302\n"
     ]
    },
    {
     "name": "stderr",
     "output_type": "stream",
     "text": [
      "\r",
      "181it [05:43,  1.91s/it]"
     ]
    },
    {
     "name": "stdout",
     "output_type": "stream",
     "text": [
      "0.018249744558569772\n",
      "0.10755338331712011\n",
      "0.0061779394354306485\n",
      "0.11184888049583522\n",
      "0.10790687163962176\n"
     ]
    },
    {
     "name": "stderr",
     "output_type": "stream",
     "text": [
      "\r",
      "182it [05:45,  1.90s/it]"
     ]
    },
    {
     "name": "stdout",
     "output_type": "stream",
     "text": [
      "0.0077811181013689\n",
      "0.08853110459373625\n",
      "0.04928173567077352\n",
      "0.011857259327556352\n",
      "0.028852619043024014\n"
     ]
    },
    {
     "name": "stderr",
     "output_type": "stream",
     "text": [
      "\r",
      "183it [05:47,  1.90s/it]"
     ]
    },
    {
     "name": "stdout",
     "output_type": "stream",
     "text": [
      "0.058839106727453606\n",
      "0.046171290276599955\n",
      "0.1839633983310918\n",
      "0.03923689906898929\n",
      "0.0073995197601536295\n"
     ]
    },
    {
     "name": "stderr",
     "output_type": "stream",
     "text": [
      "\r",
      "184it [05:49,  1.90s/it]"
     ]
    },
    {
     "name": "stdout",
     "output_type": "stream",
     "text": [
      "0.09026640596873703\n",
      "0.025622314220654765\n",
      "0.0071266820986888545\n",
      "0.06445176495714182\n",
      "0.02240422805749591\n"
     ]
    },
    {
     "name": "stderr",
     "output_type": "stream",
     "text": [
      "\r",
      "185it [05:50,  1.90s/it]"
     ]
    },
    {
     "name": "stdout",
     "output_type": "stream",
     "text": [
      "0.07260459164552129\n",
      "0.01701957311574391\n",
      "0.16756169827352224\n",
      "0.09639760908223662\n",
      "0.06810261049174104\n"
     ]
    },
    {
     "name": "stderr",
     "output_type": "stream",
     "text": [
      "\r",
      "186it [05:52,  1.90s/it]"
     ]
    },
    {
     "name": "stdout",
     "output_type": "stream",
     "text": [
      "0.16483584161942866\n",
      "0.22433006766638586\n",
      "0.006523018412755175\n",
      "0.02007006072783347\n",
      "0.10371960235181124\n"
     ]
    },
    {
     "name": "stderr",
     "output_type": "stream",
     "text": [
      "\r",
      "187it [05:54,  1.90s/it]"
     ]
    },
    {
     "name": "stdout",
     "output_type": "stream",
     "text": [
      "0.2560692555425451\n",
      "0.044943224856203556\n",
      "0.17331455884828945\n",
      "0.010162926698324762\n",
      "0.15484296626060687\n"
     ]
    },
    {
     "name": "stderr",
     "output_type": "stream",
     "text": [
      "\r",
      "188it [05:56,  1.91s/it]"
     ]
    },
    {
     "name": "stdout",
     "output_type": "stream",
     "text": [
      "0.11021753096033374\n",
      "0.03766196950890706\n",
      "0.06282533319704964\n",
      "0.03412696315196647\n",
      "0.059030421336076194\n"
     ]
    },
    {
     "name": "stderr",
     "output_type": "stream",
     "text": [
      "\r",
      "189it [05:58,  1.91s/it]"
     ]
    },
    {
     "name": "stdout",
     "output_type": "stream",
     "text": [
      "0.013822582011317431\n",
      "0.06728925393464848\n",
      "0.13860585365931183\n",
      "0.07350060622487459\n",
      "0.11888080118273976\n"
     ]
    },
    {
     "name": "stderr",
     "output_type": "stream",
     "text": [
      "\r",
      "190it [06:00,  1.91s/it]"
     ]
    },
    {
     "name": "stdout",
     "output_type": "stream",
     "text": [
      "0.16272688205173808\n",
      "0.04800716617136968\n",
      "0.08626706390995198\n",
      "0.05066086735752842\n",
      "0.008993835148276522\n"
     ]
    },
    {
     "name": "stderr",
     "output_type": "stream",
     "text": [
      "\r",
      "191it [06:02,  1.90s/it]"
     ]
    },
    {
     "name": "stdout",
     "output_type": "stream",
     "text": [
      "0.03345725445071015\n",
      "0.10681419466715247\n",
      "0.13170284484475397\n",
      "0.06921313003434003\n",
      "0.04491257012033589\n"
     ]
    },
    {
     "name": "stderr",
     "output_type": "stream",
     "text": [
      "\r",
      "192it [06:04,  1.91s/it]"
     ]
    },
    {
     "name": "stdout",
     "output_type": "stream",
     "text": [
      "0.015397858150789973\n",
      "0.09650472964489108\n",
      "0.04846105067259229\n",
      "0.07558046417932729\n",
      "0.08176996179289246\n"
     ]
    },
    {
     "name": "stderr",
     "output_type": "stream",
     "text": [
      "\r",
      "193it [06:06,  1.90s/it]"
     ]
    },
    {
     "name": "stdout",
     "output_type": "stream",
     "text": [
      "0.008233924214565012\n",
      "0.14254687461317006\n",
      "0.18059488382959146\n",
      "0.17360769288472536\n",
      "0.22070414095120228\n"
     ]
    },
    {
     "name": "stderr",
     "output_type": "stream",
     "text": [
      "\r",
      "194it [06:08,  1.89s/it]"
     ]
    },
    {
     "name": "stdout",
     "output_type": "stream",
     "text": [
      "0.05473925889048831\n",
      "0.2047915651118792\n",
      "0.13503244208721368\n",
      "0.14061808104249626\n",
      "0.04357682693235404\n"
     ]
    },
    {
     "name": "stderr",
     "output_type": "stream",
     "text": [
      "\r",
      "195it [06:09,  1.88s/it]"
     ]
    },
    {
     "name": "stdout",
     "output_type": "stream",
     "text": [
      "0.0986676342537211\n",
      "0.04570239926699904\n",
      "0.11227789336006762\n",
      "0.1314576832357268\n",
      "0.14216398755929002\n"
     ]
    },
    {
     "name": "stderr",
     "output_type": "stream",
     "text": [
      "\r",
      "196it [06:11,  1.88s/it]"
     ]
    },
    {
     "name": "stdout",
     "output_type": "stream",
     "text": [
      "0.07413279382686588\n",
      "0.034077787477315234\n",
      "0.004159167436920562\n",
      "0.013617920656531954\n",
      "0.08014655371246503\n"
     ]
    },
    {
     "name": "stderr",
     "output_type": "stream",
     "text": [
      "\r",
      "197it [06:13,  1.88s/it]"
     ]
    },
    {
     "name": "stdout",
     "output_type": "stream",
     "text": [
      "0.0030806561238697306\n",
      "0.005886710696527762\n",
      "0.09500874234027762\n",
      "0.08010045434534657\n",
      "0.012192406766720381\n"
     ]
    },
    {
     "name": "stderr",
     "output_type": "stream",
     "text": [
      "\r",
      "198it [06:15,  1.87s/it]"
     ]
    },
    {
     "name": "stdout",
     "output_type": "stream",
     "text": [
      "0.052437510555791905\n",
      "0.0653271113905665\n",
      "0.09551342604721019\n",
      "0.034734131417254746\n",
      "0.12805176762318618\n"
     ]
    },
    {
     "name": "stderr",
     "output_type": "stream",
     "text": [
      "\r",
      "199it [06:17,  1.88s/it]"
     ]
    },
    {
     "name": "stdout",
     "output_type": "stream",
     "text": [
      "0.18413803187521827\n",
      "0.15498384418240296\n",
      "0.02882103802070088\n",
      "0.00995180979061458\n",
      "0.08487182199045004\n"
     ]
    },
    {
     "name": "stderr",
     "output_type": "stream",
     "text": [
      "200it [06:19,  1.88s/it]\n",
      "0it [00:00, ?it/s]"
     ]
    },
    {
     "name": "stdout",
     "output_type": "stream",
     "text": [
      "0.056054726012483506\n",
      "0.054945658533104916\n",
      "0.03168600747747292\n",
      "0.07036646582255905\n",
      "0.003739068774148779\n"
     ]
    },
    {
     "name": "stderr",
     "output_type": "stream",
     "text": [
      "\r",
      "1it [00:01,  1.92s/it]"
     ]
    },
    {
     "name": "stdout",
     "output_type": "stream",
     "text": [
      "0.04822605536921355\n",
      "0.0750789714545356\n",
      "0.03224019851069566\n",
      "0.09818512151273456\n",
      "0.010180040704782768\n"
     ]
    },
    {
     "name": "stderr",
     "output_type": "stream",
     "text": [
      "\r",
      "2it [00:03,  1.93s/it]"
     ]
    },
    {
     "name": "stdout",
     "output_type": "stream",
     "text": [
      "0.004275587664019115\n",
      "0.1899313220224541\n",
      "0.03071347090054366\n",
      "0.1550234441918328\n",
      "0.1488958188604191\n"
     ]
    },
    {
     "name": "stderr",
     "output_type": "stream",
     "text": [
      "\r",
      "3it [00:05,  1.92s/it]"
     ]
    },
    {
     "name": "stdout",
     "output_type": "stream",
     "text": [
      "0.022429248114434013\n",
      "0.09005365511042607\n",
      "0.0250034466500028\n",
      "0.11948440621757342\n",
      "0.076327873856459\n"
     ]
    },
    {
     "name": "stderr",
     "output_type": "stream",
     "text": [
      "\r",
      "4it [00:07,  1.92s/it]"
     ]
    },
    {
     "name": "stdout",
     "output_type": "stream",
     "text": [
      "0.08459837313720375\n",
      "0.04450648992482698\n",
      "0.03652456603957836\n",
      "0.07191362118538668\n",
      "0.18875343271326475\n"
     ]
    },
    {
     "name": "stderr",
     "output_type": "stream",
     "text": [
      "\r",
      "5it [00:09,  1.91s/it]"
     ]
    },
    {
     "name": "stdout",
     "output_type": "stream",
     "text": [
      "0.15401168284019084\n",
      "0.024511599389511387\n",
      "0.09340932555905657\n",
      "0.08553355505624376\n",
      "0.09470367611695642\n"
     ]
    },
    {
     "name": "stderr",
     "output_type": "stream",
     "text": [
      "\r",
      "6it [00:11,  1.91s/it]"
     ]
    },
    {
     "name": "stdout",
     "output_type": "stream",
     "text": [
      "0.3046186317911464\n",
      "0.049744947924177316\n",
      "0.023464487174106097\n",
      "0.12746140824203253\n",
      "0.12679560748508553\n"
     ]
    },
    {
     "name": "stderr",
     "output_type": "stream",
     "text": [
      "\r",
      "7it [00:13,  1.90s/it]"
     ]
    },
    {
     "name": "stdout",
     "output_type": "stream",
     "text": [
      "0.12253117569113302\n",
      "0.11085241308283833\n",
      "0.01650612336990002\n",
      "0.005767211914128954\n",
      "0.015010964345994743\n"
     ]
    },
    {
     "name": "stderr",
     "output_type": "stream",
     "text": [
      "\r",
      "8it [00:15,  1.89s/it]"
     ]
    },
    {
     "name": "stdout",
     "output_type": "stream",
     "text": [
      "0.09529937808466649\n",
      "0.014779352477627196\n",
      "0.04930068123693175\n",
      "0.14877513222673505\n",
      "0.012451029770355606\n"
     ]
    },
    {
     "name": "stderr",
     "output_type": "stream",
     "text": [
      "\r",
      "9it [00:17,  1.89s/it]"
     ]
    },
    {
     "name": "stdout",
     "output_type": "stream",
     "text": [
      "0.043469152425249104\n",
      "0.04575478926233343\n",
      "0.11508437155065412\n",
      "0.09331211046066441\n",
      "0.0307119214181955\n"
     ]
    },
    {
     "name": "stderr",
     "output_type": "stream",
     "text": [
      "\r",
      "10it [00:18,  1.88s/it]"
     ]
    },
    {
     "name": "stdout",
     "output_type": "stream",
     "text": [
      "0.23163298917932754\n",
      "0.14021593227108856\n",
      "0.09028854933665209\n",
      "0.007115276377032215\n",
      "0.1655845700392757\n"
     ]
    },
    {
     "name": "stderr",
     "output_type": "stream",
     "text": [
      "\r",
      "11it [00:20,  1.88s/it]"
     ]
    },
    {
     "name": "stdout",
     "output_type": "stream",
     "text": [
      "0.022975345941926857\n",
      "0.058390958809480024\n",
      "0.08531485264280947\n",
      "0.16147673730874665\n",
      "0.16112335831471578\n"
     ]
    },
    {
     "name": "stderr",
     "output_type": "stream",
     "text": [
      "\r",
      "12it [00:22,  1.88s/it]"
     ]
    },
    {
     "name": "stdout",
     "output_type": "stream",
     "text": [
      "0.09071199021886223\n",
      "0.09637029775464004\n",
      "0.09108148838980244\n",
      "0.007240060727107577\n",
      "0.047422335207731175\n"
     ]
    },
    {
     "name": "stderr",
     "output_type": "stream",
     "text": [
      "\r",
      "13it [00:24,  1.89s/it]"
     ]
    },
    {
     "name": "stdout",
     "output_type": "stream",
     "text": [
      "0.09666252132376274\n",
      "0.13112994744288345\n",
      "0.04242877298659427\n",
      "0.03394766171870638\n",
      "0.09161007344363489\n"
     ]
    },
    {
     "name": "stderr",
     "output_type": "stream",
     "text": [
      "\r",
      "14it [00:26,  1.88s/it]"
     ]
    },
    {
     "name": "stdout",
     "output_type": "stream",
     "text": [
      "0.027783839664087397\n",
      "0.1580529594138118\n",
      "0.07529253216502006\n",
      "0.12825017516210643\n",
      "0.12089752637190068\n"
     ]
    },
    {
     "name": "stderr",
     "output_type": "stream",
     "text": [
      "\r",
      "15it [00:28,  1.88s/it]"
     ]
    },
    {
     "name": "stdout",
     "output_type": "stream",
     "text": [
      "0.11853541638251182\n",
      "0.1325406029814761\n",
      "0.10990185126116543\n",
      "0.0029167646095678177\n",
      "0.11551105629804939\n"
     ]
    },
    {
     "name": "stderr",
     "output_type": "stream",
     "text": [
      "\r",
      "16it [00:30,  1.88s/it]"
     ]
    },
    {
     "name": "stdout",
     "output_type": "stream",
     "text": [
      "0.17980248523987005\n",
      "0.04972299245793216\n",
      "0.05144926405983407\n",
      "0.03820063277422893\n",
      "0.03444376755786235\n"
     ]
    },
    {
     "name": "stderr",
     "output_type": "stream",
     "text": [
      "\r",
      "17it [00:32,  1.89s/it]"
     ]
    },
    {
     "name": "stdout",
     "output_type": "stream",
     "text": [
      "0.04240407427218171\n",
      "0.11476584298017685\n",
      "0.0843355167136844\n",
      "0.0028159746766324573\n",
      "0.054519330729193016\n"
     ]
    },
    {
     "name": "stderr",
     "output_type": "stream",
     "text": [
      "\r",
      "18it [00:34,  1.89s/it]"
     ]
    },
    {
     "name": "stdout",
     "output_type": "stream",
     "text": [
      "0.09028010232848566\n",
      "0.10809169143944618\n",
      "0.16558642430336112\n",
      "0.03295115718711357\n",
      "0.18779977837269654\n"
     ]
    },
    {
     "name": "stderr",
     "output_type": "stream",
     "text": [
      "\r",
      "19it [00:35,  1.88s/it]"
     ]
    },
    {
     "name": "stdout",
     "output_type": "stream",
     "text": [
      "0.09118226122677886\n",
      "0.016246636166719546\n",
      "0.08125467347774358\n",
      "0.13836317158934128\n",
      "0.00798019980366683\n"
     ]
    },
    {
     "name": "stderr",
     "output_type": "stream",
     "text": [
      "\r",
      "20it [00:37,  1.88s/it]"
     ]
    },
    {
     "name": "stdout",
     "output_type": "stream",
     "text": [
      "0.09534642682910886\n",
      "0.12097726313642101\n",
      "0.044926989644812815\n",
      "0.22227194980987003\n",
      "0.059174385241917454\n"
     ]
    },
    {
     "name": "stderr",
     "output_type": "stream",
     "text": [
      "\r",
      "21it [00:39,  1.90s/it]"
     ]
    },
    {
     "name": "stdout",
     "output_type": "stream",
     "text": [
      "0.08655854803011351\n",
      "0.017072583786082004\n",
      "0.0895411905757562\n",
      "0.14234271507464485\n",
      "0.20107498350327824\n"
     ]
    },
    {
     "name": "stderr",
     "output_type": "stream",
     "text": [
      "\r",
      "22it [00:41,  1.90s/it]"
     ]
    },
    {
     "name": "stdout",
     "output_type": "stream",
     "text": [
      "0.06625123046076381\n",
      "0.07123041840465517\n",
      "0.11097704311299893\n",
      "0.0416117184596081\n",
      "0.056052732059403414\n"
     ]
    },
    {
     "name": "stderr",
     "output_type": "stream",
     "text": [
      "\r",
      "23it [00:43,  1.90s/it]"
     ]
    },
    {
     "name": "stdout",
     "output_type": "stream",
     "text": [
      "0.0946515479578136\n",
      "0.031002032774433322\n",
      "0.1799622198098608\n",
      "0.0036365622418418606\n",
      "0.027020717856068435\n"
     ]
    },
    {
     "name": "stderr",
     "output_type": "stream",
     "text": [
      "\r",
      "24it [00:45,  1.90s/it]"
     ]
    },
    {
     "name": "stdout",
     "output_type": "stream",
     "text": [
      "0.12316626055760181\n",
      "0.012035948526894671\n",
      "0.11597406489897688\n",
      "0.25576931811058495\n",
      "0.11514441493607928\n"
     ]
    },
    {
     "name": "stderr",
     "output_type": "stream",
     "text": [
      "\r",
      "25it [00:47,  1.89s/it]"
     ]
    },
    {
     "name": "stdout",
     "output_type": "stream",
     "text": [
      "0.10627568706098717\n",
      "0.0911167964616953\n",
      "0.08051010995273439\n",
      "0.15126184283967514\n",
      "0.01358360547500754\n"
     ]
    },
    {
     "name": "stderr",
     "output_type": "stream",
     "text": [
      "\r",
      "26it [00:49,  1.89s/it]"
     ]
    },
    {
     "name": "stdout",
     "output_type": "stream",
     "text": [
      "0.008135861137069619\n",
      "0.07767233420799613\n",
      "0.05624273778157839\n",
      "0.0632547283843157\n",
      "0.10149715508174924\n"
     ]
    },
    {
     "name": "stderr",
     "output_type": "stream",
     "text": [
      "\r",
      "27it [00:51,  1.88s/it]"
     ]
    },
    {
     "name": "stdout",
     "output_type": "stream",
     "text": [
      "0.11731942349649303\n",
      "0.06411806849518618\n",
      "0.1151784951916982\n",
      "0.16486859408071314\n",
      "0.012931574693255258\n"
     ]
    },
    {
     "name": "stderr",
     "output_type": "stream",
     "text": [
      "\r",
      "28it [00:52,  1.87s/it]"
     ]
    },
    {
     "name": "stdout",
     "output_type": "stream",
     "text": [
      "0.10548172094904443\n",
      "0.09798228608634853\n",
      "0.023577288581721298\n",
      "0.04344774514003591\n",
      "0.12260366780428861\n"
     ]
    },
    {
     "name": "stderr",
     "output_type": "stream",
     "text": [
      "\r",
      "29it [00:54,  1.87s/it]"
     ]
    },
    {
     "name": "stdout",
     "output_type": "stream",
     "text": [
      "0.1582341721949189\n",
      "0.10944206683998879\n",
      "0.06531011491073528\n",
      "0.05815238582121526\n",
      "0.007602609998554083\n"
     ]
    },
    {
     "name": "stderr",
     "output_type": "stream",
     "text": [
      "\r",
      "30it [00:56,  1.87s/it]"
     ]
    },
    {
     "name": "stdout",
     "output_type": "stream",
     "text": [
      "0.03903892184091707\n",
      "0.12231026524162741\n",
      "0.09906180694586503\n",
      "0.11054576795707215\n",
      "0.04146718179404193\n"
     ]
    },
    {
     "name": "stderr",
     "output_type": "stream",
     "text": [
      "\r",
      "31it [00:58,  1.88s/it]"
     ]
    },
    {
     "name": "stdout",
     "output_type": "stream",
     "text": [
      "0.08822131658197327\n",
      "0.03647411267472188\n",
      "0.08603133482793951\n",
      "0.132179123738042\n",
      "0.0795156989416658\n"
     ]
    },
    {
     "name": "stderr",
     "output_type": "stream",
     "text": [
      "\r",
      "32it [01:00,  1.88s/it]"
     ]
    },
    {
     "name": "stdout",
     "output_type": "stream",
     "text": [
      "0.18057961963796323\n",
      "0.09267420536119109\n",
      "0.25911949376537863\n",
      "0.10623905515042503\n",
      "0.06888893809363848\n"
     ]
    },
    {
     "name": "stderr",
     "output_type": "stream",
     "text": [
      "\r",
      "33it [01:02,  1.89s/it]"
     ]
    },
    {
     "name": "stdout",
     "output_type": "stream",
     "text": [
      "0.06517893002948462\n",
      "0.003922999954692893\n",
      "0.13956123848781724\n",
      "0.07734026896378915\n",
      "0.038945288022651785\n"
     ]
    },
    {
     "name": "stderr",
     "output_type": "stream",
     "text": [
      "\r",
      "34it [01:04,  1.89s/it]"
     ]
    },
    {
     "name": "stdout",
     "output_type": "stream",
     "text": [
      "0.04067029768275199\n",
      "0.003126247774410098\n",
      "0.12482070849445968\n",
      "0.04654398265647466\n",
      "0.07770298627680838\n"
     ]
    },
    {
     "name": "stderr",
     "output_type": "stream",
     "text": [
      "\r",
      "35it [01:06,  1.89s/it]"
     ]
    },
    {
     "name": "stdout",
     "output_type": "stream",
     "text": [
      "0.02180662036409167\n",
      "0.1753231922222751\n",
      "0.09112759908862923\n",
      "0.17503208609878634\n",
      "0.10204241076765255\n"
     ]
    },
    {
     "name": "stderr",
     "output_type": "stream",
     "text": [
      "\r",
      "36it [01:08,  1.89s/it]"
     ]
    },
    {
     "name": "stdout",
     "output_type": "stream",
     "text": [
      "0.009996248082479155\n",
      "0.030063980120716\n",
      "0.10286887922884586\n",
      "0.12178730330434775\n",
      "0.12276148138289322\n"
     ]
    },
    {
     "name": "stderr",
     "output_type": "stream",
     "text": [
      "\r",
      "37it [01:09,  1.89s/it]"
     ]
    },
    {
     "name": "stdout",
     "output_type": "stream",
     "text": [
      "0.01088427865958899\n",
      "0.0738597688806376\n",
      "0.1410374181329456\n",
      "0.04259633758333234\n",
      "0.030544855815681168\n"
     ]
    },
    {
     "name": "stderr",
     "output_type": "stream",
     "text": [
      "\r",
      "38it [01:11,  1.88s/it]"
     ]
    },
    {
     "name": "stdout",
     "output_type": "stream",
     "text": [
      "0.09573839840956089\n",
      "0.291426359321073\n",
      "0.27031222595471727\n",
      "0.03278050421275127\n",
      "0.06308228127266662\n"
     ]
    },
    {
     "name": "stderr",
     "output_type": "stream",
     "text": [
      "\r",
      "39it [01:13,  1.87s/it]"
     ]
    },
    {
     "name": "stdout",
     "output_type": "stream",
     "text": [
      "0.09511912432790137\n",
      "0.06893552902987729\n",
      "0.10743709613396682\n",
      "0.1004260704898047\n",
      "0.05277927037646112\n"
     ]
    },
    {
     "name": "stderr",
     "output_type": "stream",
     "text": [
      "\r",
      "40it [01:15,  1.90s/it]"
     ]
    },
    {
     "name": "stdout",
     "output_type": "stream",
     "text": [
      "0.01681097558642475\n",
      "0.023031717809783185\n",
      "0.10622548889262835\n",
      "0.02900059592977887\n",
      "0.0020853928072208615\n"
     ]
    },
    {
     "name": "stderr",
     "output_type": "stream",
     "text": [
      "\r",
      "41it [01:17,  1.90s/it]"
     ]
    },
    {
     "name": "stdout",
     "output_type": "stream",
     "text": [
      "0.014294480534132412\n",
      "0.040876109286457844\n",
      "0.033475498000218505\n",
      "0.17492876011402747\n",
      "0.23965632142535864\n"
     ]
    },
    {
     "name": "stderr",
     "output_type": "stream",
     "text": [
      "\r",
      "42it [01:19,  1.91s/it]"
     ]
    },
    {
     "name": "stdout",
     "output_type": "stream",
     "text": [
      "0.04603845570381962\n",
      "0.022726140822202125\n",
      "0.11930855316349605\n",
      "0.12098582225239887\n",
      "0.016214865861132848\n"
     ]
    },
    {
     "name": "stderr",
     "output_type": "stream",
     "text": [
      "\r",
      "43it [01:21,  1.91s/it]"
     ]
    },
    {
     "name": "stdout",
     "output_type": "stream",
     "text": [
      "0.10949475204659076\n",
      "0.20678110484604129\n",
      "0.025966650648389773\n",
      "0.08916742091422229\n",
      "0.00449098592179932\n"
     ]
    },
    {
     "name": "stderr",
     "output_type": "stream",
     "text": [
      "\r",
      "44it [01:23,  1.91s/it]"
     ]
    },
    {
     "name": "stdout",
     "output_type": "stream",
     "text": [
      "0.08226919221763337\n",
      "0.0626055185658052\n",
      "0.04612223965230505\n",
      "0.020406731015930633\n",
      "0.09131539361650379\n"
     ]
    },
    {
     "name": "stderr",
     "output_type": "stream",
     "text": [
      "\r",
      "45it [01:25,  1.91s/it]"
     ]
    },
    {
     "name": "stdout",
     "output_type": "stream",
     "text": [
      "0.20895294293435163\n",
      "0.09138837070159066\n",
      "0.08960318109245727\n",
      "0.029556143285344297\n",
      "0.01846600291326103\n"
     ]
    },
    {
     "name": "stderr",
     "output_type": "stream",
     "text": [
      "\r",
      "46it [01:27,  1.91s/it]"
     ]
    },
    {
     "name": "stdout",
     "output_type": "stream",
     "text": [
      "0.05501152060396695\n",
      "0.007121209669126761\n",
      "0.0948884842618597\n",
      "0.08852738012343533\n",
      "0.11803758582095313\n"
     ]
    },
    {
     "name": "stderr",
     "output_type": "stream",
     "text": [
      "\r",
      "47it [01:28,  1.90s/it]"
     ]
    },
    {
     "name": "stdout",
     "output_type": "stream",
     "text": [
      "0.14148710416642807\n",
      "0.2920281866072512\n",
      "0.04267251665315745\n",
      "0.09414649213647681\n",
      "0.02842078982595178\n"
     ]
    },
    {
     "name": "stderr",
     "output_type": "stream",
     "text": [
      "\r",
      "48it [01:30,  1.89s/it]"
     ]
    },
    {
     "name": "stdout",
     "output_type": "stream",
     "text": [
      "0.029189009256703986\n",
      "0.03022877718079825\n",
      "0.16571153749649495\n",
      "0.026735600541636075\n",
      "0.04742371595381997\n"
     ]
    },
    {
     "name": "stderr",
     "output_type": "stream",
     "text": [
      "\r",
      "49it [01:32,  1.89s/it]"
     ]
    },
    {
     "name": "stdout",
     "output_type": "stream",
     "text": [
      "0.1364820954621046\n",
      "0.21652123726889433\n",
      "0.06621271221381773\n",
      "0.050051040468144084\n",
      "0.15621246312253137\n"
     ]
    },
    {
     "name": "stderr",
     "output_type": "stream",
     "text": [
      "\r",
      "50it [01:34,  1.89s/it]"
     ]
    },
    {
     "name": "stdout",
     "output_type": "stream",
     "text": [
      "0.0984648724303496\n",
      "0.01590252507744821\n",
      "0.03749962907014148\n",
      "0.10526350264685372\n",
      "0.009730691427757763\n"
     ]
    },
    {
     "name": "stderr",
     "output_type": "stream",
     "text": [
      "\r",
      "51it [01:36,  1.89s/it]"
     ]
    },
    {
     "name": "stdout",
     "output_type": "stream",
     "text": [
      "0.05000125676359202\n",
      "0.07209927006032146\n",
      "0.11295003303714024\n",
      "0.1927862682278183\n",
      "0.12283537001291195\n"
     ]
    },
    {
     "name": "stderr",
     "output_type": "stream",
     "text": [
      "\r",
      "52it [01:38,  1.89s/it]"
     ]
    },
    {
     "name": "stdout",
     "output_type": "stream",
     "text": [
      "0.10391133156603627\n",
      "0.09080907411762441\n",
      "0.057457558925665245\n",
      "0.04666974839118164\n",
      "0.20195100101058483\n"
     ]
    },
    {
     "name": "stderr",
     "output_type": "stream",
     "text": [
      "\r",
      "53it [01:40,  1.89s/it]"
     ]
    },
    {
     "name": "stdout",
     "output_type": "stream",
     "text": [
      "0.0071658394773144885\n",
      "0.008686725828071283\n",
      "0.02706760726898604\n",
      "0.05041900342309429\n",
      "0.016545861626500808\n"
     ]
    },
    {
     "name": "stderr",
     "output_type": "stream",
     "text": [
      "\r",
      "54it [01:42,  1.89s/it]"
     ]
    },
    {
     "name": "stdout",
     "output_type": "stream",
     "text": [
      "0.09571597208731682\n",
      "0.017874421424380952\n",
      "0.14205506892637196\n",
      "0.1421631886603953\n",
      "0.17096001299404068\n"
     ]
    },
    {
     "name": "stderr",
     "output_type": "stream",
     "text": [
      "\r",
      "55it [01:44,  1.90s/it]"
     ]
    },
    {
     "name": "stdout",
     "output_type": "stream",
     "text": [
      "0.033540359512567564\n",
      "0.018661643153093665\n",
      "0.06969677558885283\n",
      "0.014838211706391762\n",
      "0.054143782160048275\n"
     ]
    },
    {
     "name": "stderr",
     "output_type": "stream",
     "text": [
      "\r",
      "56it [01:45,  1.90s/it]"
     ]
    },
    {
     "name": "stdout",
     "output_type": "stream",
     "text": [
      "0.006714861653344294\n",
      "0.03596299476101673\n",
      "0.09345970534129491\n",
      "0.03843071484680891\n",
      "0.12233724016254316\n"
     ]
    },
    {
     "name": "stderr",
     "output_type": "stream",
     "text": [
      "\r",
      "57it [01:47,  1.91s/it]"
     ]
    },
    {
     "name": "stdout",
     "output_type": "stream",
     "text": [
      "0.18604794029168276\n",
      "0.10061421942754126\n",
      "0.10524333387734604\n",
      "0.08492929900593209\n",
      "0.059067904372117945\n"
     ]
    },
    {
     "name": "stderr",
     "output_type": "stream",
     "text": [
      "\r",
      "58it [01:49,  1.90s/it]"
     ]
    },
    {
     "name": "stdout",
     "output_type": "stream",
     "text": [
      "0.10158746325926732\n",
      "0.06233974460728808\n",
      "0.09800913430265012\n",
      "0.11183620971919601\n",
      "0.10098179668749126\n"
     ]
    },
    {
     "name": "stderr",
     "output_type": "stream",
     "text": [
      "\r",
      "59it [01:51,  1.89s/it]"
     ]
    },
    {
     "name": "stdout",
     "output_type": "stream",
     "text": [
      "0.11156780365699791\n",
      "0.08089218668707868\n",
      "0.04307428216559295\n",
      "0.05891198695625778\n",
      "0.03152283631007855\n"
     ]
    },
    {
     "name": "stderr",
     "output_type": "stream",
     "text": [
      "\r",
      "60it [01:53,  1.91s/it]"
     ]
    },
    {
     "name": "stdout",
     "output_type": "stream",
     "text": [
      "0.10559579690545565\n",
      "0.0025118998451433175\n",
      "0.004172388194276502\n",
      "0.024201498732546865\n",
      "0.26146917546595994\n"
     ]
    },
    {
     "name": "stderr",
     "output_type": "stream",
     "text": [
      "\r",
      "61it [01:55,  1.91s/it]"
     ]
    },
    {
     "name": "stdout",
     "output_type": "stream",
     "text": [
      "0.0833166587283781\n",
      "0.038943756208191856\n",
      "0.14077262604242372\n",
      "0.1504495641723299\n",
      "0.12521980931305682\n"
     ]
    },
    {
     "name": "stderr",
     "output_type": "stream",
     "text": [
      "\r",
      "62it [01:57,  1.93s/it]"
     ]
    },
    {
     "name": "stdout",
     "output_type": "stream",
     "text": [
      "0.10054809964970789\n",
      "0.15590911161641283\n",
      "0.06838114967982598\n",
      "0.2914667575595823\n",
      "0.13525738366741916\n"
     ]
    },
    {
     "name": "stderr",
     "output_type": "stream",
     "text": [
      "\r",
      "63it [01:59,  1.92s/it]"
     ]
    },
    {
     "name": "stdout",
     "output_type": "stream",
     "text": [
      "0.02500119771664124\n",
      "0.026781101623364167\n",
      "0.0942655407955533\n",
      "0.026047576028734767\n",
      "0.05461289703904542\n"
     ]
    },
    {
     "name": "stderr",
     "output_type": "stream",
     "text": [
      "\r",
      "64it [02:01,  1.92s/it]"
     ]
    },
    {
     "name": "stdout",
     "output_type": "stream",
     "text": [
      "0.029002486152890083\n",
      "0.02773899108207218\n",
      "0.08815195053553565\n",
      "0.012221824555292152\n",
      "0.03855483028039273\n"
     ]
    },
    {
     "name": "stderr",
     "output_type": "stream",
     "text": [
      "\r",
      "65it [02:03,  1.92s/it]"
     ]
    },
    {
     "name": "stdout",
     "output_type": "stream",
     "text": [
      "0.057182274173855296\n",
      "0.012039289308377877\n",
      "0.07440024571052925\n",
      "0.04188271128701148\n",
      "0.1618058371167366\n"
     ]
    },
    {
     "name": "stderr",
     "output_type": "stream",
     "text": [
      "\r",
      "66it [02:05,  1.93s/it]"
     ]
    },
    {
     "name": "stdout",
     "output_type": "stream",
     "text": [
      "0.21479000695758896\n",
      "0.014562969019767284\n",
      "0.08298446964016594\n",
      "0.02000369849351718\n",
      "0.06852287723141019\n"
     ]
    },
    {
     "name": "stderr",
     "output_type": "stream",
     "text": [
      "\r",
      "67it [02:07,  1.92s/it]"
     ]
    },
    {
     "name": "stdout",
     "output_type": "stream",
     "text": [
      "0.06809008963876019\n",
      "0.07384253295814028\n",
      "0.084360322117931\n",
      "0.01926248339471317\n",
      "0.08089250157861458\n"
     ]
    },
    {
     "name": "stderr",
     "output_type": "stream",
     "text": [
      "\r",
      "68it [02:08,  1.91s/it]"
     ]
    },
    {
     "name": "stdout",
     "output_type": "stream",
     "text": [
      "0.03899896270649555\n",
      "0.00220878722463301\n",
      "0.0474387984416242\n",
      "0.11173596418199293\n",
      "0.20096007976107746\n"
     ]
    },
    {
     "name": "stderr",
     "output_type": "stream",
     "text": [
      "\r",
      "69it [02:10,  1.90s/it]"
     ]
    },
    {
     "name": "stdout",
     "output_type": "stream",
     "text": [
      "0.05098580789490004\n",
      "0.07196173807555306\n",
      "0.03853522961941506\n",
      "0.15240973491639467\n",
      "0.07858088311464563\n"
     ]
    },
    {
     "name": "stderr",
     "output_type": "stream",
     "text": [
      "\r",
      "70it [02:12,  1.89s/it]"
     ]
    },
    {
     "name": "stdout",
     "output_type": "stream",
     "text": [
      "0.062049710467183765\n",
      "0.044857715747494614\n",
      "0.03371135453006452\n",
      "0.16814141670556307\n",
      "0.11569940354144484\n"
     ]
    },
    {
     "name": "stderr",
     "output_type": "stream",
     "text": [
      "\r",
      "71it [02:14,  1.89s/it]"
     ]
    },
    {
     "name": "stdout",
     "output_type": "stream",
     "text": [
      "0.0004611163721596247\n",
      "0.06775491380104123\n",
      "0.003589257556816038\n",
      "0.1331945643257506\n",
      "0.053311797111445125\n"
     ]
    },
    {
     "name": "stderr",
     "output_type": "stream",
     "text": [
      "\r",
      "72it [02:16,  1.88s/it]"
     ]
    },
    {
     "name": "stdout",
     "output_type": "stream",
     "text": [
      "0.07893975084762321\n",
      "0.10140388085305625\n",
      "0.058460840017292785\n",
      "0.16330328648735995\n",
      "0.025488507975742425\n"
     ]
    },
    {
     "name": "stderr",
     "output_type": "stream",
     "text": [
      "\r",
      "73it [02:18,  1.89s/it]"
     ]
    },
    {
     "name": "stdout",
     "output_type": "stream",
     "text": [
      "0.05596880665436369\n",
      "0.1064014532629626\n",
      "0.10228708682011729\n",
      "0.2087958675164272\n",
      "0.13601722529677787\n"
     ]
    },
    {
     "name": "stderr",
     "output_type": "stream",
     "text": [
      "\r",
      "74it [02:20,  1.89s/it]"
     ]
    },
    {
     "name": "stdout",
     "output_type": "stream",
     "text": [
      "0.14682612883493626\n",
      "0.0077344006257826755\n",
      "0.01007386735406138\n",
      "0.10242868269864838\n",
      "0.045693526415689106\n"
     ]
    },
    {
     "name": "stderr",
     "output_type": "stream",
     "text": [
      "\r",
      "75it [02:22,  1.89s/it]"
     ]
    },
    {
     "name": "stdout",
     "output_type": "stream",
     "text": [
      "0.038686356266375906\n",
      "0.04287856716668209\n",
      "0.15421239735413209\n",
      "0.13148362483983722\n",
      "0.05607550574432571\n"
     ]
    },
    {
     "name": "stderr",
     "output_type": "stream",
     "text": [
      "\r",
      "76it [02:24,  1.89s/it]"
     ]
    },
    {
     "name": "stdout",
     "output_type": "stream",
     "text": [
      "0.0074400766624718034\n",
      "0.10043952420610675\n",
      "0.08516691668967742\n",
      "0.03770783047591453\n",
      "0.026707902109162646\n"
     ]
    },
    {
     "name": "stderr",
     "output_type": "stream",
     "text": [
      "\r",
      "77it [02:25,  1.89s/it]"
     ]
    },
    {
     "name": "stdout",
     "output_type": "stream",
     "text": [
      "0.03465745688517801\n",
      "0.1613617534819871\n",
      "0.10337983325259033\n",
      "0.1356571808909533\n",
      "0.09125572749530943\n"
     ]
    },
    {
     "name": "stderr",
     "output_type": "stream",
     "text": [
      "\r",
      "78it [02:27,  1.89s/it]"
     ]
    },
    {
     "name": "stdout",
     "output_type": "stream",
     "text": [
      "0.012091822853514296\n",
      "0.06369028619122435\n",
      "0.03039038191996999\n",
      "0.03715942502782349\n",
      "0.012130188547074839\n"
     ]
    },
    {
     "name": "stderr",
     "output_type": "stream",
     "text": [
      "\r",
      "79it [02:29,  1.88s/it]"
     ]
    },
    {
     "name": "stdout",
     "output_type": "stream",
     "text": [
      "0.13763226808301263\n",
      "0.04683621811490894\n",
      "0.06732506837211953\n",
      "0.1366578078644622\n",
      "0.058779951304967486\n"
     ]
    },
    {
     "name": "stderr",
     "output_type": "stream",
     "text": [
      "\r",
      "80it [02:31,  1.89s/it]"
     ]
    },
    {
     "name": "stdout",
     "output_type": "stream",
     "text": [
      "0.07977026159905964\n",
      "0.09136737422905311\n",
      "0.026400656513037097\n",
      "0.10088354994518614\n",
      "0.12102195580832723\n"
     ]
    },
    {
     "name": "stderr",
     "output_type": "stream",
     "text": [
      "\r",
      "81it [02:33,  1.90s/it]"
     ]
    },
    {
     "name": "stdout",
     "output_type": "stream",
     "text": [
      "0.04706331749354696\n",
      "0.015215748192914338\n",
      "0.12522095288162868\n",
      "0.016954534543204215\n",
      "0.1529706248856528\n"
     ]
    },
    {
     "name": "stderr",
     "output_type": "stream",
     "text": [
      "\r",
      "82it [02:35,  1.93s/it]"
     ]
    },
    {
     "name": "stdout",
     "output_type": "stream",
     "text": [
      "0.042791431629072375\n",
      "0.07818837951112435\n",
      "0.025199673828651504\n",
      "0.04802419677175781\n",
      "0.18775523131688143\n"
     ]
    },
    {
     "name": "stderr",
     "output_type": "stream",
     "text": [
      "\r",
      "83it [02:37,  1.92s/it]"
     ]
    },
    {
     "name": "stdout",
     "output_type": "stream",
     "text": [
      "0.008885576482239399\n",
      "0.18985984098026623\n",
      "0.03945245113482937\n",
      "0.01668562150890119\n",
      "0.08248393742644419\n"
     ]
    },
    {
     "name": "stderr",
     "output_type": "stream",
     "text": [
      "\r",
      "84it [02:39,  1.92s/it]"
     ]
    },
    {
     "name": "stdout",
     "output_type": "stream",
     "text": [
      "0.015515161216634807\n",
      "0.08670830620652882\n",
      "0.13048288174969153\n",
      "0.024129135283033773\n",
      "0.045321049128559686\n"
     ]
    },
    {
     "name": "stderr",
     "output_type": "stream",
     "text": [
      "\r",
      "85it [02:41,  1.92s/it]"
     ]
    },
    {
     "name": "stdout",
     "output_type": "stream",
     "text": [
      "0.0515489191799095\n",
      "0.2545010107914427\n",
      "0.07200526747426138\n",
      "0.09603828918642804\n",
      "0.09171453639386586\n"
     ]
    },
    {
     "name": "stderr",
     "output_type": "stream",
     "text": [
      "\r",
      "86it [02:43,  1.93s/it]"
     ]
    },
    {
     "name": "stdout",
     "output_type": "stream",
     "text": [
      "0.001607904396881216\n",
      "0.023689160517962618\n",
      "0.1805510126148469\n",
      "0.16806142031901747\n",
      "0.047581174401216016\n"
     ]
    },
    {
     "name": "stderr",
     "output_type": "stream",
     "text": [
      "\r",
      "87it [02:45,  1.92s/it]"
     ]
    },
    {
     "name": "stdout",
     "output_type": "stream",
     "text": [
      "0.0060475870006666925\n",
      "0.05616164933355268\n",
      "0.07446561129134152\n",
      "0.13598136532448712\n",
      "0.005938327642655644\n"
     ]
    },
    {
     "name": "stderr",
     "output_type": "stream",
     "text": [
      "\r",
      "88it [02:46,  1.91s/it]"
     ]
    },
    {
     "name": "stdout",
     "output_type": "stream",
     "text": [
      "0.06411323081430335\n",
      "0.11775695248901373\n",
      "0.09075244802664113\n",
      "0.19853654215141037\n",
      "0.2888256422845756\n"
     ]
    },
    {
     "name": "stderr",
     "output_type": "stream",
     "text": [
      "\r",
      "89it [02:48,  1.91s/it]"
     ]
    },
    {
     "name": "stdout",
     "output_type": "stream",
     "text": [
      "0.17877847658525883\n",
      "0.007421105439453013\n",
      "0.017960593358890883\n",
      "0.09426050038400666\n",
      "0.020608638742897097\n"
     ]
    },
    {
     "name": "stderr",
     "output_type": "stream",
     "text": [
      "\r",
      "90it [02:50,  1.90s/it]"
     ]
    },
    {
     "name": "stdout",
     "output_type": "stream",
     "text": [
      "0.1472994834679449\n",
      "0.06579979506602482\n",
      "0.16266041800453207\n",
      "0.048256784467580326\n",
      "0.0482793515300714\n"
     ]
    },
    {
     "name": "stderr",
     "output_type": "stream",
     "text": [
      "\r",
      "91it [02:52,  1.90s/it]"
     ]
    },
    {
     "name": "stdout",
     "output_type": "stream",
     "text": [
      "0.17918207990499044\n",
      "0.02128480358365346\n",
      "0.0053777743818312395\n",
      "7.139547046740617e-05\n",
      "0.06944910051220214\n"
     ]
    },
    {
     "name": "stderr",
     "output_type": "stream",
     "text": [
      "\r",
      "92it [02:54,  1.89s/it]"
     ]
    },
    {
     "name": "stdout",
     "output_type": "stream",
     "text": [
      "0.059511478938926256\n",
      "0.19146156601607395\n",
      "0.03386820225903843\n",
      "0.068153400241526\n",
      "0.05002286387077999\n"
     ]
    },
    {
     "name": "stderr",
     "output_type": "stream",
     "text": [
      "\r",
      "93it [02:56,  1.89s/it]"
     ]
    },
    {
     "name": "stdout",
     "output_type": "stream",
     "text": [
      "0.024718920482429577\n",
      "0.08943502749897363\n",
      "0.052958710150416116\n",
      "0.04960895412356524\n",
      "0.021021089779527057\n"
     ]
    },
    {
     "name": "stderr",
     "output_type": "stream",
     "text": [
      "\r",
      "94it [02:58,  1.89s/it]"
     ]
    },
    {
     "name": "stdout",
     "output_type": "stream",
     "text": [
      "0.12019031690471427\n",
      "0.05646017169016117\n",
      "0.06733126460625762\n",
      "0.07699375416858571\n",
      "0.07176938637099782\n"
     ]
    },
    {
     "name": "stderr",
     "output_type": "stream",
     "text": [
      "\r",
      "95it [03:00,  1.89s/it]"
     ]
    },
    {
     "name": "stdout",
     "output_type": "stream",
     "text": [
      "0.0181741365130966\n",
      "0.14891499960528204\n",
      "0.10472139012958137\n",
      "0.14087931399617065\n",
      "0.07347372401367994\n"
     ]
    },
    {
     "name": "stderr",
     "output_type": "stream",
     "text": [
      "\r",
      "96it [03:02,  1.88s/it]"
     ]
    },
    {
     "name": "stdout",
     "output_type": "stream",
     "text": [
      "0.2116686632113309\n",
      "0.015931924899099403\n",
      "0.07513877563152736\n",
      "0.07297262368948526\n",
      "0.010199097189134039\n"
     ]
    },
    {
     "name": "stderr",
     "output_type": "stream",
     "text": [
      "\r",
      "97it [03:03,  1.87s/it]"
     ]
    },
    {
     "name": "stdout",
     "output_type": "stream",
     "text": [
      "0.04634816296940064\n",
      "0.08997557209161891\n",
      "0.09051318181219832\n",
      "0.13449116120391144\n",
      "0.03572441799288372\n"
     ]
    },
    {
     "name": "stderr",
     "output_type": "stream",
     "text": [
      "\r",
      "98it [03:05,  1.87s/it]"
     ]
    },
    {
     "name": "stdout",
     "output_type": "stream",
     "text": [
      "0.0034755143676409362\n",
      "0.0956417716305238\n",
      "0.12890396841086355\n",
      "0.07362691917706564\n",
      "0.08060033211978934\n"
     ]
    },
    {
     "name": "stderr",
     "output_type": "stream",
     "text": [
      "\r",
      "99it [03:07,  1.87s/it]"
     ]
    },
    {
     "name": "stdout",
     "output_type": "stream",
     "text": [
      "0.06447423239510884\n",
      "0.035832047056653826\n",
      "0.00077956025615474\n",
      "0.21970686303577583\n",
      "0.07959141668316501\n"
     ]
    },
    {
     "name": "stderr",
     "output_type": "stream",
     "text": [
      "\r",
      "100it [03:09,  1.90s/it]"
     ]
    },
    {
     "name": "stdout",
     "output_type": "stream",
     "text": [
      "0.06158422715121645\n",
      "0.11527688940085755\n",
      "0.05746805209814531\n",
      "0.11917847725251357\n",
      "0.16515676465500884\n"
     ]
    },
    {
     "name": "stderr",
     "output_type": "stream",
     "text": [
      "\r",
      "101it [03:11,  1.92s/it]"
     ]
    },
    {
     "name": "stdout",
     "output_type": "stream",
     "text": [
      "0.14711507553767977\n",
      "0.2031765089326154\n",
      "0.17288268084902297\n",
      "0.12079071031204283\n",
      "0.0003777020948841835\n"
     ]
    },
    {
     "name": "stderr",
     "output_type": "stream",
     "text": [
      "\r",
      "102it [03:13,  1.93s/it]"
     ]
    },
    {
     "name": "stdout",
     "output_type": "stream",
     "text": [
      "0.024087557392460286\n",
      "0.1939130408562647\n",
      "0.1094874806573215\n",
      "0.01894293293535651\n",
      "0.13867581211641708\n"
     ]
    },
    {
     "name": "stderr",
     "output_type": "stream",
     "text": [
      "\r",
      "103it [03:15,  1.92s/it]"
     ]
    },
    {
     "name": "stdout",
     "output_type": "stream",
     "text": [
      "0.0445486667574725\n",
      "0.18792568585310102\n",
      "0.1781851318035349\n",
      "0.014859750141716458\n",
      "0.15668567624712426\n"
     ]
    },
    {
     "name": "stderr",
     "output_type": "stream",
     "text": [
      "\r",
      "104it [03:17,  1.93s/it]"
     ]
    },
    {
     "name": "stdout",
     "output_type": "stream",
     "text": [
      "0.1199553124874194\n",
      "0.03158613390988923\n",
      "0.06177607642329062\n",
      "0.03890968951412435\n",
      "0.1002928512709379\n"
     ]
    },
    {
     "name": "stderr",
     "output_type": "stream",
     "text": [
      "\r",
      "105it [03:19,  1.93s/it]"
     ]
    },
    {
     "name": "stdout",
     "output_type": "stream",
     "text": [
      "0.24857053721040234\n",
      "0.16447481650612336\n",
      "0.09131106314897104\n",
      "0.017776580543133007\n",
      "0.011818326163882929\n"
     ]
    },
    {
     "name": "stderr",
     "output_type": "stream",
     "text": [
      "\r",
      "106it [03:21,  1.92s/it]"
     ]
    },
    {
     "name": "stdout",
     "output_type": "stream",
     "text": [
      "0.03455437313575272\n",
      "0.06952889015736789\n",
      "0.017146309602007078\n",
      "0.1864255520788667\n",
      "0.028316972861063047\n"
     ]
    },
    {
     "name": "stderr",
     "output_type": "stream",
     "text": [
      "\r",
      "107it [03:23,  1.92s/it]"
     ]
    },
    {
     "name": "stdout",
     "output_type": "stream",
     "text": [
      "0.053127026662192725\n",
      "0.029059615916546756\n",
      "0.030792243216299364\n",
      "0.06035602747740676\n",
      "0.14001639790889372\n"
     ]
    },
    {
     "name": "stderr",
     "output_type": "stream",
     "text": [
      "\r",
      "108it [03:25,  1.92s/it]"
     ]
    },
    {
     "name": "stdout",
     "output_type": "stream",
     "text": [
      "0.09223540365595886\n",
      "0.12587544931572486\n",
      "0.0008759671098856876\n",
      "0.006368777301272857\n",
      "0.020205873786167724\n"
     ]
    },
    {
     "name": "stderr",
     "output_type": "stream",
     "text": [
      "\r",
      "109it [03:26,  1.92s/it]"
     ]
    },
    {
     "name": "stdout",
     "output_type": "stream",
     "text": [
      "0.03220825991382952\n",
      "0.0750164827483525\n",
      "0.09104020292869994\n",
      "0.2702021192499808\n",
      "0.02272843159236193\n"
     ]
    },
    {
     "name": "stderr",
     "output_type": "stream",
     "text": [
      "\r",
      "110it [03:28,  1.91s/it]"
     ]
    },
    {
     "name": "stdout",
     "output_type": "stream",
     "text": [
      "0.04479178684882683\n",
      "0.1989933089878649\n",
      "0.06884517294806851\n",
      "0.03358010800885898\n",
      "0.09422588465878476\n"
     ]
    },
    {
     "name": "stderr",
     "output_type": "stream",
     "text": [
      "\r",
      "111it [03:30,  1.91s/it]"
     ]
    },
    {
     "name": "stdout",
     "output_type": "stream",
     "text": [
      "0.19448069607506602\n",
      "0.08782354173341586\n",
      "0.06118591560342806\n",
      "0.047190668906559714\n",
      "0.10216131712979991\n"
     ]
    },
    {
     "name": "stderr",
     "output_type": "stream",
     "text": [
      "\r",
      "112it [03:32,  1.90s/it]"
     ]
    },
    {
     "name": "stdout",
     "output_type": "stream",
     "text": [
      "0.04094103417566139\n",
      "0.005370311399171495\n",
      "0.13361474029724194\n",
      "0.021503566394677227\n",
      "0.013781763118462274\n"
     ]
    },
    {
     "name": "stderr",
     "output_type": "stream",
     "text": [
      "\r",
      "113it [03:34,  1.90s/it]"
     ]
    },
    {
     "name": "stdout",
     "output_type": "stream",
     "text": [
      "0.13035177991019897\n",
      "0.016316586498732657\n",
      "0.10328734312914563\n",
      "0.05578785111758111\n",
      "0.184039711293681\n"
     ]
    },
    {
     "name": "stderr",
     "output_type": "stream",
     "text": [
      "\r",
      "114it [03:36,  1.89s/it]"
     ]
    },
    {
     "name": "stdout",
     "output_type": "stream",
     "text": [
      "0.023609445208168628\n",
      "0.04030059870963318\n",
      "0.13184395624633352\n",
      "0.06818241314949418\n",
      "0.07775749200423804\n"
     ]
    },
    {
     "name": "stderr",
     "output_type": "stream",
     "text": [
      "\r",
      "115it [03:38,  1.90s/it]"
     ]
    },
    {
     "name": "stdout",
     "output_type": "stream",
     "text": [
      "0.10408748280680882\n",
      "0.07275862525662041\n",
      "0.08897093472267081\n",
      "0.1068488951446872\n",
      "0.03382109205623726\n"
     ]
    },
    {
     "name": "stderr",
     "output_type": "stream",
     "text": [
      "\r",
      "116it [03:40,  1.89s/it]"
     ]
    },
    {
     "name": "stdout",
     "output_type": "stream",
     "text": [
      "0.020060387909461106\n",
      "0.0598800550742467\n",
      "0.1371273671785306\n",
      "0.10244101336492849\n",
      "0.15098532201697723\n"
     ]
    },
    {
     "name": "stderr",
     "output_type": "stream",
     "text": [
      "\r",
      "117it [03:42,  1.88s/it]"
     ]
    },
    {
     "name": "stdout",
     "output_type": "stream",
     "text": [
      "0.00017488739423515557\n",
      "0.027107228236954096\n",
      "0.047959588234633005\n",
      "0.051548751179142066\n",
      "0.017824497780962997\n"
     ]
    },
    {
     "name": "stderr",
     "output_type": "stream",
     "text": [
      "\r",
      "118it [03:43,  1.88s/it]"
     ]
    },
    {
     "name": "stdout",
     "output_type": "stream",
     "text": [
      "0.2664815436793368\n",
      "0.008390478145931685\n",
      "0.10946887383552553\n",
      "0.06743758401719069\n",
      "0.006077099879001171\n"
     ]
    },
    {
     "name": "stderr",
     "output_type": "stream",
     "text": [
      "\r",
      "119it [03:45,  1.88s/it]"
     ]
    },
    {
     "name": "stdout",
     "output_type": "stream",
     "text": [
      "0.013924214242291524\n",
      "0.03654612121600988\n",
      "0.0919694308746063\n",
      "0.0029774213079665594\n",
      "0.20757967251929343\n"
     ]
    },
    {
     "name": "stderr",
     "output_type": "stream",
     "text": [
      "\r",
      "120it [03:47,  1.90s/it]"
     ]
    },
    {
     "name": "stdout",
     "output_type": "stream",
     "text": [
      "0.1220195122085561\n",
      "0.0005330968035869366\n",
      "0.22817906833912405\n",
      "0.07712590663179753\n",
      "0.13516550791675566\n"
     ]
    },
    {
     "name": "stderr",
     "output_type": "stream",
     "text": [
      "\r",
      "121it [03:49,  1.90s/it]"
     ]
    },
    {
     "name": "stdout",
     "output_type": "stream",
     "text": [
      "0.013180073178450389\n",
      "0.05239217335514598\n",
      "0.15485799255894733\n",
      "0.05651482174992718\n",
      "0.12478296082768546\n"
     ]
    },
    {
     "name": "stderr",
     "output_type": "stream",
     "text": [
      "\r",
      "122it [03:51,  1.90s/it]"
     ]
    },
    {
     "name": "stdout",
     "output_type": "stream",
     "text": [
      "0.05477386467449657\n",
      "0.04998283825974062\n",
      "0.1215326110701187\n",
      "0.06314039073116211\n",
      "0.04500210032134108\n"
     ]
    },
    {
     "name": "stderr",
     "output_type": "stream",
     "text": [
      "\r",
      "123it [03:53,  1.90s/it]"
     ]
    },
    {
     "name": "stdout",
     "output_type": "stream",
     "text": [
      "0.24398732164465123\n",
      "0.04477062238146393\n",
      "0.04556667507569973\n",
      "0.07039833365003832\n",
      "0.03324229772882333\n"
     ]
    },
    {
     "name": "stderr",
     "output_type": "stream",
     "text": [
      "\r",
      "124it [03:55,  1.91s/it]"
     ]
    },
    {
     "name": "stdout",
     "output_type": "stream",
     "text": [
      "0.08931737303757536\n",
      "0.028559755805033078\n",
      "0.028187339242901552\n",
      "0.008173535953231639\n",
      "0.07855432242713932\n"
     ]
    },
    {
     "name": "stderr",
     "output_type": "stream",
     "text": [
      "\r",
      "125it [03:57,  1.91s/it]"
     ]
    },
    {
     "name": "stdout",
     "output_type": "stream",
     "text": [
      "0.03479518602685373\n",
      "0.021201894348160683\n",
      "0.007723808179741432\n",
      "0.014619224033936366\n",
      "0.05147977116712648\n"
     ]
    },
    {
     "name": "stderr",
     "output_type": "stream",
     "text": [
      "\r",
      "126it [03:59,  1.91s/it]"
     ]
    },
    {
     "name": "stdout",
     "output_type": "stream",
     "text": [
      "0.11271369759771882\n",
      "0.11750500649123947\n",
      "0.0671052961800294\n",
      "0.13484755598171627\n",
      "0.01814308864892222\n"
     ]
    },
    {
     "name": "stderr",
     "output_type": "stream",
     "text": [
      "\r",
      "127it [04:01,  1.91s/it]"
     ]
    },
    {
     "name": "stdout",
     "output_type": "stream",
     "text": [
      "0.08364910804356715\n",
      "0.019708167304783822\n",
      "0.047309466438735966\n",
      "0.10455160585978995\n",
      "0.03408084526977994\n"
     ]
    },
    {
     "name": "stderr",
     "output_type": "stream",
     "text": [
      "\r",
      "128it [04:03,  1.91s/it]"
     ]
    },
    {
     "name": "stdout",
     "output_type": "stream",
     "text": [
      "0.1389428957809249\n",
      "0.1700640146444644\n",
      "0.14470746988203587\n",
      "0.019342337944960878\n",
      "0.030854897363561475\n"
     ]
    },
    {
     "name": "stderr",
     "output_type": "stream",
     "text": [
      "\r",
      "129it [04:04,  1.91s/it]"
     ]
    },
    {
     "name": "stdout",
     "output_type": "stream",
     "text": [
      "0.005350446521799241\n",
      "0.07711141328660161\n",
      "0.07066030367757901\n",
      "0.08204400351309665\n",
      "0.01046987881719411\n"
     ]
    },
    {
     "name": "stderr",
     "output_type": "stream",
     "text": [
      "\r",
      "130it [04:06,  1.90s/it]"
     ]
    },
    {
     "name": "stdout",
     "output_type": "stream",
     "text": [
      "0.1782647497298096\n",
      "0.14372626042225548\n",
      "0.18562311400274684\n",
      "0.01530577383627284\n",
      "0.0570117988585634\n"
     ]
    },
    {
     "name": "stderr",
     "output_type": "stream",
     "text": [
      "\r",
      "131it [04:08,  1.90s/it]"
     ]
    },
    {
     "name": "stdout",
     "output_type": "stream",
     "text": [
      "0.005694937166858884\n",
      "0.07818113601415266\n",
      "0.11099276251497721\n",
      "0.10775621582780114\n",
      "0.018541131134059287\n"
     ]
    },
    {
     "name": "stderr",
     "output_type": "stream",
     "text": [
      "\r",
      "132it [04:10,  1.88s/it]"
     ]
    },
    {
     "name": "stdout",
     "output_type": "stream",
     "text": [
      "0.11210882021719847\n",
      "0.07386669042895944\n",
      "0.1832035258480731\n",
      "0.026108001074351322\n",
      "0.06518211149523168\n"
     ]
    },
    {
     "name": "stderr",
     "output_type": "stream",
     "text": [
      "\r",
      "133it [04:12,  1.88s/it]"
     ]
    },
    {
     "name": "stdout",
     "output_type": "stream",
     "text": [
      "0.009816503317473874\n",
      "0.06659077707752027\n",
      "0.0014193606121443852\n",
      "0.016572798723963823\n",
      "0.07144495869167548\n"
     ]
    },
    {
     "name": "stderr",
     "output_type": "stream",
     "text": [
      "\r",
      "134it [04:14,  1.88s/it]"
     ]
    },
    {
     "name": "stdout",
     "output_type": "stream",
     "text": [
      "0.13610556253266398\n",
      "0.11573508332338195\n",
      "0.003203504994881425\n",
      "0.01877524528745381\n",
      "0.09396709503296628\n"
     ]
    },
    {
     "name": "stderr",
     "output_type": "stream",
     "text": [
      "\r",
      "135it [04:16,  1.87s/it]"
     ]
    },
    {
     "name": "stdout",
     "output_type": "stream",
     "text": [
      "0.057641855043544576\n",
      "0.1689534155433799\n",
      "0.06950499242853975\n",
      "0.07030727279079023\n",
      "0.057598455550583766\n"
     ]
    },
    {
     "name": "stderr",
     "output_type": "stream",
     "text": [
      "\r",
      "136it [04:18,  1.87s/it]"
     ]
    },
    {
     "name": "stdout",
     "output_type": "stream",
     "text": [
      "0.13116286119628806\n",
      "0.04270453202994595\n",
      "0.08835683347149241\n",
      "0.004375343095222565\n",
      "0.14698101644480033\n"
     ]
    },
    {
     "name": "stderr",
     "output_type": "stream",
     "text": [
      "\r",
      "137it [04:19,  1.86s/it]"
     ]
    },
    {
     "name": "stdout",
     "output_type": "stream",
     "text": [
      "0.011389880612811928\n",
      "0.19434598319861981\n",
      "0.014956584816192074\n",
      "0.2188070249492199\n",
      "0.05926372908891663\n"
     ]
    },
    {
     "name": "stderr",
     "output_type": "stream",
     "text": [
      "\r",
      "138it [04:21,  1.87s/it]"
     ]
    },
    {
     "name": "stdout",
     "output_type": "stream",
     "text": [
      "0.02240426492371618\n",
      "0.23377492197790076\n",
      "0.09878181872263596\n",
      "0.0032697556142221914\n",
      "0.08983951315467925\n"
     ]
    },
    {
     "name": "stderr",
     "output_type": "stream",
     "text": [
      "\r",
      "139it [04:23,  1.86s/it]"
     ]
    },
    {
     "name": "stdout",
     "output_type": "stream",
     "text": [
      "0.001450827602779266\n",
      "0.12032496930605806\n",
      "0.17658160986506535\n",
      "0.0946103995704597\n",
      "0.1699907197098601\n"
     ]
    },
    {
     "name": "stderr",
     "output_type": "stream",
     "text": [
      "\r",
      "140it [04:25,  1.89s/it]"
     ]
    },
    {
     "name": "stdout",
     "output_type": "stream",
     "text": [
      "0.18232869680093128\n",
      "0.08581576786042677\n",
      "0.028181950462936825\n",
      "0.00900144114952274\n",
      "0.23663482264757768\n"
     ]
    },
    {
     "name": "stderr",
     "output_type": "stream",
     "text": [
      "\r",
      "141it [04:27,  1.90s/it]"
     ]
    },
    {
     "name": "stdout",
     "output_type": "stream",
     "text": [
      "0.08918408058019413\n",
      "0.030678298556558417\n",
      "0.08109589208018803\n",
      "0.042371391447920626\n",
      "0.08311966968032763\n"
     ]
    },
    {
     "name": "stderr",
     "output_type": "stream",
     "text": [
      "\r",
      "142it [04:29,  1.91s/it]"
     ]
    },
    {
     "name": "stdout",
     "output_type": "stream",
     "text": [
      "0.00262722073892348\n",
      "0.14576203528684936\n",
      "0.24836703994669793\n",
      "0.045239242507918435\n",
      "0.03776217107059652\n"
     ]
    },
    {
     "name": "stderr",
     "output_type": "stream",
     "text": [
      "\r",
      "143it [04:31,  1.91s/it]"
     ]
    },
    {
     "name": "stdout",
     "output_type": "stream",
     "text": [
      "0.1129934054808543\n",
      "0.0213849192524644\n",
      "0.08928990399575606\n",
      "0.006274820259250001\n",
      "0.0017895524082749753\n"
     ]
    },
    {
     "name": "stderr",
     "output_type": "stream",
     "text": [
      "\r",
      "144it [04:33,  1.91s/it]"
     ]
    },
    {
     "name": "stdout",
     "output_type": "stream",
     "text": [
      "0.132990521027449\n",
      "0.05080279079209811\n",
      "0.14871383726777535\n",
      "0.05232093263563364\n",
      "0.17366195368859008\n"
     ]
    },
    {
     "name": "stderr",
     "output_type": "stream",
     "text": [
      "\r",
      "145it [04:35,  1.91s/it]"
     ]
    },
    {
     "name": "stdout",
     "output_type": "stream",
     "text": [
      "0.20803196765710946\n",
      "0.05672237222832164\n",
      "0.034003404491125086\n",
      "0.04076423270975823\n",
      "0.041484102243949154\n"
     ]
    },
    {
     "name": "stderr",
     "output_type": "stream",
     "text": [
      "\r",
      "146it [04:37,  1.91s/it]"
     ]
    },
    {
     "name": "stdout",
     "output_type": "stream",
     "text": [
      "0.004416982063712536\n",
      "0.03150466249145142\n",
      "0.1107905828767827\n",
      "0.007623759822605808\n",
      "0.1593804028951309\n"
     ]
    },
    {
     "name": "stderr",
     "output_type": "stream",
     "text": [
      "\r",
      "147it [04:38,  1.91s/it]"
     ]
    },
    {
     "name": "stdout",
     "output_type": "stream",
     "text": [
      "0.0791902500032155\n",
      "0.026403826709076945\n",
      "0.09063512734366368\n",
      "0.005969525077087131\n",
      "0.13730849917048954\n"
     ]
    },
    {
     "name": "stderr",
     "output_type": "stream",
     "text": [
      "\r",
      "148it [04:40,  1.91s/it]"
     ]
    },
    {
     "name": "stdout",
     "output_type": "stream",
     "text": [
      "0.018276046478676162\n",
      "0.05918401008704008\n",
      "0.04370448634340378\n",
      "0.11830166962650611\n",
      "0.009195856758865526\n"
     ]
    },
    {
     "name": "stderr",
     "output_type": "stream",
     "text": [
      "\r",
      "149it [04:42,  1.91s/it]"
     ]
    },
    {
     "name": "stdout",
     "output_type": "stream",
     "text": [
      "0.03602674021551486\n",
      "0.22307142885907433\n",
      "0.15950575519554677\n",
      "0.007491981463384082\n",
      "0.1109673986136449\n"
     ]
    },
    {
     "name": "stderr",
     "output_type": "stream",
     "text": [
      "\r",
      "150it [04:44,  1.91s/it]"
     ]
    },
    {
     "name": "stdout",
     "output_type": "stream",
     "text": [
      "0.03613769995630483\n",
      "0.05600447370473253\n",
      "0.12835544446267919\n",
      "0.06487276529272473\n",
      "0.05565907150303202\n"
     ]
    },
    {
     "name": "stderr",
     "output_type": "stream",
     "text": [
      "\r",
      "151it [04:46,  1.92s/it]"
     ]
    },
    {
     "name": "stdout",
     "output_type": "stream",
     "text": [
      "0.13169997294980257\n",
      "0.15449880327363152\n",
      "0.06138466864333175\n",
      "0.04146361355551463\n",
      "0.07795134059633621\n"
     ]
    },
    {
     "name": "stderr",
     "output_type": "stream",
     "text": [
      "\r",
      "152it [04:48,  1.90s/it]"
     ]
    },
    {
     "name": "stdout",
     "output_type": "stream",
     "text": [
      "0.028197795460149395\n",
      "0.05349741705671066\n",
      "0.025101340531748673\n",
      "0.05320262366384783\n",
      "0.0460603103544279\n"
     ]
    },
    {
     "name": "stderr",
     "output_type": "stream",
     "text": [
      "\r",
      "153it [04:50,  1.91s/it]"
     ]
    },
    {
     "name": "stdout",
     "output_type": "stream",
     "text": [
      "0.045151217965395285\n",
      "0.14365594681682411\n",
      "0.04261247002566976\n",
      "0.08466435390624791\n",
      "0.0036719985278193842\n"
     ]
    },
    {
     "name": "stderr",
     "output_type": "stream",
     "text": [
      "\r",
      "154it [04:52,  1.90s/it]"
     ]
    },
    {
     "name": "stdout",
     "output_type": "stream",
     "text": [
      "0.18809748462671777\n",
      "0.10855609469796015\n",
      "0.08911667626227404\n",
      "0.05174955443597212\n",
      "0.11001500512058665\n"
     ]
    },
    {
     "name": "stderr",
     "output_type": "stream",
     "text": [
      "\r",
      "155it [04:54,  1.90s/it]"
     ]
    },
    {
     "name": "stdout",
     "output_type": "stream",
     "text": [
      "0.04707689357736688\n",
      "0.0881683971865838\n",
      "0.1498840271820394\n",
      "0.009307207145640217\n",
      "0.019516941483284776\n"
     ]
    },
    {
     "name": "stderr",
     "output_type": "stream",
     "text": [
      "\r",
      "156it [04:56,  1.88s/it]"
     ]
    },
    {
     "name": "stdout",
     "output_type": "stream",
     "text": [
      "0.03414483117139232\n",
      "0.10249621922800545\n",
      "0.14893756505461925\n",
      "0.09611563534903983\n",
      "0.03996253006804332\n"
     ]
    },
    {
     "name": "stderr",
     "output_type": "stream",
     "text": [
      "\r",
      "157it [04:57,  1.88s/it]"
     ]
    },
    {
     "name": "stdout",
     "output_type": "stream",
     "text": [
      "0.15284576086400062\n",
      "0.0006112651927303814\n",
      "0.23805035468611915\n",
      "0.0791371357041164\n",
      "0.014695859218453866\n"
     ]
    },
    {
     "name": "stderr",
     "output_type": "stream",
     "text": [
      "\r",
      "158it [04:59,  1.89s/it]"
     ]
    },
    {
     "name": "stdout",
     "output_type": "stream",
     "text": [
      "0.03954971596076568\n",
      "0.178856389175289\n",
      "0.004085451068540277\n",
      "0.06588563638323401\n",
      "0.03468546095489316\n"
     ]
    },
    {
     "name": "stderr",
     "output_type": "stream",
     "text": [
      "\r",
      "159it [05:01,  1.88s/it]"
     ]
    },
    {
     "name": "stdout",
     "output_type": "stream",
     "text": [
      "0.1201770202861454\n",
      "0.08046695623920563\n",
      "0.06785723654528596\n",
      "0.10216165098457267\n",
      "0.2775283677324046\n"
     ]
    },
    {
     "name": "stderr",
     "output_type": "stream",
     "text": [
      "\r",
      "160it [05:03,  1.91s/it]"
     ]
    },
    {
     "name": "stdout",
     "output_type": "stream",
     "text": [
      "0.030921566010888708\n",
      "0.05023778806436217\n",
      "0.04369895803092633\n",
      "0.10603382788695047\n",
      "0.01783827998299939\n"
     ]
    },
    {
     "name": "stderr",
     "output_type": "stream",
     "text": [
      "\r",
      "161it [05:05,  1.91s/it]"
     ]
    },
    {
     "name": "stdout",
     "output_type": "stream",
     "text": [
      "0.06367400437835148\n",
      "0.09479165096587171\n",
      "0.07000943383244213\n",
      "0.013816929624080819\n",
      "0.0827915713611827\n"
     ]
    },
    {
     "name": "stderr",
     "output_type": "stream",
     "text": [
      "\r",
      "162it [05:07,  1.91s/it]"
     ]
    },
    {
     "name": "stdout",
     "output_type": "stream",
     "text": [
      "0.18026930046501166\n",
      "0.059499715795939594\n",
      "0.06580915258075681\n",
      "0.04215702621950763\n",
      "0.0717503238565978\n"
     ]
    },
    {
     "name": "stderr",
     "output_type": "stream",
     "text": [
      "\r",
      "163it [05:09,  1.91s/it]"
     ]
    },
    {
     "name": "stdout",
     "output_type": "stream",
     "text": [
      "0.10101374262708858\n",
      "0.01344966957363948\n",
      "0.12979849797761375\n",
      "0.20837728263783686\n",
      "0.02555622255613041\n"
     ]
    },
    {
     "name": "stderr",
     "output_type": "stream",
     "text": [
      "\r",
      "164it [05:11,  1.91s/it]"
     ]
    },
    {
     "name": "stdout",
     "output_type": "stream",
     "text": [
      "0.014732492956495452\n",
      "0.07205515095061944\n",
      "0.2627776117338347\n",
      "0.21182121781649352\n",
      "0.07830620616739345\n"
     ]
    },
    {
     "name": "stderr",
     "output_type": "stream",
     "text": [
      "\r",
      "165it [05:13,  1.91s/it]"
     ]
    },
    {
     "name": "stdout",
     "output_type": "stream",
     "text": [
      "0.07112085132798945\n",
      "0.0858670901016945\n",
      "0.05351520753123217\n",
      "0.05699008694333463\n",
      "0.1085105245308226\n"
     ]
    },
    {
     "name": "stderr",
     "output_type": "stream",
     "text": [
      "\r",
      "166it [05:15,  1.91s/it]"
     ]
    },
    {
     "name": "stdout",
     "output_type": "stream",
     "text": [
      "0.10508531570915709\n",
      "0.010630300283405822\n",
      "0.14627235019307902\n",
      "0.07974530025388028\n",
      "0.10416832093377844\n"
     ]
    },
    {
     "name": "stderr",
     "output_type": "stream",
     "text": [
      "\r",
      "167it [05:17,  1.92s/it]"
     ]
    },
    {
     "name": "stdout",
     "output_type": "stream",
     "text": [
      "0.06087627929410311\n",
      "0.005905751846487049\n",
      "0.034732072805582596\n",
      "0.058928739045421445\n",
      "0.01648598792154275\n"
     ]
    },
    {
     "name": "stderr",
     "output_type": "stream",
     "text": [
      "\r",
      "168it [05:18,  1.91s/it]"
     ]
    },
    {
     "name": "stdout",
     "output_type": "stream",
     "text": [
      "0.02372842929878952\n",
      "0.0013476116739921302\n",
      "0.020880729223097343\n",
      "0.1290795487463323\n",
      "0.2752473903589469\n"
     ]
    },
    {
     "name": "stderr",
     "output_type": "stream",
     "text": [
      "\r",
      "169it [05:20,  1.91s/it]"
     ]
    },
    {
     "name": "stdout",
     "output_type": "stream",
     "text": [
      "0.01879371388923943\n",
      "0.025569547767023873\n",
      "0.03556841906564026\n",
      "0.0239883332938193\n",
      "0.0037431868556610996\n"
     ]
    },
    {
     "name": "stderr",
     "output_type": "stream",
     "text": [
      "\r",
      "170it [05:22,  1.92s/it]"
     ]
    },
    {
     "name": "stdout",
     "output_type": "stream",
     "text": [
      "0.12591705262251113\n",
      "0.02049716384094489\n",
      "0.0966014197176223\n",
      "0.023208859237934754\n",
      "0.03600659304189462\n"
     ]
    },
    {
     "name": "stderr",
     "output_type": "stream",
     "text": [
      "\r",
      "171it [05:24,  1.91s/it]"
     ]
    },
    {
     "name": "stdout",
     "output_type": "stream",
     "text": [
      "0.0144797009344369\n",
      "0.0022419580307623125\n",
      "0.03400394477507623\n",
      "0.07544041985265038\n",
      "0.0754559900382224\n"
     ]
    },
    {
     "name": "stderr",
     "output_type": "stream",
     "text": [
      "\r",
      "172it [05:26,  1.90s/it]"
     ]
    },
    {
     "name": "stdout",
     "output_type": "stream",
     "text": [
      "0.09458786601772932\n",
      "0.15977802325933854\n",
      "0.03599764375134393\n",
      "0.13081888412037357\n",
      "0.060174581450499864\n"
     ]
    },
    {
     "name": "stderr",
     "output_type": "stream",
     "text": [
      "\r",
      "173it [05:28,  1.90s/it]"
     ]
    },
    {
     "name": "stdout",
     "output_type": "stream",
     "text": [
      "0.03762875434432382\n",
      "0.05509610222210881\n",
      "0.013481967055631231\n",
      "0.02806423123720421\n",
      "0.020232332052027038\n"
     ]
    },
    {
     "name": "stderr",
     "output_type": "stream",
     "text": [
      "\r",
      "174it [05:30,  1.89s/it]"
     ]
    },
    {
     "name": "stdout",
     "output_type": "stream",
     "text": [
      "0.06058994731756955\n",
      "0.027982349350059915\n",
      "0.028015021889246622\n",
      "0.11330155542599435\n",
      "0.15101159196861724\n"
     ]
    },
    {
     "name": "stderr",
     "output_type": "stream",
     "text": [
      "\r",
      "175it [05:32,  1.89s/it]"
     ]
    },
    {
     "name": "stdout",
     "output_type": "stream",
     "text": [
      "0.0014825778754962774\n",
      "0.06958484552430681\n",
      "0.21642405415949956\n",
      "0.034147924462986555\n",
      "0.11002953904967272\n"
     ]
    },
    {
     "name": "stderr",
     "output_type": "stream",
     "text": [
      "\r",
      "176it [05:34,  1.89s/it]"
     ]
    },
    {
     "name": "stdout",
     "output_type": "stream",
     "text": [
      "0.05412191077235726\n",
      "0.10834406931583836\n",
      "0.07058001139228513\n",
      "0.014801815758033353\n",
      "0.03970493300084015\n"
     ]
    },
    {
     "name": "stderr",
     "output_type": "stream",
     "text": [
      "\r",
      "177it [05:35,  1.88s/it]"
     ]
    },
    {
     "name": "stdout",
     "output_type": "stream",
     "text": [
      "0.044935180266274743\n",
      "0.022425784579231764\n",
      "0.000920516955375606\n",
      "0.21343875778048502\n",
      "0.0268484223708531\n"
     ]
    },
    {
     "name": "stderr",
     "output_type": "stream",
     "text": [
      "\r",
      "178it [05:37,  1.88s/it]"
     ]
    },
    {
     "name": "stdout",
     "output_type": "stream",
     "text": [
      "0.18279408574996261\n",
      "0.009179062789816964\n",
      "0.04954115872176308\n",
      "0.06886560799043699\n",
      "0.12866982320079973\n"
     ]
    },
    {
     "name": "stderr",
     "output_type": "stream",
     "text": [
      "\r",
      "179it [05:39,  1.88s/it]"
     ]
    },
    {
     "name": "stdout",
     "output_type": "stream",
     "text": [
      "0.049354413606490635\n",
      "0.11562459980274738\n",
      "0.12026173119133664\n",
      "0.13334488660042637\n",
      "0.05885174786227448\n"
     ]
    },
    {
     "name": "stderr",
     "output_type": "stream",
     "text": [
      "\r",
      "180it [05:41,  1.92s/it]"
     ]
    },
    {
     "name": "stdout",
     "output_type": "stream",
     "text": [
      "0.006468320293471991\n",
      "0.16886178512123845\n",
      "0.04015602658378381\n",
      "0.02339122209100057\n",
      "0.034710308263257564\n"
     ]
    },
    {
     "name": "stderr",
     "output_type": "stream",
     "text": [
      "\r",
      "181it [05:43,  1.92s/it]"
     ]
    },
    {
     "name": "stdout",
     "output_type": "stream",
     "text": [
      "0.07005877657757723\n",
      "0.18223503059387783\n",
      "0.041894877554785895\n",
      "0.06193610016105094\n",
      "0.074130867509538\n"
     ]
    },
    {
     "name": "stderr",
     "output_type": "stream",
     "text": [
      "\r",
      "182it [05:45,  1.92s/it]"
     ]
    },
    {
     "name": "stdout",
     "output_type": "stream",
     "text": [
      "0.01063051728742076\n",
      "0.08038333275699527\n",
      "0.002230113349649048\n",
      "0.14819595968154026\n",
      "0.08040559586396315\n"
     ]
    },
    {
     "name": "stderr",
     "output_type": "stream",
     "text": [
      "\r",
      "183it [05:47,  1.91s/it]"
     ]
    },
    {
     "name": "stdout",
     "output_type": "stream",
     "text": [
      "0.1740819504110369\n",
      "0.005433123684616131\n",
      "0.06833958700656628\n",
      "0.03711389204371452\n",
      "0.044294999523420975\n"
     ]
    },
    {
     "name": "stderr",
     "output_type": "stream",
     "text": [
      "\r",
      "184it [05:49,  1.91s/it]"
     ]
    },
    {
     "name": "stdout",
     "output_type": "stream",
     "text": [
      "0.07088338877276067\n",
      "0.001217854141159811\n",
      "0.26309792586212394\n",
      "0.0006245434240085524\n",
      "0.049445740808972016\n"
     ]
    },
    {
     "name": "stderr",
     "output_type": "stream",
     "text": [
      "\r",
      "185it [05:51,  1.91s/it]"
     ]
    },
    {
     "name": "stdout",
     "output_type": "stream",
     "text": [
      "0.0801168343392215\n",
      "0.021620903153711218\n",
      "0.09623405918482666\n",
      "0.058323140856323986\n",
      "0.07360198518076543\n"
     ]
    },
    {
     "name": "stderr",
     "output_type": "stream",
     "text": [
      "\r",
      "186it [05:53,  1.91s/it]"
     ]
    },
    {
     "name": "stdout",
     "output_type": "stream",
     "text": [
      "0.015801990132734384\n",
      "0.22819600012207064\n",
      "0.08800923236254168\n",
      "0.09156706361732392\n",
      "0.09340769370564272\n"
     ]
    },
    {
     "name": "stderr",
     "output_type": "stream",
     "text": [
      "\r",
      "187it [05:55,  1.91s/it]"
     ]
    },
    {
     "name": "stdout",
     "output_type": "stream",
     "text": [
      "0.062170397752720034\n",
      "0.011488894626324655\n",
      "0.09197922480871101\n",
      "0.14100778107184128\n",
      "0.1505143272571754\n"
     ]
    },
    {
     "name": "stderr",
     "output_type": "stream",
     "text": [
      "\r",
      "188it [05:56,  1.91s/it]"
     ]
    },
    {
     "name": "stdout",
     "output_type": "stream",
     "text": [
      "0.17330746633026123\n",
      "0.0016388138815682258\n",
      "0.06207559707522134\n",
      "0.08750854789447648\n",
      "0.1808943354929157\n"
     ]
    },
    {
     "name": "stderr",
     "output_type": "stream",
     "text": [
      "\r",
      "189it [05:58,  1.91s/it]"
     ]
    },
    {
     "name": "stdout",
     "output_type": "stream",
     "text": [
      "0.05650551840119185\n",
      "0.08475209876122938\n",
      "0.0097411060631492\n",
      "0.19336235030732943\n",
      "0.048633357755191065\n"
     ]
    },
    {
     "name": "stderr",
     "output_type": "stream",
     "text": [
      "\r",
      "190it [06:00,  1.91s/it]"
     ]
    },
    {
     "name": "stdout",
     "output_type": "stream",
     "text": [
      "0.15853311706377735\n",
      "0.042364011758425024\n",
      "0.005251968728595649\n",
      "0.09956463224628481\n",
      "0.05143301288764729\n"
     ]
    },
    {
     "name": "stderr",
     "output_type": "stream",
     "text": [
      "\r",
      "191it [06:02,  1.91s/it]"
     ]
    },
    {
     "name": "stdout",
     "output_type": "stream",
     "text": [
      "0.10357812784674325\n",
      "0.10361745008240167\n",
      "0.248701813884758\n",
      "0.13207075979639918\n",
      "0.011198191156833931\n"
     ]
    },
    {
     "name": "stderr",
     "output_type": "stream",
     "text": [
      "\r",
      "192it [06:04,  1.90s/it]"
     ]
    },
    {
     "name": "stdout",
     "output_type": "stream",
     "text": [
      "0.2050397746247355\n",
      "0.04227285035716683\n",
      "0.05411926755831427\n",
      "0.28007380502036633\n",
      "0.14560799378463826\n"
     ]
    },
    {
     "name": "stderr",
     "output_type": "stream",
     "text": [
      "\r",
      "193it [06:06,  1.90s/it]"
     ]
    },
    {
     "name": "stdout",
     "output_type": "stream",
     "text": [
      "0.23104089433483765\n",
      "0.15510126137714317\n",
      "0.11086913190119155\n",
      "0.017563332048135826\n",
      "0.07257204360422674\n"
     ]
    },
    {
     "name": "stderr",
     "output_type": "stream",
     "text": [
      "\r",
      "194it [06:08,  1.90s/it]"
     ]
    },
    {
     "name": "stdout",
     "output_type": "stream",
     "text": [
      "0.022612719395941356\n",
      "0.12291593385152982\n",
      "0.09630711643668861\n",
      "0.1662599032043985\n",
      "0.0348477913271201\n"
     ]
    },
    {
     "name": "stderr",
     "output_type": "stream",
     "text": [
      "\r",
      "195it [06:10,  1.92s/it]"
     ]
    },
    {
     "name": "stdout",
     "output_type": "stream",
     "text": [
      "0.005222784429228607\n",
      "0.04571575049927834\n",
      "0.009924362182259571\n",
      "0.0947646649514922\n",
      "0.08791720611443249\n"
     ]
    },
    {
     "name": "stderr",
     "output_type": "stream",
     "text": [
      "\r",
      "196it [06:12,  1.93s/it]"
     ]
    },
    {
     "name": "stdout",
     "output_type": "stream",
     "text": [
      "0.16488406535683187\n",
      "0.08309872623099647\n",
      "0.01640892025049908\n",
      "0.0026165347812456777\n",
      "0.02779795367616147\n"
     ]
    },
    {
     "name": "stderr",
     "output_type": "stream",
     "text": [
      "\r",
      "197it [06:14,  1.94s/it]"
     ]
    },
    {
     "name": "stdout",
     "output_type": "stream",
     "text": [
      "0.12872895083749067\n",
      "0.11572514041140841\n",
      "0.18101771077673093\n",
      "0.10161141164751877\n",
      "0.15967085964633346\n"
     ]
    },
    {
     "name": "stderr",
     "output_type": "stream",
     "text": [
      "\r",
      "198it [06:16,  1.96s/it]"
     ]
    },
    {
     "name": "stdout",
     "output_type": "stream",
     "text": [
      "0.08969395379113604\n",
      "0.0482633016436014\n",
      "0.06663095507140737\n",
      "0.11062073793741178\n",
      "0.1795445969736949\n"
     ]
    },
    {
     "name": "stderr",
     "output_type": "stream",
     "text": [
      "\r",
      "199it [06:18,  1.96s/it]"
     ]
    },
    {
     "name": "stdout",
     "output_type": "stream",
     "text": [
      "0.0026555485301388917\n",
      "0.1093447685398485\n",
      "0.08629419933967217\n",
      "0.05528205545481482\n",
      "0.049581185968986356\n"
     ]
    },
    {
     "name": "stderr",
     "output_type": "stream",
     "text": [
      "200it [06:20,  1.97s/it]\n",
      "0it [00:00, ?it/s]"
     ]
    },
    {
     "name": "stdout",
     "output_type": "stream",
     "text": [
      "0.008112738822431855\n",
      "0.08948887895787182\n",
      "0.09247647283545685\n",
      "0.12257162809656474\n",
      "0.10953388151657811\n"
     ]
    },
    {
     "name": "stderr",
     "output_type": "stream",
     "text": [
      "\r",
      "1it [00:01,  1.94s/it]"
     ]
    },
    {
     "name": "stdout",
     "output_type": "stream",
     "text": [
      "0.06591601596330235\n",
      "0.044748217304643505\n",
      "0.16865434612429542\n",
      "0.16494967998002288\n",
      "0.07318102154613697\n"
     ]
    },
    {
     "name": "stderr",
     "output_type": "stream",
     "text": [
      "\r",
      "2it [00:03,  1.94s/it]"
     ]
    },
    {
     "name": "stdout",
     "output_type": "stream",
     "text": [
      "0.06361371807910876\n",
      "0.2431434965622458\n",
      "0.14963730103229375\n",
      "0.022776441048037235\n",
      "0.02948215520995274\n"
     ]
    },
    {
     "name": "stderr",
     "output_type": "stream",
     "text": [
      "\r",
      "3it [00:05,  1.92s/it]"
     ]
    },
    {
     "name": "stdout",
     "output_type": "stream",
     "text": [
      "0.005813936276613637\n",
      "0.014581715189429688\n",
      "0.18962460930505887\n",
      "0.14276955809660855\n",
      "0.13460984949933716\n"
     ]
    },
    {
     "name": "stderr",
     "output_type": "stream",
     "text": [
      "\r",
      "4it [00:07,  1.92s/it]"
     ]
    },
    {
     "name": "stdout",
     "output_type": "stream",
     "text": [
      "0.09593072545531539\n",
      "0.13156583874961714\n",
      "0.019150529587185595\n",
      "0.12205167831461582\n",
      "0.10024241053777808\n"
     ]
    },
    {
     "name": "stderr",
     "output_type": "stream",
     "text": [
      "\r",
      "5it [00:09,  1.90s/it]"
     ]
    },
    {
     "name": "stdout",
     "output_type": "stream",
     "text": [
      "0.06208344294822321\n",
      "0.074303850355388\n",
      "0.06337711086696919\n",
      "0.0405620874301891\n",
      "0.20558360883492588\n"
     ]
    },
    {
     "name": "stderr",
     "output_type": "stream",
     "text": [
      "\r",
      "6it [00:11,  1.91s/it]"
     ]
    },
    {
     "name": "stdout",
     "output_type": "stream",
     "text": [
      "0.13622544311799759\n",
      "0.15895658407251553\n",
      "0.05279843139379255\n",
      "0.06134967186496257\n",
      "0.019437541854693163\n"
     ]
    },
    {
     "name": "stderr",
     "output_type": "stream",
     "text": [
      "\r",
      "7it [00:13,  1.90s/it]"
     ]
    },
    {
     "name": "stdout",
     "output_type": "stream",
     "text": [
      "0.13718588214974112\n",
      "0.17270148940840363\n",
      "0.08924007993570537\n",
      "0.21776952790350854\n",
      "0.0910072752015345\n"
     ]
    },
    {
     "name": "stderr",
     "output_type": "stream",
     "text": [
      "\r",
      "8it [00:15,  1.89s/it]"
     ]
    },
    {
     "name": "stdout",
     "output_type": "stream",
     "text": [
      "0.05834387563060637\n",
      "0.12524117503462862\n",
      "0.027476300901316465\n",
      "0.012267868001512588\n",
      "0.23076959743981243\n"
     ]
    },
    {
     "name": "stderr",
     "output_type": "stream",
     "text": [
      "\r",
      "9it [00:17,  1.88s/it]"
     ]
    },
    {
     "name": "stdout",
     "output_type": "stream",
     "text": [
      "0.007465725900791998\n",
      "0.03270760063893722\n",
      "0.06642120808610981\n",
      "0.09911480808039907\n",
      "0.009284656928749777\n"
     ]
    },
    {
     "name": "stderr",
     "output_type": "stream",
     "text": [
      "\r",
      "10it [00:18,  1.87s/it]"
     ]
    },
    {
     "name": "stdout",
     "output_type": "stream",
     "text": [
      "0.15831028348272536\n",
      "0.1332107681163369\n",
      "0.06763210836028725\n",
      "0.2244274788996691\n",
      "0.07320453603265646\n"
     ]
    },
    {
     "name": "stderr",
     "output_type": "stream",
     "text": [
      "\r",
      "11it [00:20,  1.87s/it]"
     ]
    },
    {
     "name": "stdout",
     "output_type": "stream",
     "text": [
      "0.011574063611082028\n",
      "0.11202364310966302\n",
      "0.11242409132996718\n",
      "0.20774248316108834\n",
      "0.09261755677815853\n"
     ]
    },
    {
     "name": "stderr",
     "output_type": "stream",
     "text": [
      "\r",
      "12it [00:22,  1.87s/it]"
     ]
    },
    {
     "name": "stdout",
     "output_type": "stream",
     "text": [
      "0.07544542132356225\n",
      "0.15716170541127528\n",
      "0.060486478790874154\n",
      "0.05488450693632875\n",
      "0.04100435395737925\n"
     ]
    },
    {
     "name": "stderr",
     "output_type": "stream",
     "text": [
      "\r",
      "13it [00:24,  1.87s/it]"
     ]
    },
    {
     "name": "stdout",
     "output_type": "stream",
     "text": [
      "0.10977695110825095\n",
      "0.09066935485058422\n",
      "0.07610872980281591\n",
      "0.18118256268700172\n",
      "0.050220795099970766\n"
     ]
    },
    {
     "name": "stderr",
     "output_type": "stream",
     "text": [
      "\r",
      "14it [00:26,  1.87s/it]"
     ]
    },
    {
     "name": "stdout",
     "output_type": "stream",
     "text": [
      "0.02813794008212144\n",
      "0.00642811024588157\n",
      "0.12499630696323744\n",
      "0.002508914848698505\n",
      "0.017238390535646072\n"
     ]
    },
    {
     "name": "stderr",
     "output_type": "stream",
     "text": [
      "\r",
      "15it [00:28,  1.87s/it]"
     ]
    },
    {
     "name": "stdout",
     "output_type": "stream",
     "text": [
      "0.08776147955253694\n",
      "0.003884533437438706\n",
      "0.08784242944822244\n",
      "0.16573746600987846\n",
      "0.010130566213020671\n"
     ]
    },
    {
     "name": "stderr",
     "output_type": "stream",
     "text": [
      "\r",
      "16it [00:30,  1.87s/it]"
     ]
    },
    {
     "name": "stdout",
     "output_type": "stream",
     "text": [
      "0.04190666153119748\n",
      "0.23587694718248642\n",
      "0.03896064054425546\n",
      "0.03640232663981366\n",
      "0.008672139346040794\n"
     ]
    },
    {
     "name": "stderr",
     "output_type": "stream",
     "text": [
      "\r",
      "17it [00:32,  1.88s/it]"
     ]
    },
    {
     "name": "stdout",
     "output_type": "stream",
     "text": [
      "0.22066028056652978\n",
      "0.02776533228084003\n",
      "0.08157115922930462\n",
      "0.24126898758057821\n",
      "0.051227900295543694\n"
     ]
    },
    {
     "name": "stderr",
     "output_type": "stream",
     "text": [
      "\r",
      "18it [00:33,  1.88s/it]"
     ]
    },
    {
     "name": "stdout",
     "output_type": "stream",
     "text": [
      "0.0767151011381387\n",
      "0.05808629857532678\n",
      "0.06539652929202878\n",
      "0.003755637857424785\n",
      "0.023660090302893264\n"
     ]
    },
    {
     "name": "stderr",
     "output_type": "stream",
     "text": [
      "\r",
      "19it [00:35,  1.87s/it]"
     ]
    },
    {
     "name": "stdout",
     "output_type": "stream",
     "text": [
      "0.14198189891217364\n",
      "0.17934486338653624\n",
      "0.11487016975185904\n",
      "0.022218430731416935\n",
      "0.05237241665200514\n"
     ]
    },
    {
     "name": "stderr",
     "output_type": "stream",
     "text": [
      "\r",
      "20it [00:37,  1.87s/it]"
     ]
    },
    {
     "name": "stdout",
     "output_type": "stream",
     "text": [
      "0.003672121759138723\n",
      "0.10380101883779357\n",
      "0.0625941597480719\n",
      "0.0035316929835395175\n",
      "0.02726023665233769\n"
     ]
    },
    {
     "name": "stderr",
     "output_type": "stream",
     "text": [
      "\r",
      "21it [00:39,  1.90s/it]"
     ]
    },
    {
     "name": "stdout",
     "output_type": "stream",
     "text": [
      "0.0121811028962733\n",
      "0.01642909928915637\n",
      "0.06013070705300264\n",
      "0.13719592576706208\n",
      "0.06056612413625149\n"
     ]
    },
    {
     "name": "stderr",
     "output_type": "stream",
     "text": [
      "\r",
      "22it [00:41,  1.90s/it]"
     ]
    },
    {
     "name": "stdout",
     "output_type": "stream",
     "text": [
      "0.06177960546381254\n",
      "0.03508309200576099\n",
      "0.014489030983976718\n",
      "0.025570865666909033\n",
      "0.14486229894598568\n"
     ]
    },
    {
     "name": "stderr",
     "output_type": "stream",
     "text": [
      "\r",
      "23it [00:43,  1.90s/it]"
     ]
    },
    {
     "name": "stdout",
     "output_type": "stream",
     "text": [
      "0.14419702496765016\n",
      "0.09350618497084863\n",
      "0.1987325611954585\n",
      "0.2563795181602872\n",
      "0.05007148472175617\n"
     ]
    },
    {
     "name": "stderr",
     "output_type": "stream",
     "text": [
      "\r",
      "24it [00:45,  1.90s/it]"
     ]
    },
    {
     "name": "stdout",
     "output_type": "stream",
     "text": [
      "0.1122154262032348\n",
      "0.3024328663356798\n",
      "0.11931462719503845\n",
      "0.13625235624146176\n",
      "0.10946386364181393\n"
     ]
    },
    {
     "name": "stderr",
     "output_type": "stream",
     "text": [
      "\r",
      "25it [00:47,  1.89s/it]"
     ]
    },
    {
     "name": "stdout",
     "output_type": "stream",
     "text": [
      "0.05651421850405689\n",
      "0.19470331534694243\n",
      "0.07210557705694812\n",
      "0.0026949998286864727\n",
      "0.06534331547674563\n"
     ]
    },
    {
     "name": "stderr",
     "output_type": "stream",
     "text": [
      "\r",
      "26it [00:49,  1.89s/it]"
     ]
    },
    {
     "name": "stdout",
     "output_type": "stream",
     "text": [
      "0.10942349184684592\n",
      "0.10925559699181733\n",
      "0.12365253204908783\n",
      "0.03922247421302216\n",
      "0.00010106455569802486\n"
     ]
    },
    {
     "name": "stderr",
     "output_type": "stream",
     "text": [
      "\r",
      "27it [00:50,  1.89s/it]"
     ]
    },
    {
     "name": "stdout",
     "output_type": "stream",
     "text": [
      "0.13073902702341217\n",
      "0.06615996852295622\n",
      "0.04692851664107034\n",
      "0.1746725822164888\n",
      "0.17114006367398008\n"
     ]
    },
    {
     "name": "stderr",
     "output_type": "stream",
     "text": [
      "\r",
      "28it [00:52,  1.88s/it]"
     ]
    },
    {
     "name": "stdout",
     "output_type": "stream",
     "text": [
      "0.029491978814244216\n",
      "0.002192455012002044\n",
      "0.01775759974772218\n",
      "0.04746096676998687\n",
      "0.03410079430060011\n"
     ]
    },
    {
     "name": "stderr",
     "output_type": "stream",
     "text": [
      "\r",
      "29it [00:54,  1.87s/it]"
     ]
    },
    {
     "name": "stdout",
     "output_type": "stream",
     "text": [
      "0.058169665100511116\n",
      "0.04085409514775533\n",
      "0.0029369673714246826\n",
      "0.13058010631720066\n",
      "0.16423726822446735\n"
     ]
    },
    {
     "name": "stderr",
     "output_type": "stream",
     "text": [
      "\r",
      "30it [00:56,  1.87s/it]"
     ]
    },
    {
     "name": "stdout",
     "output_type": "stream",
     "text": [
      "0.2755743737721219\n",
      "0.17190483889164465\n",
      "0.08100574769759389\n",
      "0.018171184053226066\n",
      "0.0243925122305589\n"
     ]
    },
    {
     "name": "stderr",
     "output_type": "stream",
     "text": [
      "\r",
      "31it [00:58,  1.87s/it]"
     ]
    },
    {
     "name": "stdout",
     "output_type": "stream",
     "text": [
      "0.028704632625594396\n",
      "0.03848439133338327\n",
      "0.07336227251510401\n",
      "0.07793629826449808\n",
      "0.25062753536713167\n"
     ]
    },
    {
     "name": "stderr",
     "output_type": "stream",
     "text": [
      "\r",
      "32it [01:00,  1.87s/it]"
     ]
    },
    {
     "name": "stdout",
     "output_type": "stream",
     "text": [
      "0.16802328135705735\n",
      "0.038142780483068066\n",
      "0.06409518568728309\n",
      "0.09905457228960374\n",
      "0.16174868643779447\n"
     ]
    },
    {
     "name": "stderr",
     "output_type": "stream",
     "text": [
      "\r",
      "33it [01:02,  1.86s/it]"
     ]
    },
    {
     "name": "stdout",
     "output_type": "stream",
     "text": [
      "0.053478369635545225\n",
      "0.07040498881305986\n",
      "0.17009021064477658\n",
      "0.03434529331844935\n",
      "0.018750837648758702\n"
     ]
    },
    {
     "name": "stderr",
     "output_type": "stream",
     "text": [
      "\r",
      "34it [01:03,  1.86s/it]"
     ]
    },
    {
     "name": "stdout",
     "output_type": "stream",
     "text": [
      "0.1171909198019784\n",
      "0.08114939280366892\n",
      "0.08979990214491375\n",
      "0.12075086383014427\n",
      "0.013894790475180316\n"
     ]
    },
    {
     "name": "stderr",
     "output_type": "stream",
     "text": [
      "\r",
      "35it [01:05,  1.87s/it]"
     ]
    },
    {
     "name": "stdout",
     "output_type": "stream",
     "text": [
      "0.1730109426025618\n",
      "0.0779493851235199\n",
      "0.1317890327295154\n",
      "0.045955657207191775\n",
      "0.10582788814932342\n"
     ]
    },
    {
     "name": "stderr",
     "output_type": "stream",
     "text": [
      "\r",
      "36it [01:07,  1.87s/it]"
     ]
    },
    {
     "name": "stdout",
     "output_type": "stream",
     "text": [
      "0.06956146095428241\n",
      "0.04683820393955281\n",
      "0.12236759209188486\n",
      "0.09573693708779704\n",
      "0.02530130646844141\n"
     ]
    },
    {
     "name": "stderr",
     "output_type": "stream",
     "text": [
      "\r",
      "37it [01:09,  1.87s/it]"
     ]
    },
    {
     "name": "stdout",
     "output_type": "stream",
     "text": [
      "0.09200321858790414\n",
      "0.059282408832701056\n",
      "0.04813424242829155\n",
      "0.01669262267765683\n",
      "0.01915167678337569\n"
     ]
    },
    {
     "name": "stderr",
     "output_type": "stream",
     "text": [
      "\r",
      "38it [01:11,  1.87s/it]"
     ]
    },
    {
     "name": "stdout",
     "output_type": "stream",
     "text": [
      "0.09383961609645079\n",
      "0.06639339003309949\n",
      "0.05286739401277673\n",
      "0.3155814761349367\n",
      "0.0558479868596981\n"
     ]
    },
    {
     "name": "stderr",
     "output_type": "stream",
     "text": [
      "\r",
      "39it [01:13,  1.86s/it]"
     ]
    },
    {
     "name": "stdout",
     "output_type": "stream",
     "text": [
      "0.1552681352869598\n",
      "0.05781770669395719\n",
      "0.05651753373659919\n",
      "0.10017044432189955\n",
      "0.1723260349424448\n"
     ]
    },
    {
     "name": "stderr",
     "output_type": "stream",
     "text": [
      "\r",
      "40it [01:15,  1.88s/it]"
     ]
    },
    {
     "name": "stdout",
     "output_type": "stream",
     "text": [
      "0.15663539067173915\n",
      "0.047476891265997336\n",
      "0.18252462723973806\n",
      "0.0838866588080228\n",
      "0.008564235599580805\n"
     ]
    },
    {
     "name": "stderr",
     "output_type": "stream",
     "text": [
      "\r",
      "41it [01:17,  1.89s/it]"
     ]
    },
    {
     "name": "stdout",
     "output_type": "stream",
     "text": [
      "0.02990266386410218\n",
      "0.03670050247000694\n",
      "0.09445061524012213\n",
      "0.0884054187896619\n",
      "0.0036322967541346884\n"
     ]
    },
    {
     "name": "stderr",
     "output_type": "stream",
     "text": [
      "\r",
      "42it [01:19,  1.90s/it]"
     ]
    },
    {
     "name": "stdout",
     "output_type": "stream",
     "text": [
      "0.174322317557562\n",
      "0.02514881488056894\n",
      "0.0433008403009495\n",
      "0.1056088645519851\n",
      "0.11765700980491672\n"
     ]
    },
    {
     "name": "stderr",
     "output_type": "stream",
     "text": [
      "\r",
      "43it [01:21,  1.90s/it]"
     ]
    },
    {
     "name": "stdout",
     "output_type": "stream",
     "text": [
      "0.00729761757231083\n",
      "0.12757153736237317\n",
      "0.05070481476904475\n",
      "0.1119331063628918\n",
      "0.13394235266899418\n"
     ]
    },
    {
     "name": "stderr",
     "output_type": "stream",
     "text": [
      "\r",
      "44it [01:22,  1.90s/it]"
     ]
    },
    {
     "name": "stdout",
     "output_type": "stream",
     "text": [
      "0.25107019641325246\n",
      "0.0952843763867918\n",
      "0.25010387735653977\n",
      "0.004155976275006582\n",
      "0.07186455109687122\n"
     ]
    },
    {
     "name": "stderr",
     "output_type": "stream",
     "text": [
      "\r",
      "45it [01:24,  1.90s/it]"
     ]
    },
    {
     "name": "stdout",
     "output_type": "stream",
     "text": [
      "0.09435917612626729\n",
      "0.11250923772054938\n",
      "0.09954562696124154\n",
      "0.054289000491054895\n",
      "0.12398607818052043\n"
     ]
    },
    {
     "name": "stderr",
     "output_type": "stream",
     "text": [
      "\r",
      "46it [01:26,  1.90s/it]"
     ]
    },
    {
     "name": "stdout",
     "output_type": "stream",
     "text": [
      "0.05372839307786497\n",
      "0.12953399711830588\n",
      "0.047658523015461446\n",
      "0.0015186130283744\n",
      "0.13321825730867032\n"
     ]
    },
    {
     "name": "stderr",
     "output_type": "stream",
     "text": [
      "\r",
      "47it [01:28,  1.89s/it]"
     ]
    },
    {
     "name": "stdout",
     "output_type": "stream",
     "text": [
      "0.1166709074860513\n",
      "0.10937848941245393\n",
      "0.17904681901615055\n",
      "0.045908203187190674\n",
      "0.05193691479099526\n"
     ]
    },
    {
     "name": "stderr",
     "output_type": "stream",
     "text": [
      "\r",
      "48it [01:30,  1.88s/it]"
     ]
    },
    {
     "name": "stdout",
     "output_type": "stream",
     "text": [
      "0.13260441262923076\n",
      "0.17926301261464317\n",
      "0.00795959358893128\n",
      "0.18855925406806967\n",
      "0.1426333018373398\n"
     ]
    },
    {
     "name": "stderr",
     "output_type": "stream",
     "text": [
      "\r",
      "49it [01:32,  1.89s/it]"
     ]
    },
    {
     "name": "stdout",
     "output_type": "stream",
     "text": [
      "0.09709717003127183\n",
      "0.10726964146636551\n",
      "0.0026610207697034148\n",
      "0.13018075381366284\n",
      "0.038948464985569704\n"
     ]
    },
    {
     "name": "stderr",
     "output_type": "stream",
     "text": [
      "\r",
      "50it [01:34,  1.88s/it]"
     ]
    },
    {
     "name": "stdout",
     "output_type": "stream",
     "text": [
      "0.049178832278653974\n",
      "0.1456240412909573\n",
      "0.17632030460550052\n",
      "0.014717423119582044\n",
      "0.0784679236610263\n"
     ]
    },
    {
     "name": "stderr",
     "output_type": "stream",
     "text": [
      "\r",
      "51it [01:36,  1.89s/it]"
     ]
    },
    {
     "name": "stdout",
     "output_type": "stream",
     "text": [
      "0.10630396780112804\n",
      "0.14437368624328012\n",
      "0.11057993510120126\n",
      "0.1287778706556373\n",
      "0.007407764525168549\n"
     ]
    },
    {
     "name": "stderr",
     "output_type": "stream",
     "text": [
      "\r",
      "52it [01:37,  1.89s/it]"
     ]
    },
    {
     "name": "stdout",
     "output_type": "stream",
     "text": [
      "0.023643389701708775\n",
      "0.07166948683594981\n",
      "0.09542262347596368\n",
      "0.03120237151754034\n",
      "0.08762501378842254\n"
     ]
    },
    {
     "name": "stderr",
     "output_type": "stream",
     "text": [
      "\r",
      "53it [01:39,  1.89s/it]"
     ]
    },
    {
     "name": "stdout",
     "output_type": "stream",
     "text": [
      "0.1092538402569891\n",
      "0.19905403024808896\n",
      "0.12300504387773484\n",
      "0.014076359967012154\n",
      "0.11552347269807157\n"
     ]
    },
    {
     "name": "stderr",
     "output_type": "stream",
     "text": [
      "\r",
      "54it [01:41,  1.88s/it]"
     ]
    },
    {
     "name": "stdout",
     "output_type": "stream",
     "text": [
      "0.030798639955184545\n",
      "0.08615054220719996\n",
      "0.06589994415127443\n",
      "0.06878146795087393\n",
      "0.02341203445468877\n"
     ]
    },
    {
     "name": "stderr",
     "output_type": "stream",
     "text": [
      "\r",
      "55it [01:43,  1.88s/it]"
     ]
    },
    {
     "name": "stdout",
     "output_type": "stream",
     "text": [
      "0.18415222512498397\n",
      "0.09826495883136807\n",
      "0.08931914843873517\n",
      "0.01575866207548223\n",
      "0.006312353948237781\n"
     ]
    },
    {
     "name": "stderr",
     "output_type": "stream",
     "text": [
      "\r",
      "56it [01:45,  1.87s/it]"
     ]
    },
    {
     "name": "stdout",
     "output_type": "stream",
     "text": [
      "0.03601932701103211\n",
      "0.18631484289597802\n",
      "0.014256159929898106\n",
      "0.006196008463788087\n",
      "0.045157231836381116\n"
     ]
    },
    {
     "name": "stderr",
     "output_type": "stream",
     "text": [
      "\r",
      "57it [01:47,  1.86s/it]"
     ]
    },
    {
     "name": "stdout",
     "output_type": "stream",
     "text": [
      "0.12754341865814234\n",
      "0.12381840598908123\n",
      "0.15283474459521115\n",
      "0.006492587166165575\n",
      "0.031506741567867314\n"
     ]
    },
    {
     "name": "stderr",
     "output_type": "stream",
     "text": [
      "\r",
      "58it [01:49,  1.87s/it]"
     ]
    },
    {
     "name": "stdout",
     "output_type": "stream",
     "text": [
      "0.010750232452398015\n",
      "0.0024898793338067153\n",
      "0.10085319890533917\n",
      "0.059432557230030415\n",
      "0.06886684705311288\n"
     ]
    },
    {
     "name": "stderr",
     "output_type": "stream",
     "text": [
      "\r",
      "59it [01:51,  1.86s/it]"
     ]
    },
    {
     "name": "stdout",
     "output_type": "stream",
     "text": [
      "0.018660912619544584\n",
      "0.05896266496899255\n",
      "0.07922845372637055\n",
      "0.02593795221495167\n",
      "0.08856987753458241\n"
     ]
    },
    {
     "name": "stderr",
     "output_type": "stream",
     "text": [
      "\r",
      "60it [01:52,  1.89s/it]"
     ]
    },
    {
     "name": "stdout",
     "output_type": "stream",
     "text": [
      "0.040482409530372104\n",
      "0.33686846861861797\n",
      "0.11246925916809142\n",
      "0.09223035646338873\n",
      "0.10632084159083657\n"
     ]
    },
    {
     "name": "stderr",
     "output_type": "stream",
     "text": [
      "\r",
      "61it [01:54,  1.90s/it]"
     ]
    },
    {
     "name": "stdout",
     "output_type": "stream",
     "text": [
      "0.09088128939392287\n",
      "0.022878008960117182\n",
      "0.038937396540058816\n",
      "0.10118172835297728\n",
      "0.06196434425254791\n"
     ]
    },
    {
     "name": "stderr",
     "output_type": "stream",
     "text": [
      "\r",
      "62it [01:56,  1.92s/it]"
     ]
    },
    {
     "name": "stdout",
     "output_type": "stream",
     "text": [
      "0.082935963639617\n",
      "0.12944969410781879\n",
      "0.060037939846069956\n",
      "0.0007168888963773922\n",
      "0.042662137231094945\n"
     ]
    },
    {
     "name": "stderr",
     "output_type": "stream",
     "text": [
      "\r",
      "63it [01:58,  1.91s/it]"
     ]
    },
    {
     "name": "stdout",
     "output_type": "stream",
     "text": [
      "0.0426233415165615\n",
      "0.005947033568669179\n",
      "0.1211827888156229\n",
      "0.009429872663967451\n",
      "0.08915060211039783\n"
     ]
    },
    {
     "name": "stderr",
     "output_type": "stream",
     "text": [
      "\r",
      "64it [02:00,  1.92s/it]"
     ]
    },
    {
     "name": "stdout",
     "output_type": "stream",
     "text": [
      "0.04097536055585308\n",
      "0.19108732074643303\n",
      "0.016098228182103463\n",
      "0.0015587815511232284\n",
      "0.07459727573432996\n"
     ]
    },
    {
     "name": "stderr",
     "output_type": "stream",
     "text": [
      "\r",
      "65it [02:02,  1.91s/it]"
     ]
    },
    {
     "name": "stdout",
     "output_type": "stream",
     "text": [
      "0.057034948545829425\n",
      "0.04550209448495633\n",
      "0.14197165314701532\n",
      "0.09765412287473409\n",
      "0.02612377784957745\n"
     ]
    },
    {
     "name": "stderr",
     "output_type": "stream",
     "text": [
      "\r",
      "66it [02:04,  1.90s/it]"
     ]
    },
    {
     "name": "stdout",
     "output_type": "stream",
     "text": [
      "0.009089016532825147\n",
      "0.07038381458812866\n",
      "0.05655307801733398\n",
      "0.06759525844777142\n",
      "0.0668828956493618\n"
     ]
    },
    {
     "name": "stderr",
     "output_type": "stream",
     "text": [
      "\r",
      "67it [02:06,  1.89s/it]"
     ]
    },
    {
     "name": "stdout",
     "output_type": "stream",
     "text": [
      "0.012749005406604196\n",
      "0.04714010299485822\n",
      "0.06247591816813206\n",
      "0.04716683901187241\n",
      "0.11079645100413293\n"
     ]
    },
    {
     "name": "stderr",
     "output_type": "stream",
     "text": [
      "\r",
      "68it [02:08,  1.88s/it]"
     ]
    },
    {
     "name": "stdout",
     "output_type": "stream",
     "text": [
      "0.10606809975894418\n",
      "0.15846318738484486\n",
      "0.031420903978389536\n",
      "0.0242437211266386\n",
      "0.23945209901161046\n"
     ]
    },
    {
     "name": "stderr",
     "output_type": "stream",
     "text": [
      "\r",
      "69it [02:10,  1.88s/it]"
     ]
    },
    {
     "name": "stdout",
     "output_type": "stream",
     "text": [
      "0.07246311082824662\n",
      "0.08997347681229606\n",
      "0.14138298101447136\n",
      "0.04572227207038565\n",
      "0.13654051554816915\n"
     ]
    },
    {
     "name": "stderr",
     "output_type": "stream",
     "text": [
      "\r",
      "70it [02:11,  1.88s/it]"
     ]
    },
    {
     "name": "stdout",
     "output_type": "stream",
     "text": [
      "0.060369537467442905\n",
      "0.007947417849329869\n",
      "0.03883958527801972\n",
      "0.08850495049971596\n",
      "0.07770329932657748\n"
     ]
    },
    {
     "name": "stderr",
     "output_type": "stream",
     "text": [
      "\r",
      "71it [02:13,  1.88s/it]"
     ]
    },
    {
     "name": "stdout",
     "output_type": "stream",
     "text": [
      "0.0518070439556709\n",
      "0.009868618687761952\n",
      "0.12278046734293112\n",
      "0.15243310193657383\n",
      "0.11689464873067948\n"
     ]
    },
    {
     "name": "stderr",
     "output_type": "stream",
     "text": [
      "\r",
      "72it [02:15,  1.88s/it]"
     ]
    },
    {
     "name": "stdout",
     "output_type": "stream",
     "text": [
      "0.010616817164209875\n",
      "0.09093755232240675\n",
      "0.03927882368905437\n",
      "0.011395324125042416\n",
      "0.0031537484510674296\n"
     ]
    },
    {
     "name": "stderr",
     "output_type": "stream",
     "text": [
      "\r",
      "73it [02:17,  1.88s/it]"
     ]
    },
    {
     "name": "stdout",
     "output_type": "stream",
     "text": [
      "0.12230682652056686\n",
      "0.17037159492978404\n",
      "0.00365306438100848\n",
      "0.09708796645368989\n",
      "0.036307479003155604\n"
     ]
    },
    {
     "name": "stderr",
     "output_type": "stream",
     "text": [
      "\r",
      "74it [02:19,  1.88s/it]"
     ]
    },
    {
     "name": "stdout",
     "output_type": "stream",
     "text": [
      "0.0036552124777291767\n",
      "0.03452490283900649\n",
      "0.08472868934909615\n",
      "0.1524179161444641\n",
      "0.03960757140817363\n"
     ]
    },
    {
     "name": "stderr",
     "output_type": "stream",
     "text": [
      "\r",
      "75it [02:21,  1.88s/it]"
     ]
    },
    {
     "name": "stdout",
     "output_type": "stream",
     "text": [
      "0.09377845645678563\n",
      "0.05359553658798588\n",
      "0.15363222014378464\n",
      "0.030325888010299503\n",
      "0.03295730274535814\n"
     ]
    },
    {
     "name": "stderr",
     "output_type": "stream",
     "text": [
      "\r",
      "76it [02:23,  1.88s/it]"
     ]
    },
    {
     "name": "stdout",
     "output_type": "stream",
     "text": [
      "0.11855386395159312\n",
      "0.07710076190436356\n",
      "0.12041711324242371\n",
      "0.08150507779801291\n",
      "0.09365864586402167\n"
     ]
    },
    {
     "name": "stderr",
     "output_type": "stream",
     "text": [
      "\r",
      "77it [02:25,  1.87s/it]"
     ]
    },
    {
     "name": "stdout",
     "output_type": "stream",
     "text": [
      "0.05178485304126466\n",
      "0.06228979961246184\n",
      "0.0021145730152812665\n",
      "0.16818167940424425\n",
      "0.13631349016205743\n"
     ]
    },
    {
     "name": "stderr",
     "output_type": "stream",
     "text": [
      "\r",
      "78it [02:26,  1.87s/it]"
     ]
    },
    {
     "name": "stdout",
     "output_type": "stream",
     "text": [
      "0.005070839083236953\n",
      "0.09421498101215825\n",
      "0.056654247652033744\n",
      "0.02597470518705603\n",
      "0.08695113712616431\n"
     ]
    },
    {
     "name": "stderr",
     "output_type": "stream",
     "text": [
      "\r",
      "79it [02:28,  1.87s/it]"
     ]
    },
    {
     "name": "stdout",
     "output_type": "stream",
     "text": [
      "0.11422304262364863\n",
      "0.014538729049470024\n",
      "0.10099518292871608\n",
      "0.13800821749090003\n",
      "0.006275391897728799\n"
     ]
    },
    {
     "name": "stderr",
     "output_type": "stream",
     "text": [
      "\r",
      "80it [02:30,  1.90s/it]"
     ]
    },
    {
     "name": "stdout",
     "output_type": "stream",
     "text": [
      "0.06182870802728855\n",
      "0.07235769966208988\n",
      "0.036267777449408005\n",
      "0.010101227033869519\n",
      "0.11576481176294173\n"
     ]
    },
    {
     "name": "stderr",
     "output_type": "stream",
     "text": [
      "\r",
      "81it [02:32,  1.90s/it]"
     ]
    },
    {
     "name": "stdout",
     "output_type": "stream",
     "text": [
      "0.14469508452699253\n",
      "0.07667278000953401\n",
      "0.17108542775651342\n",
      "0.03960324182003174\n",
      "0.04160053453161983\n"
     ]
    },
    {
     "name": "stderr",
     "output_type": "stream",
     "text": [
      "\r",
      "82it [02:34,  1.90s/it]"
     ]
    },
    {
     "name": "stdout",
     "output_type": "stream",
     "text": [
      "0.08807755027430104\n",
      "0.09271073476838491\n",
      "0.09190532196446782\n",
      "0.02675562983833384\n",
      "0.0480921161593703\n"
     ]
    },
    {
     "name": "stderr",
     "output_type": "stream",
     "text": [
      "\r",
      "83it [02:36,  1.91s/it]"
     ]
    },
    {
     "name": "stdout",
     "output_type": "stream",
     "text": [
      "0.08273220462770162\n",
      "0.06789881002305952\n",
      "0.08363546457191742\n",
      "0.05430830115656907\n",
      "0.01744215262660048\n"
     ]
    },
    {
     "name": "stderr",
     "output_type": "stream",
     "text": [
      "\r",
      "84it [02:38,  1.92s/it]"
     ]
    },
    {
     "name": "stdout",
     "output_type": "stream",
     "text": [
      "0.036763140337310485\n",
      "0.085994566845287\n",
      "0.013472279545753717\n",
      "0.1551684574074968\n",
      "0.0795378460403573\n"
     ]
    },
    {
     "name": "stderr",
     "output_type": "stream",
     "text": [
      "\r",
      "85it [02:40,  1.93s/it]"
     ]
    },
    {
     "name": "stdout",
     "output_type": "stream",
     "text": [
      "0.10453536810781972\n",
      "0.09083243378087388\n",
      "0.017276653536321625\n",
      "0.16015828703433066\n",
      "0.03641876078164145\n"
     ]
    },
    {
     "name": "stderr",
     "output_type": "stream",
     "text": [
      "\r",
      "86it [02:42,  1.92s/it]"
     ]
    },
    {
     "name": "stdout",
     "output_type": "stream",
     "text": [
      "0.05306088190628418\n",
      "0.033923058939399245\n",
      "0.1549830470862833\n",
      "0.045875758380835636\n",
      "0.03530447806934122\n"
     ]
    },
    {
     "name": "stderr",
     "output_type": "stream",
     "text": [
      "\r",
      "87it [02:44,  1.92s/it]"
     ]
    },
    {
     "name": "stdout",
     "output_type": "stream",
     "text": [
      "0.0883875385227642\n",
      "0.06342260157648978\n",
      "0.3235887557254489\n",
      "0.1143386488402673\n",
      "0.0919744057868557\n"
     ]
    },
    {
     "name": "stderr",
     "output_type": "stream",
     "text": [
      "\r",
      "88it [02:46,  1.91s/it]"
     ]
    },
    {
     "name": "stdout",
     "output_type": "stream",
     "text": [
      "0.015459370012900124\n",
      "0.051433499023565914\n",
      "0.07609847283076361\n",
      "0.12569464367039707\n",
      "0.19548576816580313\n"
     ]
    },
    {
     "name": "stderr",
     "output_type": "stream",
     "text": [
      "\r",
      "89it [02:48,  1.91s/it]"
     ]
    },
    {
     "name": "stdout",
     "output_type": "stream",
     "text": [
      "0.07245450106518772\n",
      "0.09304070059873391\n",
      "0.03868745400490723\n",
      "0.2515463871650709\n",
      "0.09206956978169277\n"
     ]
    },
    {
     "name": "stderr",
     "output_type": "stream",
     "text": [
      "\r",
      "90it [02:49,  1.90s/it]"
     ]
    },
    {
     "name": "stdout",
     "output_type": "stream",
     "text": [
      "0.09411278660774491\n",
      "0.24724395216602987\n",
      "0.08535712877710587\n",
      "0.07279191031917336\n",
      "0.1780958657050295\n"
     ]
    },
    {
     "name": "stderr",
     "output_type": "stream",
     "text": [
      "\r",
      "91it [02:51,  1.90s/it]"
     ]
    },
    {
     "name": "stdout",
     "output_type": "stream",
     "text": [
      "0.040125482723415415\n",
      "0.0546496853303464\n",
      "0.12344245692119622\n",
      "0.2172186519952356\n",
      "0.19651156816757592\n"
     ]
    },
    {
     "name": "stderr",
     "output_type": "stream",
     "text": [
      "\r",
      "92it [02:53,  1.90s/it]"
     ]
    },
    {
     "name": "stdout",
     "output_type": "stream",
     "text": [
      "0.04987468465516482\n",
      "0.12054690219708877\n",
      "0.006027173679948697\n",
      "0.033915657582390644\n",
      "0.045774600510566726\n"
     ]
    },
    {
     "name": "stderr",
     "output_type": "stream",
     "text": [
      "\r",
      "93it [02:55,  1.90s/it]"
     ]
    },
    {
     "name": "stdout",
     "output_type": "stream",
     "text": [
      "0.044873704002708285\n",
      "0.011686821302223824\n",
      "0.10302658774471266\n",
      "0.17239274809812027\n",
      "0.06453755181568925\n"
     ]
    },
    {
     "name": "stderr",
     "output_type": "stream",
     "text": [
      "\r",
      "94it [02:57,  1.89s/it]"
     ]
    },
    {
     "name": "stdout",
     "output_type": "stream",
     "text": [
      "0.06247298933190723\n",
      "0.0655089384157314\n",
      "0.04681040924090986\n",
      "0.012855807824911768\n",
      "0.0976476223007805\n"
     ]
    },
    {
     "name": "stderr",
     "output_type": "stream",
     "text": [
      "\r",
      "95it [02:59,  1.89s/it]"
     ]
    },
    {
     "name": "stdout",
     "output_type": "stream",
     "text": [
      "0.009404487265887626\n",
      "0.08684265643138817\n",
      "0.12044421823061927\n",
      "0.16045885005336724\n",
      "0.1405030886885567\n"
     ]
    },
    {
     "name": "stderr",
     "output_type": "stream",
     "text": [
      "\r",
      "96it [03:01,  1.89s/it]"
     ]
    },
    {
     "name": "stdout",
     "output_type": "stream",
     "text": [
      "0.029229531422945605\n",
      "0.0666701127430606\n",
      "0.13301231971178978\n",
      "0.24580154119326975\n",
      "0.036380589104094405\n"
     ]
    },
    {
     "name": "stderr",
     "output_type": "stream",
     "text": [
      "\r",
      "97it [03:03,  1.88s/it]"
     ]
    },
    {
     "name": "stdout",
     "output_type": "stream",
     "text": [
      "0.05792660125206435\n",
      "0.08462115714951443\n",
      "0.08571692145448213\n",
      "0.00789763133151034\n",
      "0.07684563734129599\n"
     ]
    },
    {
     "name": "stderr",
     "output_type": "stream",
     "text": [
      "\r",
      "98it [03:04,  1.87s/it]"
     ]
    },
    {
     "name": "stdout",
     "output_type": "stream",
     "text": [
      "0.17455298967627395\n",
      "0.23614688140972195\n",
      "0.010158977805563274\n",
      "0.010324498979811822\n",
      "0.01683226610949747\n"
     ]
    },
    {
     "name": "stderr",
     "output_type": "stream",
     "text": [
      "\r",
      "99it [03:06,  1.87s/it]"
     ]
    },
    {
     "name": "stdout",
     "output_type": "stream",
     "text": [
      "0.19177874335680284\n",
      "0.025513614573299554\n",
      "0.041888142522429304\n",
      "0.013080922207946134\n",
      "0.1305585594223805\n"
     ]
    },
    {
     "name": "stderr",
     "output_type": "stream",
     "text": [
      "\r",
      "100it [03:08,  1.91s/it]"
     ]
    },
    {
     "name": "stdout",
     "output_type": "stream",
     "text": [
      "0.07228768059411235\n",
      "0.09099816062119327\n",
      "0.07057470123338001\n",
      "0.10767500178713235\n",
      "0.07604314481110774\n"
     ]
    },
    {
     "name": "stderr",
     "output_type": "stream",
     "text": [
      "\r",
      "101it [03:10,  1.91s/it]"
     ]
    },
    {
     "name": "stdout",
     "output_type": "stream",
     "text": [
      "0.023765956536185854\n",
      "0.09508243831800872\n",
      "0.0349740764805657\n",
      "0.10857345295380677\n",
      "0.07212947812331628\n"
     ]
    },
    {
     "name": "stderr",
     "output_type": "stream",
     "text": [
      "\r",
      "102it [03:12,  1.91s/it]"
     ]
    },
    {
     "name": "stdout",
     "output_type": "stream",
     "text": [
      "0.11563784966329815\n",
      "0.018058312520821178\n",
      "0.13902823862763922\n",
      "0.04463980344091251\n",
      "0.010693365168739477\n"
     ]
    },
    {
     "name": "stderr",
     "output_type": "stream",
     "text": [
      "\r",
      "103it [03:14,  1.91s/it]"
     ]
    },
    {
     "name": "stdout",
     "output_type": "stream",
     "text": [
      "0.023340796473953252\n",
      "0.13321837373382783\n",
      "0.05618458039735467\n",
      "0.10678714941592111\n",
      "0.019273648581180344\n"
     ]
    },
    {
     "name": "stderr",
     "output_type": "stream",
     "text": [
      "\r",
      "104it [03:16,  1.92s/it]"
     ]
    },
    {
     "name": "stdout",
     "output_type": "stream",
     "text": [
      "0.11254529266807345\n",
      "0.07331733833245144\n",
      "0.004527239875994069\n",
      "0.058205813489886044\n",
      "0.011223057034627112\n"
     ]
    },
    {
     "name": "stderr",
     "output_type": "stream",
     "text": [
      "\r",
      "105it [03:18,  1.92s/it]"
     ]
    },
    {
     "name": "stdout",
     "output_type": "stream",
     "text": [
      "0.06281932733161895\n",
      "0.20129574268827946\n",
      "0.024008800373226426\n",
      "0.12024469512777068\n",
      "0.009862323405197708\n"
     ]
    },
    {
     "name": "stderr",
     "output_type": "stream",
     "text": [
      "\r",
      "106it [03:20,  1.93s/it]"
     ]
    },
    {
     "name": "stdout",
     "output_type": "stream",
     "text": [
      "0.08069688710322764\n",
      "0.002341934271242936\n",
      "0.269690450515239\n",
      "0.19491669403755285\n",
      "0.1683219131523552\n"
     ]
    },
    {
     "name": "stderr",
     "output_type": "stream",
     "text": [
      "\r",
      "107it [03:22,  1.95s/it]"
     ]
    },
    {
     "name": "stdout",
     "output_type": "stream",
     "text": [
      "0.11173908136168637\n",
      "0.056565119418346535\n",
      "0.024329585741299908\n",
      "0.09536563019765723\n",
      "0.013357365581289705\n"
     ]
    },
    {
     "name": "stderr",
     "output_type": "stream",
     "text": [
      "\r",
      "108it [03:24,  1.93s/it]"
     ]
    },
    {
     "name": "stdout",
     "output_type": "stream",
     "text": [
      "0.060710179508858944\n",
      "0.12756826051061704\n",
      "0.10652847027184449\n",
      "0.1408110775171757\n",
      "0.17750940435797669\n"
     ]
    },
    {
     "name": "stderr",
     "output_type": "stream",
     "text": [
      "\r",
      "109it [03:26,  1.93s/it]"
     ]
    },
    {
     "name": "stdout",
     "output_type": "stream",
     "text": [
      "0.1123409054376114\n",
      "0.1528754160455936\n",
      "0.10312520466233897\n",
      "0.04542989665275236\n",
      "0.18739579425431765\n"
     ]
    },
    {
     "name": "stderr",
     "output_type": "stream",
     "text": [
      "\r",
      "110it [03:28,  1.92s/it]"
     ]
    },
    {
     "name": "stdout",
     "output_type": "stream",
     "text": [
      "0.09364004405805454\n",
      "0.03128532858501012\n",
      "0.06965479421920773\n",
      "0.09235218004362594\n",
      "0.01174318625483594\n"
     ]
    },
    {
     "name": "stderr",
     "output_type": "stream",
     "text": [
      "\r",
      "111it [03:29,  1.91s/it]"
     ]
    },
    {
     "name": "stdout",
     "output_type": "stream",
     "text": [
      "0.016759756557191256\n",
      "0.11096494285795444\n",
      "0.10625490516279362\n",
      "0.05400452864819641\n",
      "0.052148597188689805\n"
     ]
    },
    {
     "name": "stderr",
     "output_type": "stream",
     "text": [
      "\r",
      "112it [03:31,  1.90s/it]"
     ]
    },
    {
     "name": "stdout",
     "output_type": "stream",
     "text": [
      "0.12215503046955706\n",
      "0.0031244130483708307\n",
      "0.0743105059117544\n",
      "0.04646630770076702\n",
      "0.1952256052043779\n"
     ]
    },
    {
     "name": "stderr",
     "output_type": "stream",
     "text": [
      "\r",
      "113it [03:33,  1.90s/it]"
     ]
    },
    {
     "name": "stdout",
     "output_type": "stream",
     "text": [
      "0.0004360525507669729\n",
      "0.06749033992436612\n",
      "0.020758324385635477\n",
      "0.0061577231281721035\n",
      "0.19520623139351354\n"
     ]
    },
    {
     "name": "stderr",
     "output_type": "stream",
     "text": [
      "\r",
      "114it [03:35,  1.89s/it]"
     ]
    },
    {
     "name": "stdout",
     "output_type": "stream",
     "text": [
      "0.034425255263944125\n",
      "0.11910165606102968\n",
      "0.05641455764168778\n",
      "0.03142672092075792\n",
      "0.04072304882098232\n"
     ]
    },
    {
     "name": "stderr",
     "output_type": "stream",
     "text": [
      "\r",
      "115it [03:37,  1.89s/it]"
     ]
    },
    {
     "name": "stdout",
     "output_type": "stream",
     "text": [
      "0.10715622344727449\n",
      "0.14065396474068909\n",
      "0.06170503655732471\n",
      "0.030229917719229435\n",
      "0.24723803343393402\n"
     ]
    },
    {
     "name": "stderr",
     "output_type": "stream",
     "text": [
      "\r",
      "116it [03:39,  1.88s/it]"
     ]
    },
    {
     "name": "stdout",
     "output_type": "stream",
     "text": [
      "0.06438742356068138\n",
      "0.042910328379112156\n",
      "0.10500692689169747\n",
      "0.10083562308842633\n",
      "0.057834816848380335\n"
     ]
    },
    {
     "name": "stderr",
     "output_type": "stream",
     "text": [
      "\r",
      "117it [03:41,  1.88s/it]"
     ]
    },
    {
     "name": "stdout",
     "output_type": "stream",
     "text": [
      "0.08214503911189262\n",
      "0.07027994286878686\n",
      "0.09005831752586027\n",
      "0.11982373795425023\n",
      "0.049262420831787\n"
     ]
    },
    {
     "name": "stderr",
     "output_type": "stream",
     "text": [
      "\r",
      "118it [03:43,  1.88s/it]"
     ]
    },
    {
     "name": "stdout",
     "output_type": "stream",
     "text": [
      "0.06062918118678349\n",
      "0.08270177344269392\n",
      "0.1595136093013585\n",
      "0.1100195867502803\n",
      "0.15381347353557798\n"
     ]
    },
    {
     "name": "stderr",
     "output_type": "stream",
     "text": [
      "\r",
      "119it [03:44,  1.87s/it]"
     ]
    },
    {
     "name": "stdout",
     "output_type": "stream",
     "text": [
      "0.05621109086855958\n",
      "0.0694473651929936\n",
      "0.13265243682794603\n",
      "0.07044432973746476\n",
      "0.07388117349637886\n"
     ]
    },
    {
     "name": "stderr",
     "output_type": "stream",
     "text": [
      "\r",
      "120it [03:46,  1.90s/it]"
     ]
    },
    {
     "name": "stdout",
     "output_type": "stream",
     "text": [
      "0.016216800583304575\n",
      "0.08232228842094605\n",
      "0.06610783107324693\n",
      "0.05741557213129324\n",
      "0.01657112178422733\n"
     ]
    },
    {
     "name": "stderr",
     "output_type": "stream",
     "text": [
      "\r",
      "121it [03:48,  1.90s/it]"
     ]
    },
    {
     "name": "stdout",
     "output_type": "stream",
     "text": [
      "0.12075229053101469\n",
      "0.0507479973314152\n",
      "0.03647009141334197\n",
      "0.15462280207366397\n",
      "0.05156888616110569\n"
     ]
    },
    {
     "name": "stderr",
     "output_type": "stream",
     "text": [
      "\r",
      "122it [03:50,  1.90s/it]"
     ]
    },
    {
     "name": "stdout",
     "output_type": "stream",
     "text": [
      "0.06713612678434422\n",
      "0.0007128658378671942\n",
      "0.05253238883310385\n",
      "0.005250647115274052\n",
      "0.05319394012383358\n"
     ]
    },
    {
     "name": "stderr",
     "output_type": "stream",
     "text": [
      "\r",
      "123it [03:52,  1.90s/it]"
     ]
    },
    {
     "name": "stdout",
     "output_type": "stream",
     "text": [
      "0.07833353663489434\n",
      "0.09440679487737885\n",
      "0.10324826604436409\n",
      "0.15006779732467102\n",
      "0.10361839090905144\n"
     ]
    },
    {
     "name": "stderr",
     "output_type": "stream",
     "text": [
      "\r",
      "124it [03:54,  1.90s/it]"
     ]
    },
    {
     "name": "stdout",
     "output_type": "stream",
     "text": [
      "0.043432537280816794\n",
      "0.0186192395885557\n",
      "0.01711107607109273\n",
      "0.24532935959732238\n",
      "0.06856792338123045\n"
     ]
    },
    {
     "name": "stderr",
     "output_type": "stream",
     "text": [
      "\r",
      "125it [03:56,  1.91s/it]"
     ]
    },
    {
     "name": "stdout",
     "output_type": "stream",
     "text": [
      "0.06757353482921206\n",
      "0.11372704890394379\n",
      "0.034411254712951804\n",
      "0.17018657466363438\n",
      "0.06399251090105884\n"
     ]
    },
    {
     "name": "stderr",
     "output_type": "stream",
     "text": [
      "\r",
      "126it [03:58,  1.90s/it]"
     ]
    },
    {
     "name": "stdout",
     "output_type": "stream",
     "text": [
      "0.2500409714654632\n",
      "0.0188456501408346\n",
      "0.05249239105264915\n",
      "0.02011259757233054\n",
      "0.06441236546065014\n"
     ]
    },
    {
     "name": "stderr",
     "output_type": "stream",
     "text": [
      "\r",
      "127it [04:00,  1.90s/it]"
     ]
    },
    {
     "name": "stdout",
     "output_type": "stream",
     "text": [
      "0.13389167577491884\n",
      "0.0284367720584923\n",
      "0.1612312653033552\n",
      "0.09299149937676382\n",
      "0.05872960139129797\n"
     ]
    },
    {
     "name": "stderr",
     "output_type": "stream",
     "text": [
      "\r",
      "128it [04:02,  1.90s/it]"
     ]
    },
    {
     "name": "stdout",
     "output_type": "stream",
     "text": [
      "0.1357481904684614\n",
      "0.1984277728427014\n",
      "0.017744572651655324\n",
      "0.14696883350289283\n",
      "0.003642871127259402\n"
     ]
    },
    {
     "name": "stderr",
     "output_type": "stream",
     "text": [
      "\r",
      "129it [04:04,  1.90s/it]"
     ]
    },
    {
     "name": "stdout",
     "output_type": "stream",
     "text": [
      "0.1626895707278826\n",
      "0.039423893500757305\n",
      "0.045744645212466434\n",
      "0.12008825344104711\n",
      "0.011765206959452403\n"
     ]
    },
    {
     "name": "stderr",
     "output_type": "stream",
     "text": [
      "\r",
      "130it [04:05,  1.89s/it]"
     ]
    },
    {
     "name": "stdout",
     "output_type": "stream",
     "text": [
      "0.04494482255749349\n",
      "0.028629116882555185\n",
      "0.05520098542350552\n",
      "0.06265319968069225\n",
      "0.1904899612955282\n"
     ]
    },
    {
     "name": "stderr",
     "output_type": "stream",
     "text": [
      "\r",
      "131it [04:07,  1.90s/it]"
     ]
    },
    {
     "name": "stdout",
     "output_type": "stream",
     "text": [
      "0.06807985419951836\n",
      "0.03670805748797847\n",
      "0.0213290223369718\n",
      "0.09161386037236642\n",
      "0.24417625754530634\n"
     ]
    },
    {
     "name": "stderr",
     "output_type": "stream",
     "text": [
      "\r",
      "132it [04:09,  1.89s/it]"
     ]
    },
    {
     "name": "stdout",
     "output_type": "stream",
     "text": [
      "0.20220378441922282\n",
      "0.05054940019314522\n",
      "0.08035680944108037\n",
      "0.044194120547592884\n",
      "0.0013480968988048084\n"
     ]
    },
    {
     "name": "stderr",
     "output_type": "stream",
     "text": [
      "\r",
      "133it [04:11,  1.89s/it]"
     ]
    },
    {
     "name": "stdout",
     "output_type": "stream",
     "text": [
      "0.10597791402589998\n",
      "0.22983608254618756\n",
      "0.058426605895717715\n",
      "0.023657482354377386\n",
      "0.06499403486414572\n"
     ]
    },
    {
     "name": "stderr",
     "output_type": "stream",
     "text": [
      "\r",
      "134it [04:13,  1.88s/it]"
     ]
    },
    {
     "name": "stdout",
     "output_type": "stream",
     "text": [
      "0.03668417294381389\n",
      "0.09845949308368973\n",
      "0.05582047845846554\n",
      "0.09768188055162474\n",
      "0.11139688721245261\n"
     ]
    },
    {
     "name": "stderr",
     "output_type": "stream",
     "text": [
      "\r",
      "135it [04:15,  1.88s/it]"
     ]
    },
    {
     "name": "stdout",
     "output_type": "stream",
     "text": [
      "0.07369442762868127\n",
      "0.0171267710686586\n",
      "0.03472895718302311\n",
      "0.03541269689801705\n",
      "0.0047160392442469334\n"
     ]
    },
    {
     "name": "stderr",
     "output_type": "stream",
     "text": [
      "\r",
      "136it [04:17,  1.88s/it]"
     ]
    },
    {
     "name": "stdout",
     "output_type": "stream",
     "text": [
      "0.08404692722937403\n",
      "0.04752335987917289\n",
      "0.0045702328932449915\n",
      "0.0989771438720144\n",
      "0.17420006692925336\n"
     ]
    },
    {
     "name": "stderr",
     "output_type": "stream",
     "text": [
      "\r",
      "137it [04:19,  1.87s/it]"
     ]
    },
    {
     "name": "stdout",
     "output_type": "stream",
     "text": [
      "0.2334503722841074\n",
      "0.13188080608959324\n",
      "0.0065388659035778745\n",
      "0.028540139166316793\n",
      "0.09116599084421587\n"
     ]
    },
    {
     "name": "stderr",
     "output_type": "stream",
     "text": [
      "\r",
      "138it [04:20,  1.87s/it]"
     ]
    },
    {
     "name": "stdout",
     "output_type": "stream",
     "text": [
      "0.05914935666257694\n",
      "0.12285141162828694\n",
      "0.16555732217338845\n",
      "0.15974779166459074\n",
      "0.002187243897857274\n"
     ]
    },
    {
     "name": "stderr",
     "output_type": "stream",
     "text": [
      "\r",
      "139it [04:22,  1.86s/it]"
     ]
    },
    {
     "name": "stdout",
     "output_type": "stream",
     "text": [
      "0.22040301658685096\n",
      "0.03295390403159976\n",
      "0.04388185859228553\n",
      "0.048640536980236765\n",
      "0.01959454110666721\n"
     ]
    },
    {
     "name": "stderr",
     "output_type": "stream",
     "text": [
      "\r",
      "140it [04:24,  1.88s/it]"
     ]
    },
    {
     "name": "stdout",
     "output_type": "stream",
     "text": [
      "0.13491589155998987\n",
      "0.10827550968300387\n",
      "0.13322942817780034\n",
      "0.048841630744458166\n",
      "0.01138084938048401\n"
     ]
    },
    {
     "name": "stderr",
     "output_type": "stream",
     "text": [
      "\r",
      "141it [04:26,  1.90s/it]"
     ]
    },
    {
     "name": "stdout",
     "output_type": "stream",
     "text": [
      "0.16778388305871764\n",
      "0.13428862435986713\n",
      "0.022485650140095417\n",
      "0.18638901394398563\n",
      "0.052620525963177324\n"
     ]
    },
    {
     "name": "stderr",
     "output_type": "stream",
     "text": [
      "\r",
      "142it [04:28,  1.90s/it]"
     ]
    },
    {
     "name": "stdout",
     "output_type": "stream",
     "text": [
      "0.09647705629371595\n",
      "0.041527709970893084\n",
      "0.14880261799756345\n",
      "0.1542559486298072\n",
      "0.01456178420689868\n"
     ]
    },
    {
     "name": "stderr",
     "output_type": "stream",
     "text": [
      "\r",
      "143it [04:30,  1.90s/it]"
     ]
    },
    {
     "name": "stdout",
     "output_type": "stream",
     "text": [
      "0.11432942402931068\n",
      "0.05319175145527401\n",
      "0.3306394093631272\n",
      "0.16451621386917314\n",
      "0.12818253014928613\n"
     ]
    },
    {
     "name": "stderr",
     "output_type": "stream",
     "text": [
      "\r",
      "144it [04:32,  1.91s/it]"
     ]
    },
    {
     "name": "stdout",
     "output_type": "stream",
     "text": [
      "0.12027486942979203\n",
      "0.042613019803512134\n",
      "0.09427234629791309\n",
      "0.20724874545387634\n",
      "0.1322343630013408\n"
     ]
    },
    {
     "name": "stderr",
     "output_type": "stream",
     "text": [
      "\r",
      "145it [04:34,  1.90s/it]"
     ]
    },
    {
     "name": "stdout",
     "output_type": "stream",
     "text": [
      "0.14639512630431759\n",
      "0.13303182743024036\n",
      "0.18553664294172167\n",
      "0.07230997362946859\n",
      "0.0020470578221005605\n"
     ]
    },
    {
     "name": "stderr",
     "output_type": "stream",
     "text": [
      "\r",
      "146it [04:36,  1.90s/it]"
     ]
    },
    {
     "name": "stdout",
     "output_type": "stream",
     "text": [
      "0.08359585785602715\n",
      "0.031046786415466363\n",
      "0.03931869059114493\n",
      "0.09721432717906871\n",
      "0.11145053584601346\n"
     ]
    },
    {
     "name": "stderr",
     "output_type": "stream",
     "text": [
      "\r",
      "147it [04:38,  1.92s/it]"
     ]
    },
    {
     "name": "stdout",
     "output_type": "stream",
     "text": [
      "0.03503771629353761\n",
      "0.05767166482788995\n",
      "0.07369426845529835\n",
      "0.01184999108951402\n",
      "0.052348416778027984\n"
     ]
    },
    {
     "name": "stderr",
     "output_type": "stream",
     "text": [
      "\r",
      "148it [04:40,  1.92s/it]"
     ]
    },
    {
     "name": "stdout",
     "output_type": "stream",
     "text": [
      "0.09322493131083133\n",
      "0.13161361320899534\n",
      "0.1480386049905512\n",
      "0.11504398980228148\n",
      "0.032484014626186206\n"
     ]
    },
    {
     "name": "stderr",
     "output_type": "stream",
     "text": [
      "\r",
      "149it [04:42,  1.93s/it]"
     ]
    },
    {
     "name": "stdout",
     "output_type": "stream",
     "text": [
      "0.02105099072537361\n",
      "0.11720940742091224\n",
      "0.0903971267064562\n",
      "0.0013480897006192569\n",
      "0.019670585500309146\n"
     ]
    },
    {
     "name": "stderr",
     "output_type": "stream",
     "text": [
      "\r",
      "150it [04:43,  1.92s/it]"
     ]
    },
    {
     "name": "stdout",
     "output_type": "stream",
     "text": [
      "0.008067583263077811\n",
      "0.06927212103148266\n",
      "0.1065517415016049\n",
      "0.024891424537956907\n",
      "0.012567440650342718\n"
     ]
    },
    {
     "name": "stderr",
     "output_type": "stream",
     "text": [
      "\r",
      "151it [04:45,  1.92s/it]"
     ]
    },
    {
     "name": "stdout",
     "output_type": "stream",
     "text": [
      "0.1627985484913075\n",
      "0.17800606970099653\n",
      "0.04812695586270832\n",
      "0.04830268005905553\n",
      "0.019758686918853702\n"
     ]
    },
    {
     "name": "stderr",
     "output_type": "stream",
     "text": [
      "\r",
      "152it [04:47,  1.91s/it]"
     ]
    },
    {
     "name": "stdout",
     "output_type": "stream",
     "text": [
      "0.14799868771525027\n",
      "0.16840939028080482\n",
      "0.21392220367787607\n",
      "0.09537072247959526\n",
      "0.11827347343687059\n"
     ]
    },
    {
     "name": "stderr",
     "output_type": "stream",
     "text": [
      "\r",
      "153it [04:49,  1.90s/it]"
     ]
    },
    {
     "name": "stdout",
     "output_type": "stream",
     "text": [
      "0.006139233440473072\n",
      "0.07705420600644977\n",
      "0.004782996239258818\n",
      "0.20836011621592976\n",
      "0.03448012209443478\n"
     ]
    },
    {
     "name": "stderr",
     "output_type": "stream",
     "text": [
      "\r",
      "154it [04:51,  1.89s/it]"
     ]
    },
    {
     "name": "stdout",
     "output_type": "stream",
     "text": [
      "0.182361160419788\n",
      "0.0014998962308284906\n",
      "0.008002068033903595\n",
      "0.09546578724471576\n",
      "0.0725001231110716\n"
     ]
    },
    {
     "name": "stderr",
     "output_type": "stream",
     "text": [
      "\r",
      "155it [04:53,  1.89s/it]"
     ]
    },
    {
     "name": "stdout",
     "output_type": "stream",
     "text": [
      "0.06525160560832208\n",
      "0.0033006488584145875\n",
      "0.057622431430259004\n",
      "0.14211037243137334\n",
      "0.11872749989051862\n"
     ]
    },
    {
     "name": "stderr",
     "output_type": "stream",
     "text": [
      "\r",
      "156it [04:55,  1.88s/it]"
     ]
    },
    {
     "name": "stdout",
     "output_type": "stream",
     "text": [
      "0.050263978268599886\n",
      "0.10909199097952677\n",
      "0.0076516754061168105\n",
      "0.17274260599546784\n",
      "0.0699569714264176\n"
     ]
    },
    {
     "name": "stderr",
     "output_type": "stream",
     "text": [
      "\r",
      "157it [04:57,  1.87s/it]"
     ]
    },
    {
     "name": "stdout",
     "output_type": "stream",
     "text": [
      "0.02001529507071998\n",
      "0.03418723156690378\n",
      "0.0621410017663355\n",
      "0.09691311227843816\n",
      "0.008213455913389118\n"
     ]
    },
    {
     "name": "stderr",
     "output_type": "stream",
     "text": [
      "\r",
      "158it [04:58,  1.87s/it]"
     ]
    },
    {
     "name": "stdout",
     "output_type": "stream",
     "text": [
      "0.0946187682702204\n",
      "0.12603645981724962\n",
      "0.15529332974352783\n",
      "0.05550730351074379\n",
      "0.12925222801013256\n"
     ]
    },
    {
     "name": "stderr",
     "output_type": "stream",
     "text": [
      "\r",
      "159it [05:00,  1.87s/it]"
     ]
    },
    {
     "name": "stdout",
     "output_type": "stream",
     "text": [
      "0.13744154868879607\n",
      "0.06846775207374452\n",
      "0.04867825176024961\n",
      "0.025322801275418694\n",
      "0.06443536788199539\n"
     ]
    },
    {
     "name": "stderr",
     "output_type": "stream",
     "text": [
      "\r",
      "160it [05:02,  1.89s/it]"
     ]
    },
    {
     "name": "stdout",
     "output_type": "stream",
     "text": [
      "0.0296970659427823\n",
      "0.0362374654417722\n",
      "0.0770085040421179\n",
      "0.00030270187538459776\n",
      "0.02197386286617218\n"
     ]
    },
    {
     "name": "stderr",
     "output_type": "stream",
     "text": [
      "\r",
      "161it [05:04,  1.90s/it]"
     ]
    },
    {
     "name": "stdout",
     "output_type": "stream",
     "text": [
      "0.015558092118464768\n",
      "0.09318337108328878\n",
      "0.07564714796770106\n",
      "0.0675479070153052\n",
      "0.0803808463580792\n"
     ]
    },
    {
     "name": "stderr",
     "output_type": "stream",
     "text": [
      "\r",
      "162it [05:06,  1.92s/it]"
     ]
    },
    {
     "name": "stdout",
     "output_type": "stream",
     "text": [
      "0.07609138925668675\n",
      "0.012633067105299364\n",
      "0.06369571172018412\n",
      "0.008337493161237705\n",
      "0.09239922607861206\n"
     ]
    },
    {
     "name": "stderr",
     "output_type": "stream",
     "text": [
      "\r",
      "163it [05:08,  1.92s/it]"
     ]
    },
    {
     "name": "stdout",
     "output_type": "stream",
     "text": [
      "0.018895223563427804\n",
      "0.1551618283735642\n",
      "0.07833938051942499\n",
      "0.0880222019519103\n",
      "0.1731598781717153\n"
     ]
    },
    {
     "name": "stderr",
     "output_type": "stream",
     "text": [
      "\r",
      "164it [05:10,  1.93s/it]"
     ]
    },
    {
     "name": "stdout",
     "output_type": "stream",
     "text": [
      "0.010126481853235753\n",
      "0.03106637904086836\n",
      "0.0795997163810426\n",
      "0.00454643279780152\n",
      "0.07403771894243823\n"
     ]
    },
    {
     "name": "stderr",
     "output_type": "stream",
     "text": [
      "\r",
      "165it [05:12,  1.93s/it]"
     ]
    },
    {
     "name": "stdout",
     "output_type": "stream",
     "text": [
      "0.017141118917289037\n",
      "0.13595535623341679\n",
      "0.03158370589698536\n",
      "0.004031515124331703\n",
      "0.055875030224606485\n"
     ]
    },
    {
     "name": "stderr",
     "output_type": "stream",
     "text": [
      "\r",
      "166it [05:14,  1.94s/it]"
     ]
    },
    {
     "name": "stdout",
     "output_type": "stream",
     "text": [
      "0.05251452579523885\n",
      "0.04350942740287826\n",
      "0.027878575215925672\n",
      "0.07927220632873654\n",
      "0.064848426344233\n"
     ]
    },
    {
     "name": "stderr",
     "output_type": "stream",
     "text": [
      "\r",
      "167it [05:16,  1.95s/it]"
     ]
    },
    {
     "name": "stdout",
     "output_type": "stream",
     "text": [
      "0.06279607251596556\n",
      "0.15639544508768408\n",
      "0.06733889677155634\n",
      "0.0519242751438998\n",
      "0.041405119425761173\n"
     ]
    },
    {
     "name": "stderr",
     "output_type": "stream",
     "text": [
      "\r",
      "168it [05:18,  1.95s/it]"
     ]
    },
    {
     "name": "stdout",
     "output_type": "stream",
     "text": [
      "0.10222283836377809\n",
      "0.13486989649210954\n",
      "0.07904224455794344\n",
      "0.025610550814371115\n",
      "0.11681628268822847\n"
     ]
    },
    {
     "name": "stderr",
     "output_type": "stream",
     "text": [
      "\r",
      "169it [05:20,  1.95s/it]"
     ]
    },
    {
     "name": "stdout",
     "output_type": "stream",
     "text": [
      "0.052052894388199406\n",
      "0.134549839316184\n",
      "0.07304865296278394\n",
      "0.26074051949924487\n",
      "0.03479653010858768\n"
     ]
    },
    {
     "name": "stderr",
     "output_type": "stream",
     "text": [
      "\r",
      "170it [05:22,  1.94s/it]"
     ]
    },
    {
     "name": "stdout",
     "output_type": "stream",
     "text": [
      "0.007950160822833516\n",
      "0.028788334325111093\n",
      "0.0848215182788371\n",
      "0.11805794959619856\n",
      "0.22420429434763245\n"
     ]
    },
    {
     "name": "stderr",
     "output_type": "stream",
     "text": [
      "\r",
      "171it [05:24,  1.94s/it]"
     ]
    },
    {
     "name": "stdout",
     "output_type": "stream",
     "text": [
      "0.016359380182572374\n",
      "0.09503621838079894\n",
      "0.11442549823994677\n",
      "0.0248694124521451\n",
      "0.02824487893805618\n"
     ]
    },
    {
     "name": "stderr",
     "output_type": "stream",
     "text": [
      "\r",
      "172it [05:25,  1.92s/it]"
     ]
    },
    {
     "name": "stdout",
     "output_type": "stream",
     "text": [
      "0.010959249525275373\n",
      "0.03690219218777289\n",
      "0.13291486912015452\n",
      "0.10413310547690163\n",
      "0.09572824338526204\n"
     ]
    },
    {
     "name": "stderr",
     "output_type": "stream",
     "text": [
      "\r",
      "173it [05:28,  1.95s/it]"
     ]
    },
    {
     "name": "stdout",
     "output_type": "stream",
     "text": [
      "0.05542665994424437\n",
      "0.04948073036073851\n",
      "0.18934348846973015\n",
      "0.23934392555812628\n",
      "0.08899294544831816\n"
     ]
    },
    {
     "name": "stderr",
     "output_type": "stream",
     "text": [
      "\r",
      "174it [05:29,  1.95s/it]"
     ]
    },
    {
     "name": "stdout",
     "output_type": "stream",
     "text": [
      "0.18644871684957487\n",
      "0.039088248333927045\n",
      "0.0035743549761259198\n",
      "0.014854315851217333\n",
      "0.015488165829435949\n"
     ]
    },
    {
     "name": "stderr",
     "output_type": "stream",
     "text": [
      "\r",
      "175it [05:31,  1.94s/it]"
     ]
    },
    {
     "name": "stdout",
     "output_type": "stream",
     "text": [
      "0.21997411903065855\n",
      "0.15219691355955847\n",
      "0.022400601125210366\n",
      "0.10598441668591935\n",
      "0.1938853326423894\n"
     ]
    },
    {
     "name": "stderr",
     "output_type": "stream",
     "text": [
      "\r",
      "176it [05:33,  1.92s/it]"
     ]
    },
    {
     "name": "stdout",
     "output_type": "stream",
     "text": [
      "0.19838373412725877\n",
      "0.02068795931920918\n",
      "0.13527062758918465\n",
      "0.02801336608392684\n",
      "0.0291228816445821\n"
     ]
    },
    {
     "name": "stderr",
     "output_type": "stream",
     "text": [
      "\r",
      "177it [05:35,  1.90s/it]"
     ]
    },
    {
     "name": "stdout",
     "output_type": "stream",
     "text": [
      "0.051997001730604224\n",
      "0.10853085641208626\n",
      "0.037812439932163704\n",
      "0.0279515270667816\n",
      "0.12977123704027207\n"
     ]
    },
    {
     "name": "stderr",
     "output_type": "stream",
     "text": [
      "\r",
      "178it [05:37,  1.89s/it]"
     ]
    },
    {
     "name": "stdout",
     "output_type": "stream",
     "text": [
      "0.17483655201959578\n",
      "0.046869334033443934\n",
      "0.11391188025293493\n",
      "0.03576393831475865\n",
      "0.039913374746119605\n"
     ]
    },
    {
     "name": "stderr",
     "output_type": "stream",
     "text": [
      "\r",
      "179it [05:39,  1.89s/it]"
     ]
    },
    {
     "name": "stdout",
     "output_type": "stream",
     "text": [
      "0.13275311692517272\n",
      "0.04929072441381538\n",
      "0.02950241588809783\n",
      "0.016908369879984873\n",
      "0.07237945058236245\n"
     ]
    },
    {
     "name": "stderr",
     "output_type": "stream",
     "text": [
      "\r",
      "180it [05:41,  1.91s/it]"
     ]
    },
    {
     "name": "stdout",
     "output_type": "stream",
     "text": [
      "0.22146309723881474\n",
      "0.22270557328591523\n",
      "0.19115457241808975\n",
      "0.11361859252623326\n",
      "0.0483314129727984\n"
     ]
    },
    {
     "name": "stderr",
     "output_type": "stream",
     "text": [
      "\r",
      "181it [05:43,  1.91s/it]"
     ]
    },
    {
     "name": "stdout",
     "output_type": "stream",
     "text": [
      "0.06866421027015786\n",
      "0.06383170122728331\n",
      "0.017695181521017855\n",
      "0.08170305401642364\n",
      "0.04244834013659597\n"
     ]
    },
    {
     "name": "stderr",
     "output_type": "stream",
     "text": [
      "\r",
      "182it [05:45,  1.91s/it]"
     ]
    },
    {
     "name": "stdout",
     "output_type": "stream",
     "text": [
      "0.015169267600067537\n",
      "0.2493397128880142\n",
      "0.10751386774049634\n",
      "0.07242387562145665\n",
      "0.08242895852868824\n"
     ]
    },
    {
     "name": "stderr",
     "output_type": "stream",
     "text": [
      "\r",
      "183it [05:47,  1.90s/it]"
     ]
    },
    {
     "name": "stdout",
     "output_type": "stream",
     "text": [
      "0.007413026438570967\n",
      "0.0542264261481101\n",
      "0.05383731350290231\n",
      "0.017407904083864445\n",
      "0.044267921920483226\n"
     ]
    },
    {
     "name": "stderr",
     "output_type": "stream",
     "text": [
      "\r",
      "184it [05:48,  1.90s/it]"
     ]
    },
    {
     "name": "stdout",
     "output_type": "stream",
     "text": [
      "0.06696419763667633\n",
      "0.17402071524433915\n",
      "0.19785647525468397\n",
      "0.06928062870122197\n",
      "0.08111519850937757\n"
     ]
    },
    {
     "name": "stderr",
     "output_type": "stream",
     "text": [
      "\r",
      "185it [05:50,  1.90s/it]"
     ]
    },
    {
     "name": "stdout",
     "output_type": "stream",
     "text": [
      "0.026467763547538027\n",
      "0.02922313043097799\n",
      "0.0457065408371643\n",
      "0.018420643276106288\n",
      "0.08018892901984506\n"
     ]
    },
    {
     "name": "stderr",
     "output_type": "stream",
     "text": [
      "\r",
      "186it [05:52,  1.90s/it]"
     ]
    },
    {
     "name": "stdout",
     "output_type": "stream",
     "text": [
      "0.22592029877166403\n",
      "0.06470755413186033\n",
      "0.10827160505593743\n",
      "0.016024167046044882\n",
      "0.15690985981729072\n"
     ]
    },
    {
     "name": "stderr",
     "output_type": "stream",
     "text": [
      "\r",
      "187it [05:54,  1.91s/it]"
     ]
    },
    {
     "name": "stdout",
     "output_type": "stream",
     "text": [
      "0.009204123834804309\n",
      "0.06567057749978632\n",
      "0.06575887893519079\n",
      "0.1518367113503208\n",
      "0.013451620306555907\n"
     ]
    },
    {
     "name": "stderr",
     "output_type": "stream",
     "text": [
      "\r",
      "188it [05:56,  1.90s/it]"
     ]
    },
    {
     "name": "stdout",
     "output_type": "stream",
     "text": [
      "0.031266762795729215\n",
      "0.21548790553191075\n",
      "0.1213210727054316\n",
      "0.028276183833207093\n",
      "0.0002644009177379086\n"
     ]
    },
    {
     "name": "stderr",
     "output_type": "stream",
     "text": [
      "\r",
      "189it [05:58,  1.91s/it]"
     ]
    },
    {
     "name": "stdout",
     "output_type": "stream",
     "text": [
      "0.08797010820714005\n",
      "0.10281392446010276\n",
      "0.141225526882369\n",
      "0.19415559840999783\n",
      "0.09504874048888147\n"
     ]
    },
    {
     "name": "stderr",
     "output_type": "stream",
     "text": [
      "\r",
      "190it [06:00,  1.91s/it]"
     ]
    },
    {
     "name": "stdout",
     "output_type": "stream",
     "text": [
      "0.0940271171387699\n",
      "0.08602086589106295\n",
      "0.029711319808314554\n",
      "0.04913866605137953\n",
      "0.01345280314774568\n"
     ]
    },
    {
     "name": "stderr",
     "output_type": "stream",
     "text": [
      "\r",
      "191it [06:02,  1.91s/it]"
     ]
    },
    {
     "name": "stdout",
     "output_type": "stream",
     "text": [
      "0.21186880990554258\n",
      "0.04531312063574874\n",
      "0.021979234013239382\n",
      "0.07893283831167716\n",
      "0.014914481791656335\n"
     ]
    },
    {
     "name": "stderr",
     "output_type": "stream",
     "text": [
      "\r",
      "192it [06:04,  1.89s/it]"
     ]
    },
    {
     "name": "stdout",
     "output_type": "stream",
     "text": [
      "0.04771964508564158\n",
      "0.09256049989284214\n",
      "0.18470911526957684\n",
      "0.23485786100404393\n",
      "0.054875609603308555\n"
     ]
    },
    {
     "name": "stderr",
     "output_type": "stream",
     "text": [
      "\r",
      "193it [06:06,  1.89s/it]"
     ]
    },
    {
     "name": "stdout",
     "output_type": "stream",
     "text": [
      "0.06194580756302975\n",
      "0.10802997186962203\n",
      "0.0921427507162037\n",
      "0.03608023722219541\n",
      "0.08641755132389219\n"
     ]
    },
    {
     "name": "stderr",
     "output_type": "stream",
     "text": [
      "\r",
      "194it [06:07,  1.88s/it]"
     ]
    },
    {
     "name": "stdout",
     "output_type": "stream",
     "text": [
      "0.08313683812283339\n",
      "0.06277066068290592\n",
      "0.13115659383842054\n",
      "0.14839475340000682\n",
      "0.03584685273925466\n"
     ]
    },
    {
     "name": "stderr",
     "output_type": "stream",
     "text": [
      "\r",
      "195it [06:09,  1.88s/it]"
     ]
    },
    {
     "name": "stdout",
     "output_type": "stream",
     "text": [
      "0.022702573650975166\n",
      "0.09261285010937327\n",
      "0.06240602712983976\n",
      "0.13604708329896265\n",
      "0.11961318158549346\n"
     ]
    },
    {
     "name": "stderr",
     "output_type": "stream",
     "text": [
      "\r",
      "196it [06:11,  1.88s/it]"
     ]
    },
    {
     "name": "stdout",
     "output_type": "stream",
     "text": [
      "0.1360336303987399\n",
      "0.1538003405481414\n",
      "0.0067841739034951686\n",
      "0.1281116006977511\n",
      "0.0044667942086600585\n"
     ]
    },
    {
     "name": "stderr",
     "output_type": "stream",
     "text": [
      "\r",
      "197it [06:13,  1.87s/it]"
     ]
    },
    {
     "name": "stdout",
     "output_type": "stream",
     "text": [
      "0.12403025501839955\n",
      "0.022354603707647455\n",
      "0.03200406387495116\n",
      "0.10765756797111788\n",
      "0.11793320550782115\n"
     ]
    },
    {
     "name": "stderr",
     "output_type": "stream",
     "text": [
      "\r",
      "198it [06:15,  1.87s/it]"
     ]
    },
    {
     "name": "stdout",
     "output_type": "stream",
     "text": [
      "0.06250586059247058\n",
      "0.099417966272465\n",
      "0.07391507647274669\n",
      "0.0848688489850221\n",
      "0.11573626650256466\n"
     ]
    },
    {
     "name": "stderr",
     "output_type": "stream",
     "text": [
      "\r",
      "199it [06:17,  1.87s/it]"
     ]
    },
    {
     "name": "stdout",
     "output_type": "stream",
     "text": [
      "0.15271366923240054\n",
      "0.032666382382317775\n",
      "0.15982134551327498\n",
      "0.0014707903709553823\n",
      "0.00997953974354245\n"
     ]
    },
    {
     "name": "stderr",
     "output_type": "stream",
     "text": [
      "200it [06:19,  1.89s/it]\n"
     ]
    }
   ],
   "source": [
    "for i, var in enumerate(problem['names']):\n",
    "    samples = np.linspace(*problem['bounds'][i], num=distinct_samples)\n",
    "\n",
    "    if var == 'initial_edges':\n",
    "        samples = np.linspace(*problem['bounds'][i], num=distinct_samples, dtype=int)\n",
    "    \n",
    "\n",
    "    batch = BatchRunner(TotC,\n",
    "                        max_steps=max_steps,\n",
    "                        iterations=replicates,\n",
    "                        variable_parameters={var: samples},\n",
    "                        model_reporters=model_reporters,\n",
    "                        display_progress=True)    \n",
    "    batch.run_all()\n",
    "    data[var] = batch.get_model_vars_dataframe()"
   ]
  },
  {
   "cell_type": "code",
   "execution_count": 4,
   "metadata": {},
   "outputs": [],
   "source": [
    "def plot_param_var_conf(ax, df, var, param, i):\n",
    "    \"\"\"\n",
    "    Helper function for plot_all_vars. Plots the individual parameter vs\n",
    "    variables passed.\n",
    "\n",
    "    Args:\n",
    "        ax: the axis to plot to\n",
    "        df: dataframe that holds the data to be plotted\n",
    "        var: variables to be taken from the dataframe\n",
    "        param: which output variable to plot\n",
    "    \"\"\"\n",
    "    x = df.groupby(var).mean().reset_index()[var]\n",
    "    y = df.groupby(var).mean()[param]\n",
    "\n",
    "    replicates = df.groupby(var)[param].count()\n",
    "    err = (1.96 * df.groupby(var)[param].std()) / np.sqrt(replicates)\n",
    "\n",
    "    ax.plot(x, y, c='k')\n",
    "    ax.fill_between(x, y - err, y + err)\n",
    "\n",
    "    ax.set_xlabel(var)\n",
    "    ax.set_ylabel(param)\n",
    "\n",
    "def plot_all_vars(df, param):\n",
    "    \"\"\"\n",
    "    Plots the parameters passed vs each of the output variables.\n",
    "\n",
    "    Args:\n",
    "        df: dataframe that holds all data\n",
    "        param: the parameter to be plotted\n",
    "    \"\"\"\n",
    "\n",
    "    f, axs = plt.subplots(len(problem['names']), figsize=(10, 30))\n",
    "    \n",
    "    for i, var in enumerate(problem['names']):\n",
    "        plot_param_var_conf(axs[i], data[var], var, param, i)"
   ]
  },
  {
   "cell_type": "code",
   "execution_count": 5,
   "metadata": {},
   "outputs": [
    {
     "data": {
      "image/png": "[encoded data removed]",
      "text/plain": [
       "<Figure size 720x2160 with 7 Axes>"
      ]
     },
     "metadata": {
      "needs_background": "light"
     },
     "output_type": "display_data"
    }
   ],
   "source": [
    "param = 'Sheep deaths'\n",
    "plot_all_vars(data, param)\n",
    "plt.show()"
   ]
  },
  {
   "cell_type": "markdown",
   "metadata": {},
   "source": [
    "## Sobol"
   ]
  },
  {
   "cell_type": "code",
   "execution_count": 6,
   "metadata": {},
   "outputs": [
    {
     "name": "stdout",
     "output_type": "stream",
     "text": [
      "100.00% done\n"
     ]
    }
   ],
   "source": [
    "replicates = 10\n",
    "max_steps = 50\n",
    "distinct_samples = 10\n",
    "\n",
    "param_values = saltelli.sample(problem, distinct_samples)\n",
    "batch = BatchRunner(TotC, \n",
    "                    max_steps=max_steps,\n",
    "                    variable_parameters={name:[] for name in problem['names']},\n",
    "                    model_reporters=model_reporters)\n",
    "\n",
    "count = 0\n",
    "for i in range(replicates):\n",
    "    for vals in param_values: \n",
    "        # Change parameters that should be integers\n",
    "        vals = list(vals)\n",
    "        vals[2] = int(vals[2])\n",
    "\n",
    "        # Transform to dict with parameter names and their values\n",
    "        variable_parameters = {}\n",
    "        for name, val in zip(problem['names'], vals):\n",
    "            variable_parameters[name] = val\n",
    "\n",
    "        batch.run_iteration(variable_parameters, tuple(vals), count)\n",
    "        count += 1\n",
    "\n",
    "        clear_output()\n",
    "        print(f'{count / (len(param_values) * (replicates)) * 100:.2f}% done')\n",
    "\n",
    "data = batch.get_model_vars_dataframe()"
   ]
  },
  {
   "cell_type": "code",
   "execution_count": null,
   "metadata": {},
   "outputs": [],
   "source": []
  },
  {
   "cell_type": "code",
   "execution_count": 11,
   "metadata": {},
   "outputs": [
    {
     "name": "stdout",
     "output_type": "stream",
     "text": [
      "Parameter S1 S1_conf ST ST_conf\n",
      "initial_edges -0.078036 0.205487 0.716910 0.208959\n",
      "l_coop 0.161744 0.349712 1.184409 0.517164\n",
      "l_fairself -0.163711 0.217178 0.709590 0.218264\n",
      "l_fairother -0.012789 0.272877 0.857942 0.232079\n",
      "l_negrecip -0.137357 0.237592 0.695348 0.233305\n",
      "l_posrecip -0.019268 0.284285 0.801427 0.190646\n",
      "l_conf 1.293204 0.800324 8.496552 4.622779\n",
      "\n",
      "Parameter_1 Parameter_2 S2 S2_conf\n",
      "initial_edges l_coop 0.109057 0.424008\n",
      "initial_edges l_fairself 0.004765 0.268685\n",
      "initial_edges l_fairother -0.011179 0.300729\n",
      "initial_edges l_negrecip 0.037846 0.261541\n",
      "initial_edges l_posrecip 0.069451 0.276592\n",
      "initial_edges l_conf -0.377961 1.417838\n",
      "l_coop l_fairself 0.177390 0.396870\n",
      "l_coop l_fairother 0.049777 0.473637\n",
      "l_coop l_negrecip -0.116818 0.387075\n",
      "l_coop l_posrecip -0.317118 0.383409\n",
      "l_coop l_conf 1.449097 1.496656\n",
      "l_fairself l_fairother 0.070589 0.306145\n",
      "l_fairself l_negrecip 0.129714 0.291079\n",
      "l_fairself l_posrecip 0.029394 0.318145\n",
      "l_fairself l_conf -0.220896 1.505511\n",
      "l_fairother l_negrecip 0.198944 0.294112\n",
      "l_fairother l_posrecip 0.121264 0.327197\n",
      "l_fairother l_conf 0.931827 1.249381\n",
      "l_negrecip l_posrecip 0.067222 0.321798\n",
      "l_negrecip l_conf -1.353490 1.464386\n",
      "l_posrecip l_conf 5.206765 5.405550\n"
     ]
    },
    {
     "name": "stderr",
     "output_type": "stream",
     "text": [
      "/home/sietse/Uni/ABM/lib/python3.7/site-packages/ipykernel_launcher.py:1: FutureWarning: Method .as_matrix will be removed in a future version. Use .values instead.\n",
      "  \"\"\"Entry point for launching an IPython kernel.\n"
     ]
    }
   ],
   "source": [
    "Si_sheep = sobol.analyze(problem, data['Sheep deaths'].as_matrix(), print_to_console=True)"
   ]
  },
  {
   "cell_type": "code",
   "execution_count": 12,
   "metadata": {},
   "outputs": [],
   "source": [
    "def plot_index(s, params, i, title=''):\n",
    "    \"\"\"\n",
    "    Creates a plot for Sobol sensitivity analysis that shows the contributions\n",
    "    of each parameter to the global sensitivity.\n",
    "\n",
    "    Args:\n",
    "        s (dict): dictionary {'S#': dict, 'S#_conf': dict} of dicts that hold\n",
    "            the values for a set of parameters\n",
    "        params (list): the parameters taken from s\n",
    "        i (str): string that indicates what order the sensitivity is.\n",
    "        title (str): title for the plot\n",
    "    \"\"\"\n",
    "\n",
    "    if i == '2':\n",
    "        p = len(params)\n",
    "        params = list(combinations(params, 2))\n",
    "        indices = s['S' + i].reshape((p ** 2))\n",
    "        indices = indices[~np.isnan(indices)]\n",
    "        errors = s['S' + i + '_conf'].reshape((p ** 2))\n",
    "        errors = errors[~np.isnan(errors)]\n",
    "    else:\n",
    "        indices = s['S' + i]\n",
    "        errors = s['S' + i + '_conf']\n",
    "        plt.figure()\n",
    "\n",
    "    l = len(indices)\n",
    "\n",
    "    plt.title(title)\n",
    "    plt.ylim([-0.2, len(indices) - 1 + 0.2])\n",
    "    plt.yticks(range(l), params)\n",
    "    plt.errorbar(indices, range(l), xerr=errors, linestyle='None', marker='o')\n",
    "    plt.axvline(0, c='k')"
   ]
  },
  {
   "cell_type": "code",
   "execution_count": 13,
   "metadata": {},
   "outputs": [
    {
     "data": {
      "image/png": "[encoded data removed]",
      "text/plain": [
       "<Figure size 432x288 with 1 Axes>"
      ]
     },
     "metadata": {
      "needs_background": "light"
     },
     "output_type": "display_data"
    },
    {
     "data": {
      "image/png": "[encoded data removed]",
      "text/plain": [
       "<Figure size 432x288 with 1 Axes>"
      ]
     },
     "metadata": {
      "needs_background": "light"
     },
     "output_type": "display_data"
    },
    {
     "data": {
      "image/png": "[encoded data removed]",
      "text/plain": [
       "<Figure size 432x288 with 1 Axes>"
      ]
     },
     "metadata": {
      "needs_background": "light"
     },
     "output_type": "display_data"
    }
   ],
   "source": [
    "Si = Si_sheep\n",
    "# First order\n",
    "plot_index(Si, problem['names'], '1', 'First order sensitivity')\n",
    "plt.show()\n",
    "\n",
    "# Second order\n",
    "plot_index(Si, problem['names'], '2', 'Second order sensitivity')\n",
    "plt.show()\n",
    "\n",
    "# Total order\n",
    "plot_index(Si, problem['names'], 'T', 'Total order sensitivity')\n",
    "plt.show()"
   ]
  },
  {
   "cell_type": "code",
   "execution_count": null,
   "metadata": {},
   "outputs": [],
   "source": []
  }
 ],
 "metadata": {
  "kernelspec": {
   "display_name": "Python 3",
   "language": "python",
   "name": "python3"
  },
  "language_info": {
   "codemirror_mode": {
    "name": "ipython",
    "version": 3
   },
   "file_extension": ".py",
   "mimetype": "text/x-python",
   "name": "python",
   "nbconvert_exporter": "python",
   "pygments_lexer": "ipython3",
   "version": "3.7.2"
  }
 },
 "nbformat": 4,
 "nbformat_minor": 2
}
